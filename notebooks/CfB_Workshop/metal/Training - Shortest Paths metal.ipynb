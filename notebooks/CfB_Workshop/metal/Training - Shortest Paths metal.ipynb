{
 "cells": [
  {
   "cell_type": "markdown",
   "metadata": {},
   "source": [
    "# All Shortest Paths for metal use case"
   ]
  },
  {
   "cell_type": "markdown",
   "metadata": {},
   "source": [
    "#### Unweighted shortest paths\n",
    "This demo will get all shortest paths for all pairs of nodes from group S nodes (sources) to group T nodes (targets). \n",
    "\n",
    "Given source S and target T in the example below, the shortest paths have 3 hops (2 nodes in between), including S->1->2->T and S->1->3->T.   \n",
    "<img align='left' src=\"img/shortest_paths.png\" width='500'> "
   ]
  },
  {
   "cell_type": "markdown",
   "metadata": {},
   "source": [
    "### Steps creating traces for shortest plus paths \n",
    "1. Connect to arango database\n",
    "2. Get input nodes (sources and targets)\n",
    "3. Load the whole network graph from arango to memory and create a networkx graph\n",
    "4. Add all shortest paths for each pair of nodes from sources to targets\n",
    "5. Generate sankey graph file"
   ]
  },
  {
   "cell_type": "code",
   "execution_count": 1,
   "metadata": {},
   "outputs": [],
   "source": [
    "# install lifelike_gds package if not already installed (e.g. running in Google Colab)\n",
    "import importlib\n",
    "\n",
    "if importlib.util.find_spec('lifelike_gds') is None:\n",
    "  !pip install git+https://github.com/SBRG/GDS-Public\n",
    "\n",
    "# provide the path to the notebook folder in the github repository in case the notebook is run in Google Colab\n",
    "github_path = 'SBRG/GDS-Public/main/notebooks/CfB_Workshop/metal'"
   ]
  },
  {
   "cell_type": "code",
   "execution_count": 2,
   "metadata": {},
   "outputs": [],
   "source": [
    "import os\n",
    "import pandas as pd\n",
    "import warnings\n",
    "from pathlib import PurePosixPath"
   ]
  },
  {
   "cell_type": "code",
   "execution_count": 3,
   "metadata": {},
   "outputs": [
    {
     "name": "stderr",
     "output_type": "stream",
     "text": [
      "/Users/dommas/.local/share/virtualenvs/GDS-Public-uKBS7cUg/lib/python3.9/site-packages/scipy/__init__.py:146: UserWarning: A NumPy version >=1.17.3 and <1.25.0 is required for this version of SciPy (detected version 1.26.4\n",
      "  warnings.warn(f\"A NumPy version >={np_minversion} and <{np_maxversion}\"\n"
     ]
    }
   ],
   "source": [
    "from lifelike_gds.arango_network.biocyc import *\n",
    "from lifelike_gds.arango_network.shortest_paths_trace import ShortestPathTrace"
   ]
  },
  {
   "cell_type": "code",
   "execution_count": 4,
   "metadata": {},
   "outputs": [],
   "source": [
    "warnings.filterwarnings('ignore')"
   ]
  },
  {
   "cell_type": "code",
   "execution_count": 5,
   "metadata": {},
   "outputs": [],
   "source": [
    "input_dir = PurePosixPath('input')\n",
    "output_dir = PurePosixPath('output')\n",
    "# gds database name\n",
    "db_name = 'ecocyc-25'\n",
    "# gds database version, free text, that can be used to describe the graph\n",
    "db_version = 'ecocyc 25.5'"
   ]
  },
  {
   "cell_type": "markdown",
   "metadata": {},
   "source": [
    "### 1. Connect to arango database\n",
    "If use BioCyc databases (e.g. EcoCyc, HumanCyc), use Class BioCycDB.  \n",
    "If use Reactome database, use Class ReactomeDB. "
   ]
  },
  {
   "cell_type": "code",
   "execution_count": 6,
   "metadata": {},
   "outputs": [],
   "source": [
    "# set database uri, username and password. \n",
    "# dbname is the arango database name for the running arango instance. The default database name is 'arango'\n",
    "dbname = os.getenv('ARANGO_DATABASE', db_name)\n",
    "\n",
    "database = BiocycDB(dbname)"
   ]
  },
  {
   "cell_type": "markdown",
   "metadata": {},
   "source": [
    "### 2. Read input files and get source and target nodes from arango"
   ]
  },
  {
   "cell_type": "code",
   "execution_count": 7,
   "metadata": {},
   "outputs": [],
   "source": [
    "metal_file_path = input_dir / 'metals.csv'\n",
    "if os.path.isfile(metal_file_path):\n",
    "  metal_file_ref = metal_file_path\n",
    "else:\n",
    "  # if does not exist localy, pull from github\n",
    "  metal_file_ref = f'https://raw.githubusercontent.com/{github_path}/{metal_file_path}'"
   ]
  },
  {
   "cell_type": "code",
   "execution_count": 8,
   "metadata": {},
   "outputs": [
    {
     "name": "stdout",
     "output_type": "stream",
     "text": [
      "   name biocyc_id\n",
      "0  Zn2+      ZN+2\n",
      "1  Fe2+      FE+2\n",
      "2  Fe3+      FE+3\n"
     ]
    }
   ],
   "source": [
    "df_metal = pd.read_csv(metal_file_ref)\n",
    "print(df_metal)"
   ]
  },
  {
   "cell_type": "code",
   "execution_count": 9,
   "metadata": {},
   "outputs": [
    {
     "name": "stdout",
     "output_type": "stream",
     "text": [
      "metals: ['ZN+2', 'FE+2', 'FE+3'], nodes: 3\n"
     ]
    }
   ],
   "source": [
    "metals = [n for n in df_metal['biocyc_id']]\n",
    "metal_nodes = database.get_nodes_by_attr(metals, 'biocyc_id')\n",
    "print(f\"metals: {metals}, nodes: {len(metal_nodes)}\")"
   ]
  },
  {
   "cell_type": "code",
   "execution_count": 10,
   "metadata": {},
   "outputs": [],
   "source": [
    "metab_file_path = input_dir / 'biomass_precursors.csv'\n",
    "if os.path.isfile(metab_file_path):\n",
    "  metab_file_ref = metab_file_path\n",
    "else:\n",
    "  # if does not exist localy, pull from github\n",
    "  metab_file_ref = f'https://raw.githubusercontent.com/{github_path}/{metab_file_path}'"
   ]
  },
  {
   "cell_type": "code",
   "execution_count": 11,
   "metadata": {},
   "outputs": [
    {
     "name": "stdout",
     "output_type": "stream",
     "text": [
      "metabolites: 12, nodes: 12\n"
     ]
    }
   ],
   "source": [
    "df_metab = pd.read_csv(metab_file_ref)\n",
    "metabs = [n for n in df_metab['biocyc_id']]\n",
    "metab_nodes = database.get_nodes_by_attr(metabs, 'biocyc_id')\n",
    "print(f\"metabolites: {len(metabs)}, nodes: {len(metab_nodes)}\")"
   ]
  },
  {
   "cell_type": "markdown",
   "metadata": {},
   "source": [
    "### 3. Create a trace graph object, and create networkx graph from arango data"
   ]
  },
  {
   "cell_type": "code",
   "execution_count": 12,
   "metadata": {},
   "outputs": [
    {
     "name": "stderr",
     "output_type": "stream",
     "text": [
      "INFO: MultiDirectedGraph with 33428 nodes and 37886 edges\n"
     ]
    }
   ],
   "source": [
    "tracegraph = ShortestPathTrace(Biocyc(database))\n",
    "# set up output directory where the excel and graph files will write to\n",
    "tracegraph.datadir = output_dir\n",
    "# initiate tracegraph by loading graph data from arango\n",
    "# a networkx graph is created here.  \n",
    "tracegraph.init_default_graph()"
   ]
  },
  {
   "cell_type": "markdown",
   "metadata": {},
   "source": [
    "### 4. Add shortest paths traces, and generate sankey graph file\n",
    "Generate shortest paths graph from each metals (Zn and Fe) to the biomass precursor metabolites first, then generate a combined shorest paths graph from all metals (Zn, Fe2+ and Fe3+) to biomass precursor metabolites"
   ]
  },
  {
   "cell_type": "markdown",
   "metadata": {},
   "source": [
    "#### Generate shortest paths from metals to metabolites\n",
    "- Make a copy of the clean graph to work on\n",
    "- set nodes set\n",
    "- add shortest paths from each metals to the metabolites\n",
    "- add shortest paths from all metals to metabolites\n",
    "- generate sankey graph file"
   ]
  },
  {
   "cell_type": "code",
   "execution_count": 13,
   "metadata": {},
   "outputs": [
    {
     "name": "stdout",
     "output_type": "stream",
     "text": [
      "1 1\n"
     ]
    }
   ],
   "source": [
    "# create a copy of the graph so that the original graph is clean (without traces)\n",
    "tracegraph.graph = tracegraph.orig_graph.copy()\n",
    "nodes1 = database.get_nodes_by_attr(['ppGpp'], 'name', 'Compound')\n",
    "nodes2 = database.get_nodes_by_attr(['ORNDECARBOX-RXN'], 'eid')\n",
    "print(len(nodes1), len(nodes2))\n"
   ]
  },
  {
   "cell_type": "code",
   "execution_count": 14,
   "metadata": {},
   "outputs": [
    {
     "name": "stderr",
     "output_type": "stream",
     "text": [
      "INFO: add Shortest paths from ppGpp to Ornithine decarboxylase-RXN: 1 paths\n"
     ]
    },
    {
     "data": {
      "text/plain": [
       "True"
      ]
     },
     "execution_count": 14,
     "metadata": {},
     "output_type": "execute_result"
    }
   ],
   "source": [
    "source=tracegraph.set_node_set_for_node(nodes1[0])\n",
    "target=tracegraph.set_node_set_for_node(nodes2[0])\n",
    "# add graph description\n",
    "tracegraph.add_graph_description(f'database: {db_name}\\n')\n",
    "tracegraph.add_shortest_paths(source, target)\n",
    "# tracegraph.write_to_sankey_file(f\"shortestpaths_from{source}_to_{target}.graph\")"
   ]
  },
  {
   "cell_type": "code",
   "execution_count": 15,
   "metadata": {},
   "outputs": [
    {
     "name": "stderr",
     "output_type": "stream",
     "text": [
      "INFO: add Shortest paths from Zn2+ to biomass_metabolites: 62 paths\n",
      "INFO: add Shortest paths from Fe2+ to biomass_metabolites: 33 paths\n",
      "INFO: add Shortest paths from Fe3+ to biomass_metabolites: 33 paths\n",
      "INFO: add Shortest paths from metals to biomass_metabolites: 128 paths\n"
     ]
    },
    {
     "data": {
      "text/plain": [
       "True"
      ]
     },
     "execution_count": 15,
     "metadata": {},
     "output_type": "execute_result"
    }
   ],
   "source": [
    "# create a copy of the graph so that the original graph is clean (without traces)\n",
    "tracegraph.graph = tracegraph.orig_graph.copy()\n",
    "\n",
    "# Set source and target node sets\n",
    "SOURCE_SET = 'metals'\n",
    "TARGET_SET = 'biomass_metabolites'\n",
    "tracegraph.set_node_set_from_arango_nodes(metal_nodes, SOURCE_SET, SOURCE_SET)\n",
    "tracegraph.set_node_set_from_arango_nodes(metab_nodes, TARGET_SET, TARGET_SET)\n",
    "\n",
    "# add graph description\n",
    "tracegraph.add_graph_description(f'database: {db_name}\\n')\n",
    "\n",
    "# add traces from each metals (Zn2+, Fe2+, Fe3+) to metabolites\n",
    "for node in metal_nodes:\n",
    "    node_key = tracegraph.set_node_set_for_node(node)\n",
    "    tracegraph.add_shortest_paths(node_key, TARGET_SET, sources_as_query=False)\n",
    "    \n",
    "# add shortest paths from all metals to metabolites\n",
    "tracegraph.add_shortest_paths(SOURCE_SET, TARGET_SET)"
   ]
  },
  {
   "cell_type": "code",
   "execution_count": 16,
   "metadata": {},
   "outputs": [
    {
     "name": "stderr",
     "output_type": "stream",
     "text": [
      "INFO: clean graph: number of graph nodes decreased from 33428 to 156\n",
      "INFO: writing output/Shortest_Paths_from_Zn_Fe_to_biomass_metabs\n"
     ]
    }
   ],
   "source": [
    "# export sankey file (json file). Make sure that the file end with .graph. Otherwise, Lifelike cannot recoginize it as a graph file\n",
    "graphfile = \"Shortest_Paths_from_Zn_Fe_to_biomass_metabs.graph\"\n",
    "tracegraph.write_to_sankey_file(graphfile)"
   ]
  },
  {
   "cell_type": "markdown",
   "metadata": {},
   "source": [
    "## (Optional) Shortest paths +N\n",
    "This demo will get all shortest paths and shortest plus n paths for all pairs of nodes from group S nodes (sources) to group T nodes (targets). \n",
    "\n",
    "In the example below, given source S and target T, the shortest paths have 3 hops (2 nodes in between), including S->1->2->T and S->1->3->T.   \n",
    "__Shortest paths+1__ include shortest paths and paths with one more node (3 nodes) in between: S->1->2->4->T, S->1->3->5 and S->6->7->3->T.  \n",
    "__Shortest paths+2__ include shortest paths and paths with one and two more nodes(4 nodes) in between.  Paths with 4 nodes in between are S->6->7->3->5->T and S->8->9->10->11.\n",
    "\n",
    "<table><tr>\n",
    "    <td><img src=\"img/shortest_paths.png\"> </td>\n",
    "    <td><img src=\"img/shortest_paths_plus1.png\"> </td>\n",
    "    <td><img src=\"img/shortest_paths_plus2.png\"> </td>\n",
    "</tr></table>"
   ]
  },
  {
   "cell_type": "markdown",
   "metadata": {},
   "source": [
    "The steps for running shortest paths+N are the same as running shortest paths, except you need one additional parameter __shortest_paths_plus_n__. By default, the parameter was set to 0.  \n",
    "For shortest paths+3, we set the parameter as 3:\n",
    "```\n",
    "tracegraph.add_shortest_paths(SOURCE_SET, TARGET_SET, shortest_paths_plus_n=3)\n",
    "```"
   ]
  },
  {
   "cell_type": "code",
   "execution_count": 17,
   "metadata": {},
   "outputs": [
    {
     "name": "stderr",
     "output_type": "stream",
     "text": [
      "INFO: add Shortest paths from metals to biomass_metabolites: 128 paths\n"
     ]
    },
    {
     "ename": "NetworkXNotImplemented",
     "evalue": "not implemented for multigraph type",
     "output_type": "error",
     "traceback": [
      "\u001b[0;31m---------------------------------------------------------------------------\u001b[0m",
      "\u001b[0;31mNetworkXNotImplemented\u001b[0m                    Traceback (most recent call last)",
      "Cell \u001b[0;32mIn[17], line 14\u001b[0m\n\u001b[1;32m     11\u001b[0m tracegraph\u001b[38;5;241m.\u001b[39madd_graph_description(\u001b[38;5;124mf\u001b[39m\u001b[38;5;124m'\u001b[39m\u001b[38;5;124mdatabase: \u001b[39m\u001b[38;5;132;01m{\u001b[39;00mdb_name\u001b[38;5;132;01m}\u001b[39;00m\u001b[38;5;130;01m\\n\u001b[39;00m\u001b[38;5;124m'\u001b[39m)\n\u001b[1;32m     13\u001b[0m \u001b[38;5;66;03m# add shortest paths from all metals to metabolites\u001b[39;00m\n\u001b[0;32m---> 14\u001b[0m \u001b[43mtracegraph\u001b[49m\u001b[38;5;241;43m.\u001b[39;49m\u001b[43madd_shortest_paths\u001b[49m\u001b[43m(\u001b[49m\u001b[43mSOURCE_SET\u001b[49m\u001b[43m,\u001b[49m\u001b[43m \u001b[49m\u001b[43mTARGET_SET\u001b[49m\u001b[43m,\u001b[49m\u001b[43m \u001b[49m\u001b[43mshortest_paths_plus_n\u001b[49m\u001b[38;5;241;43m=\u001b[39;49m\u001b[38;5;241;43m3\u001b[39;49m\u001b[43m)\u001b[49m\n\u001b[1;32m     16\u001b[0m \u001b[38;5;66;03m# export sankey file (json file). Make sure that the file end with .graph. \u001b[39;00m\n\u001b[1;32m     17\u001b[0m graphfile \u001b[38;5;241m=\u001b[39m \u001b[38;5;124m\"\u001b[39m\u001b[38;5;124mShortest_Paths+3_from_Zn_Fe_to_biomass_metabs.graph\u001b[39m\u001b[38;5;124m\"\u001b[39m\n",
      "File \u001b[0;32m~/Projects/GDS-Public/src/lifelike_gds/arango_network/shortest_paths_trace.py:23\u001b[0m, in \u001b[0;36mShortestPathTrace.add_shortest_paths\u001b[0;34m(self, sources, targets, sources_as_query, shortest_paths_plus_n)\u001b[0m\n\u001b[1;32m     21\u001b[0m     plus_n \u001b[38;5;241m=\u001b[39m \u001b[38;5;124mf\u001b[39m\u001b[38;5;124m'\u001b[39m\u001b[38;5;124m+\u001b[39m\u001b[38;5;132;01m{\u001b[39;00mn\u001b[38;5;132;01m}\u001b[39;00m\u001b[38;5;124m'\u001b[39m\n\u001b[1;32m     22\u001b[0m network_name \u001b[38;5;241m=\u001b[39m \u001b[38;5;124mf\u001b[39m\u001b[38;5;124m\"\u001b[39m\u001b[38;5;124mShortest\u001b[39m\u001b[38;5;132;01m{\u001b[39;00mplus_n\u001b[38;5;132;01m}\u001b[39;00m\u001b[38;5;124m paths from \u001b[39m\u001b[38;5;132;01m{\u001b[39;00msource_name\u001b[38;5;132;01m}\u001b[39;00m\u001b[38;5;124m to \u001b[39m\u001b[38;5;132;01m{\u001b[39;00mtarget_name\u001b[38;5;132;01m}\u001b[39;00m\u001b[38;5;124m\"\u001b[39m\n\u001b[0;32m---> 23\u001b[0m networkIdx, num_paths \u001b[38;5;241m=\u001b[39m \u001b[43madd_trace_network\u001b[49m\u001b[43m(\u001b[49m\n\u001b[1;32m     24\u001b[0m \u001b[43m    \u001b[49m\u001b[38;5;28;43mself\u001b[39;49m\u001b[38;5;241;43m.\u001b[39;49m\u001b[43mgraph\u001b[49m\u001b[43m,\u001b[49m\n\u001b[1;32m     25\u001b[0m \u001b[43m    \u001b[49m\u001b[43msources\u001b[49m\u001b[43m,\u001b[49m\n\u001b[1;32m     26\u001b[0m \u001b[43m    \u001b[49m\u001b[43mtargets\u001b[49m\u001b[43m,\u001b[49m\n\u001b[1;32m     27\u001b[0m \u001b[43m    \u001b[49m\u001b[43mname\u001b[49m\u001b[38;5;241;43m=\u001b[39;49m\u001b[43mnetwork_name\u001b[49m\u001b[43m,\u001b[49m\n\u001b[1;32m     28\u001b[0m \u001b[43m    \u001b[49m\u001b[43mquery\u001b[49m\u001b[38;5;241;43m=\u001b[39;49m\u001b[43mquery\u001b[49m\u001b[43m,\u001b[49m\n\u001b[1;32m     29\u001b[0m \u001b[43m    \u001b[49m\u001b[43mshortest_paths_plus_n\u001b[49m\u001b[38;5;241;43m=\u001b[39;49m\u001b[43mn\u001b[49m\n\u001b[1;32m     30\u001b[0m \u001b[43m\u001b[49m\u001b[43m)\u001b[49m\n\u001b[1;32m     31\u001b[0m \u001b[38;5;28;01mif\u001b[39;00m num_paths \u001b[38;5;241m>\u001b[39m \u001b[38;5;241m0\u001b[39m:\n\u001b[1;32m     32\u001b[0m     has_paths \u001b[38;5;241m=\u001b[39m \u001b[38;5;28;01mTrue\u001b[39;00m\n",
      "File \u001b[0;32m~/Projects/GDS-Public/src/lifelike_gds/network/trace_utils.py:121\u001b[0m, in \u001b[0;36madd_trace_network\u001b[0;34m(D, sources, targets, sources_key, targets_key, reverse, weight, minsum, maxsum, n_edges, undirected, default_sizing, name, description, query, shortest_paths_plus_n)\u001b[0m\n\u001b[1;32m    119\u001b[0m         trace_network[\u001b[38;5;124m\"\u001b[39m\u001b[38;5;124mmethod\u001b[39m\u001b[38;5;124m\"\u001b[39m] \u001b[38;5;241m=\u001b[39m \u001b[38;5;124mf\u001b[39m\u001b[38;5;124m\"\u001b[39m\u001b[38;5;124mmin(sum(\u001b[39m\u001b[38;5;132;01m{\u001b[39;00mweight\u001b[38;5;132;01m}\u001b[39;00m\u001b[38;5;124m))\u001b[39m\u001b[38;5;124m\"\u001b[39m\n\u001b[1;32m    120\u001b[0m     \u001b[38;5;66;03m# logging.info(f\"Finding shortest paths from {sources_key} to {targets_key}\")\u001b[39;00m\n\u001b[0;32m--> 121\u001b[0m     node_paths \u001b[38;5;241m=\u001b[39m \u001b[43mget_shortest_paths_plus_n\u001b[49m\u001b[43m(\u001b[49m\n\u001b[1;32m    122\u001b[0m \u001b[43m        \u001b[49m\u001b[43mD\u001b[49m\u001b[43m,\u001b[49m\u001b[43m \u001b[49m\u001b[43msources\u001b[49m\u001b[43m,\u001b[49m\u001b[43m \u001b[49m\u001b[43mtargets\u001b[49m\u001b[43m,\u001b[49m\u001b[43m \u001b[49m\u001b[43mn\u001b[49m\u001b[38;5;241;43m=\u001b[39;49m\u001b[43mshortest_paths_plus_n\u001b[49m\u001b[43m,\u001b[49m\u001b[43m \u001b[49m\u001b[43mweight\u001b[49m\u001b[38;5;241;43m=\u001b[39;49m\u001b[43mweight\u001b[49m\n\u001b[1;32m    123\u001b[0m \u001b[43m    \u001b[49m\u001b[43m)\u001b[49m\n\u001b[1;32m    125\u001b[0m \u001b[38;5;28;01mif\u001b[39;00m name \u001b[38;5;129;01mis\u001b[39;00m \u001b[38;5;28;01mNone\u001b[39;00m:\n\u001b[1;32m    126\u001b[0m     name \u001b[38;5;241m=\u001b[39m \u001b[38;5;124mf\u001b[39m\u001b[38;5;124m'\u001b[39m\u001b[38;5;132;01m{\u001b[39;00msources_key\u001b[38;5;132;01m}\u001b[39;00m\u001b[38;5;124m -[\u001b[39m\u001b[38;5;132;01m{\u001b[39;00mtrace_network[\u001b[38;5;124m\"\u001b[39m\u001b[38;5;124mmethod\u001b[39m\u001b[38;5;124m\"\u001b[39m]\u001b[38;5;132;01m}\u001b[39;00m\u001b[38;5;124m]-> \u001b[39m\u001b[38;5;132;01m{\u001b[39;00mtargets_key\u001b[38;5;132;01m}\u001b[39;00m\u001b[38;5;124m'\u001b[39m\n",
      "File \u001b[0;32m~/Projects/GDS-Public/src/lifelike_gds/network/graph_algorithms.py:280\u001b[0m, in \u001b[0;36mget_shortest_paths_plus_n\u001b[0;34m(D, sources, targets, n, max_path_length, undirected, weight)\u001b[0m\n\u001b[1;32m    278\u001b[0m \u001b[38;5;28;01mtry\u001b[39;00m:\n\u001b[1;32m    279\u001b[0m     shortest_path_len \u001b[38;5;241m=\u001b[39m \u001b[38;5;241m0\u001b[39m\n\u001b[0;32m--> 280\u001b[0m     \u001b[38;5;28;01mfor\u001b[39;00m p \u001b[38;5;129;01min\u001b[39;00m nx\u001b[38;5;241m.\u001b[39mshortest_simple_paths(D, s, t, weight):\n\u001b[1;32m    281\u001b[0m         \u001b[38;5;66;03m# First path found is always a shortest path\u001b[39;00m\n\u001b[1;32m    282\u001b[0m         \u001b[38;5;28;01mif\u001b[39;00m shortest_path_len \u001b[38;5;241m==\u001b[39m \u001b[38;5;241m0\u001b[39m:\n\u001b[1;32m    283\u001b[0m             shortest_path_len \u001b[38;5;241m=\u001b[39m \u001b[38;5;28mlen\u001b[39m(p)\n",
      "File \u001b[0;32m~/.local/share/virtualenvs/GDS-Public-uKBS7cUg/lib/python3.9/site-packages/networkx/utils/decorators.py:790\u001b[0m, in \u001b[0;36margmap.__call__.<locals>.func\u001b[0;34m(_argmap__wrapper, *args, **kwargs)\u001b[0m\n\u001b[1;32m    789\u001b[0m \u001b[38;5;28;01mdef\u001b[39;00m \u001b[38;5;21mfunc\u001b[39m(\u001b[38;5;241m*\u001b[39margs, __wrapper\u001b[38;5;241m=\u001b[39m\u001b[38;5;28;01mNone\u001b[39;00m, \u001b[38;5;241m*\u001b[39m\u001b[38;5;241m*\u001b[39mkwargs):\n\u001b[0;32m--> 790\u001b[0m     \u001b[38;5;28;01myield from\u001b[39;00m argmap\u001b[38;5;241m.\u001b[39m_lazy_compile(__wrapper)(\u001b[38;5;241m*\u001b[39margs, \u001b[38;5;241m*\u001b[39m\u001b[38;5;241m*\u001b[39mkwargs)\n",
      "File \u001b[0;32m<class 'networkx.utils.decorators.argmap'> compilation 8:3\u001b[0m, in \u001b[0;36margmap_shortest_simple_paths_5\u001b[0;34m(G, source, target, weight)\u001b[0m\n\u001b[1;32m      1\u001b[0m \u001b[38;5;28;01mfrom\u001b[39;00m \u001b[38;5;21;01mcollections\u001b[39;00m \u001b[38;5;28;01mimport\u001b[39;00m defaultdict\n\u001b[1;32m      2\u001b[0m \u001b[38;5;28;01mfrom\u001b[39;00m \u001b[38;5;21;01mos\u001b[39;00m\u001b[38;5;21;01m.\u001b[39;00m\u001b[38;5;21;01mpath\u001b[39;00m \u001b[38;5;28;01mimport\u001b[39;00m splitext\n\u001b[0;32m----> 3\u001b[0m \u001b[38;5;28;01mfrom\u001b[39;00m \u001b[38;5;21;01mcontextlib\u001b[39;00m \u001b[38;5;28;01mimport\u001b[39;00m contextmanager\n\u001b[1;32m      4\u001b[0m \u001b[38;5;28;01mfrom\u001b[39;00m \u001b[38;5;21;01mpathlib\u001b[39;00m \u001b[38;5;28;01mimport\u001b[39;00m Path\n\u001b[1;32m      5\u001b[0m \u001b[38;5;28;01mimport\u001b[39;00m \u001b[38;5;21;01mwarnings\u001b[39;00m\n",
      "File \u001b[0;32m~/.local/share/virtualenvs/GDS-Public-uKBS7cUg/lib/python3.9/site-packages/networkx/utils/decorators.py:87\u001b[0m, in \u001b[0;36mnot_implemented_for.<locals>._not_implemented_for\u001b[0;34m(g)\u001b[0m\n\u001b[1;32m     83\u001b[0m \u001b[38;5;28;01mdef\u001b[39;00m \u001b[38;5;21m_not_implemented_for\u001b[39m(g):\n\u001b[1;32m     84\u001b[0m     \u001b[38;5;28;01mif\u001b[39;00m (mval \u001b[38;5;129;01mis\u001b[39;00m \u001b[38;5;28;01mNone\u001b[39;00m \u001b[38;5;129;01mor\u001b[39;00m mval \u001b[38;5;241m==\u001b[39m g\u001b[38;5;241m.\u001b[39mis_multigraph()) \u001b[38;5;129;01mand\u001b[39;00m (\n\u001b[1;32m     85\u001b[0m         dval \u001b[38;5;129;01mis\u001b[39;00m \u001b[38;5;28;01mNone\u001b[39;00m \u001b[38;5;129;01mor\u001b[39;00m dval \u001b[38;5;241m==\u001b[39m g\u001b[38;5;241m.\u001b[39mis_directed()\n\u001b[1;32m     86\u001b[0m     ):\n\u001b[0;32m---> 87\u001b[0m         \u001b[38;5;28;01mraise\u001b[39;00m nx\u001b[38;5;241m.\u001b[39mNetworkXNotImplemented(errmsg)\n\u001b[1;32m     89\u001b[0m     \u001b[38;5;28;01mreturn\u001b[39;00m g\n",
      "\u001b[0;31mNetworkXNotImplemented\u001b[0m: not implemented for multigraph type"
     ]
    }
   ],
   "source": [
    "# create a copy of the graph so that the original graph is clean (without traces)\n",
    "tracegraph.graph = tracegraph.orig_graph.copy()\n",
    "\n",
    "# Set source and target node sets\n",
    "SOURCE_SET = 'metals'\n",
    "TARGET_SET = 'biomass_metabolites'\n",
    "tracegraph.set_node_set_from_arango_nodes(metal_nodes, SOURCE_SET, SOURCE_SET)\n",
    "tracegraph.set_node_set_from_arango_nodes(metab_nodes, TARGET_SET, TARGET_SET)\n",
    "\n",
    "# add graph description\n",
    "tracegraph.add_graph_description(f'database: {db_name}\\n')\n",
    "    \n",
    "# add shortest paths from all metals to metabolites\n",
    "tracegraph.add_shortest_paths(SOURCE_SET, TARGET_SET, shortest_paths_plus_n=3)\n",
    "\n",
    "# export sankey file (json file). Make sure that the file end with .graph. \n",
    "graphfile = \"Shortest_Paths+3_from_Zn_Fe_to_biomass_metabs.graph\"\n",
    "tracegraph.write_to_sankey_file(graphfile)"
   ]
  }
 ],
 "metadata": {
  "kernelspec": {
   "display_name": "Python 3 (ipykernel)",
   "language": "python",
   "name": "python3"
  },
  "language_info": {
   "codemirror_mode": {
    "name": "ipython",
    "version": 3
   },
   "file_extension": ".py",
   "mimetype": "text/x-python",
   "name": "python",
   "nbconvert_exporter": "python",
   "pygments_lexer": "ipython3",
   "version": "3.9.4"
  }
 },
 "nbformat": 4,
 "nbformat_minor": 4
}
