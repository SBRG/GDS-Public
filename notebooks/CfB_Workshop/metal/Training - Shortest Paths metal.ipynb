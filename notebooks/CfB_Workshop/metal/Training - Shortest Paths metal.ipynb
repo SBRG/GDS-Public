{
 "cells": [
  {
   "cell_type": "markdown",
   "metadata": {},
   "source": [
    "# All Shortest Paths for metal use case"
   ]
  },
  {
   "cell_type": "markdown",
   "metadata": {},
   "source": [
    "#### Unweighted shortest paths\n",
    "This demo will get all shortest paths for all pairs of nodes from group S nodes (sources) to group T nodes (targets). \n",
    "\n",
    "Given source S and target T in the example below, the shortest paths have 3 hops (2 nodes in between), including S->1->2->T and S->1->3->T.   \n",
    "<img align='left' src=\"img/shortest_paths.png\" width='500'> "
   ]
  },
  {
   "cell_type": "markdown",
   "metadata": {},
   "source": [
    "### Steps creating traces for shortest plus paths \n",
    "1. Connect to arango database\n",
    "2. Get input nodes (sources and targets)\n",
    "3. Load the whole network graph from arango to memory and create a networkx graph\n",
    "4. Add all shortest paths for each pair of nodes from sources to targets\n",
    "5. Generate sankey graph file"
   ]
  },
  {
   "cell_type": "code",
   "execution_count": 19,
   "metadata": {},
   "outputs": [],
   "source": [
    "import os\n",
    "import sys\n",
    "root = os.getcwd().split('/notebooks/')[0]\n",
    "sys.path.append(os.path.join(root, 'src'))"
   ]
  },
  {
   "cell_type": "code",
   "execution_count": 20,
   "metadata": {},
   "outputs": [],
   "source": [
    "from lifelike_gds.arango_network.biocyc import *\n",
    "from lifelike_gds.arango_network.shortest_paths_trace import ShortestPathTrace\n",
    "import pandas as pd"
   ]
  },
  {
   "cell_type": "code",
   "execution_count": 21,
   "metadata": {},
   "outputs": [],
   "source": [
    "import warnings\n",
    "warnings.filterwarnings('ignore')"
   ]
  },
  {
   "cell_type": "code",
   "execution_count": 22,
   "metadata": {},
   "outputs": [],
   "source": [
    "input_dir = 'input'\n",
    "output_dir = 'output'\n",
    "# gds database name\n",
    "db_name = 'ecocyc'\n",
    "# gds database version, free text, that can be used to describe the graph\n",
    "db_version = 'ecocyc 25.5'"
   ]
  },
  {
   "cell_type": "markdown",
   "metadata": {},
   "source": [
    "### 1. Connect to arango database\n",
    "If use BioCyc databases (e.g. EcoCyc, HumanCyc), use Class BioCycDB.  \n",
    "If use Reactome database, use Class ReactomeDB. "
   ]
  },
  {
   "cell_type": "code",
   "execution_count": 23,
   "metadata": {},
   "outputs": [],
   "source": [
    "# set database uri, username and password. \n",
    "# dbname is the arango database name for the running arango instance. The default database name is 'arango'\n",
    "dbname = os.getenv('ARANGO_DATABASE', db_name)\n",
    "\n",
    "database = BiocycDB(dbname)"
   ]
  },
  {
   "cell_type": "markdown",
   "metadata": {},
   "source": [
    "### 2. Read input files and get source and target nodes from arango"
   ]
  },
  {
   "cell_type": "code",
   "execution_count": 24,
   "metadata": {},
   "outputs": [
    {
     "name": "stdout",
     "output_type": "stream",
     "text": [
      "   name biocyc_id\n",
      "0  Zn2+      ZN+2\n",
      "1  Fe2+      FE+2\n",
      "2  Fe3+      FE+3\n"
     ]
    }
   ],
   "source": [
    "metal_file = 'metals.csv'\n",
    "df_metal = pd.read_csv(os.path.join(input_dir, metal_file))\n",
    "print(df_metal)"
   ]
  },
  {
   "cell_type": "code",
   "execution_count": 25,
   "metadata": {},
   "outputs": [
    {
     "name": "stdout",
     "output_type": "stream",
     "text": [
      "metals: ['ZN+2', 'FE+2', 'FE+3'], nodes: 3\n"
     ]
    }
   ],
   "source": [
    "metals = [n for n in df_metal['biocyc_id']]\n",
    "metal_nodes = database.get_nodes_by_attr(metals, 'biocyc_id')\n",
    "print(f\"metals: {metals}, nodes: {len(metal_nodes)}\")"
   ]
  },
  {
   "cell_type": "code",
   "execution_count": 26,
   "metadata": {},
   "outputs": [
    {
     "name": "stdout",
     "output_type": "stream",
     "text": [
      "metabolites: 12, nodes: 12\n"
     ]
    }
   ],
   "source": [
    "metab_file = 'biomass_precursors.csv'\n",
    "df_metab = pd.read_csv(os.path.join(input_dir, metab_file))\n",
    "metabs = [n for n in df_metab['biocyc_id']]\n",
    "metab_nodes = database.get_nodes_by_attr(metabs, 'biocyc_id')\n",
    "print(f\"metabolites: {len(metabs)}, nodes: {len(metab_nodes)}\")"
   ]
  },
  {
   "cell_type": "markdown",
   "metadata": {},
   "source": [
    "### 3. Create a trace graph object, and create networkx graph from arango data"
   ]
  },
  {
   "cell_type": "code",
   "execution_count": 27,
   "metadata": {},
   "outputs": [
    {
     "name": "stderr",
     "output_type": "stream",
     "text": [
      "INFO:root:MultiDirectedGraph with 33428 nodes and 37886 edges\n"
     ]
    }
   ],
   "source": [
    "tracegraph = ShortestPathTrace(Biocyc(database))\n",
    "# set up output directory where the excel and graph files will write to\n",
    "tracegraph.datadir = output_dir\n",
    "# initiate tracegraph by loading graph data from arango\n",
    "# a networkx graph is created here.  \n",
    "tracegraph.init_default_graph()"
   ]
  },
  {
   "cell_type": "markdown",
   "metadata": {},
   "source": [
    "### 4. Add shortest paths traces, and generate sankey graph file\n",
    "Generate shortest paths graph from each metals (Zn and Fe) to the biomass precursor metabolites first, then generate a combined shorest paths graph from all metals (Zn, Fe2+ and Fe3+) to biomass precursor metabolites"
   ]
  },
  {
   "cell_type": "markdown",
   "metadata": {},
   "source": [
    "#### Generate shortest paths from metals to metabolites\n",
    "- Make a copy of the clean graph to work on\n",
    "- set nodes set\n",
    "- add shortest paths from each metals to the metabolites\n",
    "- add shortest paths from all metals to metabolites\n",
    "- generate sankey graph file"
   ]
  },
  {
   "cell_type": "code",
   "execution_count": 28,
   "metadata": {},
   "outputs": [
    {
     "name": "stdout",
     "output_type": "stream",
     "text": [
      "1 1\n"
     ]
    }
   ],
   "source": [
    "# create a copy of the graph so that the original graph is clean (without traces)\n",
    "tracegraph.graph = tracegraph.orig_graph.copy()\n",
    "nodes1 = database.get_nodes_by_attr(['ppGpp'], 'name', 'Compound')\n",
    "nodes2 = database.get_nodes_by_attr(['ORNDECARBOX-RXN'], 'eid')\n",
    "print(len(nodes1), len(nodes2))\n"
   ]
  },
  {
   "cell_type": "code",
   "execution_count": 29,
   "metadata": {},
   "outputs": [
    {
     "name": "stderr",
     "output_type": "stream",
     "text": [
      "INFO:root:add Shortest paths from ppGpp to Ornithine decarboxylase-RXN: 2 paths\n"
     ]
    },
    {
     "data": {
      "text/plain": "True"
     },
     "execution_count": 29,
     "metadata": {},
     "output_type": "execute_result"
    }
   ],
   "source": [
    "source=tracegraph.set_node_set_for_node(nodes1[0])\n",
    "target=tracegraph.set_node_set_for_node(nodes2[0])\n",
    "# add graph description\n",
    "tracegraph.add_graph_description(f'database: {db_name}\\n')\n",
    "tracegraph.add_shortest_paths(source, target)\n",
    "# tracegraph.write_to_sankey_file(f\"shortestpaths_from{source}_to_{target}.graph\")"
   ]
  },
  {
   "cell_type": "code",
   "execution_count": 30,
   "metadata": {},
   "outputs": [
    {
     "name": "stderr",
     "output_type": "stream",
     "text": [
      "INFO:root:add Shortest paths from Zn2+ to biomass_metabolites: 226 paths\n",
      "INFO:root:add Shortest paths from Fe2+ to biomass_metabolites: 49 paths\n",
      "INFO:root:add Shortest paths from Fe3+ to biomass_metabolites: 147 paths\n",
      "INFO:root:add Shortest paths from metals to biomass_metabolites: 422 paths\n"
     ]
    },
    {
     "data": {
      "text/plain": "True"
     },
     "execution_count": 30,
     "metadata": {},
     "output_type": "execute_result"
    }
   ],
   "source": [
    "# create a copy of the graph so that the original graph is clean (without traces)\n",
    "tracegraph.graph = tracegraph.orig_graph.copy()\n",
    "\n",
    "# Set source and target node sets\n",
    "SOURCE_SET = 'metals'\n",
    "TARGET_SET = 'biomass_metabolites'\n",
    "tracegraph.set_node_set_from_arango_nodes(metal_nodes, SOURCE_SET, SOURCE_SET)\n",
    "tracegraph.set_node_set_from_arango_nodes(metab_nodes, TARGET_SET, TARGET_SET)\n",
    "\n",
    "# add graph description\n",
    "tracegraph.add_graph_description(f'database: {db_name}\\n')\n",
    "\n",
    "# add traces from each metals (Zn2+, Fe2+, Fe3+) to metabolites\n",
    "for node in metal_nodes:\n",
    "    node_key = tracegraph.set_node_set_for_node(node)\n",
    "    tracegraph.add_shortest_paths(node_key, TARGET_SET, sources_as_query=False)\n",
    "    \n",
    "# add shortest paths from all metals to metabolites\n",
    "tracegraph.add_shortest_paths(SOURCE_SET, TARGET_SET)"
   ]
  },
  {
   "cell_type": "code",
   "execution_count": 31,
   "metadata": {},
   "outputs": [
    {
     "name": "stderr",
     "output_type": "stream",
     "text": [
      "INFO:root:clean graph: number of graph nodes decreased from 33428 to 127\n",
      "INFO:root:writing output/Shortest_Paths_from_Zn_Fe_to_biomass_metabs\n"
     ]
    }
   ],
   "source": [
    "# export sankey file (json file). Make sure that the file end with .graph. Otherwise, Lifelike cannot recoginize it as a graph file\n",
    "graphfile = \"Shortest_Paths_from_Zn_Fe_to_biomass_metabs.graph\"\n",
    "tracegraph.write_to_sankey_file(graphfile)"
   ]
  },
  {
   "cell_type": "markdown",
   "metadata": {},
   "source": [
    "## (Optional) Shortest paths +N\n",
    "This demo will get all shortest paths and shortest plus n paths for all pairs of nodes from group S nodes (sources) to group T nodes (targets). \n",
    "\n",
    "In the example below, given source S and target T, the shortest paths have 3 hops (2 nodes in between), including S->1->2->T and S->1->3->T.   \n",
    "__Shortest paths+1__ include shortest paths and paths with one more node (3 nodes) in between: S->1->2->4->T, S->1->3->5 and S->6->7->3->T.  \n",
    "__Shortest paths+2__ include shortest paths and paths with one and two more nodes(4 nodes) in between.  Paths with 4 nodes in between are S->6->7->3->5->T and S->8->9->10->11.\n",
    "\n",
    "<table><tr>\n",
    "    <td><img src=\"img/shortest_paths.png\"> </td>\n",
    "    <td><img src=\"img/shortest_paths_plus1.png\"> </td>\n",
    "    <td><img src=\"img/shortest_paths_plus2.png\"> </td>\n",
    "</tr></table>"
   ]
  },
  {
   "cell_type": "markdown",
   "metadata": {},
   "source": [
    "The steps for running shortest paths+N are the same as running shortest paths, except you need one additional parameter __shortest_paths_plus_n__. By default, the parameter was set to 0.  \n",
    "For shortest paths+3, we set the parameter as 3:\n",
    "```\n",
    "tracegraph.add_shortest_paths(SOURCE_SET, TARGET_SET, shortest_paths_plus_n=3)\n",
    "```"
   ]
  },
  {
   "cell_type": "code",
   "execution_count": 32,
   "metadata": {},
   "outputs": [
    {
     "name": "stderr",
     "output_type": "stream",
     "text": [
      "INFO:root:add Shortest paths from metals to biomass_metabolites: 422 paths\n"
     ]
    },
    {
     "ename": "NetworkXNotImplemented",
     "evalue": "not implemented for multigraph type",
     "output_type": "error",
     "traceback": [
      "\u001B[0;31m---------------------------------------------------------------------------\u001B[0m",
      "\u001B[0;31mNetworkXNotImplemented\u001B[0m                    Traceback (most recent call last)",
      "\u001B[0;32m/var/folders/kc/_w_9wtq15fd3sc8y8dpkr71c9jbj97/T/ipykernel_38856/3347812783.py\u001B[0m in \u001B[0;36m<module>\u001B[0;34m\u001B[0m\n\u001B[1;32m     12\u001B[0m \u001B[0;34m\u001B[0m\u001B[0m\n\u001B[1;32m     13\u001B[0m \u001B[0;31m# add shortest paths from all metals to metabolites\u001B[0m\u001B[0;34m\u001B[0m\u001B[0;34m\u001B[0m\u001B[0;34m\u001B[0m\u001B[0m\n\u001B[0;32m---> 14\u001B[0;31m \u001B[0mtracegraph\u001B[0m\u001B[0;34m.\u001B[0m\u001B[0madd_shortest_paths\u001B[0m\u001B[0;34m(\u001B[0m\u001B[0mSOURCE_SET\u001B[0m\u001B[0;34m,\u001B[0m \u001B[0mTARGET_SET\u001B[0m\u001B[0;34m,\u001B[0m \u001B[0mshortest_paths_plus_n\u001B[0m\u001B[0;34m=\u001B[0m\u001B[0;36m3\u001B[0m\u001B[0;34m)\u001B[0m\u001B[0;34m\u001B[0m\u001B[0;34m\u001B[0m\u001B[0m\n\u001B[0m\u001B[1;32m     15\u001B[0m \u001B[0;34m\u001B[0m\u001B[0m\n\u001B[1;32m     16\u001B[0m \u001B[0;31m# export sankey file (json file). Make sure that the file end with .graph.\u001B[0m\u001B[0;34m\u001B[0m\u001B[0;34m\u001B[0m\u001B[0;34m\u001B[0m\u001B[0m\n",
      "\u001B[0;32m~/Projects/GDS/src/lifelike_gds/arango_network/shortest_paths_trace.py\u001B[0m in \u001B[0;36madd_shortest_paths\u001B[0;34m(self, sources, targets, sources_as_query, shortest_paths_plus_n)\u001B[0m\n\u001B[1;32m     27\u001B[0m                 \u001B[0mname\u001B[0m\u001B[0;34m=\u001B[0m\u001B[0mnetwork_name\u001B[0m\u001B[0;34m,\u001B[0m\u001B[0;34m\u001B[0m\u001B[0;34m\u001B[0m\u001B[0m\n\u001B[1;32m     28\u001B[0m                 \u001B[0mquery\u001B[0m\u001B[0;34m=\u001B[0m\u001B[0mquery\u001B[0m\u001B[0;34m,\u001B[0m\u001B[0;34m\u001B[0m\u001B[0;34m\u001B[0m\u001B[0m\n\u001B[0;32m---> 29\u001B[0;31m                 \u001B[0mshortest_paths_plus_n\u001B[0m\u001B[0;34m=\u001B[0m\u001B[0mn\u001B[0m\u001B[0;34m\u001B[0m\u001B[0;34m\u001B[0m\u001B[0m\n\u001B[0m\u001B[1;32m     30\u001B[0m             )\n\u001B[1;32m     31\u001B[0m             \u001B[0;32mif\u001B[0m \u001B[0mnum_paths\u001B[0m \u001B[0;34m>\u001B[0m \u001B[0;36m0\u001B[0m\u001B[0;34m:\u001B[0m\u001B[0;34m\u001B[0m\u001B[0;34m\u001B[0m\u001B[0m\n",
      "\u001B[0;32m~/Projects/GDS/src/lifelike_gds/network/trace_utils.py\u001B[0m in \u001B[0;36madd_trace_network\u001B[0;34m(D, sources, targets, sources_key, targets_key, reverse, weight, minsum, maxsum, n_edges, undirected, default_sizing, name, description, query, shortest_paths_plus_n)\u001B[0m\n\u001B[1;32m    120\u001B[0m         \u001B[0;31m# logging.info(f\"Finding shortest paths from {sources_key} to {targets_key}\")\u001B[0m\u001B[0;34m\u001B[0m\u001B[0;34m\u001B[0m\u001B[0;34m\u001B[0m\u001B[0m\n\u001B[1;32m    121\u001B[0m         node_paths = get_shortest_paths_plus_n(\n\u001B[0;32m--> 122\u001B[0;31m             \u001B[0mD\u001B[0m\u001B[0;34m,\u001B[0m \u001B[0msources\u001B[0m\u001B[0;34m,\u001B[0m \u001B[0mtargets\u001B[0m\u001B[0;34m,\u001B[0m \u001B[0mn\u001B[0m\u001B[0;34m=\u001B[0m\u001B[0mshortest_paths_plus_n\u001B[0m\u001B[0;34m,\u001B[0m \u001B[0mweight\u001B[0m\u001B[0;34m=\u001B[0m\u001B[0mweight\u001B[0m\u001B[0;34m\u001B[0m\u001B[0;34m\u001B[0m\u001B[0m\n\u001B[0m\u001B[1;32m    123\u001B[0m         )\n\u001B[1;32m    124\u001B[0m \u001B[0;34m\u001B[0m\u001B[0m\n",
      "\u001B[0;32m~/Projects/GDS/src/lifelike_gds/network/graph_algorithms.py\u001B[0m in \u001B[0;36mget_shortest_paths_plus_n\u001B[0;34m(D, sources, targets, n, max_path_length, undirected, weight)\u001B[0m\n\u001B[1;32m    278\u001B[0m             \u001B[0;32mtry\u001B[0m\u001B[0;34m:\u001B[0m\u001B[0;34m\u001B[0m\u001B[0;34m\u001B[0m\u001B[0m\n\u001B[1;32m    279\u001B[0m                 \u001B[0mshortest_path_len\u001B[0m \u001B[0;34m=\u001B[0m \u001B[0;36m0\u001B[0m\u001B[0;34m\u001B[0m\u001B[0;34m\u001B[0m\u001B[0m\n\u001B[0;32m--> 280\u001B[0;31m                 \u001B[0;32mfor\u001B[0m \u001B[0mp\u001B[0m \u001B[0;32min\u001B[0m \u001B[0mnx\u001B[0m\u001B[0;34m.\u001B[0m\u001B[0mshortest_simple_paths\u001B[0m\u001B[0;34m(\u001B[0m\u001B[0mD\u001B[0m\u001B[0;34m,\u001B[0m \u001B[0ms\u001B[0m\u001B[0;34m,\u001B[0m \u001B[0mt\u001B[0m\u001B[0;34m,\u001B[0m \u001B[0mweight\u001B[0m\u001B[0;34m)\u001B[0m\u001B[0;34m:\u001B[0m\u001B[0;34m\u001B[0m\u001B[0;34m\u001B[0m\u001B[0m\n\u001B[0m\u001B[1;32m    281\u001B[0m                     \u001B[0;31m# First path found is always a shortest path\u001B[0m\u001B[0;34m\u001B[0m\u001B[0;34m\u001B[0m\u001B[0;34m\u001B[0m\u001B[0m\n\u001B[1;32m    282\u001B[0m                     \u001B[0;32mif\u001B[0m \u001B[0mshortest_path_len\u001B[0m \u001B[0;34m==\u001B[0m \u001B[0;36m0\u001B[0m\u001B[0;34m:\u001B[0m\u001B[0;34m\u001B[0m\u001B[0;34m\u001B[0m\u001B[0m\n",
      "\u001B[0;32m~/.local/share/virtualenvs/GDS-LpoA9Rxt/lib/python3.7/site-packages/networkx/utils/decorators.py\u001B[0m in \u001B[0;36mfunc\u001B[0;34m(_argmap__wrapper, *args, **kwargs)\u001B[0m\n\u001B[1;32m    788\u001B[0m \u001B[0;34m\u001B[0m\u001B[0m\n\u001B[1;32m    789\u001B[0m             \u001B[0;32mdef\u001B[0m \u001B[0mfunc\u001B[0m\u001B[0;34m(\u001B[0m\u001B[0;34m*\u001B[0m\u001B[0margs\u001B[0m\u001B[0;34m,\u001B[0m \u001B[0m__wrapper\u001B[0m\u001B[0;34m=\u001B[0m\u001B[0;32mNone\u001B[0m\u001B[0;34m,\u001B[0m \u001B[0;34m**\u001B[0m\u001B[0mkwargs\u001B[0m\u001B[0;34m)\u001B[0m\u001B[0;34m:\u001B[0m\u001B[0;34m\u001B[0m\u001B[0;34m\u001B[0m\u001B[0m\n\u001B[0;32m--> 790\u001B[0;31m                 \u001B[0;32myield\u001B[0m \u001B[0;32mfrom\u001B[0m \u001B[0margmap\u001B[0m\u001B[0;34m.\u001B[0m\u001B[0m_lazy_compile\u001B[0m\u001B[0;34m(\u001B[0m\u001B[0m__wrapper\u001B[0m\u001B[0;34m)\u001B[0m\u001B[0;34m(\u001B[0m\u001B[0;34m*\u001B[0m\u001B[0margs\u001B[0m\u001B[0;34m,\u001B[0m \u001B[0;34m**\u001B[0m\u001B[0mkwargs\u001B[0m\u001B[0;34m)\u001B[0m\u001B[0;34m\u001B[0m\u001B[0;34m\u001B[0m\u001B[0m\n\u001B[0m\u001B[1;32m    791\u001B[0m \u001B[0;34m\u001B[0m\u001B[0m\n\u001B[1;32m    792\u001B[0m         \u001B[0;32melse\u001B[0m\u001B[0;34m:\u001B[0m\u001B[0;34m\u001B[0m\u001B[0;34m\u001B[0m\u001B[0m\n",
      "\u001B[0;32m~/.local/share/virtualenvs/GDS-LpoA9Rxt/lib/python3.7/site-packages/networkx/utils/decorators.py\u001B[0m in \u001B[0;36margmap_shortest_simple_paths_5\u001B[0;34m(G, source, target, weight)\u001B[0m\n\u001B[1;32m      1\u001B[0m \u001B[0;32mfrom\u001B[0m \u001B[0mcollections\u001B[0m \u001B[0;32mimport\u001B[0m \u001B[0mdefaultdict\u001B[0m\u001B[0;34m\u001B[0m\u001B[0;34m\u001B[0m\u001B[0m\n\u001B[1;32m      2\u001B[0m \u001B[0;32mfrom\u001B[0m \u001B[0mos\u001B[0m\u001B[0;34m.\u001B[0m\u001B[0mpath\u001B[0m \u001B[0;32mimport\u001B[0m \u001B[0msplitext\u001B[0m\u001B[0;34m\u001B[0m\u001B[0;34m\u001B[0m\u001B[0m\n\u001B[0;32m----> 3\u001B[0;31m \u001B[0;32mfrom\u001B[0m \u001B[0mcontextlib\u001B[0m \u001B[0;32mimport\u001B[0m \u001B[0mcontextmanager\u001B[0m\u001B[0;34m\u001B[0m\u001B[0;34m\u001B[0m\u001B[0m\n\u001B[0m\u001B[1;32m      4\u001B[0m \u001B[0;32mfrom\u001B[0m \u001B[0mpathlib\u001B[0m \u001B[0;32mimport\u001B[0m \u001B[0mPath\u001B[0m\u001B[0;34m\u001B[0m\u001B[0;34m\u001B[0m\u001B[0m\n\u001B[1;32m      5\u001B[0m \u001B[0;32mimport\u001B[0m \u001B[0mwarnings\u001B[0m\u001B[0;34m\u001B[0m\u001B[0;34m\u001B[0m\u001B[0m\n",
      "\u001B[0;32m~/.local/share/virtualenvs/GDS-LpoA9Rxt/lib/python3.7/site-packages/networkx/utils/decorators.py\u001B[0m in \u001B[0;36m_not_implemented_for\u001B[0;34m(g)\u001B[0m\n\u001B[1;32m     85\u001B[0m             \u001B[0mdval\u001B[0m \u001B[0;32mis\u001B[0m \u001B[0;32mNone\u001B[0m \u001B[0;32mor\u001B[0m \u001B[0mdval\u001B[0m \u001B[0;34m==\u001B[0m \u001B[0mg\u001B[0m\u001B[0;34m.\u001B[0m\u001B[0mis_directed\u001B[0m\u001B[0;34m(\u001B[0m\u001B[0;34m)\u001B[0m\u001B[0;34m\u001B[0m\u001B[0;34m\u001B[0m\u001B[0m\n\u001B[1;32m     86\u001B[0m         ):\n\u001B[0;32m---> 87\u001B[0;31m             \u001B[0;32mraise\u001B[0m \u001B[0mnx\u001B[0m\u001B[0;34m.\u001B[0m\u001B[0mNetworkXNotImplemented\u001B[0m\u001B[0;34m(\u001B[0m\u001B[0merrmsg\u001B[0m\u001B[0;34m)\u001B[0m\u001B[0;34m\u001B[0m\u001B[0;34m\u001B[0m\u001B[0m\n\u001B[0m\u001B[1;32m     88\u001B[0m \u001B[0;34m\u001B[0m\u001B[0m\n\u001B[1;32m     89\u001B[0m         \u001B[0;32mreturn\u001B[0m \u001B[0mg\u001B[0m\u001B[0;34m\u001B[0m\u001B[0;34m\u001B[0m\u001B[0m\n",
      "\u001B[0;31mNetworkXNotImplemented\u001B[0m: not implemented for multigraph type"
     ]
    }
   ],
   "source": [
    "# create a copy of the graph so that the original graph is clean (without traces)\n",
    "tracegraph.graph = tracegraph.orig_graph.copy()\n",
    "\n",
    "# Set source and target node sets\n",
    "SOURCE_SET = 'metals'\n",
    "TARGET_SET = 'biomass_metabolites'\n",
    "tracegraph.set_node_set_from_arango_nodes(metal_nodes, SOURCE_SET, SOURCE_SET)\n",
    "tracegraph.set_node_set_from_arango_nodes(metab_nodes, TARGET_SET, TARGET_SET)\n",
    "\n",
    "# add graph description\n",
    "tracegraph.add_graph_description(f'database: {db_name}\\n')\n",
    "    \n",
    "# add shortest paths from all metals to metabolites\n",
    "tracegraph.add_shortest_paths(SOURCE_SET, TARGET_SET, shortest_paths_plus_n=3)\n",
    "\n",
    "# export sankey file (json file). Make sure that the file end with .graph. \n",
    "graphfile = \"Shortest_Paths+3_from_Zn_Fe_to_biomass_metabs.graph\"\n",
    "tracegraph.write_to_sankey_file(graphfile)\n"
   ]
  }
 ],
 "metadata": {
  "kernelspec": {
   "display_name": "Python 3",
   "language": "python",
   "name": "python3"
  },
  "language_info": {
   "codemirror_mode": {
    "name": "ipython",
    "version": 3
   },
   "file_extension": ".py",
   "mimetype": "text/x-python",
   "name": "python",
   "nbconvert_exporter": "python",
   "pygments_lexer": "ipython3",
   "version": "3.8.5"
  }
 },
 "nbformat": 4,
 "nbformat_minor": 4
}
