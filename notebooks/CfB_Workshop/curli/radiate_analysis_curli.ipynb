{
 "cells": [
  {
   "cell_type": "markdown",
   "metadata": {},
   "source": [
    "# Radiate Analysis of curli phenotype-1 knockout genes"
   ]
  },
  {
   "cell_type": "code",
   "execution_count": 1,
   "metadata": {},
   "outputs": [],
   "source": [
    "import os\n",
    "import pandas as pd\n",
    "import warnings\n",
    "\n",
    "from lifelike_gds.arango_network.biocyc import *\n",
    "from lifelike_gds.arango_network.radiate_trace import RadiateTrace\n",
    "from lifelike_gds.arango_network.trace_graph_utils import *\n",
    "\n",
    "warnings.filterwarnings('ignore')"
   ]
  },
  {
   "cell_type": "markdown",
   "metadata": {},
   "source": [
    "## Settings\n",
    "Make sure to change to the correct one based on your local settings"
   ]
  },
  {
   "cell_type": "code",
   "execution_count": 2,
   "metadata": {},
   "outputs": [],
   "source": [
    "input_dir = 'input'\n",
    "output_dir = 'output'\n",
    "os.makedirs(output_dir, 0o777, True)\n",
    "# gds database name\n",
    "db_name = 'ecocyc-25'\n",
    "# gds database version, free text, that can be used to describe the graph\n",
    "db_version = 'ecocyc 25.5'"
   ]
  },
  {
   "cell_type": "markdown",
   "metadata": {},
   "source": [
    "## Parameters\n",
    "Set parameters\n",
    "- source_name: name for the source entities. \n",
    "- source_file: source file name in input dir\n"
   ]
  },
  {
   "cell_type": "code",
   "execution_count": 3,
   "metadata": {},
   "outputs": [],
   "source": [
    "# sources for personalized pagerank analysis\n",
    "source_name = 'pheno1_genes'\n",
    "source_file = 'curli_genes_pheno_1.csv'"
   ]
  },
  {
   "cell_type": "markdown",
   "metadata": {},
   "source": [
    "### Define functions to get nodes from reading input file or list of biocyc_ids"
   ]
  },
  {
   "cell_type": "code",
   "execution_count": 4,
   "metadata": {},
   "outputs": [],
   "source": [
    "\"\"\"\n",
    "read column 'biocyc_id' from file, and found the matched nodes\n",
    "\"\"\" \n",
    "def get_nodes_by_biocyc_id_from_file(csv_filename, id_column='biocyc_id'):\n",
    "    df = pd.read_csv(os.path.join(input_dir, csv_filename))\n",
    "    ids = [n for n in df[id_column]]\n",
    "    nodes = database.get_nodes_by_attr(ids, 'biocyc_id')\n",
    "    print('file_rows:', len(df), ', nodes matched:', len(nodes))\n",
    "    return nodes\n"
   ]
  },
  {
   "cell_type": "markdown",
   "metadata": {},
   "source": [
    "### Define function to run radiate analysis and export to excel file"
   ]
  },
  {
   "cell_type": "code",
   "execution_count": 5,
   "metadata": {},
   "outputs": [],
   "source": [
    "\"\"\"\n",
    "Perform radiate analysis from the given source_nodes, and export pageranks and rev_pageranks\n",
    "into excel file. The excel file contains two tabs, one for pageranks and one for reverse pageranks.\n",
    "The data are sorted by pagerank (or rev_pagerank)\n",
    "rows_export: define the top ranked rows exported into file\n",
    "\"\"\"\n",
    "def export_radiate_analysis(tracegraph, source_name, source_nodes, rows_export=4000):\n",
    "    tracegraph.graph = tracegraph.orig_graph.copy()\n",
    "    tracegraph.set_node_set_from_arango_nodes(source_nodes, source_name, source_name)\n",
    "    outfile_name = f\"Radiate_analysis_for_{source_name}.xlsx\"\n",
    "    tracegraph.export_pagerank_data(source_name, outfile_name, direction='both', num_nodes=rows_export)"
   ]
  },
  {
   "cell_type": "markdown",
   "metadata": {},
   "source": [
    "## Connect to arango database"
   ]
  },
  {
   "cell_type": "code",
   "execution_count": 6,
   "metadata": {},
   "outputs": [],
   "source": [
    "dbname = os.getenv('ARANGO_DATABASE', db_name)\n",
    "\n",
    "database = BiocycDB(dbname)"
   ]
  },
  {
   "cell_type": "markdown",
   "metadata": {},
   "source": [
    "## Load graph from arango graph database to memery"
   ]
  },
  {
   "cell_type": "code",
   "execution_count": 7,
   "metadata": {},
   "outputs": [
    {
     "name": "stderr",
     "output_type": "stream",
     "text": [
      "INFO: MultiDirectedGraph with 33428 nodes and 37886 edges\n"
     ]
    }
   ],
   "source": [
    "tracegraph = RadiateTrace(Biocyc(database))\n",
    "# set up output directory where the excel and graph files will write to\n",
    "tracegraph.datadir = output_dir\n",
    "# initiate tracegraph by loading graph data from arango\n",
    "# a networkx graph is created here.  \n",
    "tracegraph.init_default_graph()"
   ]
  },
  {
   "cell_type": "markdown",
   "metadata": {},
   "source": [
    "## Get source nodes, run radiate analysis, and export data to excel"
   ]
  },
  {
   "cell_type": "code",
   "execution_count": 8,
   "metadata": {},
   "outputs": [
    {
     "name": "stdout",
     "output_type": "stream",
     "text": [
      "file_rows: 35 , nodes matched: 35\n"
     ]
    },
    {
     "name": "stderr",
     "output_type": "stream",
     "text": [
      "INFO: set pagerank and num reach for pheno1_genes\n",
      "INFO: export top 4000 pagerank data into output/Radiate_analysis_for_pheno1_genes.xlsx\n"
     ]
    }
   ],
   "source": [
    "source_nodes = get_nodes_by_biocyc_id_from_file(source_file)\n",
    "export_radiate_analysis(tracegraph, source_name, source_nodes)"
   ]
  },
  {
   "cell_type": "markdown",
   "metadata": {
    "collapsed": false,
    "jupyter": {
     "outputs_hidden": false
    }
   },
   "source": []
  }
 ],
 "metadata": {
  "kernelspec": {
   "display_name": "Python 3 (ipykernel)",
   "language": "python",
   "name": "python3"
  },
  "language_info": {
   "codemirror_mode": {
    "name": "ipython",
    "version": 3
   },
   "file_extension": ".py",
   "mimetype": "text/x-python",
   "name": "python",
   "nbconvert_exporter": "python",
   "pygments_lexer": "ipython3",
   "version": "3.9.4"
  }
 },
 "nbformat": 4,
 "nbformat_minor": 4
}
