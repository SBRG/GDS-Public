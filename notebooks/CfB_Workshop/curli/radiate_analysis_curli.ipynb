{
 "cells": [
  {
   "cell_type": "markdown",
   "metadata": {},
   "source": [
    "# Radiate Analysis of curli phenotype-1 knockout genes"
   ]
  },
  {
   "cell_type": "code",
   "execution_count": 43,
   "metadata": {},
   "outputs": [],
   "source": [
    "import os\n",
    "import sys\n",
    "root = os.getcwd().split('/notebooks/')[0]\n",
    "sys.path.append(os.path.join(root, 'src'))\n",
    "\n",
    "from lifelike_gds.arango_network.biocyc import *\n",
    "from lifelike_gds.arango_network.radiate_trace import RadiateTrace\n",
    "from lifelike_gds.arango_network.trace_graph_utils import *\n",
    "import pandas as pd\n",
    "\n",
    "import warnings\n",
    "warnings.filterwarnings('ignore')"
   ]
  },
  {
   "cell_type": "markdown",
   "metadata": {},
   "source": [
    "## Settings\n",
    "Make sure to change to the correct one based on your local settings"
   ]
  },
  {
   "cell_type": "code",
   "execution_count": 44,
   "metadata": {},
   "outputs": [],
   "source": [
    "input_dir = 'input'\n",
    "output_dir = 'output'\n",
    "os.makedirs(output_dir, 0o777, True)\n",
    "# gds database name\n",
    "db_name = 'ecocyc'\n",
    "# gds database version, free text, that can be used to describe the graph\n",
    "db_version = 'ecocyc 25.5'"
   ]
  },
  {
   "cell_type": "markdown",
   "metadata": {},
   "source": [
    "## Parameters\n",
    "Set parameters\n",
    "- source_name: name for the source entities. \n",
    "- source_file: source file name in input dir\n"
   ]
  },
  {
   "cell_type": "code",
   "execution_count": 45,
   "metadata": {},
   "outputs": [],
   "source": [
    "# sources for personalized pagerank analysis\n",
    "source_name = 'pheno1_genes'\n",
    "source_file = 'curli_genes_pheno_1.csv'"
   ]
  },
  {
   "cell_type": "markdown",
   "metadata": {},
   "source": [
    "### Define functions to get nodes from reading input file or list of biocyc_ids"
   ]
  },
  {
   "cell_type": "code",
   "execution_count": 46,
   "metadata": {},
   "outputs": [],
   "source": [
    "\"\"\"\n",
    "read column 'biocyc_id' from file, and found the matched nodes\n",
    "\"\"\" \n",
    "def get_nodes_by_biocyc_id_from_file(csv_filename, id_column='biocyc_id'):\n",
    "    df = pd.read_csv(os.path.join(input_dir, csv_filename))\n",
    "    ids = [n for n in df[id_column]]\n",
    "    nodes = database.get_nodes_by_attr(ids, 'biocyc_id')\n",
    "    print('file_rows:', len(df), ', nodes matched:', len(nodes))\n",
    "    return nodes\n"
   ]
  },
  {
   "cell_type": "markdown",
   "metadata": {},
   "source": [
    "### Define function to run radiate analysis and export to excel file"
   ]
  },
  {
   "cell_type": "code",
   "execution_count": 47,
   "metadata": {},
   "outputs": [],
   "source": [
    "\"\"\"\n",
    "Perform radiate analysis from the given source_nodes, and export pageranks and rev_pageranks\n",
    "into excel file. The excel file contains two tabs, one for pageranks and one for reverse pageranks.\n",
    "The data are sorted by pagerank (or rev_pagerank)\n",
    "rows_export: define the top ranked rows exported into file\n",
    "\"\"\"\n",
    "def export_radiate_analysis(tracegraph, source_name, source_nodes, rows_export=4000):\n",
    "    tracegraph.graph = tracegraph.orig_graph.copy()\n",
    "    tracegraph.set_node_set_from_arango_nodes(source_nodes, source_name, source_name)\n",
    "    outfile_name = f\"Radiate_analysis_for_{source_name}.xlsx\"\n",
    "    tracegraph.export_pagerank_data(source_name, outfile_name, direction='both', num_nodes=rows_export)"
   ]
  },
  {
   "cell_type": "markdown",
   "metadata": {},
   "source": [
    "## Connect to arango database"
   ]
  },
  {
   "cell_type": "code",
   "execution_count": 48,
   "metadata": {},
   "outputs": [],
   "source": [
    "dbname = os.getenv('ARANGO_DATABASE', db_name)\n",
    "\n",
    "database = BiocycDB(dbname)"
   ]
  },
  {
   "cell_type": "markdown",
   "metadata": {},
   "source": [
    "## Load graph from arango graph database to memery"
   ]
  },
  {
   "cell_type": "code",
   "execution_count": 49,
   "metadata": {},
   "outputs": [
    {
     "name": "stderr",
     "output_type": "stream",
     "text": [
      "INFO: MultiDirectedGraph with 33428 nodes and 37886 edges\n"
     ]
    }
   ],
   "source": [
    "tracegraph = RadiateTrace(Biocyc(database))\n",
    "# set up output directory where the excel and graph files will write to\n",
    "tracegraph.datadir = output_dir\n",
    "# initiate tracegraph by loading graph data from arango\n",
    "# a networkx graph is created here.  \n",
    "tracegraph.init_default_graph()"
   ]
  },
  {
   "cell_type": "markdown",
   "metadata": {},
   "source": [
    "## Get source nodes, run radiate analysis, and export data to excel"
   ]
  },
  {
   "cell_type": "code",
   "execution_count": 50,
   "metadata": {},
   "outputs": [
    {
     "name": "stdout",
     "output_type": "stream",
     "text": [
      "file_rows: 35 , nodes matched: 35\n"
     ]
    },
    {
     "name": "stderr",
     "output_type": "stream",
     "text": [
      "INFO: set pagerank and num reach for pheno1_genes\n",
      "Traceback (most recent call last):\n",
      "  File \"/Users/dommas/Library/Application Support/JetBrains/Toolbox/apps/PyCharm-P/ch-0/223.8214.51/PyCharm.app/Contents/plugins/python/helpers/pydev/_pydevd_bundle/pydevd_xml.py\", line 264, in frame_vars_to_xml\n",
      "    type_handler.handle(k, v, hidden_ns, eval_full_val, user_type_renderers=user_type_renderers)\n",
      "  File \"/Users/dommas/Library/Application Support/JetBrains/Toolbox/apps/PyCharm-P/ch-0/223.8214.51/PyCharm.app/Contents/plugins/python/helpers/pydev/_pydevd_bundle/pydevd_frame_type_handler.py\", line 142, in handle\n",
      "    super(DummyVarHandler, self).handle(key, value, hidden_ns, evaluate_full_value, user_type_renderers)\n",
      "  File \"/Users/dommas/Library/Application Support/JetBrains/Toolbox/apps/PyCharm-P/ch-0/223.8214.51/PyCharm.app/Contents/plugins/python/helpers/pydev/_pydevd_bundle/pydevd_frame_type_handler.py\", line 26, in handle\n",
      "    self.give_to_next(key, value, hidden_ns, evaluate_full_value, user_type_renderers)\n",
      "  File \"/Users/dommas/Library/Application Support/JetBrains/Toolbox/apps/PyCharm-P/ch-0/223.8214.51/PyCharm.app/Contents/plugins/python/helpers/pydev/_pydevd_bundle/pydevd_frame_type_handler.py\", line 40, in give_to_next\n",
      "    self._next_handler.handle(key, value, hidden_ns, evaluate_full_value, user_type_renderers)\n",
      "  File \"/Users/dommas/Library/Application Support/JetBrains/Toolbox/apps/PyCharm-P/ch-0/223.8214.51/PyCharm.app/Contents/plugins/python/helpers/pydev/_pydevd_bundle/pydevd_frame_type_handler.py\", line 142, in handle\n",
      "    super(DummyVarHandler, self).handle(key, value, hidden_ns, evaluate_full_value, user_type_renderers)\n",
      "  File \"/Users/dommas/Library/Application Support/JetBrains/Toolbox/apps/PyCharm-P/ch-0/223.8214.51/PyCharm.app/Contents/plugins/python/helpers/pydev/_pydevd_bundle/pydevd_frame_type_handler.py\", line 26, in handle\n",
      "    self.give_to_next(key, value, hidden_ns, evaluate_full_value, user_type_renderers)\n",
      "  File \"/Users/dommas/Library/Application Support/JetBrains/Toolbox/apps/PyCharm-P/ch-0/223.8214.51/PyCharm.app/Contents/plugins/python/helpers/pydev/_pydevd_bundle/pydevd_frame_type_handler.py\", line 40, in give_to_next\n",
      "    self._next_handler.handle(key, value, hidden_ns, evaluate_full_value, user_type_renderers)\n",
      "  File \"/Users/dommas/Library/Application Support/JetBrains/Toolbox/apps/PyCharm-P/ch-0/223.8214.51/PyCharm.app/Contents/plugins/python/helpers/pydev/_pydevd_bundle/pydevd_frame_type_handler.py\", line 142, in handle\n",
      "    super(DummyVarHandler, self).handle(key, value, hidden_ns, evaluate_full_value, user_type_renderers)\n",
      "  File \"/Users/dommas/Library/Application Support/JetBrains/Toolbox/apps/PyCharm-P/ch-0/223.8214.51/PyCharm.app/Contents/plugins/python/helpers/pydev/_pydevd_bundle/pydevd_frame_type_handler.py\", line 26, in handle\n",
      "    self.give_to_next(key, value, hidden_ns, evaluate_full_value, user_type_renderers)\n",
      "  File \"/Users/dommas/Library/Application Support/JetBrains/Toolbox/apps/PyCharm-P/ch-0/223.8214.51/PyCharm.app/Contents/plugins/python/helpers/pydev/_pydevd_bundle/pydevd_frame_type_handler.py\", line 40, in give_to_next\n",
      "    self._next_handler.handle(key, value, hidden_ns, evaluate_full_value, user_type_renderers)\n",
      "  File \"/Users/dommas/Library/Application Support/JetBrains/Toolbox/apps/PyCharm-P/ch-0/223.8214.51/PyCharm.app/Contents/plugins/python/helpers/pydev/_pydevd_bundle/pydevd_frame_type_handler.py\", line 142, in handle\n",
      "    super(DummyVarHandler, self).handle(key, value, hidden_ns, evaluate_full_value, user_type_renderers)\n",
      "  File \"/Users/dommas/Library/Application Support/JetBrains/Toolbox/apps/PyCharm-P/ch-0/223.8214.51/PyCharm.app/Contents/plugins/python/helpers/pydev/_pydevd_bundle/pydevd_frame_type_handler.py\", line 26, in handle\n",
      "    self.give_to_next(key, value, hidden_ns, evaluate_full_value, user_type_renderers)\n",
      "  File \"/Users/dommas/Library/Application Support/JetBrains/Toolbox/apps/PyCharm-P/ch-0/223.8214.51/PyCharm.app/Contents/plugins/python/helpers/pydev/_pydevd_bundle/pydevd_frame_type_handler.py\", line 40, in give_to_next\n",
      "    self._next_handler.handle(key, value, hidden_ns, evaluate_full_value, user_type_renderers)\n",
      "  File \"/Users/dommas/Library/Application Support/JetBrains/Toolbox/apps/PyCharm-P/ch-0/223.8214.51/PyCharm.app/Contents/plugins/python/helpers/pydev/_pydevd_bundle/pydevd_frame_type_handler.py\", line 142, in handle\n",
      "    super(DummyVarHandler, self).handle(key, value, hidden_ns, evaluate_full_value, user_type_renderers)\n",
      "  File \"/Users/dommas/Library/Application Support/JetBrains/Toolbox/apps/PyCharm-P/ch-0/223.8214.51/PyCharm.app/Contents/plugins/python/helpers/pydev/_pydevd_bundle/pydevd_frame_type_handler.py\", line 26, in handle\n",
      "    self.give_to_next(key, value, hidden_ns, evaluate_full_value, user_type_renderers)\n",
      "  File \"/Users/dommas/Library/Application Support/JetBrains/Toolbox/apps/PyCharm-P/ch-0/223.8214.51/PyCharm.app/Contents/plugins/python/helpers/pydev/_pydevd_bundle/pydevd_frame_type_handler.py\", line 40, in give_to_next\n",
      "    self._next_handler.handle(key, value, hidden_ns, evaluate_full_value, user_type_renderers)\n",
      "  File \"/Users/dommas/Library/Application Support/JetBrains/Toolbox/apps/PyCharm-P/ch-0/223.8214.51/PyCharm.app/Contents/plugins/python/helpers/pydev/_pydevd_bundle/pydevd_frame_type_handler.py\", line 126, in handle\n",
      "    self.lst.append(self.fun(key, value, evaluate_full_value, user_type_renderers))\n",
      "  File \"/Users/dommas/Library/Application Support/JetBrains/Toolbox/apps/PyCharm-P/ch-0/223.8214.51/PyCharm.app/Contents/plugins/python/helpers/pydev/_pydevd_bundle/pydevd_frame_type_handler.py\", line 242, in <lambda>\n",
      "    lambda key, var, eval, type_renderers: self.func(var,\n",
      "  File \"/Users/dommas/Library/Application Support/JetBrains/Toolbox/apps/PyCharm-P/ch-0/223.8214.51/PyCharm.app/Contents/plugins/python/helpers/pydev/_pydevd_bundle/pydevd_xml.py\", line 353, in var_to_xml\n",
      "    if is_pandas_container(type_qualifier, typeName, v) and var_custom_string_repr is None:\n",
      "  File \"/Users/dommas/Library/Application Support/JetBrains/Toolbox/apps/PyCharm-P/ch-0/223.8214.51/PyCharm.app/Contents/plugins/python/helpers/pydev/_pydevd_bundle/pydevd_utils.py\", line 575, in is_pandas_container\n",
      "    return var_type in (\"DataFrame\", \"Series\") and type_qualifier.startswith(\"pandas\") and hasattr(var, \"shape\")\n",
      "  File \"/Users/dommas/.local/share/virtualenvs/GDS-LpoA9Rxt/lib/python3.9/site-packages/pandas/core/generic.py\", line 5484, in __getattr__\n",
      "    and self._info_axis._can_hold_identifiers_and_holds_name(name)\n",
      "  File \"/Users/dommas/.local/share/virtualenvs/GDS-LpoA9Rxt/lib/python3.9/site-packages/pandas/core/generic.py\", line 5484, in __getattr__\n",
      "    and self._info_axis._can_hold_identifiers_and_holds_name(name)\n",
      "  File \"/Users/dommas/.local/share/virtualenvs/GDS-LpoA9Rxt/lib/python3.9/site-packages/pandas/core/generic.py\", line 5484, in __getattr__\n",
      "    and self._info_axis._can_hold_identifiers_and_holds_name(name)\n",
      "  [Previous line repeated 2927 more times]\n",
      "  File \"/Users/dommas/.local/share/virtualenvs/GDS-LpoA9Rxt/lib/python3.9/site-packages/pandas/core/generic.py\", line 633, in _info_axis\n",
      "    return getattr(self, self._info_axis_name)\n",
      "  File \"/Users/dommas/.local/share/virtualenvs/GDS-LpoA9Rxt/lib/python3.9/site-packages/pandas/core/generic.py\", line 5487, in __getattr__\n",
      "    return object.__getattribute__(self, name)\n",
      "  File \"pandas/_libs/properties.pyx\", line 66, in pandas._libs.properties.AxisProperty.__get__\n",
      "  File \"/Users/dommas/.local/share/virtualenvs/GDS-LpoA9Rxt/lib/python3.9/site-packages/pandas/core/generic.py\", line 5487, in __getattr__\n",
      "    return object.__getattribute__(self, name)\n",
      "RecursionError: maximum recursion depth exceeded while calling a Python object\n",
      "Unexpected error, recovered safely.\n",
      "\n"
     ]
    },
    {
     "ename": "KeyboardInterrupt",
     "evalue": "",
     "output_type": "error",
     "traceback": [
      "\u001B[0;31m---------------------------------------------------------------------------\u001B[0m",
      "\u001B[0;31mKeyboardInterrupt\u001B[0m                         Traceback (most recent call last)",
      "\u001B[0;32m/var/folders/kc/_w_9wtq15fd3sc8y8dpkr71c9jbj97/T/ipykernel_87941/3006226504.py\u001B[0m in \u001B[0;36m<module>\u001B[0;34m\u001B[0m\n\u001B[1;32m      1\u001B[0m \u001B[0msource_nodes\u001B[0m \u001B[0;34m=\u001B[0m \u001B[0mget_nodes_by_biocyc_id_from_file\u001B[0m\u001B[0;34m(\u001B[0m\u001B[0msource_file\u001B[0m\u001B[0;34m)\u001B[0m\u001B[0;34m\u001B[0m\u001B[0;34m\u001B[0m\u001B[0m\n\u001B[0;32m----> 2\u001B[0;31m \u001B[0mexport_radiate_analysis\u001B[0m\u001B[0;34m(\u001B[0m\u001B[0mtracegraph\u001B[0m\u001B[0;34m,\u001B[0m \u001B[0msource_name\u001B[0m\u001B[0;34m,\u001B[0m \u001B[0msource_nodes\u001B[0m\u001B[0;34m)\u001B[0m\u001B[0;34m\u001B[0m\u001B[0;34m\u001B[0m\u001B[0m\n\u001B[0m",
      "\u001B[0;32m/var/folders/kc/_w_9wtq15fd3sc8y8dpkr71c9jbj97/T/ipykernel_87941/4104627364.py\u001B[0m in \u001B[0;36mexport_radiate_analysis\u001B[0;34m(tracegraph, source_name, source_nodes, rows_export)\u001B[0m\n\u001B[1;32m      9\u001B[0m     \u001B[0mtracegraph\u001B[0m\u001B[0;34m.\u001B[0m\u001B[0mset_node_set_from_arango_nodes\u001B[0m\u001B[0;34m(\u001B[0m\u001B[0msource_nodes\u001B[0m\u001B[0;34m,\u001B[0m \u001B[0msource_name\u001B[0m\u001B[0;34m,\u001B[0m \u001B[0msource_name\u001B[0m\u001B[0;34m)\u001B[0m\u001B[0;34m\u001B[0m\u001B[0;34m\u001B[0m\u001B[0m\n\u001B[1;32m     10\u001B[0m     \u001B[0moutfile_name\u001B[0m \u001B[0;34m=\u001B[0m \u001B[0;34mf\"Radiate_analysis_for_{source_name}.xlsx\"\u001B[0m\u001B[0;34m\u001B[0m\u001B[0;34m\u001B[0m\u001B[0m\n\u001B[0;32m---> 11\u001B[0;31m     \u001B[0mtracegraph\u001B[0m\u001B[0;34m.\u001B[0m\u001B[0mexport_pagerank_data\u001B[0m\u001B[0;34m(\u001B[0m\u001B[0msource_name\u001B[0m\u001B[0;34m,\u001B[0m \u001B[0moutfile_name\u001B[0m\u001B[0;34m,\u001B[0m \u001B[0mdirection\u001B[0m\u001B[0;34m=\u001B[0m\u001B[0;34m'both'\u001B[0m\u001B[0;34m,\u001B[0m \u001B[0mnum_nodes\u001B[0m\u001B[0;34m=\u001B[0m\u001B[0mrows_export\u001B[0m\u001B[0;34m)\u001B[0m\u001B[0;34m\u001B[0m\u001B[0;34m\u001B[0m\u001B[0m\n\u001B[0m",
      "\u001B[0;32m~/Projects/GDS/src/lifelike_gds/arango_network/radiate_trace.py\u001B[0m in \u001B[0;36mexport_pagerank_data\u001B[0;34m(self, sources, filename, sources_personalization, direction, num_nodes, exclude_sources)\u001B[0m\n\u001B[1;32m     98\u001B[0m                                                                   exclude_nodes=excludes)\n\u001B[1;32m     99\u001B[0m         \u001B[0mall_nodes\u001B[0m \u001B[0;34m=\u001B[0m \u001B[0mset\u001B[0m\u001B[0;34m(\u001B[0m\u001B[0mbest_forward_nodes\u001B[0m \u001B[0;34m+\u001B[0m \u001B[0mbest_reverse_nodes\u001B[0m\u001B[0;34m)\u001B[0m\u001B[0;34m\u001B[0m\u001B[0;34m\u001B[0m\u001B[0m\n\u001B[0;32m--> 100\u001B[0;31m         \u001B[0mdf\u001B[0m \u001B[0;34m=\u001B[0m \u001B[0mself\u001B[0m\u001B[0;34m.\u001B[0m\u001B[0mget_nodes_detail_as_dataframe\u001B[0m\u001B[0;34m(\u001B[0m\u001B[0mlist\u001B[0m\u001B[0;34m(\u001B[0m\u001B[0mall_nodes\u001B[0m\u001B[0;34m)\u001B[0m\u001B[0;34m)\u001B[0m\u001B[0;34m\u001B[0m\u001B[0;34m\u001B[0m\u001B[0m\n\u001B[0m\u001B[1;32m    101\u001B[0m         \u001B[0mdf\u001B[0m\u001B[0;34m[\u001B[0m\u001B[0;34m'select'\u001B[0m\u001B[0;34m]\u001B[0m \u001B[0;34m=\u001B[0m \u001B[0;34m''\u001B[0m\u001B[0;34m\u001B[0m\u001B[0;34m\u001B[0m\u001B[0m\n\u001B[1;32m    102\u001B[0m \u001B[0;34m\u001B[0m\u001B[0m\n",
      "\u001B[0;32m~/Projects/GDS/src/lifelike_gds/arango_network/trace_graph_nx.py\u001B[0m in \u001B[0;36mget_nodes_detail_as_dataframe\u001B[0;34m(self, node_ids)\u001B[0m\n\u001B[1;32m    181\u001B[0m         \u001B[0mdf1\u001B[0m \u001B[0;34m=\u001B[0m \u001B[0mpd\u001B[0m\u001B[0;34m.\u001B[0m\u001B[0mDataFrame\u001B[0m\u001B[0;34m(\u001B[0m\u001B[0mself\u001B[0m\u001B[0;34m.\u001B[0m\u001B[0mgraph\u001B[0m\u001B[0;34m.\u001B[0m\u001B[0mget\u001B[0m\u001B[0;34m(\u001B[0m\u001B[0mnodes\u001B[0m\u001B[0;34m=\u001B[0m\u001B[0mnode_ids\u001B[0m\u001B[0;34m)\u001B[0m\u001B[0;34m,\u001B[0m \u001B[0mindex\u001B[0m\u001B[0;34m=\u001B[0m\u001B[0mnode_ids\u001B[0m\u001B[0;34m)\u001B[0m\u001B[0;34m\u001B[0m\u001B[0;34m\u001B[0m\u001B[0m\n\u001B[1;32m    182\u001B[0m         \u001B[0mdf2\u001B[0m \u001B[0;34m=\u001B[0m \u001B[0mself\u001B[0m\u001B[0;34m.\u001B[0m\u001B[0mgraphsource\u001B[0m\u001B[0;34m.\u001B[0m\u001B[0mget_node_data_for_excel\u001B[0m\u001B[0;34m(\u001B[0m\u001B[0mnode_ids\u001B[0m\u001B[0;34m)\u001B[0m\u001B[0;34m\u001B[0m\u001B[0;34m\u001B[0m\u001B[0m\n\u001B[0;32m--> 183\u001B[0;31m         \u001B[0mdf2\u001B[0m\u001B[0;34m.\u001B[0m\u001B[0mset_index\u001B[0m\u001B[0;34m(\u001B[0m\u001B[0;34m'id'\u001B[0m\u001B[0;34m,\u001B[0m \u001B[0minplace\u001B[0m\u001B[0;34m=\u001B[0m\u001B[0;32mTrue\u001B[0m\u001B[0;34m)\u001B[0m\u001B[0;34m\u001B[0m\u001B[0;34m\u001B[0m\u001B[0m\n\u001B[0m\u001B[1;32m    184\u001B[0m         \u001B[0;32mreturn\u001B[0m \u001B[0mdf2\u001B[0m\u001B[0;34m.\u001B[0m\u001B[0mjoin\u001B[0m\u001B[0;34m(\u001B[0m\u001B[0mdf1\u001B[0m\u001B[0;34m)\u001B[0m\u001B[0;34m\u001B[0m\u001B[0;34m\u001B[0m\u001B[0m\n\u001B[1;32m    185\u001B[0m \u001B[0;34m\u001B[0m\u001B[0m\n",
      "\u001B[0;32m~/Projects/GDS/src/lifelike_gds/arango_network/trace_graph_nx.py\u001B[0m in \u001B[0;36mget_nodes_detail_as_dataframe\u001B[0;34m(self, node_ids)\u001B[0m\n\u001B[1;32m    181\u001B[0m         \u001B[0mdf1\u001B[0m \u001B[0;34m=\u001B[0m \u001B[0mpd\u001B[0m\u001B[0;34m.\u001B[0m\u001B[0mDataFrame\u001B[0m\u001B[0;34m(\u001B[0m\u001B[0mself\u001B[0m\u001B[0;34m.\u001B[0m\u001B[0mgraph\u001B[0m\u001B[0;34m.\u001B[0m\u001B[0mget\u001B[0m\u001B[0;34m(\u001B[0m\u001B[0mnodes\u001B[0m\u001B[0;34m=\u001B[0m\u001B[0mnode_ids\u001B[0m\u001B[0;34m)\u001B[0m\u001B[0;34m,\u001B[0m \u001B[0mindex\u001B[0m\u001B[0;34m=\u001B[0m\u001B[0mnode_ids\u001B[0m\u001B[0;34m)\u001B[0m\u001B[0;34m\u001B[0m\u001B[0;34m\u001B[0m\u001B[0m\n\u001B[1;32m    182\u001B[0m         \u001B[0mdf2\u001B[0m \u001B[0;34m=\u001B[0m \u001B[0mself\u001B[0m\u001B[0;34m.\u001B[0m\u001B[0mgraphsource\u001B[0m\u001B[0;34m.\u001B[0m\u001B[0mget_node_data_for_excel\u001B[0m\u001B[0;34m(\u001B[0m\u001B[0mnode_ids\u001B[0m\u001B[0;34m)\u001B[0m\u001B[0;34m\u001B[0m\u001B[0;34m\u001B[0m\u001B[0m\n\u001B[0;32m--> 183\u001B[0;31m         \u001B[0mdf2\u001B[0m\u001B[0;34m.\u001B[0m\u001B[0mset_index\u001B[0m\u001B[0;34m(\u001B[0m\u001B[0;34m'id'\u001B[0m\u001B[0;34m,\u001B[0m \u001B[0minplace\u001B[0m\u001B[0;34m=\u001B[0m\u001B[0;32mTrue\u001B[0m\u001B[0;34m)\u001B[0m\u001B[0;34m\u001B[0m\u001B[0;34m\u001B[0m\u001B[0m\n\u001B[0m\u001B[1;32m    184\u001B[0m         \u001B[0;32mreturn\u001B[0m \u001B[0mdf2\u001B[0m\u001B[0;34m.\u001B[0m\u001B[0mjoin\u001B[0m\u001B[0;34m(\u001B[0m\u001B[0mdf1\u001B[0m\u001B[0;34m)\u001B[0m\u001B[0;34m\u001B[0m\u001B[0;34m\u001B[0m\u001B[0m\n\u001B[1;32m    185\u001B[0m \u001B[0;34m\u001B[0m\u001B[0m\n",
      "\u001B[0;32m_pydevd_bundle/pydevd_cython_darwin_39_64.pyx\u001B[0m in \u001B[0;36m_pydevd_bundle.pydevd_cython_darwin_39_64.SafeCallWrapper.__call__\u001B[0;34m()\u001B[0m\n",
      "\u001B[0;32m_pydevd_bundle/pydevd_cython_darwin_39_64.pyx\u001B[0m in \u001B[0;36m_pydevd_bundle.pydevd_cython_darwin_39_64.PyDBFrame.trace_dispatch\u001B[0;34m()\u001B[0m\n",
      "\u001B[0;32m_pydevd_bundle/pydevd_cython_darwin_39_64.pyx\u001B[0m in \u001B[0;36m_pydevd_bundle.pydevd_cython_darwin_39_64.PyDBFrame.trace_dispatch\u001B[0;34m()\u001B[0m\n",
      "\u001B[0;32m_pydevd_bundle/pydevd_cython_darwin_39_64.pyx\u001B[0m in \u001B[0;36m_pydevd_bundle.pydevd_cython_darwin_39_64.PyDBFrame.trace_dispatch\u001B[0;34m()\u001B[0m\n",
      "\u001B[0;32m_pydevd_bundle/pydevd_cython_darwin_39_64.pyx\u001B[0m in \u001B[0;36m_pydevd_bundle.pydevd_cython_darwin_39_64.PyDBFrame.do_wait_suspend\u001B[0;34m()\u001B[0m\n",
      "\u001B[0;32m~/Library/Application Support/JetBrains/Toolbox/apps/PyCharm-P/ch-0/223.8214.51/PyCharm.app/Contents/plugins/python/helpers/pydev/pydevd.py\u001B[0m in \u001B[0;36mdo_wait_suspend\u001B[0;34m(self, thread, frame, event, arg, send_suspend_message, is_unhandled_exception)\u001B[0m\n\u001B[1;32m   1158\u001B[0m \u001B[0;34m\u001B[0m\u001B[0m\n\u001B[1;32m   1159\u001B[0m         \u001B[0;32mwith\u001B[0m \u001B[0mself\u001B[0m\u001B[0;34m.\u001B[0m\u001B[0m_threads_suspended_single_notification\u001B[0m\u001B[0;34m.\u001B[0m\u001B[0mnotify_thread_suspended\u001B[0m\u001B[0;34m(\u001B[0m\u001B[0mthread_id\u001B[0m\u001B[0;34m,\u001B[0m \u001B[0mstop_reason\u001B[0m\u001B[0;34m)\u001B[0m\u001B[0;34m:\u001B[0m\u001B[0;34m\u001B[0m\u001B[0;34m\u001B[0m\u001B[0m\n\u001B[0;32m-> 1160\u001B[0;31m             \u001B[0mself\u001B[0m\u001B[0;34m.\u001B[0m\u001B[0m_do_wait_suspend\u001B[0m\u001B[0;34m(\u001B[0m\u001B[0mthread\u001B[0m\u001B[0;34m,\u001B[0m \u001B[0mframe\u001B[0m\u001B[0;34m,\u001B[0m \u001B[0mevent\u001B[0m\u001B[0;34m,\u001B[0m \u001B[0marg\u001B[0m\u001B[0;34m,\u001B[0m \u001B[0msuspend_type\u001B[0m\u001B[0;34m,\u001B[0m \u001B[0mfrom_this_thread\u001B[0m\u001B[0;34m)\u001B[0m\u001B[0;34m\u001B[0m\u001B[0;34m\u001B[0m\u001B[0m\n\u001B[0m\u001B[1;32m   1161\u001B[0m \u001B[0;34m\u001B[0m\u001B[0m\n\u001B[1;32m   1162\u001B[0m     \u001B[0;32mdef\u001B[0m \u001B[0m_do_wait_suspend\u001B[0m\u001B[0;34m(\u001B[0m\u001B[0mself\u001B[0m\u001B[0;34m,\u001B[0m \u001B[0mthread\u001B[0m\u001B[0;34m,\u001B[0m \u001B[0mframe\u001B[0m\u001B[0;34m,\u001B[0m \u001B[0mevent\u001B[0m\u001B[0;34m,\u001B[0m \u001B[0marg\u001B[0m\u001B[0;34m,\u001B[0m \u001B[0msuspend_type\u001B[0m\u001B[0;34m,\u001B[0m \u001B[0mfrom_this_thread\u001B[0m\u001B[0;34m)\u001B[0m\u001B[0;34m:\u001B[0m\u001B[0;34m\u001B[0m\u001B[0;34m\u001B[0m\u001B[0m\n",
      "\u001B[0;32m~/Library/Application Support/JetBrains/Toolbox/apps/PyCharm-P/ch-0/223.8214.51/PyCharm.app/Contents/plugins/python/helpers/pydev/pydevd.py\u001B[0m in \u001B[0;36m_do_wait_suspend\u001B[0;34m(self, thread, frame, event, arg, suspend_type, from_this_thread)\u001B[0m\n\u001B[1;32m   1173\u001B[0m \u001B[0;34m\u001B[0m\u001B[0m\n\u001B[1;32m   1174\u001B[0m                 \u001B[0mself\u001B[0m\u001B[0;34m.\u001B[0m\u001B[0mprocess_internal_commands\u001B[0m\u001B[0;34m(\u001B[0m\u001B[0;34m)\u001B[0m\u001B[0;34m\u001B[0m\u001B[0;34m\u001B[0m\u001B[0m\n\u001B[0;32m-> 1175\u001B[0;31m                 \u001B[0mtime\u001B[0m\u001B[0;34m.\u001B[0m\u001B[0msleep\u001B[0m\u001B[0;34m(\u001B[0m\u001B[0;36m0.01\u001B[0m\u001B[0;34m)\u001B[0m\u001B[0;34m\u001B[0m\u001B[0;34m\u001B[0m\u001B[0m\n\u001B[0m\u001B[1;32m   1176\u001B[0m \u001B[0;34m\u001B[0m\u001B[0m\n\u001B[1;32m   1177\u001B[0m         \u001B[0mself\u001B[0m\u001B[0;34m.\u001B[0m\u001B[0mcancel_async_evaluation\u001B[0m\u001B[0;34m(\u001B[0m\u001B[0mget_current_thread_id\u001B[0m\u001B[0;34m(\u001B[0m\u001B[0mthread\u001B[0m\u001B[0;34m)\u001B[0m\u001B[0;34m,\u001B[0m \u001B[0mstr\u001B[0m\u001B[0;34m(\u001B[0m\u001B[0mid\u001B[0m\u001B[0;34m(\u001B[0m\u001B[0mframe\u001B[0m\u001B[0;34m)\u001B[0m\u001B[0;34m)\u001B[0m\u001B[0;34m)\u001B[0m\u001B[0;34m\u001B[0m\u001B[0;34m\u001B[0m\u001B[0m\n",
      "\u001B[0;31mKeyboardInterrupt\u001B[0m: "
     ]
    }
   ],
   "source": [
    "source_nodes = get_nodes_by_biocyc_id_from_file(source_file)\n",
    "export_radiate_analysis(tracegraph, source_name, source_nodes)"
   ]
  },
  {
   "cell_type": "markdown",
   "source": [],
   "metadata": {
    "collapsed": false
   }
  }
 ],
 "metadata": {
  "kernelspec": {
   "display_name": "Python 3",
   "language": "python",
   "name": "python3"
  },
  "language_info": {
   "codemirror_mode": {
    "name": "ipython",
    "version": 3
   },
   "file_extension": ".py",
   "mimetype": "text/x-python",
   "name": "python",
   "nbconvert_exporter": "python",
   "pygments_lexer": "ipython3",
   "version": "3.8.5"
  }
 },
 "nbformat": 4,
 "nbformat_minor": 4
}
