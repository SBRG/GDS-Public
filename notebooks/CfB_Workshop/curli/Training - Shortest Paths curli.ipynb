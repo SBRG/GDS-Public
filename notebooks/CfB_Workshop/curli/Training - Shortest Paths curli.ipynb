{
 "cells": [
  {
   "cell_type": "markdown",
   "metadata": {},
   "source": [
    "# All Shortest Paths for curli use case"
   ]
  },
  {
   "cell_type": "markdown",
   "metadata": {},
   "source": [
    "#### Library:  NetworkX\n",
    "NetworkX is a python package for the creation, manipulation and study of the structure,\n",
    "and functions of complex networks.  \n",
    "\n",
    "#### Unweighted shortest paths\n",
    "This demo will get all shortest paths for all pairs of nodes from group S nodes (sources) to group T nodes (targets). \n",
    "\n",
    "Given source S and target T in the example below, the shortest paths have 3 hops (2 nodes in between), including S->1->2->T and S->1->3->T.   \n",
    "<img align='left' src=\"img/shortest_paths.png\" width='500'> "
   ]
  },
  {
   "cell_type": "markdown",
   "metadata": {},
   "source": [
    "### Steps creating shortest paths traces\n",
    "1. Connect to arango database\n",
    "2. Get input nodes (sources and targets)\n",
    "3. Load the whole network graph from arango to memory and create a networkx graph\n",
    "4. Add all shortest paths for each pair of nodes from sources to targets, and generate sankey graph file\n",
    "5. Users can also add shortest paths to the graph and generate cytoscape json file (optional)"
   ]
  },
  {
   "cell_type": "code",
   "execution_count": 1,
   "metadata": {},
   "outputs": [],
   "source": [
    "# install lifelike_gds package if not already installed (e.g. running in Google Colab)\n",
    "import importlib\n",
    "\n",
    "if importlib.util.find_spec('lifelike_gds') is None:\n",
    "  !pip install git+https://github.com/SBRG/GDS-Public\n",
    "\n",
    "# provide the path to the notebook folder in the github repository in case the notebook is run in Google Colab\n",
    "github_path = 'SBRG/GDS-Public/main/notebooks/CfB_Workshop/curli'"
   ]
  },
  {
   "cell_type": "code",
   "execution_count": 2,
   "metadata": {},
   "outputs": [],
   "source": [
    "import os\n",
    "import pandas as pd\n",
    "import networkx as nx\n",
    "import warnings\n",
    "from pathlib import PurePosixPath"
   ]
  },
  {
   "cell_type": "code",
   "execution_count": 3,
   "metadata": {},
   "outputs": [
    {
     "name": "stderr",
     "output_type": "stream",
     "text": [
      "/Users/dommas/.local/share/virtualenvs/GDS-Public-uKBS7cUg/lib/python3.9/site-packages/scipy/__init__.py:146: UserWarning: A NumPy version >=1.17.3 and <1.25.0 is required for this version of SciPy (detected version 1.26.4\n",
      "  warnings.warn(f\"A NumPy version >={np_minversion} and <{np_maxversion}\"\n"
     ]
    }
   ],
   "source": [
    "from lifelike_gds.arango_network.biocyc import *\n",
    "from lifelike_gds.arango_network.shortest_paths_trace import ShortestPathTrace"
   ]
  },
  {
   "cell_type": "code",
   "execution_count": 4,
   "metadata": {},
   "outputs": [],
   "source": [
    "warnings.filterwarnings('ignore')"
   ]
  },
  {
   "cell_type": "code",
   "execution_count": 5,
   "metadata": {},
   "outputs": [],
   "source": [
    "input_dir = PurePosixPath('input')\n",
    "output_dir = PurePosixPath('output')\n",
    "os.makedirs(output_dir, 0o777, True)\n",
    "# gds database name\n",
    "db_name = 'ecocyc-25'\n",
    "# gds database version, free text, that can be used to describe the graph\n",
    "db_version = 'ecocyc 25.5'"
   ]
  },
  {
   "cell_type": "markdown",
   "metadata": {},
   "source": [
    "### 1. Connect to arango database\n",
    "If use BioCyc databases (e.g. EcoCyc, HumanCyc), use Class BioCycDB.  \n",
    "If use Reactome database, use Class ReactomeDB. "
   ]
  },
  {
   "cell_type": "code",
   "execution_count": 6,
   "metadata": {},
   "outputs": [],
   "source": [
    "# set database uri, username and password. \n",
    "# dbname is the arango database name for the running arango instance. The default database name is 'arango'\n",
    "dbname = os.getenv('ARANGO_DATABASE', db_name)\n",
    "\n",
    "database = BiocycDB(dbname)"
   ]
  },
  {
   "cell_type": "markdown",
   "metadata": {},
   "source": [
    "### Set data dir for the input and output data\n",
    "The datadir can be set to whatever in your file system\n"
   ]
  },
  {
   "cell_type": "markdown",
   "metadata": {},
   "source": [
    "### 2. Read input files and get source and target nodes from arango"
   ]
  },
  {
   "cell_type": "code",
   "execution_count": 7,
   "metadata": {},
   "outputs": [],
   "source": [
    "pheno1_file_path = input_dir / 'curli_genes_pheno_1.csv'\n",
    "if os.path.isfile(pheno1_file_path):\n",
    "  pheno1_file_ref = pheno1_file_path\n",
    "else:\n",
    "  # if does not exist localy, pull from github\n",
    "  pheno1_file_ref = f'https://raw.githubusercontent.com/{github_path}/{pheno1_file_path}'"
   ]
  },
  {
   "cell_type": "code",
   "execution_count": 8,
   "metadata": {},
   "outputs": [
    {
     "data": {
      "text/html": [
       "<div>\n",
       "<style scoped>\n",
       "    .dataframe tbody tr th:only-of-type {\n",
       "        vertical-align: middle;\n",
       "    }\n",
       "\n",
       "    .dataframe tbody tr th {\n",
       "        vertical-align: top;\n",
       "    }\n",
       "\n",
       "    .dataframe thead th {\n",
       "        text-align: right;\n",
       "    }\n",
       "</style>\n",
       "<table border=\"1\" class=\"dataframe\">\n",
       "  <thead>\n",
       "    <tr style=\"text-align: right;\">\n",
       "      <th></th>\n",
       "      <th>name</th>\n",
       "      <th>biocyc_id</th>\n",
       "    </tr>\n",
       "  </thead>\n",
       "  <tbody>\n",
       "    <tr>\n",
       "      <th>0</th>\n",
       "      <td>purA</td>\n",
       "      <td>EG10790</td>\n",
       "    </tr>\n",
       "    <tr>\n",
       "      <th>1</th>\n",
       "      <td>guaB</td>\n",
       "      <td>EG10421</td>\n",
       "    </tr>\n",
       "    <tr>\n",
       "      <th>2</th>\n",
       "      <td>purD</td>\n",
       "      <td>EG10792</td>\n",
       "    </tr>\n",
       "    <tr>\n",
       "      <th>3</th>\n",
       "      <td>purH</td>\n",
       "      <td>EG10795</td>\n",
       "    </tr>\n",
       "    <tr>\n",
       "      <th>4</th>\n",
       "      <td>purC</td>\n",
       "      <td>EG10791</td>\n",
       "    </tr>\n",
       "  </tbody>\n",
       "</table>\n",
       "</div>"
      ],
      "text/plain": [
       "   name biocyc_id\n",
       "0  purA   EG10790\n",
       "1  guaB   EG10421\n",
       "2  purD   EG10792\n",
       "3  purH   EG10795\n",
       "4  purC   EG10791"
      ]
     },
     "execution_count": 8,
     "metadata": {},
     "output_type": "execute_result"
    }
   ],
   "source": [
    "# Curli phenotype 1 knockout genes\n",
    "df1 = pd.read_csv(pheno1_file_ref)\n",
    "df1.head()"
   ]
  },
  {
   "cell_type": "code",
   "execution_count": 9,
   "metadata": {},
   "outputs": [
    {
     "name": "stdout",
     "output_type": "stream",
     "text": [
      "Phenotype 1 genes: 35, nodes: 35\n"
     ]
    }
   ],
   "source": [
    "pheno1_genes = [n for n in df1['biocyc_id']]\n",
    "pheno1_nodes = database.get_nodes_by_attr(pheno1_genes, 'biocyc_id')\n",
    "print(f\"Phenotype 1 genes: {len(pheno1_genes)}, nodes: {len(pheno1_nodes)}\")"
   ]
  },
  {
   "cell_type": "code",
   "execution_count": 10,
   "metadata": {},
   "outputs": [],
   "source": [
    "csg_file_path = input_dir / 'csg_genes.csv'\n",
    "if os.path.isfile(csg_file_path):\n",
    "  csg_file_ref = csg_file_path\n",
    "else:\n",
    "  # if does not exist localy, pull from github\n",
    "  csg_file_ref = f'https://raw.githubusercontent.com/{github_path}/{csg_file_path}'"
   ]
  },
  {
   "cell_type": "code",
   "execution_count": 11,
   "metadata": {},
   "outputs": [
    {
     "name": "stdout",
     "output_type": "stream",
     "text": [
      "curli genes: 7, nodes: 7\n"
     ]
    }
   ],
   "source": [
    "# Curli genes (CSG genes)\n",
    "df2 = pd.read_csv(csg_file_ref)\n",
    "curli_genes = [n for n in df2['biocyc_id']]\n",
    "curli_nodes = database.get_nodes_by_attr(curli_genes, 'biocyc_id')\n",
    "print(f\"curli genes: {len(curli_genes)}, nodes: {len(curli_nodes)}\")"
   ]
  },
  {
   "cell_type": "markdown",
   "metadata": {},
   "source": [
    "### 3. Create a trace graph object, and create networkx graph from arango data"
   ]
  },
  {
   "cell_type": "code",
   "execution_count": 12,
   "metadata": {},
   "outputs": [
    {
     "name": "stderr",
     "output_type": "stream",
     "text": [
      "INFO: MultiDirectedGraph with 33428 nodes and 37886 edges\n"
     ]
    }
   ],
   "source": [
    "tracegraph = ShortestPathTrace(Biocyc(database))\n",
    "# set up output directory where the excel and graph files will write to\n",
    "tracegraph.datadir = output_dir\n",
    "# initiate tracegraph by loading graph data from arango\n",
    "# a networkx graph is created here.  \n",
    "tracegraph.init_default_graph()"
   ]
  },
  {
   "cell_type": "markdown",
   "metadata": {},
   "source": [
    "### 4. Add shortest paths traces, and generate sankey graph file"
   ]
  },
  {
   "cell_type": "markdown",
   "metadata": {},
   "source": [
    "#### Generate shortest paths from metals to metabolites\n",
    "- Make a copy of the clean graph to work on\n",
    "- set nodes set\n",
    "- add shortest paths from phenotype 1 knockout genes to curli genes\n",
    "- generate sankey graph file. Make sure that the file name ends with .graph so that Lifelike can display properly."
   ]
  },
  {
   "cell_type": "code",
   "execution_count": 13,
   "metadata": {},
   "outputs": [
    {
     "name": "stderr",
     "output_type": "stream",
     "text": [
      "ERROR: Target 1606 cannot be reachedfrom given sources\n",
      "ERROR: Target 1611 cannot be reachedfrom given sources\n",
      "ERROR: Target 10734 cannot be reachedfrom given sources\n",
      "ERROR: Target 1616 cannot be reachedfrom given sources\n",
      "ERROR: Target 10480 cannot be reachedfrom given sources\n",
      "ERROR: Target 16050 cannot be reachedfrom given sources\n",
      "ERROR: Target 1528 cannot be reachedfrom given sources\n",
      "ERROR: Target 1606 cannot be reachedfrom given sources\n",
      "ERROR: Target 1611 cannot be reachedfrom given sources\n",
      "ERROR: Target 10734 cannot be reachedfrom given sources\n",
      "ERROR: Target 1616 cannot be reachedfrom given sources\n",
      "ERROR: Target 10480 cannot be reachedfrom given sources\n",
      "ERROR: Target 16050 cannot be reachedfrom given sources\n",
      "ERROR: Target 1528 cannot be reachedfrom given sources\n",
      "ERROR: Target 1606 cannot be reachedfrom given sources\n",
      "ERROR: Target 1611 cannot be reachedfrom given sources\n",
      "ERROR: Target 10734 cannot be reachedfrom given sources\n",
      "ERROR: Target 1616 cannot be reachedfrom given sources\n",
      "ERROR: Target 10480 cannot be reachedfrom given sources\n",
      "ERROR: Target 16050 cannot be reachedfrom given sources\n",
      "ERROR: Target 1528 cannot be reachedfrom given sources\n",
      "ERROR: Target 1606 cannot be reachedfrom given sources\n",
      "ERROR: Target 1611 cannot be reachedfrom given sources\n",
      "ERROR: Target 10734 cannot be reachedfrom given sources\n",
      "ERROR: Target 1616 cannot be reachedfrom given sources\n",
      "ERROR: Target 10480 cannot be reachedfrom given sources\n",
      "ERROR: Target 16050 cannot be reachedfrom given sources\n",
      "ERROR: Target 1528 cannot be reachedfrom given sources\n",
      "ERROR: Target 1606 cannot be reachedfrom given sources\n",
      "ERROR: Target 1611 cannot be reachedfrom given sources\n",
      "ERROR: Target 10734 cannot be reachedfrom given sources\n",
      "ERROR: Target 1616 cannot be reachedfrom given sources\n",
      "ERROR: Target 10480 cannot be reachedfrom given sources\n",
      "ERROR: Target 16050 cannot be reachedfrom given sources\n",
      "ERROR: Target 1528 cannot be reachedfrom given sources\n",
      "ERROR: Target 1606 cannot be reachedfrom given sources\n",
      "ERROR: Target 1611 cannot be reachedfrom given sources\n",
      "ERROR: Target 10734 cannot be reachedfrom given sources\n",
      "ERROR: Target 1616 cannot be reachedfrom given sources\n",
      "ERROR: Target 10480 cannot be reachedfrom given sources\n",
      "ERROR: Target 16050 cannot be reachedfrom given sources\n",
      "ERROR: Target 1528 cannot be reachedfrom given sources\n",
      "ERROR: Target 1606 cannot be reachedfrom given sources\n",
      "ERROR: Target 1611 cannot be reachedfrom given sources\n",
      "ERROR: Target 10734 cannot be reachedfrom given sources\n",
      "ERROR: Target 1616 cannot be reachedfrom given sources\n",
      "ERROR: Target 10480 cannot be reachedfrom given sources\n",
      "ERROR: Target 16050 cannot be reachedfrom given sources\n",
      "ERROR: Target 1528 cannot be reachedfrom given sources\n",
      "ERROR: Target 1606 cannot be reachedfrom given sources\n",
      "ERROR: Target 1611 cannot be reachedfrom given sources\n",
      "ERROR: Target 10734 cannot be reachedfrom given sources\n",
      "ERROR: Target 1616 cannot be reachedfrom given sources\n",
      "ERROR: Target 10480 cannot be reachedfrom given sources\n",
      "ERROR: Target 16050 cannot be reachedfrom given sources\n",
      "ERROR: Target 1528 cannot be reachedfrom given sources\n",
      "INFO: add Shortest paths from pheonotype1_genes to curli_genes: 2466 paths\n",
      "INFO: clean graph: number of graph nodes decreased from 33428 to 319\n",
      "INFO: writing output/Shortest_Paths_from_phenotype1_genes_to_curli_genes\n"
     ]
    }
   ],
   "source": [
    "# create a copy of the graph so that the original graph is clean (without traces)\n",
    "tracegraph.graph = tracegraph.orig_graph.copy()\n",
    "\n",
    "# add graph description\n",
    "tracegraph.add_graph_description(f'database: {db_version}\\n')\n",
    "\n",
    "# Set source and target node sets\n",
    "SOURCE_SET = 'pheonotype1_genes'\n",
    "TARGET_SET = 'curli_genes'\n",
    "tracegraph.set_node_set_from_arango_nodes(pheno1_nodes, SOURCE_SET, SOURCE_SET)\n",
    "tracegraph.set_node_set_from_arango_nodes(curli_nodes, TARGET_SET, TARGET_SET)\n",
    "\n",
    "# add shortest paths from phenotype 1 genes to curli genes\n",
    "tracegraph.add_shortest_paths(SOURCE_SET, TARGET_SET)\n",
    "\n",
    "# Export sankey file\n",
    "graphfile = \"Shortest_Paths_from_phenotype1_genes_to_curli_genes.graph\"\n",
    "tracegraph.write_to_sankey_file(graphfile)"
   ]
  },
  {
   "cell_type": "markdown",
   "metadata": {},
   "source": [
    "#### Create Cytoscape json file (optional)\n",
    "We can also export the traces in cytoscape json format so that users who use cytoscape could import into Cytoscape and analyze/view the graph. However, the json file does not have any style and layout format, and it would be up to the users to set up the layout and styles using cytoscape app.\n",
    "\n",
    "Make sure that there is only __ONE trace__ in the trace graph. Otherwise, the traces will be mixed together. "
   ]
  },
  {
   "cell_type": "code",
   "execution_count": 14,
   "metadata": {},
   "outputs": [
    {
     "name": "stderr",
     "output_type": "stream",
     "text": [
      "INFO: clean graph: number of graph nodes decreased from 319 to 319\n",
      "INFO: All traces already have their group defined.\n",
      "INFO: writing output/Shortest_paths_from_pheno1_genes_to_curli_genes\n"
     ]
    }
   ],
   "source": [
    "# set a node property flag to mark as node as start or end so that the user could use the property to mark start and ending nodes\n",
    "tracegraph.set_nodes_flag(SOURCE_SET, 'start')\n",
    "tracegraph.set_nodes_flag(TARGET_SET, 'end')\n",
    "# write network to json file\n",
    "tracegraph.write_cytoscape_json('Shortest_paths_from_pheno1_genes_to_curli_genes.json')\n"
   ]
  },
  {
   "cell_type": "markdown",
   "metadata": {
    "collapsed": false,
    "jupyter": {
     "outputs_hidden": false
    }
   },
   "source": []
  }
 ],
 "metadata": {
  "kernelspec": {
   "display_name": "Python 3 (ipykernel)",
   "language": "python",
   "name": "python3"
  },
  "language_info": {
   "codemirror_mode": {
    "name": "ipython",
    "version": 3
   },
   "file_extension": ".py",
   "mimetype": "text/x-python",
   "name": "python",
   "nbconvert_exporter": "python",
   "pygments_lexer": "ipython3",
   "version": "3.9.4"
  }
 },
 "nbformat": 4,
 "nbformat_minor": 4
}
