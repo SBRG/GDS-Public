{
 "cells": [
  {
   "cell_type": "markdown",
   "metadata": {},
   "source": [
    "# All Shortest Paths for curli use case"
   ]
  },
  {
   "cell_type": "markdown",
   "metadata": {},
   "source": [
    "#### Library:  NetworkX\n",
    "NetworkX is a python package for the creation, manipulation and study of the structure,\n",
    "and functions of complex networks.  \n",
    "\n",
    "#### Unweighted shortest paths\n",
    "This demo will get all shortest paths for all pairs of nodes from group S nodes (sources) to group T nodes (targets). \n",
    "\n",
    "Given source S and target T in the example below, the shortest paths have 3 hops (2 nodes in between), including S->1->2->T and S->1->3->T.   \n",
    "<img align='left' src=\"img/shortest_paths.png\" width='500'> "
   ]
  },
  {
   "cell_type": "code",
   "execution_count": 31,
   "metadata": {},
   "outputs": [],
   "source": [
    "import os\n",
    "import sys\n",
    "root = os.getcwd().split('/notebooks/')[0]\n",
    "sys.path.append(os.path.join(root, 'src'))\n",
    "\n",
    "from lifelike_gds.arango_network.biocyc import *\n",
    "from lifelike_gds.arango_network.shortest_paths_trace import ShortestPathTrace\n",
    "import pandas as pd\n",
    "\n",
    "import warnings\n",
    "warnings.filterwarnings('ignore')"
   ]
  },
  {
   "cell_type": "markdown",
   "metadata": {},
   "source": [
    "## Settings\n",
    "Make sure to change to the correct one based on your local settings"
   ]
  },
  {
   "cell_type": "code",
   "execution_count": 32,
   "metadata": {},
   "outputs": [],
   "source": [
    "input_dir = 'input'\n",
    "output_dir = 'output'\n",
    "os.makedirs(output_dir, 0o777, True)\n",
    "# gds database name\n",
    "db_name = 'ecocyc'\n",
    "# gds database version, free text, that can be used to describe the graph\n",
    "db_version = 'ecocyc 25.5'"
   ]
  },
  {
   "cell_type": "markdown",
   "metadata": {},
   "source": [
    "## Parameters\n",
    "Set parameters\n",
    "- source_name: name for the source entities. \n",
    "- target_name: name for the target entities. \n",
    "- source_file: source file name in input dir\n",
    "- target_file: target file name in input dir\n"
   ]
  },
  {
   "cell_type": "code",
   "execution_count": 33,
   "metadata": {},
   "outputs": [],
   "source": [
    "# shortest paths sources are pheno type1 knock-out genes\n",
    "source_name = 'pheno1_genes'\n",
    "source_file = 'curli_genes_pheno_1.csv'\n",
    "\n",
    "# shortest paths taragets are curli genes\n",
    "target_name = 'curli_genes'\n",
    "target_file = 'csg_genes.csv'"
   ]
  },
  {
   "cell_type": "markdown",
   "metadata": {},
   "source": [
    "## Define functions to get nodes from reading input file or list of biocyc_ids"
   ]
  },
  {
   "cell_type": "code",
   "execution_count": 34,
   "metadata": {},
   "outputs": [],
   "source": [
    "\"\"\"\n",
    "read column 'biocyc_id' from file, and found the matched nodes\n",
    "\"\"\" \n",
    "def get_nodes_by_biocyc_id_from_file(csv_filename, id_column='biocyc_id'):\n",
    "    df = pd.read_csv(os.path.join(input_dir, csv_filename))\n",
    "    ids = [n for n in df[id_column]]\n",
    "    nodes = database.get_nodes_by_attr(ids, 'biocyc_id')\n",
    "    print('file_rows:', len(df), ', nodes matched:', len(nodes))\n",
    "    return nodes\n"
   ]
  },
  {
   "cell_type": "markdown",
   "metadata": {},
   "source": [
    "## Define functions to export shortest paths traces to graph file "
   ]
  },
  {
   "cell_type": "code",
   "execution_count": 35,
   "metadata": {},
   "outputs": [],
   "source": [
    "\"\"\"\n",
    "Simplest way to generate shortest paths. \n",
    "Return all paths from all source nodes to all target_nodes in one trace graph\n",
    "\"\"\"\n",
    "def write_shortest_paths(tracegraph, source_name, source_nodes, target_name, target_nodes):\n",
    "    tracegraph.graph = tracegraph.orig_graph.copy()\n",
    "    tracegraph.set_node_set_from_arango_nodes(source_nodes, source_name, source_name)\n",
    "    tracegraph.set_node_set_from_arango_nodes(target_nodes, target_name, target_name)\n",
    "    tracegraph.add_graph_description(f'database: {db_version}\\n')\n",
    "    tracegraph.add_shortest_paths(source_name, target_name)\n",
    "    graphfile = f\"Shortest_paths_from_{source_name}_to_{target_name}.graph\"\n",
    "    tracegraph.write_to_sankey_file(graphfile)\n"
   ]
  },
  {
   "cell_type": "markdown",
   "metadata": {},
   "source": [
    "## Connect to arango database"
   ]
  },
  {
   "cell_type": "code",
   "execution_count": 36,
   "metadata": {},
   "outputs": [],
   "source": [
    "dbname = os.getenv('ARANGO_DATABASE', db_name)\n",
    "\n",
    "database = BiocycDB(dbname)"
   ]
  },
  {
   "cell_type": "markdown",
   "metadata": {},
   "source": [
    "## Load graph from arango graph database to memery"
   ]
  },
  {
   "cell_type": "code",
   "execution_count": 37,
   "metadata": {},
   "outputs": [
    {
     "name": "stderr",
     "output_type": "stream",
     "text": [
      "INFO:root:MultiDirectedGraph with 33428 nodes and 37886 edges\n"
     ]
    }
   ],
   "source": [
    "tracegraph = ShortestPathTrace(Biocyc(database))\n",
    "# set up output directory where the excel and graph files will write to\n",
    "tracegraph.datadir = output_dir\n",
    "# initiate tracegraph by loading graph data from arango\n",
    "# a networkx graph is created here.  \n",
    "tracegraph.init_default_graph()"
   ]
  },
  {
   "cell_type": "markdown",
   "metadata": {},
   "source": [
    "## Get source and target nodes"
   ]
  },
  {
   "cell_type": "code",
   "execution_count": 38,
   "metadata": {},
   "outputs": [
    {
     "name": "stdout",
     "output_type": "stream",
     "text": [
      "file_rows: 35 , nodes matched: 35\n",
      "file_rows: 7 , nodes matched: 7\n"
     ]
    }
   ],
   "source": [
    "source_nodes = get_nodes_by_biocyc_id_from_file(source_file)\n",
    "target_nodes = get_nodes_by_biocyc_id_from_file(target_file)"
   ]
  },
  {
   "cell_type": "markdown",
   "metadata": {},
   "source": [
    "## Create (sankey) graph file for shortest paths"
   ]
  },
  {
   "cell_type": "code",
   "execution_count": 39,
   "metadata": {},
   "outputs": [
    {
     "name": "stderr",
     "output_type": "stream",
     "text": [
      "INFO:root:add Shortest paths from pheno1_genes to curli_genes: 230 paths\n",
      "INFO:root:clean graph: number of graph nodes decreased from 33428 to 210\n",
      "INFO:root:writing output/Shortest_paths_from_pheno1_genes_to_curli_genes\n"
     ]
    }
   ],
   "source": [
    "write_shortest_paths(tracegraph, source_name, source_nodes, target_name, target_nodes)"
   ]
  },
  {
   "cell_type": "markdown",
   "source": [],
   "metadata": {
    "collapsed": false
   }
  }
 ],
 "metadata": {
  "kernelspec": {
   "display_name": "Python 3",
   "language": "python",
   "name": "python3"
  },
  "language_info": {
   "codemirror_mode": {
    "name": "ipython",
    "version": 3
   },
   "file_extension": ".py",
   "mimetype": "text/x-python",
   "name": "python",
   "nbconvert_exporter": "python",
   "pygments_lexer": "ipython3",
   "version": "3.8.5"
  }
 },
 "nbformat": 4,
 "nbformat_minor": 4
}
