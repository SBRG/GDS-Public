{
 "cells": [
  {
   "cell_type": "markdown",
   "metadata": {},
   "source": [
    "# Intersection Analysis"
   ]
  },
  {
   "cell_type": "markdown",
   "metadata": {},
   "source": [
    "#### Definition:\n",
    "Given a list of source nodes and a list of target nodes, find the potential most important nodes from sources to targets. \n",
    "\n",
    "#### Approaches:\n",
    "1. Run personalized pagerank using source nodes. The pagerank value is considered to be the probability that the node is influenced by the source nodes. \n",
    "2. Run personalized reverse pagerank using target nodes. The reverse pagerank value is considered to be the probability that the node influences the target nodes.\n",
    "3. Use a probability formula to get a intersection pagerank that represents the possibility that the node being influenced by the source nodes and also influences the target nodes.\n",
    "\n",
    "<img src=\"img/intersection.png\" width=\"400\" height=\"200\" />\n"
   ]
  },
  {
   "cell_type": "markdown",
   "metadata": {},
   "source": [
    "### Steps to run Intersection Analysis\n",
    "1. Connect to arango database\n",
    "2. Find input nodes (source nodes and target nodes) in arango database\n",
    "3. Load the whole network graph from arango to memory and create a networkx graph. NetworkX is a python network library.\n",
    "4. Perform intersection analysis\n",
    "    - Run personalized pagerank algorithm using source nodes to get pagerank values for each nodes \n",
    "that the source nodes can reach (forward direction). Those are the nodes influenced by the source nodes\n",
    "    - Run personalized reverse pagerank using target nodes to get the reverce pagerank values for each \n",
    "nodes that can reach the target nodes\n",
    "    - Calculate the intersection pageranks based on source pageranks and target reverse pageranks\n",
    "    - Export the pagerank values into __excel file__\n",
    "5. The user analyzes the pagerank values (sorting, filtering etc), and select the rows that are interesting\n",
    "6. Create intersection traces for selected nodes"
   ]
  },
  {
   "cell_type": "code",
   "execution_count": 1,
   "metadata": {},
   "outputs": [],
   "source": [
    "# install lifelike_gds package if not already installed (e.g. running in Google Colab)\n",
    "import importlib\n",
    "\n",
    "if importlib.util.find_spec('lifelike_gds') is None:\n",
    "  !pip install git+https://github.com/SBRG/GDS-Public\n",
    "\n",
    "# provide the path to the notebook folder in the github repository in case the notebook is run in Google Colab\n",
    "github_path = 'SBRG/GDS-Public/main/notebooks/CfB_Workshop/curli'"
   ]
  },
  {
   "cell_type": "code",
   "execution_count": 2,
   "metadata": {},
   "outputs": [],
   "source": [
    "import os\n",
    "import pandas as pd\n",
    "import warnings\n",
    "from pathlib import PurePosixPath"
   ]
  },
  {
   "cell_type": "code",
   "execution_count": 3,
   "metadata": {},
   "outputs": [
    {
     "name": "stderr",
     "output_type": "stream",
     "text": [
      "/Users/dommas/.local/share/virtualenvs/GDS-Public-uKBS7cUg/lib/python3.9/site-packages/scipy/__init__.py:146: UserWarning: A NumPy version >=1.17.3 and <1.25.0 is required for this version of SciPy (detected version 1.26.4\n",
      "  warnings.warn(f\"A NumPy version >={np_minversion} and <{np_maxversion}\"\n"
     ]
    }
   ],
   "source": [
    "from lifelike_gds.arango_network.biocyc import *\n",
    "from lifelike_gds.arango_network.radiate_trace import RadiateTrace"
   ]
  },
  {
   "cell_type": "code",
   "execution_count": 4,
   "metadata": {},
   "outputs": [],
   "source": [
    "warnings.filterwarnings('ignore')"
   ]
  },
  {
   "cell_type": "code",
   "execution_count": 5,
   "metadata": {},
   "outputs": [],
   "source": [
    "input_dir = PurePosixPath('input')\n",
    "output_dir = PurePosixPath('output')\n",
    "os.makedirs(output_dir, 0o777, True)\n",
    "# gds database name\n",
    "db_name = 'ecocyc-25'\n",
    "# gds database version, free text, that can be used to describe the graph\n",
    "db_version = 'ecocyc 25.5'"
   ]
  },
  {
   "cell_type": "markdown",
   "metadata": {},
   "source": [
    "## 1. Connect to arango database.\n",
    "If use BioCyc databases (e.g. EcoCyc, HumanCyc), use Class BioCycDB.  \n",
    "If use Reactome database, use Class ReactomeDB. "
   ]
  },
  {
   "cell_type": "code",
   "execution_count": 6,
   "metadata": {},
   "outputs": [],
   "source": [
    "# set database uri, username and password. \n",
    "# dbname is the arango database name for the running arango instance. The default database name is 'arango'\n",
    "dbname = os.getenv('ARANGO_DATABASE', db_name)\n",
    "\n",
    "database = BiocycDB(dbname)"
   ]
  },
  {
   "cell_type": "markdown",
   "metadata": {},
   "source": [
    "## 2. Find input nodes (source and target nodes) in arango database"
   ]
  },
  {
   "cell_type": "markdown",
   "metadata": {},
   "source": [
    "#### Read Curli phenotype 1 and phenotype 6 genes as sources, and Curli genes as targets"
   ]
  },
  {
   "cell_type": "code",
   "execution_count": 7,
   "metadata": {},
   "outputs": [],
   "source": [
    "pheno1_file_path = input_dir / 'curli_genes_pheno_1.csv'\n",
    "if os.path.isfile(pheno1_file_path):\n",
    "  pheno1_file_ref = pheno1_file_path\n",
    "else:\n",
    "  # if does not exist localy, pull from github\n",
    "  pheno1_file_ref = f'https://raw.githubusercontent.com/{github_path}/{pheno1_file_path}'"
   ]
  },
  {
   "cell_type": "code",
   "execution_count": 8,
   "metadata": {},
   "outputs": [
    {
     "name": "stdout",
     "output_type": "stream",
     "text": [
      "Phenotype 1 genes: 35, nodes: 35\n"
     ]
    }
   ],
   "source": [
    "# Curli phenotype 1 genes\n",
    "df1 = pd.read_csv(pheno1_file_ref)\n",
    "pheno1_genes = [n for n in df1['biocyc_id']]\n",
    "pheno1_nodes = database.get_nodes_by_attr(pheno1_genes, 'biocyc_id')\n",
    "print(f\"Phenotype 1 genes: {len(pheno1_genes)}, nodes: {len(pheno1_nodes)}\")"
   ]
  },
  {
   "cell_type": "code",
   "execution_count": 9,
   "metadata": {},
   "outputs": [],
   "source": [
    "csg_file_path = input_dir / 'csg_genes.csv'\n",
    "if os.path.isfile(csg_file_path):\n",
    "  csg_file_ref = csg_file_path\n",
    "else:\n",
    "  # if does not exist localy, pull from github\n",
    "  csg_file_ref = f'https://raw.githubusercontent.com/{github_path}/{csg_file_path}'"
   ]
  },
  {
   "cell_type": "code",
   "execution_count": 10,
   "metadata": {},
   "outputs": [
    {
     "name": "stdout",
     "output_type": "stream",
     "text": [
      "curli genes: 7, nodes: 7\n"
     ]
    }
   ],
   "source": [
    "# Curli genes (CSG genes)\n",
    "df3 = pd.read_csv(csg_file_ref)\n",
    "curli_genes = [n for n in df3['biocyc_id']]\n",
    "curli_nodes = database.get_nodes_by_attr(curli_genes, 'biocyc_id')\n",
    "print(f\"curli genes: {len(curli_genes)}, nodes: {len(curli_nodes)}\")"
   ]
  },
  {
   "cell_type": "markdown",
   "metadata": {},
   "source": [
    "## 3. Load the whole network graph from arango to memory and create a networkx graph\n",
    "\n",
    "Create a RadiateTrace instance.  \n",
    "RadiateTrace is a subclass of TraceGraphNx.  TraceGraphNx has a property __graph__, that is a networkx graph. After the graph is created by using data from arango graph database, all the algorithms and traces can be run using the python networkx library."
   ]
  },
  {
   "cell_type": "code",
   "execution_count": 11,
   "metadata": {},
   "outputs": [
    {
     "name": "stderr",
     "output_type": "stream",
     "text": [
      "INFO: MultiDirectedGraph with 33428 nodes and 37886 edges\n"
     ]
    }
   ],
   "source": [
    "tracegraph = RadiateTrace(Biocyc(database))\n",
    "# set up output directory where the excel and graph files will write to\n",
    "tracegraph.datadir = output_dir\n",
    "# initiate tracegraph by loading graph data from arango\n",
    "tracegraph.init_default_graph()"
   ]
  },
  {
   "cell_type": "markdown",
   "metadata": {},
   "source": [
    "## 4. Perform intersection analysis\n",
    "Run intersection pagerank analysis and export values into excel file.\n",
    "\n",
    "The pagerank analysis is performed using networkx graph that contains a set of nodes and set of edges. \n",
    "\n",
    "#### Set node sets for sources and targets.  \n",
    "A node set is a list of node ids with a name and description.\n",
    "\n",
    "We set two source node sets and one target node set.  Then we will perform intersection analysis from each source node set to the target node set"
   ]
  },
  {
   "cell_type": "code",
   "execution_count": 12,
   "metadata": {},
   "outputs": [],
   "source": [
    "# Set source and target node sets\n",
    "SOURCE_SET = 'pheno1_genes'\n",
    "TARGET_SET = 'curli_genes'\n",
    "\n",
    "tracegraph.set_node_set_from_arango_nodes(pheno1_nodes, SOURCE_SET, 'phenotype_1 genes')\n",
    "tracegraph.set_node_set_from_arango_nodes(curli_nodes, TARGET_SET, 'curli genes')"
   ]
  },
  {
   "cell_type": "markdown",
   "metadata": {},
   "source": [
    "#### Call export_intersection_pageranks\n",
    "The method export_intersection_pageranks() performs the following steps\n",
    "1. Run personalized pagerank using source nodes\n",
    "2. Run personalized reverse pagerank using target nodes\n",
    "3. Calculate intersection pagerank based on source pagerank and target reverse pagerank\n",
    "4. Write values into excel file"
   ]
  },
  {
   "cell_type": "code",
   "execution_count": 13,
   "metadata": {},
   "outputs": [
    {
     "name": "stderr",
     "output_type": "stream",
     "text": [
      "INFO: set pagerank and num reach for pheno1_genes\n",
      "INFO: set pagerank and num reach for curli_genes\n"
     ]
    },
    {
     "name": "stdout",
     "output_type": "stream",
     "text": [
      "export intersection pagerank to file  output/Intersection_analysis_for_pheno1_genes_and_curli_genes.xlsx\n"
     ]
    }
   ],
   "source": [
    "# keep a clean copy of graph\n",
    "tracegraph.graph = tracegraph.orig_graph.copy()\n",
    "\n",
    "filename = f\"Intersection_analysis_for_{SOURCE_SET}_and_{TARGET_SET}.xlsx\"\n",
    "tracegraph.export_intersection_pageranks(filename, SOURCE_SET, TARGET_SET, num_nodes=3000)"
   ]
  },
  {
   "cell_type": "markdown",
   "metadata": {},
   "source": [
    "## 5. Analyze the pagerank output file (excel), and select interesting rows for further analysis\n",
    "\n",
    "#### Suggestion:   \n",
    "Add a column 'select' for selecting top pagerank nodes, and set any selected rows to 1, then save the file "
   ]
  },
  {
   "cell_type": "markdown",
   "metadata": {},
   "source": [
    "## 6. Create intersection traces for the selected rows"
   ]
  },
  {
   "cell_type": "markdown",
   "metadata": {},
   "source": [
    "#### Read manually selected top ranked nodes from the previous generated pagerank excel file\n",
    "We will read the column 'select' to get the selected rows (for intersection pagerank selection)"
   ]
  },
  {
   "cell_type": "code",
   "execution_count": 14,
   "metadata": {},
   "outputs": [],
   "source": [
    "intersect_pagerank_select_file_path = input_dir / f\"Intersection_analysis_for_{SOURCE_SET}_and_{TARGET_SET}_select.xlsx\"\n",
    "if os.path.isfile(intersect_pagerank_select_file_path):\n",
    "  intersect_pagerank_select_file_ref = intersect_pagerank_select_file_path\n",
    "else:\n",
    "  # if does not exist localy, pull from github\n",
    "  intersect_pagerank_select_file_ref = f'https://raw.githubusercontent.com/{github_path}/{intersect_pagerank_select_file_path}'"
   ]
  },
  {
   "cell_type": "code",
   "execution_count": 15,
   "metadata": {},
   "outputs": [
    {
     "data": {
      "text/html": [
       "<div>\n",
       "<style scoped>\n",
       "    .dataframe tbody tr th:only-of-type {\n",
       "        vertical-align: middle;\n",
       "    }\n",
       "\n",
       "    .dataframe tbody tr th {\n",
       "        vertical-align: top;\n",
       "    }\n",
       "\n",
       "    .dataframe thead th {\n",
       "        text-align: right;\n",
       "    }\n",
       "</style>\n",
       "<table border=\"1\" class=\"dataframe\">\n",
       "  <thead>\n",
       "    <tr style=\"text-align: right;\">\n",
       "      <th></th>\n",
       "      <th>eid</th>\n",
       "      <th>select</th>\n",
       "    </tr>\n",
       "  </thead>\n",
       "  <tbody>\n",
       "    <tr>\n",
       "      <th>0</th>\n",
       "      <td>CPLX0-226</td>\n",
       "      <td>1.0</td>\n",
       "    </tr>\n",
       "    <tr>\n",
       "      <th>1</th>\n",
       "      <td>CAMP</td>\n",
       "      <td>1.0</td>\n",
       "    </tr>\n",
       "    <tr>\n",
       "      <th>18</th>\n",
       "      <td>EG30063</td>\n",
       "      <td>1.0</td>\n",
       "    </tr>\n",
       "  </tbody>\n",
       "</table>\n",
       "</div>"
      ],
      "text/plain": [
       "          eid  select\n",
       "0   CPLX0-226     1.0\n",
       "1        CAMP     1.0\n",
       "18    EG30063     1.0"
      ]
     },
     "execution_count": 15,
     "metadata": {},
     "output_type": "execute_result"
    }
   ],
   "source": [
    "df = pd.read_excel(intersect_pagerank_select_file_ref, usecols=['eid', 'select'])\n",
    "df = df[df['select']==1]\n",
    "df"
   ]
  },
  {
   "cell_type": "code",
   "execution_count": 16,
   "metadata": {},
   "outputs": [],
   "source": [
    "selected_eids = [id for id in df['eid']]\n",
    "selected_nodes = database.get_nodes_by_attr(selected_eids, 'eid')"
   ]
  },
  {
   "cell_type": "markdown",
   "metadata": {},
   "source": [
    "#### Run pageranks again using a clean copy of the original graph"
   ]
  },
  {
   "cell_type": "code",
   "execution_count": 17,
   "metadata": {},
   "outputs": [],
   "source": [
    "tracegraph.graph = tracegraph.orig_graph.copy()\n",
    "\n",
    "pr = 'pagerank'\n",
    "rev_pr = 'rev_pagerank'\n",
    "tracegraph.set_pagerank(SOURCE_SET, pagerank_prop=pr)\n",
    "tracegraph.set_pagerank(TARGET_SET, pagerank_prop=rev_pr, reverse=True)"
   ]
  },
  {
   "cell_type": "markdown",
   "metadata": {},
   "source": [
    "#### Add traces from sources to the intersection node, and intersection node to targets\n",
    "We will add traces from source nodes to each selected intersection nodes, and traces from each selected intersection nodes to targets"
   ]
  },
  {
   "cell_type": "code",
   "execution_count": 18,
   "metadata": {},
   "outputs": [
    {
     "name": "stderr",
     "output_type": "stream",
     "text": [
      "INFO: Adding trace network pheno1_genes to cyclic-AMP #1\n",
      "ERROR: Target 32691 cannot be reachedfrom given sources\n",
      "ERROR: Target 32691 cannot be reachedfrom given sources\n",
      "ERROR: Target 32691 cannot be reachedfrom given sources\n",
      "ERROR: Target 32691 cannot be reachedfrom given sources\n",
      "ERROR: Target 32691 cannot be reachedfrom given sources\n",
      "ERROR: Target 32691 cannot be reachedfrom given sources\n",
      "ERROR: Target 32691 cannot be reachedfrom given sources\n",
      "ERROR: Target 32691 cannot be reachedfrom given sources\n",
      "ERROR: Target 32691 cannot be reachedfrom given sources\n",
      "ERROR: Target 32691 cannot be reachedfrom given sources\n",
      "ERROR: Target 32691 cannot be reachedfrom given sources\n",
      "ERROR: Target 32691 cannot be reachedfrom given sources\n",
      "ERROR: Target 32691 cannot be reachedfrom given sources\n",
      "ERROR: Target 32691 cannot be reachedfrom given sources\n",
      "ERROR: Target 32691 cannot be reachedfrom given sources\n",
      "ERROR: Target 32691 cannot be reachedfrom given sources\n",
      "INFO: Adding trace network pheno1_genes to CRP-cyclic-AMP DNA-binding transcriptional dual regulator #2\n",
      "ERROR: Target 19452 cannot be reachedfrom given sources\n",
      "ERROR: Target 19452 cannot be reachedfrom given sources\n",
      "ERROR: Target 19452 cannot be reachedfrom given sources\n",
      "ERROR: Target 19452 cannot be reachedfrom given sources\n",
      "ERROR: Target 19452 cannot be reachedfrom given sources\n",
      "ERROR: Target 19452 cannot be reachedfrom given sources\n",
      "ERROR: Target 19452 cannot be reachedfrom given sources\n",
      "ERROR: Target 19452 cannot be reachedfrom given sources\n",
      "ERROR: Target 19452 cannot be reachedfrom given sources\n",
      "ERROR: Target 19452 cannot be reachedfrom given sources\n",
      "ERROR: Target 19452 cannot be reachedfrom given sources\n",
      "ERROR: Target 19452 cannot be reachedfrom given sources\n",
      "ERROR: Target 19452 cannot be reachedfrom given sources\n",
      "ERROR: Target 19452 cannot be reachedfrom given sources\n",
      "ERROR: Target 19452 cannot be reachedfrom given sources\n",
      "ERROR: Target 19452 cannot be reachedfrom given sources\n",
      "INFO: Adding trace network pheno1_genes to micF #3\n",
      "ERROR: Target 14532 cannot be reachedfrom given sources\n",
      "ERROR: Target 14532 cannot be reachedfrom given sources\n",
      "ERROR: Target 14532 cannot be reachedfrom given sources\n",
      "ERROR: Target 14532 cannot be reachedfrom given sources\n",
      "ERROR: Target 14532 cannot be reachedfrom given sources\n",
      "ERROR: Target 14532 cannot be reachedfrom given sources\n",
      "ERROR: Target 14532 cannot be reachedfrom given sources\n",
      "ERROR: Target 14532 cannot be reachedfrom given sources\n",
      "ERROR: Target 14532 cannot be reachedfrom given sources\n",
      "ERROR: Target 14532 cannot be reachedfrom given sources\n",
      "ERROR: Target 14532 cannot be reachedfrom given sources\n",
      "ERROR: Target 14532 cannot be reachedfrom given sources\n",
      "ERROR: Target 14532 cannot be reachedfrom given sources\n",
      "ERROR: Target 14532 cannot be reachedfrom given sources\n",
      "ERROR: Target 14532 cannot be reachedfrom given sources\n",
      "ERROR: Target 14532 cannot be reachedfrom given sources\n",
      "INFO: Adding trace network from cyclic-AMP #1 to curli_genes\n",
      "INFO: Adding trace network from CRP-cyclic-AMP DNA-binding transcriptional dual regulator #2 to curli_genes\n",
      "INFO: Adding trace network from micF #3 to curli_genes\n",
      "INFO: clean graph: number of graph nodes decreased from 33428 to 342\n",
      "INFO: writing output/Intersection_traces_from_pheno1_genes_to_curli_genes\n"
     ]
    }
   ],
   "source": [
    "# write traces in one file\n",
    "tracegraph.add_traces_from_sources_to_each_selected_nodes(selected_nodes, SOURCE_SET, weighted_prop=pr)\n",
    "tracegraph.add_traces_from_each_selected_nodes_to_targets(selected_nodes, TARGET_SET, weighted_prop=rev_pr)\n",
    "tracegraph.write_to_sankey_file(f\"Intersection_traces_from_{SOURCE_SET}_to_{TARGET_SET}.graph\")"
   ]
  },
  {
   "cell_type": "markdown",
   "metadata": {
    "collapsed": false,
    "jupyter": {
     "outputs_hidden": false
    }
   },
   "source": []
  }
 ],
 "metadata": {
  "kernelspec": {
   "display_name": "Python 3 (ipykernel)",
   "language": "python",
   "name": "python3"
  },
  "language_info": {
   "codemirror_mode": {
    "name": "ipython",
    "version": 3
   },
   "file_extension": ".py",
   "mimetype": "text/x-python",
   "name": "python",
   "nbconvert_exporter": "python",
   "pygments_lexer": "ipython3",
   "version": "3.9.4"
  }
 },
 "nbformat": 4,
 "nbformat_minor": 4
}
