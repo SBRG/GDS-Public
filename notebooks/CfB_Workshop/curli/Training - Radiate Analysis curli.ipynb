{
 "cells": [
  {
   "cell_type": "markdown",
   "metadata": {},
   "source": [
    "# Radiate Analysis"
   ]
  },
  {
   "cell_type": "markdown",
   "metadata": {},
   "source": [
    "### Definition:\n",
    "Given list of nodes (source nodes, e.g. genes, metabolites), find what nodes are influenced by the source nodes , and what nodes influence the source nodes.\n",
    "\n",
    "The algorithm we are using is called __PageRank__. \n",
    "\n",
    "The __PageRank__ algorithm measures the importance of each node within the graph, based on the number incoming relationships and the importance of the corresponding source nodes.  \n",
    "\n",
    "__Personalized PageRank__ is a variation of PageRank which is biased towards a set of source nodes.\n",
    "\n",
    "<img src=\"img/personalized_pagerank.png\" width=\"400\" height=\"200\" />"
   ]
  },
  {
   "cell_type": "markdown",
   "metadata": {},
   "source": [
    "### Steps to run Radiate Analysis\n",
    "1. Connect to arango database\n",
    "2. Find input nodes (source nodes) in arango database\n",
    "3. Load the whole network graph from arango to memory and create a networkx graph. NetworkX is a python network library.\n",
    "4. Perform radiate analysis\n",
    "    - Run personalized pagerank algorithm using source nodes to get pagerank values for each nodes that the source nodes can reach (forward direction). Those are the nodes influenced by the source nodes\n",
    "    - Run personalized reverse pagerank using source nodes to get the reverce pagerank values for each nodes that can reach the source nodes\n",
    "    - Export the pagerank and reverse pagerank values into __excel file__\n",
    "5. The user analyzes the pagerank values (sorting, filtering etc), and select the rows that are interesting\n",
    "6. Create radiate traces for selected nodes"
   ]
  },
  {
   "cell_type": "code",
   "execution_count": 1,
   "metadata": {
    "ExecuteTime": {
     "end_time": "2024-05-08T08:38:03.229056Z",
     "start_time": "2024-05-08T08:38:03.225029Z"
    }
   },
   "outputs": [],
   "source": [
    "# install lifelike_gds package if not already installed (e.g. running in Google Colab)\n",
    "import importlib\n",
    "\n",
    "if importlib.util.find_spec('lifelike_gds') is None:\n",
    "  !pip install git+https://github.com/SBRG/GDS-Public\n",
    "\n",
    "# provide the path to the notebook folder in the github repository in case the notebook is run in Google Colab\n",
    "github_path = 'SBRG/GDS-Public/main/notebooks/CfB_Workshop/curli'"
   ]
  },
  {
   "cell_type": "code",
   "execution_count": 2,
   "metadata": {
    "ExecuteTime": {
     "end_time": "2024-05-08T08:38:03.453816Z",
     "start_time": "2024-05-08T08:38:03.447142Z"
    },
    "collapsed": false
   },
   "outputs": [],
   "source": [
    "import warnings\n",
    "import os\n",
    "from pathlib import PurePosixPath"
   ]
  },
  {
   "cell_type": "code",
   "execution_count": 3,
   "metadata": {
    "ExecuteTime": {
     "end_time": "2024-05-08T08:38:03.554620Z",
     "start_time": "2024-05-08T08:38:03.473631Z"
    }
   },
   "outputs": [
    {
     "name": "stderr",
     "output_type": "stream",
     "text": [
      "/Users/dommas/.local/share/virtualenvs/GDS-Public-uKBS7cUg/lib/python3.9/site-packages/scipy/__init__.py:146: UserWarning: A NumPy version >=1.17.3 and <1.25.0 is required for this version of SciPy (detected version 1.26.4\n",
      "  warnings.warn(f\"A NumPy version >={np_minversion} and <{np_maxversion}\"\n"
     ]
    }
   ],
   "source": [
    "from lifelike_gds.arango_network.biocyc import *\n",
    "from lifelike_gds.arango_network.radiate_trace import RadiateTrace"
   ]
  },
  {
   "cell_type": "code",
   "execution_count": 4,
   "metadata": {
    "ExecuteTime": {
     "end_time": "2024-05-08T08:38:03.573929Z",
     "start_time": "2024-05-08T08:38:03.570579Z"
    }
   },
   "outputs": [],
   "source": [
    "warnings.filterwarnings('ignore')"
   ]
  },
  {
   "cell_type": "code",
   "execution_count": 5,
   "metadata": {
    "ExecuteTime": {
     "end_time": "2024-05-08T08:38:03.658395Z",
     "start_time": "2024-05-08T08:38:03.654668Z"
    }
   },
   "outputs": [],
   "source": [
    "input_dir = PurePosixPath('input')\n",
    "output_dir = PurePosixPath('output')\n",
    "os.makedirs(output_dir, 0o777, True)\n",
    "# gds database name\n",
    "db_name = 'ecocyc-25'\n",
    "# gds database version, free text, that can be used to describe the graph\n",
    "db_version = 'ecocyc 25.5'"
   ]
  },
  {
   "cell_type": "markdown",
   "metadata": {},
   "source": [
    "## 1. Connect to arango database.\n",
    "If use BioCyc databases (e.g. EcoCyc, HumanCyc), use Class BioCycDB.  \n",
    "If use Reactome database, use Class ReactomeDB. "
   ]
  },
  {
   "cell_type": "code",
   "execution_count": 6,
   "metadata": {
    "ExecuteTime": {
     "end_time": "2024-05-08T08:38:03.763411Z",
     "start_time": "2024-05-08T08:38:03.743998Z"
    }
   },
   "outputs": [],
   "source": [
    "# set database uri, username and password. \n",
    "# dbname is the arango database name for the running arango instance. The default database name is 'arango'\n",
    "dbname = os.getenv('ARANGO_DATABASE', db_name)\n",
    "\n",
    "database = BiocycDB(dbname)"
   ]
  },
  {
   "cell_type": "markdown",
   "metadata": {},
   "source": [
    "## 2. Find input nodes (source nodes) in arango database"
   ]
  },
  {
   "cell_type": "markdown",
   "metadata": {},
   "source": [
    "#### Read Curli phenotype 1 genes as source genes, and find the gene nodes in arango database."
   ]
  },
  {
   "cell_type": "code",
   "execution_count": 7,
   "metadata": {
    "ExecuteTime": {
     "end_time": "2024-05-08T08:38:03.825738Z",
     "start_time": "2024-05-08T08:38:03.820849Z"
    },
    "collapsed": false
   },
   "outputs": [],
   "source": [
    "pheno1_file_path = input_dir / 'curli_genes_pheno_1.csv'\n",
    "if os.path.isfile(pheno1_file_path):\n",
    "  pheno1_file_ref = pheno1_file_path\n",
    "else:\n",
    "  # if does not exist localy, pull from github\n",
    "  pheno1_file_ref = f'https://raw.githubusercontent.com/{github_path}/{pheno1_file_path}'"
   ]
  },
  {
   "cell_type": "code",
   "execution_count": 8,
   "metadata": {
    "ExecuteTime": {
     "end_time": "2024-05-08T08:38:03.931832Z",
     "start_time": "2024-05-08T08:38:03.910824Z"
    }
   },
   "outputs": [
    {
     "name": "stdout",
     "output_type": "stream",
     "text": [
      "35\n"
     ]
    },
    {
     "data": {
      "text/html": [
       "<div>\n",
       "<style scoped>\n",
       "    .dataframe tbody tr th:only-of-type {\n",
       "        vertical-align: middle;\n",
       "    }\n",
       "\n",
       "    .dataframe tbody tr th {\n",
       "        vertical-align: top;\n",
       "    }\n",
       "\n",
       "    .dataframe thead th {\n",
       "        text-align: right;\n",
       "    }\n",
       "</style>\n",
       "<table border=\"1\" class=\"dataframe\">\n",
       "  <thead>\n",
       "    <tr style=\"text-align: right;\">\n",
       "      <th></th>\n",
       "      <th>name</th>\n",
       "      <th>biocyc_id</th>\n",
       "    </tr>\n",
       "  </thead>\n",
       "  <tbody>\n",
       "    <tr>\n",
       "      <th>0</th>\n",
       "      <td>purA</td>\n",
       "      <td>EG10790</td>\n",
       "    </tr>\n",
       "    <tr>\n",
       "      <th>1</th>\n",
       "      <td>guaB</td>\n",
       "      <td>EG10421</td>\n",
       "    </tr>\n",
       "    <tr>\n",
       "      <th>2</th>\n",
       "      <td>purD</td>\n",
       "      <td>EG10792</td>\n",
       "    </tr>\n",
       "    <tr>\n",
       "      <th>3</th>\n",
       "      <td>purH</td>\n",
       "      <td>EG10795</td>\n",
       "    </tr>\n",
       "    <tr>\n",
       "      <th>4</th>\n",
       "      <td>purC</td>\n",
       "      <td>EG10791</td>\n",
       "    </tr>\n",
       "  </tbody>\n",
       "</table>\n",
       "</div>"
      ],
      "text/plain": [
       "   name biocyc_id\n",
       "0  purA   EG10790\n",
       "1  guaB   EG10421\n",
       "2  purD   EG10792\n",
       "3  purH   EG10795\n",
       "4  purC   EG10791"
      ]
     },
     "execution_count": 8,
     "metadata": {},
     "output_type": "execute_result"
    }
   ],
   "source": [
    "# Curli phenotype 1 genes\n",
    "df1 = pd.read_csv(pheno1_file_ref)\n",
    "print(len(df1))\n",
    "df1.head()"
   ]
  },
  {
   "cell_type": "code",
   "execution_count": 9,
   "metadata": {
    "ExecuteTime": {
     "end_time": "2024-05-08T08:38:04.003221Z",
     "start_time": "2024-05-08T08:38:03.981690Z"
    }
   },
   "outputs": [
    {
     "name": "stdout",
     "output_type": "stream",
     "text": [
      "Phenotype 1 genes: 35, nodes: 35\n"
     ]
    }
   ],
   "source": [
    "pheno1_genes = [n for n in df1['biocyc_id']]\n",
    "# pheno1_genes = [n for n in df1['name']]\n",
    "pheno1_nodes = database.get_nodes_by_attr(pheno1_genes, 'biocyc_id')\n",
    "# pheno1_nodes = database.get_nodes_by_attr(pheno1_genes, 'name', 'Gene')\n",
    "print(f\"Phenotype 1 genes: {len(pheno1_genes)}, nodes: {len(pheno1_nodes)}\")"
   ]
  },
  {
   "cell_type": "markdown",
   "metadata": {},
   "source": [
    "## 3. Load the whole network graph from arango to memory and create a networkx graph\n",
    "\n",
    "Create a RadiateTrace instance.  \n",
    "RadiateTrace is a subclass of TraceGraphNx.  TraceGraphNx has a property __graph__, that is a networkx graph. After the graph is created by using data from arango graph database, all the algorithms and traces can be run using the python networkx library."
   ]
  },
  {
   "cell_type": "code",
   "execution_count": 10,
   "metadata": {
    "ExecuteTime": {
     "end_time": "2024-05-08T08:38:04.142708Z",
     "start_time": "2024-05-08T08:38:04.118939Z"
    }
   },
   "outputs": [
    {
     "name": "stderr",
     "output_type": "stream",
     "text": [
      "INFO: MultiDirectedGraph with 33428 nodes and 37886 edges\n"
     ]
    }
   ],
   "source": [
    "tracegraph = RadiateTrace(Biocyc(database))\n",
    "# set up output directory where the excel and graph files will write to\n",
    "tracegraph.datadir = output_dir\n",
    "# initiate tracegraph by loading graph data from arango\n",
    "tracegraph.init_default_graph()"
   ]
  },
  {
   "cell_type": "markdown",
   "metadata": {},
   "source": [
    "## 4. Perform Radiate Analysis\n",
    "Run personalized pagerank analysis and export values to excel file.\n",
    "\n",
    "Pagerank analysis is performed using networkx graph that contains a set of nodes and set of edges. \n",
    "\n",
    "#### Set node set for source nodes\n",
    "A node set is a list of node ids with a set name and description."
   ]
  },
  {
   "cell_type": "code",
   "execution_count": 11,
   "metadata": {
    "ExecuteTime": {
     "end_time": "2024-05-08T08:38:04.223410Z",
     "start_time": "2024-05-08T08:38:04.201040Z"
    }
   },
   "outputs": [],
   "source": [
    "# node set name\n",
    "SOURCE_SET = 'pheno1_genes'\n",
    "# node set description\n",
    "source_desc = 'extrem pheonotype group, no curli fibre production upon deletion of the genes'\n",
    "# add the node set to graph\n",
    "tracegraph.set_node_set_from_arango_nodes(pheno1_nodes, name=SOURCE_SET, desc=source_desc)"
   ]
  },
  {
   "cell_type": "markdown",
   "metadata": {},
   "source": [
    "#### Call export_pagerank_data\n",
    "The method export_pagerank_data in RadiateTrace contains a few steps to generate the excel file\n",
    "parameters: \n",
    "- sources:  The node set name for the source nodes\n",
    "- direction: default is __both__. If forward, run pagerank; if reverse, run reverse pagerank; if both, run both forward and reverse pagerank. \n",
    "- num_nodes: the nodes of top pagerank or reverse pagerank nodes that will write to the excel file.  The default is 2000. \n",
    "\n",
    "In the exported excel file, there is also a column named nReach (or rev_nReach), indicating how many source nodes can be reached by the node in the row.  \n",
    "\n",
    "The method will write an excel file with two tabs, one for pageranks and one for reverse pageranks."
   ]
  },
  {
   "cell_type": "code",
   "execution_count": 12,
   "metadata": {
    "ExecuteTime": {
     "end_time": "2024-05-08T08:38:04.267966Z",
     "start_time": "2024-05-08T08:38:04.247337Z"
    }
   },
   "outputs": [
    {
     "name": "stderr",
     "output_type": "stream",
     "text": [
      "INFO: set pagerank and num reach for pheno1_genes\n",
      "INFO: export top 4000 pagerank data into output/Radiate_analysis_for_pheno1_genes.xlsx\n"
     ]
    }
   ],
   "source": [
    "# get a copy of the original graph, including source node set\n",
    "tracegraph.graph = tracegraph.orig_graph.copy()\n",
    "\n",
    "outfile_name = f\"Radiate_analysis_for_{SOURCE_SET}.xlsx\"\n",
    "tracegraph.export_pagerank_data(SOURCE_SET, outfile_name, direction='both', num_nodes=4000)"
   ]
  },
  {
   "cell_type": "markdown",
   "metadata": {},
   "source": [
    "## 5. Analyze the pagerank output file (excel), and select interesting rows for further analysis"
   ]
  },
  {
   "cell_type": "markdown",
   "metadata": {},
   "source": [
    "Suggestion:   \n",
    "Add a column 'select' for selecting top pagerank nodes, and set any selected rows to 1   "
   ]
  },
  {
   "cell_type": "markdown",
   "metadata": {},
   "source": [
    "## 6. Create radiate traces for the selected nodes"
   ]
  },
  {
   "cell_type": "markdown",
   "metadata": {},
   "source": [
    "#### Read manually selected top ranked nodes from the previous generated pagerank excel file\n",
    "We will read the columns 'select' to get the selected rows. The excel file has two tabs. We will read the selected nodes for pageranks from the 'pageranks' tab, and selected nodes for reverse pageranks from the 'reverse pageranks' tab."
   ]
  },
  {
   "cell_type": "code",
   "execution_count": 13,
   "metadata": {
    "ExecuteTime": {
     "end_time": "2024-05-08T08:38:04.350811Z",
     "start_time": "2024-05-08T08:38:04.345665Z"
    },
    "collapsed": false
   },
   "outputs": [],
   "source": [
    "rankfile_path = input_dir / f'Radiate_analysis_for_{SOURCE_SET}_select.xlsx'\n",
    "if os.path.isfile(rankfile_path):\n",
    "  rankfile_ref = rankfile_path\n",
    "else:\n",
    "  # if does not exist localy, pull from github\n",
    "  rankfile_ref = f'https://raw.githubusercontent.com/{github_path}/{rankfile_path}'"
   ]
  },
  {
   "cell_type": "code",
   "execution_count": 14,
   "metadata": {
    "ExecuteTime": {
     "end_time": "2024-05-08T08:38:04.475209Z",
     "start_time": "2024-05-08T08:38:04.455451Z"
    }
   },
   "outputs": [],
   "source": [
    "df_pagerank = pd.read_excel(rankfile_ref, sheet_name='pageranks', usecols=['eid', 'select'])\n",
    "df_rev_pagerank = pd.read_excel(rankfile_ref, sheet_name='reverse pageranks', usecols=['eid', 'select'])"
   ]
  },
  {
   "cell_type": "markdown",
   "metadata": {},
   "source": [
    "#### Get selected nodes for forward traces"
   ]
  },
  {
   "cell_type": "code",
   "execution_count": 15,
   "metadata": {
    "ExecuteTime": {
     "end_time": "2024-05-08T08:38:04.577779Z",
     "start_time": "2024-05-08T08:38:04.557223Z"
    }
   },
   "outputs": [
    {
     "name": "stdout",
     "output_type": "stream",
     "text": [
      "selected: ['G6545', 'G6543', 'G6544', 'G6546']. length 4\n"
     ]
    }
   ],
   "source": [
    "df_select = df_pagerank[df_pagerank['select']==1]\n",
    "selected = [id for id in df_select['eid']]\n",
    "selected_nodes = database.get_nodes_by_attr(selected, 'eid')\n",
    "print(f\"selected: {selected}. length {len(selected_nodes)}\")"
   ]
  },
  {
   "cell_type": "markdown",
   "metadata": {},
   "source": [
    "#### Get selected nodes for reverse traces"
   ]
  },
  {
   "cell_type": "code",
   "execution_count": 16,
   "metadata": {
    "ExecuteTime": {
     "end_time": "2024-05-08T08:38:04.689145Z",
     "start_time": "2024-05-08T08:38:04.663745Z"
    }
   },
   "outputs": [
    {
     "name": "stdout",
     "output_type": "stream",
     "text": [
      "rev_selected ['PD00353', 'CPLX-123', 'G7072']\n"
     ]
    }
   ],
   "source": [
    "df_rev_select = df_rev_pagerank[df_rev_pagerank['select']==1]\n",
    "rev_selected = [id for id in df_rev_select['eid']]\n",
    "rev_selected_nodes = database.get_nodes_by_attr(rev_selected, 'eid')\n",
    "print('rev_selected', rev_selected)"
   ]
  },
  {
   "cell_type": "markdown",
   "metadata": {},
   "source": [
    "#### Get the original trace graph"
   ]
  },
  {
   "cell_type": "code",
   "execution_count": 17,
   "metadata": {
    "ExecuteTime": {
     "end_time": "2024-05-08T08:38:04.794532Z",
     "start_time": "2024-05-08T08:38:04.774907Z"
    }
   },
   "outputs": [],
   "source": [
    "# get a copy of the original graph, including source node set\n",
    "tracegraph.graph = tracegraph.orig_graph.copy()"
   ]
  },
  {
   "cell_type": "markdown",
   "metadata": {},
   "source": [
    "#### Set node sets for selected nodes"
   ]
  },
  {
   "cell_type": "code",
   "execution_count": 18,
   "metadata": {
    "ExecuteTime": {
     "end_time": "2024-05-08T08:38:05.035783Z",
     "start_time": "2024-05-08T08:38:05.008691Z"
    }
   },
   "outputs": [],
   "source": [
    "# set selected node set\n",
    "SELECTED_SET = 'top_pagerank_nodes'\n",
    "tracegraph.set_node_set_from_arango_nodes(selected_nodes, SELECTED_SET, 'selected top pagerank nodes')\n",
    "\n",
    "# set rev_selected node set\n",
    "REV_SELECTED_SET = 'top_rev_pagerank_nodes'\n",
    "tracegraph.set_node_set_from_arango_nodes(rev_selected_nodes, REV_SELECTED_SET, 'selected top rev pagerank nodes')"
   ]
  },
  {
   "cell_type": "markdown",
   "metadata": {},
   "source": [
    "#### Add traces and write to graph file for visualization\n",
    "Add radiate traces using selected nodes"
   ]
  },
  {
   "cell_type": "code",
   "execution_count": 19,
   "metadata": {
    "ExecuteTime": {
     "end_time": "2024-05-08T08:38:05.138899Z",
     "start_time": "2024-05-08T08:38:05.110988Z"
    }
   },
   "outputs": [
    {
     "name": "stderr",
     "output_type": "stream",
     "text": [
      "INFO: Adding trace network pheno1_genes to csgG #1\n",
      "ERROR: Target 10480 cannot be reachedfrom given sources\n",
      "ERROR: Target 10480 cannot be reachedfrom given sources\n",
      "ERROR: Target 10480 cannot be reachedfrom given sources\n",
      "ERROR: Target 10480 cannot be reachedfrom given sources\n",
      "ERROR: Target 10480 cannot be reachedfrom given sources\n",
      "ERROR: Target 10480 cannot be reachedfrom given sources\n",
      "ERROR: Target 10480 cannot be reachedfrom given sources\n",
      "ERROR: Target 10480 cannot be reachedfrom given sources\n",
      "ERROR: Target 10480 cannot be reachedfrom given sources\n",
      "ERROR: Target 10480 cannot be reachedfrom given sources\n",
      "ERROR: Target 10480 cannot be reachedfrom given sources\n",
      "ERROR: Target 10480 cannot be reachedfrom given sources\n",
      "ERROR: Target 10480 cannot be reachedfrom given sources\n",
      "ERROR: Target 10480 cannot be reachedfrom given sources\n",
      "ERROR: Target 10480 cannot be reachedfrom given sources\n",
      "ERROR: Target 10480 cannot be reachedfrom given sources\n",
      "INFO: Adding trace network pheno1_genes to csgF #2\n",
      "ERROR: Target 1611 cannot be reachedfrom given sources\n",
      "ERROR: Target 1611 cannot be reachedfrom given sources\n",
      "ERROR: Target 1611 cannot be reachedfrom given sources\n",
      "ERROR: Target 1611 cannot be reachedfrom given sources\n",
      "ERROR: Target 1611 cannot be reachedfrom given sources\n",
      "ERROR: Target 1611 cannot be reachedfrom given sources\n",
      "ERROR: Target 1611 cannot be reachedfrom given sources\n",
      "ERROR: Target 1611 cannot be reachedfrom given sources\n",
      "ERROR: Target 1611 cannot be reachedfrom given sources\n",
      "ERROR: Target 1611 cannot be reachedfrom given sources\n",
      "ERROR: Target 1611 cannot be reachedfrom given sources\n",
      "ERROR: Target 1611 cannot be reachedfrom given sources\n",
      "ERROR: Target 1611 cannot be reachedfrom given sources\n",
      "ERROR: Target 1611 cannot be reachedfrom given sources\n",
      "ERROR: Target 1611 cannot be reachedfrom given sources\n",
      "ERROR: Target 1611 cannot be reachedfrom given sources\n",
      "INFO: Adding trace network pheno1_genes to csgE #3\n",
      "ERROR: Target 10734 cannot be reachedfrom given sources\n",
      "ERROR: Target 10734 cannot be reachedfrom given sources\n",
      "ERROR: Target 10734 cannot be reachedfrom given sources\n",
      "ERROR: Target 10734 cannot be reachedfrom given sources\n",
      "ERROR: Target 10734 cannot be reachedfrom given sources\n",
      "ERROR: Target 10734 cannot be reachedfrom given sources\n",
      "ERROR: Target 10734 cannot be reachedfrom given sources\n",
      "ERROR: Target 10734 cannot be reachedfrom given sources\n",
      "ERROR: Target 10734 cannot be reachedfrom given sources\n",
      "ERROR: Target 10734 cannot be reachedfrom given sources\n",
      "ERROR: Target 10734 cannot be reachedfrom given sources\n",
      "ERROR: Target 10734 cannot be reachedfrom given sources\n",
      "ERROR: Target 10734 cannot be reachedfrom given sources\n",
      "ERROR: Target 10734 cannot be reachedfrom given sources\n",
      "ERROR: Target 10734 cannot be reachedfrom given sources\n",
      "ERROR: Target 10734 cannot be reachedfrom given sources\n",
      "INFO: Adding trace network pheno1_genes to csgD #4\n",
      "ERROR: Target 16050 cannot be reachedfrom given sources\n",
      "ERROR: Target 16050 cannot be reachedfrom given sources\n",
      "ERROR: Target 16050 cannot be reachedfrom given sources\n",
      "ERROR: Target 16050 cannot be reachedfrom given sources\n",
      "ERROR: Target 16050 cannot be reachedfrom given sources\n",
      "ERROR: Target 16050 cannot be reachedfrom given sources\n",
      "ERROR: Target 16050 cannot be reachedfrom given sources\n",
      "ERROR: Target 16050 cannot be reachedfrom given sources\n",
      "ERROR: Target 16050 cannot be reachedfrom given sources\n",
      "ERROR: Target 16050 cannot be reachedfrom given sources\n",
      "ERROR: Target 16050 cannot be reachedfrom given sources\n",
      "ERROR: Target 16050 cannot be reachedfrom given sources\n",
      "ERROR: Target 16050 cannot be reachedfrom given sources\n",
      "ERROR: Target 16050 cannot be reachedfrom given sources\n",
      "ERROR: Target 16050 cannot be reachedfrom given sources\n",
      "ERROR: Target 16050 cannot be reachedfrom given sources\n",
      "INFO: Adding trace network from pheno1_genes to top_pagerank_nodes\n",
      "ERROR: Target 10480 cannot be reachedfrom given sources\n",
      "ERROR: Target 16050 cannot be reachedfrom given sources\n",
      "ERROR: Target 1611 cannot be reachedfrom given sources\n",
      "ERROR: Target 10734 cannot be reachedfrom given sources\n",
      "ERROR: Target 10480 cannot be reachedfrom given sources\n",
      "ERROR: Target 16050 cannot be reachedfrom given sources\n",
      "ERROR: Target 1611 cannot be reachedfrom given sources\n",
      "ERROR: Target 10734 cannot be reachedfrom given sources\n",
      "ERROR: Target 10480 cannot be reachedfrom given sources\n",
      "ERROR: Target 16050 cannot be reachedfrom given sources\n",
      "ERROR: Target 1611 cannot be reachedfrom given sources\n",
      "ERROR: Target 10734 cannot be reachedfrom given sources\n",
      "ERROR: Target 10480 cannot be reachedfrom given sources\n",
      "ERROR: Target 16050 cannot be reachedfrom given sources\n",
      "ERROR: Target 1611 cannot be reachedfrom given sources\n",
      "ERROR: Target 10734 cannot be reachedfrom given sources\n",
      "ERROR: Target 10480 cannot be reachedfrom given sources\n",
      "ERROR: Target 16050 cannot be reachedfrom given sources\n",
      "ERROR: Target 1611 cannot be reachedfrom given sources\n",
      "ERROR: Target 10734 cannot be reachedfrom given sources\n",
      "ERROR: Target 10480 cannot be reachedfrom given sources\n",
      "ERROR: Target 16050 cannot be reachedfrom given sources\n",
      "ERROR: Target 1611 cannot be reachedfrom given sources\n",
      "ERROR: Target 10734 cannot be reachedfrom given sources\n",
      "ERROR: Target 10480 cannot be reachedfrom given sources\n",
      "ERROR: Target 16050 cannot be reachedfrom given sources\n",
      "ERROR: Target 1611 cannot be reachedfrom given sources\n",
      "ERROR: Target 10734 cannot be reachedfrom given sources\n",
      "ERROR: Target 10480 cannot be reachedfrom given sources\n",
      "ERROR: Target 16050 cannot be reachedfrom given sources\n",
      "ERROR: Target 1611 cannot be reachedfrom given sources\n",
      "ERROR: Target 10734 cannot be reachedfrom given sources\n",
      "ERROR: Target 10480 cannot be reachedfrom given sources\n",
      "ERROR: Target 16050 cannot be reachedfrom given sources\n",
      "ERROR: Target 1611 cannot be reachedfrom given sources\n",
      "ERROR: Target 10734 cannot be reachedfrom given sources\n",
      "ERROR: Target 10480 cannot be reachedfrom given sources\n",
      "ERROR: Target 16050 cannot be reachedfrom given sources\n",
      "ERROR: Target 1611 cannot be reachedfrom given sources\n",
      "ERROR: Target 10734 cannot be reachedfrom given sources\n",
      "ERROR: Target 10480 cannot be reachedfrom given sources\n",
      "ERROR: Target 16050 cannot be reachedfrom given sources\n",
      "ERROR: Target 1611 cannot be reachedfrom given sources\n",
      "ERROR: Target 10734 cannot be reachedfrom given sources\n",
      "ERROR: Target 10480 cannot be reachedfrom given sources\n",
      "ERROR: Target 16050 cannot be reachedfrom given sources\n",
      "ERROR: Target 1611 cannot be reachedfrom given sources\n",
      "ERROR: Target 10734 cannot be reachedfrom given sources\n",
      "ERROR: Target 10480 cannot be reachedfrom given sources\n",
      "ERROR: Target 16050 cannot be reachedfrom given sources\n",
      "ERROR: Target 1611 cannot be reachedfrom given sources\n",
      "ERROR: Target 10734 cannot be reachedfrom given sources\n",
      "ERROR: Target 10480 cannot be reachedfrom given sources\n",
      "ERROR: Target 16050 cannot be reachedfrom given sources\n",
      "ERROR: Target 1611 cannot be reachedfrom given sources\n",
      "ERROR: Target 10734 cannot be reachedfrom given sources\n",
      "ERROR: Target 10480 cannot be reachedfrom given sources\n",
      "ERROR: Target 16050 cannot be reachedfrom given sources\n",
      "ERROR: Target 1611 cannot be reachedfrom given sources\n",
      "ERROR: Target 10734 cannot be reachedfrom given sources\n",
      "ERROR: Target 10480 cannot be reachedfrom given sources\n",
      "ERROR: Target 16050 cannot be reachedfrom given sources\n",
      "ERROR: Target 1611 cannot be reachedfrom given sources\n",
      "ERROR: Target 10734 cannot be reachedfrom given sources\n",
      "INFO: Adding trace network from PurR-Hypoxanthine DNA-binding transcriptional repressor #1 to pheno1_genes\n",
      "ERROR: Target 14605 cannot be reachedfrom given sources\n",
      "ERROR: Target 11039 cannot be reachedfrom given sources\n",
      "ERROR: Target 14640 cannot be reachedfrom given sources\n",
      "ERROR: Target 15956 cannot be reachedfrom given sources\n",
      "ERROR: Target 4698 cannot be reachedfrom given sources\n",
      "ERROR: Target 22138 cannot be reachedfrom given sources\n",
      "ERROR: Target 10878 cannot be reachedfrom given sources\n",
      "ERROR: Target 14605 cannot be reachedfrom given sources\n",
      "ERROR: Target 11039 cannot be reachedfrom given sources\n",
      "ERROR: Target 14640 cannot be reachedfrom given sources\n",
      "ERROR: Target 15956 cannot be reachedfrom given sources\n",
      "ERROR: Target 4698 cannot be reachedfrom given sources\n",
      "ERROR: Target 22138 cannot be reachedfrom given sources\n",
      "ERROR: Target 10878 cannot be reachedfrom given sources\n",
      "INFO: Adding trace network from nac #2 to pheno1_genes\n",
      "ERROR: Target 14605 cannot be reachedfrom given sources\n",
      "ERROR: Target 11039 cannot be reachedfrom given sources\n",
      "ERROR: Target 14640 cannot be reachedfrom given sources\n",
      "ERROR: Target 15956 cannot be reachedfrom given sources\n",
      "ERROR: Target 4698 cannot be reachedfrom given sources\n",
      "ERROR: Target 22138 cannot be reachedfrom given sources\n",
      "ERROR: Target 10878 cannot be reachedfrom given sources\n",
      "ERROR: Target 14605 cannot be reachedfrom given sources\n",
      "ERROR: Target 11039 cannot be reachedfrom given sources\n",
      "ERROR: Target 14640 cannot be reachedfrom given sources\n",
      "ERROR: Target 15956 cannot be reachedfrom given sources\n",
      "ERROR: Target 4698 cannot be reachedfrom given sources\n",
      "ERROR: Target 22138 cannot be reachedfrom given sources\n",
      "ERROR: Target 10878 cannot be reachedfrom given sources\n",
      "INFO: Adding trace network from DNA-binding transcriptional dual regulator Lrp #3 to pheno1_genes\n",
      "ERROR: Target 14605 cannot be reachedfrom given sources\n",
      "ERROR: Target 11039 cannot be reachedfrom given sources\n",
      "ERROR: Target 14640 cannot be reachedfrom given sources\n",
      "ERROR: Target 15956 cannot be reachedfrom given sources\n",
      "ERROR: Target 4698 cannot be reachedfrom given sources\n",
      "ERROR: Target 22138 cannot be reachedfrom given sources\n",
      "ERROR: Target 10878 cannot be reachedfrom given sources\n",
      "ERROR: Target 14605 cannot be reachedfrom given sources\n",
      "ERROR: Target 11039 cannot be reachedfrom given sources\n",
      "ERROR: Target 14640 cannot be reachedfrom given sources\n",
      "ERROR: Target 15956 cannot be reachedfrom given sources\n",
      "ERROR: Target 4698 cannot be reachedfrom given sources\n",
      "ERROR: Target 22138 cannot be reachedfrom given sources\n",
      "ERROR: Target 10878 cannot be reachedfrom given sources\n",
      "INFO: Adding trace network from top_rev_pagerank_nodes to pheno1_genes\n",
      "ERROR: Target 14605 cannot be reachedfrom given sources\n",
      "ERROR: Target 11039 cannot be reachedfrom given sources\n",
      "ERROR: Target 14640 cannot be reachedfrom given sources\n",
      "ERROR: Target 15956 cannot be reachedfrom given sources\n",
      "ERROR: Target 4698 cannot be reachedfrom given sources\n",
      "ERROR: Target 22138 cannot be reachedfrom given sources\n",
      "ERROR: Target 10878 cannot be reachedfrom given sources\n",
      "ERROR: Target 14605 cannot be reachedfrom given sources\n",
      "ERROR: Target 11039 cannot be reachedfrom given sources\n",
      "ERROR: Target 14640 cannot be reachedfrom given sources\n",
      "ERROR: Target 15956 cannot be reachedfrom given sources\n",
      "ERROR: Target 4698 cannot be reachedfrom given sources\n",
      "ERROR: Target 22138 cannot be reachedfrom given sources\n",
      "ERROR: Target 10878 cannot be reachedfrom given sources\n",
      "ERROR: Target 14605 cannot be reachedfrom given sources\n",
      "ERROR: Target 11039 cannot be reachedfrom given sources\n",
      "ERROR: Target 14640 cannot be reachedfrom given sources\n",
      "ERROR: Target 15956 cannot be reachedfrom given sources\n",
      "ERROR: Target 4698 cannot be reachedfrom given sources\n",
      "ERROR: Target 22138 cannot be reachedfrom given sources\n",
      "ERROR: Target 10878 cannot be reachedfrom given sources\n",
      "ERROR: Target 14605 cannot be reachedfrom given sources\n",
      "ERROR: Target 11039 cannot be reachedfrom given sources\n",
      "ERROR: Target 14640 cannot be reachedfrom given sources\n",
      "ERROR: Target 15956 cannot be reachedfrom given sources\n",
      "ERROR: Target 4698 cannot be reachedfrom given sources\n",
      "ERROR: Target 22138 cannot be reachedfrom given sources\n",
      "ERROR: Target 10878 cannot be reachedfrom given sources\n",
      "ERROR: Target 14605 cannot be reachedfrom given sources\n",
      "ERROR: Target 11039 cannot be reachedfrom given sources\n",
      "ERROR: Target 14640 cannot be reachedfrom given sources\n",
      "ERROR: Target 15956 cannot be reachedfrom given sources\n",
      "ERROR: Target 4698 cannot be reachedfrom given sources\n",
      "ERROR: Target 22138 cannot be reachedfrom given sources\n",
      "ERROR: Target 10878 cannot be reachedfrom given sources\n",
      "ERROR: Target 14605 cannot be reachedfrom given sources\n",
      "ERROR: Target 11039 cannot be reachedfrom given sources\n",
      "ERROR: Target 14640 cannot be reachedfrom given sources\n",
      "ERROR: Target 15956 cannot be reachedfrom given sources\n",
      "ERROR: Target 4698 cannot be reachedfrom given sources\n",
      "ERROR: Target 22138 cannot be reachedfrom given sources\n",
      "ERROR: Target 10878 cannot be reachedfrom given sources\n",
      "INFO: clean graph: number of graph nodes decreased from 33428 to 529\n",
      "INFO: writing output/Radiate_traces_for_pheno1_genes\n"
     ]
    }
   ],
   "source": [
    "# set pagerank and reverse pagerank\n",
    "pagerank_prop = 'pagerank'\n",
    "tracegraph.set_pagerank(SOURCE_SET, pagerank_prop)\n",
    "rev_pagerank_prop = 'rev_pagerank'\n",
    "tracegraph.set_pagerank(SOURCE_SET, rev_pagerank_prop, reverse=True)\n",
    "\n",
    "# add graph description\n",
    "tracegraph.add_graph_description(f'Database: {db_version}\\n')\n",
    "\n",
    "# add traces from source genes to each selected nodes\n",
    "tracegraph.add_traces_from_sources_to_each_selected_nodes(selected_nodes, SOURCE_SET, weighted_prop=pagerank_prop)\n",
    "\n",
    "# add traces from source genes to all selected nodes\n",
    "tracegraph.add_trace_from_sources_to_all_selected_nodes(SELECTED_SET, SOURCE_SET, weighted_prop=pagerank_prop)\n",
    "\n",
    "# add traces from each selected nodes to SOURCE_SET genes\n",
    "tracegraph.add_traces_from_each_selected_nodes_to_targets(rev_selected_nodes,\n",
    "                                                           SOURCE_SET, weighted_prop=rev_pagerank_prop)\n",
    "\n",
    "# add traces from all reverse-selected nodes to SOURCE_SET\n",
    "tracegraph.add_trace_from_all_selected_nodes_to_targets(REV_SELECTED_SET, SOURCE_SET, weighted_prop=rev_pagerank_prop)\n",
    "\n",
    "# write all traces into one graph file\n",
    "graph_file = f'Radiate_traces_for_{SOURCE_SET}.graph'\n",
    "tracegraph.write_to_sankey_file(graph_file)"
   ]
  },
  {
   "cell_type": "markdown",
   "metadata": {
    "collapsed": false
   },
   "source": []
  }
 ],
 "metadata": {
  "kernelspec": {
   "display_name": "Python 3 (ipykernel)",
   "language": "python",
   "name": "python3"
  },
  "language_info": {
   "codemirror_mode": {
    "name": "ipython",
    "version": 3
   },
   "file_extension": ".py",
   "mimetype": "text/x-python",
   "name": "python",
   "nbconvert_exporter": "python",
   "pygments_lexer": "ipython3",
   "version": "3.9.4"
  }
 },
 "nbformat": 4,
 "nbformat_minor": 4
}
