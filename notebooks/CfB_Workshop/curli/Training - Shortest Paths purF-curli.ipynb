{
 "cells": [
  {
   "cell_type": "markdown",
   "metadata": {},
   "source": [
    "# All Shortest Paths for purF-curli\n",
    "\n",
    "\n",
    "This demo will get all shortest paths from gene purF to list of curli related genes."
   ]
  },
  {
   "cell_type": "markdown",
   "metadata": {},
   "source": [
    "#### Library:  NetworkX\n",
    "NetworkX is a python package for the creation, manipulation and study of the structure,\n",
    "and functions of complex networks.  \n",
    "\n",
    "#### Unweighted shortest paths\n",
    "Given source S and target T in the example below, the shortest paths have 3 hops (2 nodes in between), including S->1->2->T and S->1->3->T.   \n",
    "<img align='left' src=\"img/shortest_paths.png\" width='500'>    \n"
   ]
  },
  {
   "cell_type": "markdown",
   "metadata": {},
   "source": [
    "### Steps creating shortest paths traces\n",
    "1. Connect to arango database\n",
    "2. Get input nodes (sources and targets)\n",
    "3. Load the whole network graph from arango to memory and create a networkx graph\n",
    "4. Add all shortest paths for each pair of nodes from sources to targets, and generate sankey graph file\n",
    "5. Users can also add shortest paths to the graph and generate cytoscape json file (optional)"
   ]
  },
  {
   "cell_type": "code",
   "execution_count": 5,
   "metadata": {},
   "outputs": [],
   "source": [
    "import os\n",
    "import sys\n",
    "root = os.getcwd().split('/notebooks/')[0]\n",
    "sys.path.append(os.path.join(root, 'src'))"
   ]
  },
  {
   "cell_type": "code",
   "execution_count": 6,
   "metadata": {},
   "outputs": [],
   "source": [
    "from lifelike_gds.arango_network.biocyc import *\n",
    "from lifelike_gds.arango_network.shortest_paths_trace import ShortestPathTrace\n",
    "import pandas as pd"
   ]
  },
  {
   "cell_type": "code",
   "execution_count": 7,
   "metadata": {},
   "outputs": [],
   "source": [
    "import warnings\n",
    "warnings.filterwarnings('ignore')"
   ]
  },
  {
   "cell_type": "code",
   "execution_count": 8,
   "metadata": {},
   "outputs": [],
   "source": [
    "input_dir = 'input'\n",
    "output_dir = 'output'\n",
    "os.makedirs(output_dir, 0o777, True)\n",
    "# gds database name\n",
    "db_name = 'ecocyc'\n",
    "# gds database version, free text, that can be used to describe the graph\n",
    "db_version = 'ecocyc 25.5'"
   ]
  },
  {
   "cell_type": "markdown",
   "metadata": {},
   "source": [
    "### 1. Connect to arango database\n",
    "If use BioCyc databases (e.g. EcoCyc, HumanCyc), use Class BioCycDB.  \n",
    "If use Reactome database, use Class ReactomeDB. "
   ]
  },
  {
   "cell_type": "code",
   "execution_count": 9,
   "metadata": {},
   "outputs": [],
   "source": [
    "# set database uri, username and password. \n",
    "# dbname is the arango database name for the running arango instance. The default database name is 'arango'\n",
    "dbname = os.getenv('ARANGO_DATABASE', db_name)\n",
    "\n",
    "database = BiocycDB(dbname)"
   ]
  },
  {
   "cell_type": "markdown",
   "metadata": {},
   "source": [
    "### 2. Get source and target nodes from arango database"
   ]
  },
  {
   "cell_type": "code",
   "execution_count": 10,
   "metadata": {},
   "outputs": [
    {
     "name": "stdout",
     "output_type": "stream",
     "text": [
      "1\n"
     ]
    }
   ],
   "source": [
    "# source gene\n",
    "gene_name = 'purF'\n",
    "source_nodes = database.get_nodes_by_attr([gene_name], 'name', 'Gene')\n",
    "print(len(source_nodes))\n",
    "purF_node = source_nodes[0]"
   ]
  },
  {
   "cell_type": "code",
   "execution_count": 11,
   "metadata": {},
   "outputs": [
    {
     "data": {
      "text/plain": "   name biocyc_id\n0  csgB     G6547\n1  csgF     G6544\n2  csgA   EG11489\n3  csgC     G6548\n4  csgE     G6545\n5  csgG     G6543\n6  csgD     G6546",
      "text/html": "<div>\n<style scoped>\n    .dataframe tbody tr th:only-of-type {\n        vertical-align: middle;\n    }\n\n    .dataframe tbody tr th {\n        vertical-align: top;\n    }\n\n    .dataframe thead th {\n        text-align: right;\n    }\n</style>\n<table border=\"1\" class=\"dataframe\">\n  <thead>\n    <tr style=\"text-align: right;\">\n      <th></th>\n      <th>name</th>\n      <th>biocyc_id</th>\n    </tr>\n  </thead>\n  <tbody>\n    <tr>\n      <th>0</th>\n      <td>csgB</td>\n      <td>G6547</td>\n    </tr>\n    <tr>\n      <th>1</th>\n      <td>csgF</td>\n      <td>G6544</td>\n    </tr>\n    <tr>\n      <th>2</th>\n      <td>csgA</td>\n      <td>EG11489</td>\n    </tr>\n    <tr>\n      <th>3</th>\n      <td>csgC</td>\n      <td>G6548</td>\n    </tr>\n    <tr>\n      <th>4</th>\n      <td>csgE</td>\n      <td>G6545</td>\n    </tr>\n    <tr>\n      <th>5</th>\n      <td>csgG</td>\n      <td>G6543</td>\n    </tr>\n    <tr>\n      <th>6</th>\n      <td>csgD</td>\n      <td>G6546</td>\n    </tr>\n  </tbody>\n</table>\n</div>"
     },
     "execution_count": 11,
     "metadata": {},
     "output_type": "execute_result"
    }
   ],
   "source": [
    "# Curli genes (CSG genes)\n",
    "csg_file = 'csg_genes.csv'\n",
    "df = pd.read_csv(os.path.join(input_dir, csg_file))\n",
    "df"
   ]
  },
  {
   "cell_type": "code",
   "execution_count": 12,
   "metadata": {},
   "outputs": [
    {
     "name": "stdout",
     "output_type": "stream",
     "text": [
      "curli genes: 7, nodes: 7\n"
     ]
    }
   ],
   "source": [
    "curli_genes = [n for n in df['biocyc_id']]\n",
    "curli_nodes = database.get_nodes_by_attr(curli_genes, 'biocyc_id')\n",
    "print(f\"curli genes: {len(curli_genes)}, nodes: {len(curli_nodes)}\")"
   ]
  },
  {
   "cell_type": "markdown",
   "metadata": {},
   "source": [
    "### 3. Create a trace graph object, and create networkx graph from arango data"
   ]
  },
  {
   "cell_type": "code",
   "execution_count": 13,
   "metadata": {},
   "outputs": [
    {
     "name": "stderr",
     "output_type": "stream",
     "text": [
      "INFO:root:MultiDirectedGraph with 33428 nodes and 37886 edges\n"
     ]
    }
   ],
   "source": [
    "tracegraph = ShortestPathTrace(Biocyc(database))\n",
    "# set up output directory where the excel and graph files will write to\n",
    "tracegraph.datadir = output_dir\n",
    "# initiate tracegraph by loading graph data from arango\n",
    "# a networkx graph is created here.  \n",
    "tracegraph.init_default_graph()"
   ]
  },
  {
   "cell_type": "markdown",
   "metadata": {},
   "source": [
    "### 4. Add shortest paths traces, and generate sankey graph file"
   ]
  },
  {
   "cell_type": "markdown",
   "metadata": {},
   "source": [
    "#### Generate shortest paths from metals to metabolites\n",
    "- Make a copy of the clean graph to work on\n",
    "- set nodes set\n",
    "- add shortest paths from phenotype purF genes to curli genes\n",
    "- generate sankey graph file. Make sure that the file name ends with .graph so that Lifelike can display properly."
   ]
  },
  {
   "cell_type": "code",
   "execution_count": 14,
   "metadata": {},
   "outputs": [
    {
     "name": "stderr",
     "output_type": "stream",
     "text": [
      "INFO:root:add Shortest paths from purF to curli_genes: 26 paths\n",
      "INFO:root:clean graph: number of graph nodes decreased from 33428 to 52\n",
      "INFO:root:writing output/Shortest_Paths_from_purF_to_curli_genes\n"
     ]
    }
   ],
   "source": [
    "# create a copy of the graph so that the original graph is clean (without traces)\n",
    "tracegraph.graph = tracegraph.orig_graph.copy()\n",
    "\n",
    "# add graph description\n",
    "tracegraph.add_graph_description(f'database: {db_version}\\n')\n",
    "\n",
    "# Set source node set\n",
    "source_set = tracegraph.set_node_set_for_node(purF_node)\n",
    "\n",
    "# Set target node set\n",
    "target_set = 'curli_genes'\n",
    "tracegraph.set_node_set_from_arango_nodes(curli_nodes, target_set, target_set)\n",
    "\n",
    "# add shortest paths. \n",
    "# Param 'sources_as_query' default is True. For one to many traces, make sure to set False so that the traces to each targets have different color in display\n",
    "tracegraph.add_shortest_paths(source_set, target_set, sources_as_query=False)\n",
    "\n",
    "# Export sankey file\n",
    "graphfile = \"Shortest_Paths_from_purF_to_curli_genes.graph\"\n",
    "tracegraph.write_to_sankey_file(graphfile)"
   ]
  },
  {
   "cell_type": "markdown",
   "source": [],
   "metadata": {
    "collapsed": false
   }
  }
 ],
 "metadata": {
  "kernelspec": {
   "display_name": "Python 3",
   "language": "python",
   "name": "python3"
  },
  "language_info": {
   "codemirror_mode": {
    "name": "ipython",
    "version": 3
   },
   "file_extension": ".py",
   "mimetype": "text/x-python",
   "name": "python",
   "nbconvert_exporter": "python",
   "pygments_lexer": "ipython3",
   "version": "3.8.5"
  }
 },
 "nbformat": 4,
 "nbformat_minor": 4
}
