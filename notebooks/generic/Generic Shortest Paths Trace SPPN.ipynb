{
 "cells": [
  {
   "cell_type": "markdown",
   "metadata": {},
   "source": [
    "# Create all shortest paths traces from sources to targets"
   ]
  },
  {
   "cell_type": "code",
   "execution_count": 10,
   "metadata": {},
   "outputs": [],
   "source": [
    "import os\n",
    "import sys\n",
    "root = os.getcwd().split('/notebooks/')[0]\n",
    "sys.path.append(os.path.join(root, 'src'))\n",
    "\n",
    "from lifelike_gds.arango_network.biocyc import *\n",
    "from lifelike_gds.arango_network.shortest_paths_trace import ShortestPathTrace\n",
    "from lifelike_gds.arango_network.trace_graph_utils import *\n",
    "import pandas as pd\n",
    "import networkx as nx\n",
    "\n",
    "import warnings\n",
    "warnings.filterwarnings('ignore')"
   ]
  },
  {
   "cell_type": "markdown",
   "metadata": {},
   "source": [
    "## Settings\n",
    "Make sure to change to the correct one based on your local settings"
   ]
  },
  {
   "cell_type": "code",
   "execution_count": 11,
   "metadata": {},
   "outputs": [],
   "source": [
    "input_dir = 'input'\n",
    "output_dir = 'output'\n",
    "os.makedirs(output_dir, 0o777, True)\n",
    "# gds database name\n",
    "db_name = 'ecocyc-secondaries'\n",
    "# gds database version, free text, that can be used to describe the graph\n",
    "db_version = 'ecocyc 25.5 secondaries'\n",
    "sppn = 3"
   ]
  },
  {
   "cell_type": "markdown",
   "metadata": {},
   "source": [
    "## Parameters\n",
    "Set parameters\n",
    "- source_name: name for the source entities. \n",
    "- target_name: name for the target entities. \n",
    "- source_file: source file name in input dir\n",
    "- source_ids: list of source biocyc_ids.  You need either source_file or sourc_ids to get the source nodes\n",
    "- target_file: target file name in input dir\n",
    "- target_ids: list of target biocyc_ids.  You need either target_file or target_ids to get the target nodes\n"
   ]
  },
  {
   "cell_type": "code",
   "execution_count": 12,
   "metadata": {},
   "outputs": [],
   "source": [
    "# source and target data files must have column 'biocyc_id' , or 'name'\n",
    "source_name = 'metals'\n",
    "source_file = 'metals.csv'\n",
    "# source_biocyc_ids = ['ZN+2', 'FE+2', 'FE+3']\n",
    "\n",
    "target_name = 'biomass-metabolites'\n",
    "target_file = 'biomass_precursors.csv'\n",
    "# target_biocyc_ids = ['FRUCTOSE-6P','GAP', 'PYRUVATE', 'SUC-COA']"
   ]
  },
  {
   "cell_type": "markdown",
   "metadata": {},
   "source": [
    "## Define functions to get source/target nodes\n",
    "- read input file with biocyc_id\n",
    "- read input file with entity name\n",
    "- get nodes by list of biocyc_ids\n",
    "- get nodes by list of names"
   ]
  },
  {
   "cell_type": "code",
   "execution_count": 13,
   "metadata": {},
   "outputs": [],
   "source": [
    "\"\"\"\n",
    "read column 'biocyc_id' from file, and found the matched nodes\n",
    "\"\"\" \n",
    "def get_nodes_by_biocyc_id_from_file(csv_filename, id_column='biocyc_id'):\n",
    "    df = pd.read_csv(os.path.join(input_dir, csv_filename))\n",
    "    ids = [n for n in df[id_column]]\n",
    "    nodes = database.get_nodes_by_attr(ids, 'biocyc_id')\n",
    "    print('file_rows:', len(df), ', nodes matched:', len(nodes))\n",
    "    return nodes\n",
    "\n",
    "\n",
    "\"\"\"\n",
    "read column 'name' from file.  Need to path the entity type, such as Gene, Compound, Protein.\n",
    "This method only match the name, not the synonyms\n",
    "\"\"\" \n",
    "def get_nodes_by_name_from_file(csv_filename, nodeLabel, name_column='name'):\n",
    "    df = pd.read_csv(os.path.join(input_dir, csv_filename))\n",
    "    names = [n for n in df[name_column]]\n",
    "    nodes = database.get_nodes_by_attr(names, 'name', nodeLabel)\n",
    "    print('file_rows:', len(df), ', nodes matched:', len(nodes))\n",
    "    return nodes\n",
    "\n",
    "\"\"\"\n",
    "Get list of nodes from list of biocyc_ids\n",
    "\"\"\" \n",
    "def get_nodes_by_biocyc_id(biocyc_ids: []):\n",
    "    nodes = database.get_nodes_by_attr(biocyc_ids, 'biocyc_id')\n",
    "    print('ids provided:', len(biocyc_ids), ', nodes matched:', len(nodes))\n",
    "    return nodes\n",
    "    \n",
    "\"\"\"\n",
    "Get list of nodes by name\n",
    "names: list of names, e.g. gene names\n",
    "nodeLabel: entity label, e.g. Gene, Protein, Compound, Reaction\n",
    "\"\"\"\n",
    "def get_nodes_by_name(names:[], nodeLabel:str):\n",
    "    nodes = database.get_nodes_by_attr(names, 'name', nodeLabel)\n",
    "    print('names provided:', len(names), ', nodes matched:', len(nodes))\n",
    "    return nodes\n",
    "    "
   ]
  },
  {
   "cell_type": "markdown",
   "metadata": {},
   "source": [
    "## Define functions to export shortest paths traces to graph file "
   ]
  },
  {
   "cell_type": "code",
   "execution_count": 14,
   "metadata": {},
   "outputs": [],
   "source": [
    "\"\"\"\n",
    "Simplest way to generate shortest paths. \n",
    "Return all paths from all source nodes to all target_nodes in one trace graph\n",
    "\"\"\"\n",
    "def write_shortest_paths(tracegraph, source_name, source_nodes, target_name, target_nodes, sppn=3):\n",
    "    tracegraph.graph = tracegraph.orig_graph.copy()\n",
    "    tracegraph.set_node_set_from_arango_nodes(source_nodes, source_name, source_name)\n",
    "    tracegraph.set_node_set_from_arango_nodes(target_nodes, target_name, target_name)\n",
    "    tracegraph.add_graph_description(f'database: {db_version}\\n')\n",
    "    source_as_query= len(source_nodes)>len(target_nodes)\n",
    "    ok = tracegraph.add_shortest_paths(source_name, target_name, source_as_query, shortest_paths_plus_n=sppn)\n",
    "    if ok:\n",
    "        graphfile = f\"Shortest_paths_from_{source_name}_to_{target_name}.graph\"\n",
    "        tracegraph.write_to_sankey_file(graphfile)\n",
    "    else:\n",
    "        print(f\"No paths found from {source_name} to {target_name}\")\n",
    "    \n",
    "\n",
    "\"\"\"\n",
    "Get traces from each source nodes to all the target nodes in different traces(dropdown list)\n",
    "and also the combined traces from all source nodes to all target_nodes\n",
    "\"\"\"\n",
    "def write_shortest_paths_from_each_source(tracegraph, source_name, source_nodes, target_name, target_nodes, sppn=3):\n",
    "    tracegraph.graph = tracegraph.orig_graph.copy()\n",
    "    tracegraph.set_node_set_from_arango_nodes(source_nodes, source_name, source_name)\n",
    "    tracegraph.set_node_set_from_arango_nodes(target_nodes, target_name, target_name)\n",
    "    tracegraph.add_graph_description(f'database: {db_version}\\n')\n",
    "    \n",
    "    ok = False\n",
    "    for node in source_nodes:\n",
    "        node_key = tracegraph.set_node_set_for_node(node)\n",
    "        ok = ok | tracegraph.add_shortest_paths(node_key, target_name, sources_as_query=False)\n",
    "    ok = ok | tracegraph.add_shortest_paths(source_name, target_name, len(source_nodes)>len(target_nodes), shortest_paths_plus_n=sppn)\n",
    "    if ok:\n",
    "        graphfile = f\"Shortest_paths_from_each_{source_name}_to_{target_name}.graph\"\n",
    "        tracegraph.write_to_sankey_file(graphfile)\n",
    "    else:\n",
    "        print(f\"No paths found from {source_name} to {target_name}\")\n",
    "    \n",
    "\"\"\"\n",
    "Get traces from all source nodes to each target node in different traces(dropdown list)\n",
    "and also the combined traces from all source nodes to all target_nodes\n",
    "\"\"\"\n",
    "def write_shortest_paths_to_each_traget(tracegraph, source_name, source_nodes, target_name, target_nodes, sppn=3):\n",
    "    tracegraph.graph = tracegraph.orig_graph.copy()\n",
    "    tracegraph.set_node_set_from_arango_nodes(source_nodes, source_name, source_name)\n",
    "    tracegraph.set_node_set_from_arango_nodes(target_nodes, target_name, target_name)\n",
    "    tracegraph.add_graph_description(f'database: {db_version}\\n')\n",
    "    \n",
    "    ok = False\n",
    "    for node in target_nodes:\n",
    "        node_key = tracegraph.set_node_set_for_node(node)\n",
    "        ok = ok | tracegraph.add_shortest_paths(source_name, node_key, sources_as_query=True, shortest_paths_plus_n=sppn)\n",
    "    ok = ok | tracegraph.add_shortest_paths(source_name, target_name, len(source_nodes)>len(target_nodes), shortest_paths_plus_n=sppn)\n",
    "    if ok:\n",
    "        graphfile = f\"Shortest_paths_from_{source_name}_to_each_{target_name}.graph\"\n",
    "        tracegraph.write_to_sankey_file(graphfile)\n",
    "    else:\n",
    "        print(f\"No paths found from {source_name} to {target_name}\")"
   ]
  },
  {
   "cell_type": "markdown",
   "metadata": {},
   "source": [
    "## Connect to arango database"
   ]
  },
  {
   "cell_type": "code",
   "execution_count": 15,
   "metadata": {},
   "outputs": [],
   "source": [
    "dbname = os.getenv('ARANGO_DATABASE', db_name)\n",
    "\n",
    "database = BiocycDB(dbname)"
   ]
  },
  {
   "cell_type": "markdown",
   "metadata": {},
   "source": [
    "## Load graph from arango graph database to memery"
   ]
  },
  {
   "cell_type": "code",
   "execution_count": 16,
   "metadata": {},
   "outputs": [
    {
     "name": "stderr",
     "output_type": "stream",
     "text": [
      "INFO:root:MultiDirectedGraph with 33428 nodes and 37886 edges\n"
     ]
    }
   ],
   "source": [
    "tracegraph = ShortestPathTrace(Biocyc(database), multigraph=False)\n",
    "# set up output directory where the excel and graph files will write to\n",
    "tracegraph.datadir = output_dir\n",
    "# initiate tracegraph by loading graph data from arango\n",
    "# a networkx graph is created here.  \n",
    "tracegraph.init_default_graph()"
   ]
  },
  {
   "cell_type": "markdown",
   "metadata": {},
   "source": [
    "## Get source and target nodes\n",
    "Make sure to choose the right method to get the nodes"
   ]
  },
  {
   "cell_type": "code",
   "execution_count": 17,
   "metadata": {},
   "outputs": [
    {
     "name": "stdout",
     "output_type": "stream",
     "text": [
      "file_rows: 3 , nodes matched: 3\n",
      "file_rows: 12 , nodes matched: 12\n"
     ]
    }
   ],
   "source": [
    "source_nodes = get_nodes_by_biocyc_id_from_file(source_file)\n",
    "# source_nodes = get_nodes_by_name(['csgD'], 'Gene')\n",
    "target_nodes = get_nodes_by_biocyc_id_from_file(target_file)"
   ]
  },
  {
   "cell_type": "markdown",
   "metadata": {},
   "source": [
    "## Create (sankey) graph file for shortest paths"
   ]
  },
  {
   "cell_type": "code",
   "execution_count": 18,
   "metadata": {},
   "outputs": [
    {
     "name": "stderr",
     "output_type": "stream",
     "text": [
      "INFO:root:add Shortest paths from metals to biomass-metabolites: 422 paths\n",
      "INFO:root:clean graph: number of graph nodes decreased from 33428 to 127\n",
      "INFO:root:writing output/Shortest_paths_from_metals_to_biomass-metabolites\n"
     ]
    }
   ],
   "source": [
    "write_shortest_paths(tracegraph, source_name, source_nodes, target_name, target_nodes, sppn)"
   ]
  },
  {
   "cell_type": "code",
   "execution_count": 19,
   "metadata": {},
   "outputs": [],
   "source": [
    "# write_shortest_paths_from_each_source(tracegraph, source_name, source_nodes, target_name, target_nodes)"
   ]
  },
  {
   "cell_type": "code",
   "execution_count": 20,
   "metadata": {},
   "outputs": [],
   "source": [
    "# write_shortest_paths_to_each_traget(tracegraph, source_name, source_nodes, target_name, target_nodes)"
   ]
  },
  {
   "cell_type": "markdown",
   "metadata": {
    "collapsed": false
   },
   "source": []
  }
 ],
 "metadata": {
  "kernelspec": {
   "display_name": "Python 3",
   "language": "python",
   "name": "python3"
  },
  "language_info": {
   "codemirror_mode": {
    "name": "ipython",
    "version": 3
   },
   "file_extension": ".py",
   "mimetype": "text/x-python",
   "name": "python",
   "nbconvert_exporter": "python",
   "pygments_lexer": "ipython3",
   "version": "3.8.5"
  }
 },
 "nbformat": 4,
 "nbformat_minor": 4
}
