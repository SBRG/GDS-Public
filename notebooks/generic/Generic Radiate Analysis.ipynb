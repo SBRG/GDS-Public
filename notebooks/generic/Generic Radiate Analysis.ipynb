{
 "cells": [
  {
   "attachments": {},
   "cell_type": "markdown",
   "metadata": {},
   "source": [
    "# Radiate Analysis"
   ]
  },
  {
   "cell_type": "code",
   "execution_count": 1,
   "metadata": {},
   "outputs": [],
   "source": [
    "# install lifelike_gds package if not already installed (e.g. running in Google Colab)\n",
    "import importlib\n",
    "\n",
    "if importlib.util.find_spec('lifelike_gds') is None:\n",
    "  !pip install git+https://github.com/SBRG/GDS-Public\n",
    "\n",
    "# provide the path to the notebook folder in the github repository in case the notebook is run in Google Colab\n",
    "github_path = 'SBRG/GDS-Public/main/notebooks/generic'"
   ]
  },
  {
   "cell_type": "code",
   "execution_count": 2,
   "metadata": {},
   "outputs": [],
   "source": [
    "import pandas as pd\n",
    "import networkx as nx\n",
    "import os\n",
    "import warnings\n",
    "from pathlib import PurePosixPath"
   ]
  },
  {
   "cell_type": "code",
   "execution_count": 3,
   "metadata": {},
   "outputs": [
    {
     "name": "stderr",
     "output_type": "stream",
     "text": [
      "/Users/dommas/.local/share/virtualenvs/GDS-Public-uKBS7cUg/lib/python3.9/site-packages/scipy/__init__.py:146: UserWarning: A NumPy version >=1.17.3 and <1.25.0 is required for this version of SciPy (detected version 1.26.4\n",
      "  warnings.warn(f\"A NumPy version >={np_minversion} and <{np_maxversion}\"\n"
     ]
    }
   ],
   "source": [
    "from lifelike_gds.arango_network.biocyc import *\n",
    "from lifelike_gds.arango_network.radiate_trace import RadiateTrace\n",
    "from lifelike_gds.arango_network.trace_graph_utils import *"
   ]
  },
  {
   "cell_type": "code",
   "execution_count": 4,
   "metadata": {},
   "outputs": [],
   "source": [
    "warnings.filterwarnings('ignore')"
   ]
  },
  {
   "attachments": {},
   "cell_type": "markdown",
   "metadata": {},
   "source": [
    "## Settings\n",
    "Make sure to change to the correct one based on your local settings"
   ]
  },
  {
   "cell_type": "code",
   "execution_count": 5,
   "metadata": {},
   "outputs": [],
   "source": [
    "input_dir = PurePosixPath('input')\n",
    "output_dir = PurePosixPath('output')\n",
    "os.makedirs(output_dir, 0o777, True)\n",
    "# gds database name\n",
    "db_name = 'ecocyc-secondaries'\n",
    "# gds database version, free text, that can be used to describe the graph\n",
    "db_version = 'ecocyc 25.5 secondaries'"
   ]
  },
  {
   "attachments": {},
   "cell_type": "markdown",
   "metadata": {},
   "source": [
    "## Parameters\n",
    "Set parameters\n",
    "- source_name: name for the source entities. \n",
    "- source_file: source file name in input dir\n",
    "- source_ids: list of source biocyc_ids.  You need either source_file or sourc_ids to get the source nodes\n"
   ]
  },
  {
   "cell_type": "code",
   "execution_count": 6,
   "metadata": {},
   "outputs": [],
   "source": [
    "source_name = 'Tyr_genes'\n",
    "source_file = 'Tyr_gene_table.csv'\n",
    "# source_biocyc_ids = ['ZN+2', 'FE+2', 'FE+3']"
   ]
  },
  {
   "attachments": {},
   "cell_type": "markdown",
   "metadata": {},
   "source": [
    "### Define functions to get nodes from reading input file or list of biocyc_ids"
   ]
  },
  {
   "cell_type": "code",
   "execution_count": 7,
   "metadata": {},
   "outputs": [],
   "source": [
    "\"\"\"\n",
    "read column 'biocyc_id' from file, and found the matched nodes\n",
    "\"\"\" \n",
    "def get_nodes_by_biocyc_id_from_file(csv_filename, id_column='biocyc_id'):\n",
    "    csv_file_path = input_dir / csv_filename\n",
    "    if os.path.isfile(csv_file_path):\n",
    "      csv_file_ref = csv_file_path\n",
    "    else:\n",
    "      # if does not exist localy, pull from github\n",
    "      csv_file_ref = f'https://raw.githubusercontent.com/{github_path}/{csv_file_path}'\n",
    "        \n",
    "    df = pd.read_csv(csv_file_ref)\n",
    "    ids = [n for n in df[id_column]]\n",
    "    nodes = database.get_nodes_by_attr(ids, 'biocyc_id')\n",
    "    print('file_rows:', len(df), ', nodes matched:', len(nodes))\n",
    "    return nodes\n",
    "\n",
    "\n",
    "\"\"\"\n",
    "read column 'name' from file.  Need to path the entity type, such as Gene, Compound, Protein.\n",
    "This method only match the name, not the synonyms\n",
    "\"\"\" \n",
    "def get_nodes_by_name_from_file(csv_filename, nodeLabel, name_column='name'):\n",
    "    csv_file_path = input_dir / csv_filename\n",
    "    if os.path.isfile(csv_file_path):\n",
    "      csv_file_ref = csv_file_path\n",
    "    else:\n",
    "      # if does not exist localy, pull from github\n",
    "      csv_file_ref = f'https://raw.githubusercontent.com/{github_path}/{csv_file_path}'\n",
    "        \n",
    "    df = pd.read_csv(csv_file_ref)\n",
    "    names = [n for n in df[name_column]]\n",
    "    nodes = database.get_nodes_by_attr(names, 'name', nodeLabel)\n",
    "    print('file_rows:', len(df), ', nodes matched:', len(nodes))\n",
    "    return nodes\n",
    "\n",
    "\"\"\"\n",
    "Get list of nodes from list of biocyc_ids\n",
    "\"\"\" \n",
    "def get_nodes_by_biocyc_id(biocyc_ids: []):\n",
    "    nodes = database.get_nodes_by_attr(biocyc_ids, 'biocyc_id')\n",
    "    print('ids provided:', len(biocyc_ids), ', nodes matched:', len(nodes))\n",
    "    return nodes\n",
    "\n",
    "\"\"\"\n",
    "Get list of nodes by name\n",
    "names: list of names, e.g. gene names\n",
    "nodeLabel: entity label, e.g. Gene, Protein, Compound, Reaction\n",
    "\"\"\"\n",
    "def get_nodes_by_name(names:[], nodeLabel:str):\n",
    "    nodes = database.get_nodes_by_attr(names, 'name', nodeLabel)\n",
    "    print('names provided:', len(names), ', nodes matched:', len(nodes))\n",
    "    return nodes"
   ]
  },
  {
   "attachments": {},
   "cell_type": "markdown",
   "metadata": {},
   "source": [
    "### Define function to run radiate analysis and export to excel file"
   ]
  },
  {
   "cell_type": "code",
   "execution_count": 8,
   "metadata": {},
   "outputs": [],
   "source": [
    "\"\"\"\n",
    "Perform radiate analysis from the given source_nodes, and export pageranks and rev_pageranks\n",
    "into excel file. The excel file contains two tabs, one for pageranks and one for reverse pageranks.\n",
    "The data are sorted by pagerank (or rev_pagerank)\n",
    "rows_export: define the top ranked rows exported into file\n",
    "\"\"\"\n",
    "def export_radiate_analysis(tracegraph, source_name, source_nodes, rows_export=4000):\n",
    "    tracegraph.graph = tracegraph.orig_graph.copy()\n",
    "    tracegraph.set_node_set_from_arango_nodes(source_nodes, source_name, source_name)\n",
    "    outfile_name = f\"Radiate_analysis_for_{source_name}.xlsx\"\n",
    "    tracegraph.export_pagerank_data(source_name, outfile_name, direction='both', num_nodes=rows_export)"
   ]
  },
  {
   "attachments": {},
   "cell_type": "markdown",
   "metadata": {},
   "source": [
    "## Connect to arango database"
   ]
  },
  {
   "cell_type": "code",
   "execution_count": 9,
   "metadata": {},
   "outputs": [
    {
     "name": "stdout",
     "output_type": "stream",
     "text": [
      "ecocyc-secondaries\n"
     ]
    }
   ],
   "source": [
    "dbname = os.getenv('ARANGO_DATABASE', db_name)\n",
    "print(dbname)\n",
    "\n",
    "database = BiocycDB(dbname)"
   ]
  },
  {
   "attachments": {},
   "cell_type": "markdown",
   "metadata": {},
   "source": [
    "## Load graph from arango graph database to memery"
   ]
  },
  {
   "cell_type": "code",
   "execution_count": 10,
   "metadata": {},
   "outputs": [
    {
     "name": "stderr",
     "output_type": "stream",
     "text": [
      "INFO: MultiDirectedGraph with 33428 nodes and 37417 edges\n"
     ]
    }
   ],
   "source": [
    "tracegraph = RadiateTrace(Biocyc(database))\n",
    "# set up output directory where the excel and graph files will write to\n",
    "tracegraph.datadir = output_dir\n",
    "# initiate tracegraph by loading graph data from arango\n",
    "# a networkx graph is created here.  \n",
    "tracegraph.init_default_graph()"
   ]
  },
  {
   "attachments": {},
   "cell_type": "markdown",
   "metadata": {},
   "source": [
    "## Get source nodes, run radiate analysis, and export data to excel"
   ]
  },
  {
   "cell_type": "code",
   "execution_count": 11,
   "metadata": {},
   "outputs": [
    {
     "name": "stdout",
     "output_type": "stream",
     "text": [
      "file_rows: 10 , nodes matched: 16\n"
     ]
    },
    {
     "name": "stderr",
     "output_type": "stream",
     "text": [
      "INFO: set pagerank and num reach for Tyr_genes\n",
      "INFO: export top 4000 pagerank data into output/Radiate_analysis_for_Tyr_genes.xlsx\n"
     ]
    }
   ],
   "source": [
    "source_nodes = get_nodes_by_name_from_file(source_file, 'Gene', 'gene_name')\n",
    "export_radiate_analysis(tracegraph, source_name, source_nodes)"
   ]
  },
  {
   "attachments": {},
   "cell_type": "markdown",
   "metadata": {
    "collapsed": false,
    "jupyter": {
     "outputs_hidden": false
    }
   },
   "source": []
  }
 ],
 "metadata": {
  "kernelspec": {
   "display_name": "Python 3 (ipykernel)",
   "language": "python",
   "name": "python3"
  },
  "language_info": {
   "codemirror_mode": {
    "name": "ipython",
    "version": 3
   },
   "file_extension": ".py",
   "mimetype": "text/x-python",
   "name": "python",
   "nbconvert_exporter": "python",
   "pygments_lexer": "ipython3",
   "version": "3.9.4"
  }
 },
 "nbformat": 4,
 "nbformat_minor": 4
}
