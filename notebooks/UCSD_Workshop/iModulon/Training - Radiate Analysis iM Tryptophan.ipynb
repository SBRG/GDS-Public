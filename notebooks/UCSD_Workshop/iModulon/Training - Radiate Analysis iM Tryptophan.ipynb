{
 "cells": [
  {
   "cell_type": "markdown",
   "metadata": {},
   "source": [
    "# Imodulon Radiate Analysis\n",
    "#### Select imodulon from the given list"
   ]
  },
  {
   "cell_type": "code",
   "execution_count": 1,
   "metadata": {},
   "outputs": [],
   "source": [
    "imodulons = ['ArgR', 'Histidine', 'Isoleucine', 'Leucine', 'MetJ', 'Tryptophan', 'Tyr']\n",
    "selected_imodulon = 'Tryptophan'"
   ]
  },
  {
   "cell_type": "markdown",
   "metadata": {},
   "source": [
    "### Definition:\n",
    "Given list of nodes (source nodes, e.g. genes, metabolites), find what nodes are influenced by the source nodes , and what nodes influence the source nodes.\n",
    "\n",
    "The algorithm we are using is called __PageRank__. \n",
    "\n",
    "The __PageRank__ algorithm measures the importance of each node within the graph, based on the number incoming relationships and the importance of the corresponding source nodes.  \n",
    "\n",
    "__Personalized PageRank__ is a variation of PageRank which is biased towards a set of source nodes.\n",
    "\n",
    "<img src=\"img/personalized_pagerank.png\" width=\"400\" height=\"200\" />"
   ]
  },
  {
   "cell_type": "markdown",
   "metadata": {},
   "source": [
    "### Steps to run Radiate Analysis\n",
    "1. Connect to arango database\n",
    "2. Find input nodes (source nodes) in arango database\n",
    "3. Load the whole network graph from arango to memory and create a networkx graph. NetworkX is a python network library.\n",
    "4. Perform radiate analysis\n",
    "    - Run personalized pagerank algorithm using source nodes to get pagerank values for each nodes that the source nodes can reach (forward direction). Those are the nodes influenced by the source nodes\n",
    "    - Run personalized reverse pagerank using source nodes to get the reverce pagerank values for each nodes that can reach the source nodes\n",
    "    - Export the pagerank and reverse pagerank values into __excel file__\n",
    "5. The user analyzes the pagerank values (sorting, filtering etc), and select the rows that are interesting\n",
    "6. Create radiate traces for selected nodes"
   ]
  },
  {
   "cell_type": "code",
   "execution_count": 2,
   "metadata": {},
   "outputs": [],
   "source": [
    "# install lifelike_gds package if not already installed (e.g. running in Google Colab)\n",
    "import importlib\n",
    "\n",
    "if importlib.util.find_spec('lifelike_gds') is None:\n",
    "  !pip install git+https://github.com/SBRG/GDS-Public\n",
    "\n",
    "# provide the path to the notebook folder in the github repository in case the notebook is run in Google Colab\n",
    "github_path = 'SBRG/GDS-Public/main/notebooks/UCSD_Workshop/iModulon'"
   ]
  },
  {
   "cell_type": "code",
   "execution_count": 3,
   "metadata": {},
   "outputs": [],
   "source": [
    "import os\n",
    "import pandas as pd\n",
    "import warnings\n",
    "from pathlib import PurePosixPath"
   ]
  },
  {
   "cell_type": "code",
   "execution_count": 4,
   "metadata": {},
   "outputs": [
    {
     "name": "stderr",
     "output_type": "stream",
     "text": [
      "/Users/dommas/.local/share/virtualenvs/GDS-Public-uKBS7cUg/lib/python3.9/site-packages/scipy/__init__.py:146: UserWarning: A NumPy version >=1.17.3 and <1.25.0 is required for this version of SciPy (detected version 1.26.4\n",
      "  warnings.warn(f\"A NumPy version >={np_minversion} and <{np_maxversion}\"\n"
     ]
    }
   ],
   "source": [
    "from lifelike_gds.arango_network.biocyc import *\n",
    "from lifelike_gds.arango_network.radiate_trace import RadiateTrace"
   ]
  },
  {
   "cell_type": "code",
   "execution_count": 5,
   "metadata": {},
   "outputs": [],
   "source": [
    "warnings.filterwarnings('ignore')"
   ]
  },
  {
   "cell_type": "code",
   "execution_count": 6,
   "metadata": {},
   "outputs": [],
   "source": [
    "input_dir = PurePosixPath('input')\n",
    "output_dir = PurePosixPath('output')\n",
    "os.makedirs(output_dir, 0o777, True)\n",
    "# gds database name\n",
    "db_name = 'ecocyc-25'\n",
    "# gds database version, free text, that can be used to describe the graph\n",
    "db_version = 'ecocyc 25.5'"
   ]
  },
  {
   "cell_type": "markdown",
   "metadata": {},
   "source": [
    "## 1. Connect to arango database.\n",
    "If use BioCyc databases (e.g. EcoCyc, HumanCyc), use Class BioCycDB.  \n",
    "If use Reactome database, use Class ReactomeDB. "
   ]
  },
  {
   "cell_type": "code",
   "execution_count": 7,
   "metadata": {},
   "outputs": [],
   "source": [
    "# set database uri, username and password. \n",
    "# dbname is the arango database name for the running arango instance. The default database name is 'arango'\n",
    "dbname = os.getenv('ARANGO_DATABASE', db_name)\n",
    "\n",
    "database = BiocycDB(dbname)"
   ]
  },
  {
   "cell_type": "markdown",
   "metadata": {},
   "source": [
    "## 2. Find input nodes (source nodes) in arango database"
   ]
  },
  {
   "cell_type": "markdown",
   "metadata": {},
   "source": [
    "#### Read selected imodulon genes, and find the gene nodes in arango database."
   ]
  },
  {
   "cell_type": "code",
   "execution_count": null,
   "metadata": {
    "collapsed": false
   },
   "outputs": [],
   "source": [
    "# get source genes \n",
    "source_file_path = input_dir / f'{selected_imodulon}_gene_table.csv'\n",
    "if os.path.isfile(source_file_path):\n",
    "  source_file_ref = source_file_path\n",
    "else:\n",
    "  # if does not exist localy, pull from github\n",
    "  source_file_ref = f'https://raw.githubusercontent.com/{github_path}/{source_file_path}'"
   ]
  },
  {
   "cell_type": "code",
   "outputs": [
    {
     "name": "stdout",
     "output_type": "stream",
     "text": [
      "9\n"
     ]
    },
    {
     "data": {
      "text/html": [
       "<div>\n",
       "<style scoped>\n",
       "    .dataframe tbody tr th:only-of-type {\n",
       "        vertical-align: middle;\n",
       "    }\n",
       "\n",
       "    .dataframe tbody tr th {\n",
       "        vertical-align: top;\n",
       "    }\n",
       "\n",
       "    .dataframe thead th {\n",
       "        text-align: right;\n",
       "    }\n",
       "</style>\n",
       "<table border=\"1\" class=\"dataframe\">\n",
       "  <thead>\n",
       "    <tr style=\"text-align: right;\">\n",
       "      <th></th>\n",
       "      <th>locus</th>\n",
       "      <th>gene_weight</th>\n",
       "      <th>gene_name</th>\n",
       "      <th>gene_product</th>\n",
       "      <th>cog</th>\n",
       "      <th>operon</th>\n",
       "      <th>regulator</th>\n",
       "      <th>L-tryptophan</th>\n",
       "      <th>Trp-tRNA</th>\n",
       "      <th>TrpR</th>\n",
       "      <th>link</th>\n",
       "    </tr>\n",
       "  </thead>\n",
       "  <tbody>\n",
       "    <tr>\n",
       "      <th>0</th>\n",
       "      <td>b1264</td>\n",
       "      <td>0.362185</td>\n",
       "      <td>trpE</td>\n",
       "      <td>anthranilate synthase subunit TrpE</td>\n",
       "      <td>Amino acid transport and metabolism</td>\n",
       "      <td>trpLEDCBA</td>\n",
       "      <td>RpoD,TrpR,Trp-tRNA,rydC</td>\n",
       "      <td>False</td>\n",
       "      <td>True</td>\n",
       "      <td>True</td>\n",
       "      <td>https://ecocyc.org/gene?orgid=ECOLI&amp;id=EG11028</td>\n",
       "    </tr>\n",
       "    <tr>\n",
       "      <th>1</th>\n",
       "      <td>b1263</td>\n",
       "      <td>0.358054</td>\n",
       "      <td>trpD</td>\n",
       "      <td>anthranilate synthase subunit TrpD</td>\n",
       "      <td>Nucleotide transport and metabolism</td>\n",
       "      <td>trpLEDCBA</td>\n",
       "      <td>RpoD,TrpR,Trp-tRNA</td>\n",
       "      <td>False</td>\n",
       "      <td>True</td>\n",
       "      <td>True</td>\n",
       "      <td>https://ecocyc.org/gene?orgid=ECOLI&amp;id=EG11027</td>\n",
       "    </tr>\n",
       "    <tr>\n",
       "      <th>2</th>\n",
       "      <td>b3161</td>\n",
       "      <td>0.277386</td>\n",
       "      <td>mtr</td>\n",
       "      <td>tryptophan:H(+) symporter Mtr</td>\n",
       "      <td>Amino acid transport and metabolism</td>\n",
       "      <td>mtr</td>\n",
       "      <td>RpoD,IHF,HU,TyrR,TrpR,Lrp</td>\n",
       "      <td>False</td>\n",
       "      <td>False</td>\n",
       "      <td>True</td>\n",
       "      <td>https://ecocyc.org/gene?orgid=ECOLI&amp;id=EG10617</td>\n",
       "    </tr>\n",
       "    <tr>\n",
       "      <th>3</th>\n",
       "      <td>b1262</td>\n",
       "      <td>0.267177</td>\n",
       "      <td>trpC</td>\n",
       "      <td>fused indole-3-glycerol phosphate synthase/pho...</td>\n",
       "      <td>Amino acid transport and metabolism</td>\n",
       "      <td>trpLEDCBA</td>\n",
       "      <td>RpoD,ppGpp,TrpR,Trp-tRNA</td>\n",
       "      <td>False</td>\n",
       "      <td>True</td>\n",
       "      <td>True</td>\n",
       "      <td>https://ecocyc.org/gene?orgid=ECOLI&amp;id=EG11026</td>\n",
       "    </tr>\n",
       "    <tr>\n",
       "      <th>4</th>\n",
       "      <td>b1261</td>\n",
       "      <td>0.259091</td>\n",
       "      <td>trpB</td>\n",
       "      <td>tryptophan synthase subunit beta</td>\n",
       "      <td>Amino acid transport and metabolism</td>\n",
       "      <td>trpLEDCBA</td>\n",
       "      <td>RpoD,TrpR,Trp-tRNA</td>\n",
       "      <td>False</td>\n",
       "      <td>True</td>\n",
       "      <td>True</td>\n",
       "      <td>https://ecocyc.org/gene?orgid=ECOLI&amp;id=EG11025</td>\n",
       "    </tr>\n",
       "  </tbody>\n",
       "</table>\n",
       "</div>"
      ],
      "text/plain": [
       "   locus  gene_weight gene_name  \\\n",
       "0  b1264     0.362185      trpE   \n",
       "1  b1263     0.358054      trpD   \n",
       "2  b3161     0.277386       mtr   \n",
       "3  b1262     0.267177      trpC   \n",
       "4  b1261     0.259091      trpB   \n",
       "\n",
       "                                        gene_product  \\\n",
       "0                 anthranilate synthase subunit TrpE   \n",
       "1                 anthranilate synthase subunit TrpD   \n",
       "2                      tryptophan:H(+) symporter Mtr   \n",
       "3  fused indole-3-glycerol phosphate synthase/pho...   \n",
       "4                   tryptophan synthase subunit beta   \n",
       "\n",
       "                                   cog     operon                  regulator  \\\n",
       "0  Amino acid transport and metabolism  trpLEDCBA    RpoD,TrpR,Trp-tRNA,rydC   \n",
       "1  Nucleotide transport and metabolism  trpLEDCBA         RpoD,TrpR,Trp-tRNA   \n",
       "2  Amino acid transport and metabolism        mtr  RpoD,IHF,HU,TyrR,TrpR,Lrp   \n",
       "3  Amino acid transport and metabolism  trpLEDCBA   RpoD,ppGpp,TrpR,Trp-tRNA   \n",
       "4  Amino acid transport and metabolism  trpLEDCBA         RpoD,TrpR,Trp-tRNA   \n",
       "\n",
       "   L-tryptophan  Trp-tRNA  TrpR  \\\n",
       "0         False      True  True   \n",
       "1         False      True  True   \n",
       "2         False     False  True   \n",
       "3         False      True  True   \n",
       "4         False      True  True   \n",
       "\n",
       "                                             link  \n",
       "0  https://ecocyc.org/gene?orgid=ECOLI&id=EG11028  \n",
       "1  https://ecocyc.org/gene?orgid=ECOLI&id=EG11027  \n",
       "2  https://ecocyc.org/gene?orgid=ECOLI&id=EG10617  \n",
       "3  https://ecocyc.org/gene?orgid=ECOLI&id=EG11026  \n",
       "4  https://ecocyc.org/gene?orgid=ECOLI&id=EG11025  "
      ]
     },
     "execution_count": 8,
     "metadata": {},
     "output_type": "execute_result"
    }
   ],
   "source": [
    "df = pd.read_csv(source_file_ref)\n",
    "print(len(df))\n",
    "df.head()"
   ],
   "metadata": {},
   "execution_count": 8
  },
  {
   "cell_type": "code",
   "execution_count": 9,
   "metadata": {},
   "outputs": [
    {
     "name": "stdout",
     "output_type": "stream",
     "text": [
      "source genes: 9, nodes: 13\n"
     ]
    }
   ],
   "source": [
    "source_genes = [n for n in df['gene_name']]\n",
    "source_nodes = database.get_nodes_by_attr(source_genes, 'name', 'Gene')\n",
    "print(f\"source genes: {len(source_genes)}, nodes: {len(source_nodes)}\")"
   ]
  },
  {
   "cell_type": "markdown",
   "metadata": {},
   "source": [
    "## 3. Load the whole network graph from arango to memory and create a networkx graph\n",
    "\n",
    "Create a RadiateTrace instance.  \n",
    "RadiateTrace is a subclass of TraceGraphNx.  TraceGraphNx has a property __graph__, that is a networkx graph. After the graph is created by using data from arango graph database, all the algorithms and traces can be run using the python networkx library."
   ]
  },
  {
   "cell_type": "code",
   "execution_count": 10,
   "metadata": {},
   "outputs": [
    {
     "name": "stderr",
     "output_type": "stream",
     "text": [
      "INFO: MultiDirectedGraph with 33428 nodes and 37886 edges\n"
     ]
    }
   ],
   "source": [
    "tracegraph = RadiateTrace(Biocyc(database))\n",
    "# set up output directory where the excel and graph files will write to\n",
    "tracegraph.datadir = output_dir\n",
    "# initiate tracegraph by loading graph data from arango\n",
    "tracegraph.init_default_graph()"
   ]
  },
  {
   "cell_type": "markdown",
   "metadata": {},
   "source": [
    "## 4. Perform Radiate Analysis\n",
    "Run personalized pagerank analysis and export values to excel file.\n",
    "\n",
    "Pagerank analysis is performed using networkx graph that contains a set of nodes and set of edges. \n",
    "\n",
    "#### Set node set for source nodes\n",
    "A node set is a list of node ids with a set name and description."
   ]
  },
  {
   "cell_type": "code",
   "execution_count": 11,
   "metadata": {},
   "outputs": [],
   "source": [
    "# node set name\n",
    "SOURCE_SET = f'{selected_imodulon}_genes'\n",
    "# node set description\n",
    "source_desc = f'{selected_imodulon} genes'\n",
    "# add the node set to graph\n",
    "tracegraph.set_node_set_from_arango_nodes(source_nodes, name=SOURCE_SET, desc=source_desc)"
   ]
  },
  {
   "cell_type": "markdown",
   "metadata": {},
   "source": [
    "#### Call export_pagerank_data\n",
    "The method export_pagerank_data in RadiateTrace contains a few steps to generate the excel file\n",
    "parameters: \n",
    "- sources:  The node set name for the source nodes\n",
    "- direction: default is __both__. If forward, run pagerank; if reverse, run reverse pagerank; if both, run both forward and reverse pagerank. \n",
    "- num_nodes: the nodes of top pagerank or reverse pagerank nodes that will write to the excel file.  The default is 2000. \n",
    "\n",
    "In the exported excel file, there is also a column named nReach (or rev_nReach), indicating how many source nodes can be reached by the node in the row.  \n",
    "\n",
    "The method will write an excel file with two tabs, one for pageranks and one for reverse pageranks."
   ]
  },
  {
   "cell_type": "code",
   "execution_count": 12,
   "metadata": {},
   "outputs": [
    {
     "name": "stderr",
     "output_type": "stream",
     "text": [
      "INFO: set pagerank and num reach for Tryptophan_genes\n",
      "INFO: export top 4000 pagerank data into output/Radiate_analysis_for_Tryptophan_genes.xlsx\n"
     ]
    }
   ],
   "source": [
    "# get a copy of the original graph, including source node set\n",
    "tracegraph.graph = tracegraph.orig_graph.copy()\n",
    "\n",
    "outfile_name = f\"Radiate_analysis_for_{SOURCE_SET}.xlsx\"\n",
    "tracegraph.export_pagerank_data(SOURCE_SET, outfile_name, direction='both', num_nodes=4000)"
   ]
  },
  {
   "cell_type": "markdown",
   "metadata": {},
   "source": [
    "## 5. Analyze the pagerank output file (excel), and select interesting rows for further analysis"
   ]
  },
  {
   "cell_type": "markdown",
   "metadata": {},
   "source": [
    "Suggestion:   \n",
    "Add a column 'select' for selecting top pagerank nodes, and set any selected rows to 1   "
   ]
  },
  {
   "cell_type": "markdown",
   "metadata": {},
   "source": [
    "## 6. Create radiate traces for the selected nodes"
   ]
  },
  {
   "cell_type": "markdown",
   "metadata": {},
   "source": [
    "#### Read manually selected top ranked nodes from the previous generated pagerank excel file\n",
    "We will read the columns 'select' to get the selected rows. The excel file has two tabs. We will read the selected nodes for pageranks from the 'pageranks' tab, and selected nodes for reverse pageranks from the 'reverse pageranks' tab."
   ]
  },
  {
   "cell_type": "code",
   "execution_count": 13,
   "metadata": {},
   "outputs": [],
   "source": [
    "rankfile_path = input_dir / f'Radiate_analysis_for_{SOURCE_SET}_select.xlsx'\n",
    "if os.path.isfile(rankfile_path):\n",
    "  rankfile_ref = rankfile_path\n",
    "else:\n",
    "  # if does not exist localy, pull from github\n",
    "  rankfile_ref = f'https://raw.githubusercontent.com/{github_path}/{rankfile_path}'"
   ]
  },
  {
   "cell_type": "code",
   "execution_count": 14,
   "metadata": {},
   "outputs": [],
   "source": [
    "df_pagerank = pd.read_excel(rankfile_ref, sheet_name='pageranks', usecols=['eid', 'select'])\n",
    "df_rev_pagerank = pd.read_excel(rankfile_ref, sheet_name='reverse pageranks', usecols=['eid', 'select'])"
   ]
  },
  {
   "cell_type": "markdown",
   "metadata": {},
   "source": [
    "#### Get selected nodes for forward traces"
   ]
  },
  {
   "cell_type": "code",
   "execution_count": 15,
   "metadata": {},
   "outputs": [
    {
     "name": "stdout",
     "output_type": "stream",
     "text": [
      "selected: ['COMPLETE-ARO-PWY', 'TRP', 'TRPSYN-PWY', 'ALL-CHORISMATE-PWY', 'TRANS-RXN-76', 'ANTHRANSYN-CPLX', 'ANTHRANSYN-RXN', 'INDOLE']. length 8\n"
     ]
    }
   ],
   "source": [
    "df_select = df_pagerank[df_pagerank['select']==1]\n",
    "selected = [id for id in df_select['eid']]\n",
    "selected_nodes = database.get_nodes_by_attr(selected, 'eid')\n",
    "print(f\"selected: {selected}. length {len(selected_nodes)}\")"
   ]
  },
  {
   "cell_type": "markdown",
   "metadata": {},
   "source": [
    "#### Get selected nodes for reverse traces"
   ]
  },
  {
   "cell_type": "code",
   "execution_count": 16,
   "metadata": {},
   "outputs": [
    {
     "name": "stdout",
     "output_type": "stream",
     "text": [
      "rev_selected ['TU00067', 'CPLX-125', 'TU3', 'PM00368', 'PM00094', 'TERM0-1154', 'TRP'] len: 7\n"
     ]
    }
   ],
   "source": [
    "df_rev_select = df_rev_pagerank[df_rev_pagerank['select']==1]\n",
    "rev_selected = [id for id in df_rev_select['eid']]\n",
    "rev_selected_nodes = database.get_nodes_by_attr(rev_selected, 'eid')\n",
    "print('rev_selected', rev_selected, 'len:', len(rev_selected))"
   ]
  },
  {
   "cell_type": "markdown",
   "metadata": {},
   "source": [
    "#### Get the original trace graph"
   ]
  },
  {
   "cell_type": "code",
   "execution_count": 17,
   "metadata": {},
   "outputs": [],
   "source": [
    "# get a copy of the original graph, including source node set\n",
    "tracegraph.graph = tracegraph.orig_graph.copy()"
   ]
  },
  {
   "cell_type": "markdown",
   "metadata": {},
   "source": [
    "#### Set node sets for selected nodes"
   ]
  },
  {
   "cell_type": "code",
   "execution_count": 18,
   "metadata": {},
   "outputs": [],
   "source": [
    "# set selected node set\n",
    "SELECTED_SET = 'top_pagerank_nodes'\n",
    "tracegraph.set_node_set_from_arango_nodes(selected_nodes, SELECTED_SET, 'selected top pagerank nodes')\n",
    "\n",
    "# set rev_selected node set\n",
    "REV_SELECTED_SET = 'top_rev_pagerank_nodes'\n",
    "tracegraph.set_node_set_from_arango_nodes(rev_selected_nodes, REV_SELECTED_SET, 'selected top rev pagerank nodes')"
   ]
  },
  {
   "cell_type": "markdown",
   "metadata": {},
   "source": [
    "#### Add traces and write to graph file for visualization\n",
    "Add radiate traces using selected nodes"
   ]
  },
  {
   "cell_type": "code",
   "execution_count": null,
   "metadata": {},
   "outputs": [
    {
     "name": "stderr",
     "output_type": "stream",
     "text": [
      "INFO: Adding trace network Tryptophan_genes to superpathway of chorismate metabolism #1\n",
      "INFO: Adding trace network Tryptophan_genes to ANTHRANSYN-CPLX #2\n",
      "INFO: Adding trace network Tryptophan_genes to Anthranilate synthase-RXN #3\n",
      "INFO: Adding trace network Tryptophan_genes to superpathway of aromatic amino acid biosynthesis #4\n",
      "INFO: Adding trace network Tryptophan_genes to indole #5\n",
      "INFO: Adding trace network Tryptophan_genes to tryptophan:proton symport-RXN #6\n",
      "INFO: Adding trace network Tryptophan_genes to L-tryptophan #7\n",
      "INFO: Adding trace network Tryptophan_genes to L-tryptophan biosynthesis #8\n",
      "INFO: Adding trace network from Tryptophan_genes to top_pagerank_nodes\n",
      "INFO: Adding trace network from TrpR-Tryptophan DNA-binding transcriptional repressor #1 to Tryptophan_genes\n",
      "ERROR: Target 18262 cannot be reachedfrom given sources\n",
      "ERROR: Target 13599 cannot be reachedfrom given sources\n",
      "ERROR: Target 18262 cannot be reachedfrom given sources\n",
      "ERROR: Target 13599 cannot be reachedfrom given sources\n",
      "INFO: Adding trace network from trpLp #2 to Tryptophan_genes\n",
      "ERROR: Target 18262 cannot be reachedfrom given sources\n",
      "ERROR: Target 13599 cannot be reachedfrom given sources\n",
      "ERROR: Target 18262 cannot be reachedfrom given sources\n",
      "ERROR: Target 13599 cannot be reachedfrom given sources\n",
      "INFO: Adding trace network from trpCp #3 to Tryptophan_genes\n",
      "ERROR: Target 18262 cannot be reachedfrom given sources\n",
      "ERROR: Target 13599 cannot be reachedfrom given sources\n",
      "ERROR: Target 18262 cannot be reachedfrom given sources\n",
      "ERROR: Target 13599 cannot be reachedfrom given sources\n",
      "INFO: Adding trace network from TERM0-1154 #4 to Tryptophan_genes\n",
      "ERROR: Target 18262 cannot be reachedfrom given sources\n",
      "ERROR: Target 13599 cannot be reachedfrom given sources\n",
      "ERROR: Target 18262 cannot be reachedfrom given sources\n",
      "ERROR: Target 13599 cannot be reachedfrom given sources\n",
      "INFO: Adding trace network from L-tryptophan #5 to Tryptophan_genes\n",
      "ERROR: Target 18262 cannot be reachedfrom given sources\n",
      "ERROR: Target 13599 cannot be reachedfrom given sources\n",
      "ERROR: Target 18262 cannot be reachedfrom given sources\n",
      "ERROR: Target 13599 cannot be reachedfrom given sources\n",
      "INFO: Adding trace network from trpLEDCBA (tu) #6 to Tryptophan_genes\n"
     ]
    }
   ],
   "source": [
    "# set pagerank and reverse pagerank\n",
    "pagerank_prop = 'pagerank'\n",
    "tracegraph.set_pagerank(SOURCE_SET, pagerank_prop)\n",
    "rev_pagerank_prop = 'rev_pagerank'\n",
    "tracegraph.set_pagerank(SOURCE_SET, rev_pagerank_prop, reverse=True)\n",
    "\n",
    "# add graph description\n",
    "tracegraph.add_graph_description(f'Database: {db_version}\\n')\n",
    "\n",
    "# add traces from source genes to each selected nodes\n",
    "tracegraph.add_traces_from_sources_to_each_selected_nodes(selected_nodes, SOURCE_SET, weighted_prop=pagerank_prop)\n",
    "\n",
    "# add traces from source genes to all selected nodes\n",
    "tracegraph.add_trace_from_sources_to_all_selected_nodes(SELECTED_SET, SOURCE_SET, weighted_prop=pagerank_prop)\n",
    "\n",
    "# add traces from each selected nodes to SOURCE_SET genes\n",
    "tracegraph.add_traces_from_each_selected_nodes_to_targets(rev_selected_nodes,\n",
    "                                                           SOURCE_SET, weighted_prop=rev_pagerank_prop)\n",
    "\n",
    "# add traces from all reverse-selected nodes to SOURCE_SET\n",
    "tracegraph.add_trace_from_all_selected_nodes_to_targets(REV_SELECTED_SET, SOURCE_SET, weighted_prop=rev_pagerank_prop)\n",
    "\n",
    "# write all traces into one graph file\n",
    "graph_file = f'Radiate_traces_for_{SOURCE_SET}.graph'\n",
    "tracegraph.write_to_sankey_file(graph_file)"
   ]
  },
  {
   "cell_type": "markdown",
   "metadata": {
    "collapsed": false
   },
   "source": []
  }
 ],
 "metadata": {
  "kernelspec": {
   "display_name": "Python 3 (ipykernel)",
   "language": "python",
   "name": "python3"
  },
  "language_info": {
   "codemirror_mode": {
    "name": "ipython",
    "version": 3
   },
   "file_extension": ".py",
   "mimetype": "text/x-python",
   "name": "python",
   "nbconvert_exporter": "python",
   "pygments_lexer": "ipython3",
   "version": "3.9.4"
  }
 },
 "nbformat": 4,
 "nbformat_minor": 4
}
