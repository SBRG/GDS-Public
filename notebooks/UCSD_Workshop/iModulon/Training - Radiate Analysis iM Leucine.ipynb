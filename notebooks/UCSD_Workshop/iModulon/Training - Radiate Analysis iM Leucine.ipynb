{
 "cells": [
  {
   "cell_type": "markdown",
   "metadata": {},
   "source": [
    "# Imodulon Radiate Analysis\n",
    "#### Select imodulon from the given list"
   ]
  },
  {
   "cell_type": "code",
   "execution_count": 1,
   "metadata": {},
   "outputs": [],
   "source": [
    "imodulons = ['ArgR', 'Histidine', 'Isoleucine', 'Leucine', 'MetJ', 'Tryptophan', 'Tyr']\n",
    "selected_imodulon = 'Leucine'"
   ]
  },
  {
   "cell_type": "markdown",
   "metadata": {},
   "source": [
    "### Definition:\n",
    "Given list of nodes (source nodes, e.g. genes, metabolites), find what nodes are influenced by the source nodes , and what nodes influence the source nodes.\n",
    "\n",
    "The algorithm we are using is called __PageRank__. \n",
    "\n",
    "The __PageRank__ algorithm measures the importance of each node within the graph, based on the number incoming relationships and the importance of the corresponding source nodes.  \n",
    "\n",
    "__Personalized PageRank__ is a variation of PageRank which is biased towards a set of source nodes.\n",
    "\n",
    "<img src=\"img/personalized_pagerank.png\" width=\"400\" height=\"200\" />"
   ]
  },
  {
   "cell_type": "markdown",
   "metadata": {},
   "source": [
    "### Steps to run Radiate Analysis\n",
    "1. Connect to arango database\n",
    "2. Find input nodes (source nodes) in arango database\n",
    "3. Load the whole network graph from arango to memory and create a networkx graph. NetworkX is a python network library.\n",
    "4. Perform radiate analysis\n",
    "    - Run personalized pagerank algorithm using source nodes to get pagerank values for each nodes that the source nodes can reach (forward direction). Those are the nodes influenced by the source nodes\n",
    "    - Run personalized reverse pagerank using source nodes to get the reverce pagerank values for each nodes that can reach the source nodes\n",
    "    - Export the pagerank and reverse pagerank values into __excel file__\n",
    "5. The user analyzes the pagerank values (sorting, filtering etc), and select the rows that are interesting\n",
    "6. Create radiate traces for selected nodes"
   ]
  },
  {
   "cell_type": "code",
   "execution_count": 2,
   "metadata": {},
   "outputs": [],
   "source": [
    "import os"
   ]
  },
  {
   "cell_type": "code",
   "execution_count": 3,
   "metadata": {},
   "outputs": [],
   "source": [
    "from lifelike_gds.arango_network.biocyc import *\n",
    "from lifelike_gds.arango_network.radiate_trace import RadiateTrace\n",
    "import pandas as pd"
   ]
  },
  {
   "cell_type": "code",
   "execution_count": 4,
   "metadata": {},
   "outputs": [],
   "source": [
    "import warnings\n",
    "warnings.filterwarnings('ignore')"
   ]
  },
  {
   "cell_type": "code",
   "execution_count": 5,
   "metadata": {},
   "outputs": [],
   "source": [
    "input_dir = 'input'\n",
    "output_dir = 'output'\n",
    "os.makedirs(output_dir, 0o777, True)\n",
    "# gds database name\n",
    "db_name = 'ecocyc-25'\n",
    "# gds database version, free text, that can be used to describe the graph\n",
    "db_version = 'ecocyc 25.5'"
   ]
  },
  {
   "cell_type": "markdown",
   "metadata": {},
   "source": [
    "## 1. Connect to arango database.\n",
    "If use BioCyc databases (e.g. EcoCyc, HumanCyc), use Class BioCycDB.  \n",
    "If use Reactome database, use Class ReactomeDB. "
   ]
  },
  {
   "cell_type": "code",
   "execution_count": 6,
   "metadata": {},
   "outputs": [],
   "source": [
    "# set database uri, username and password. \n",
    "# dbname is the arango database name for the running arango instance. The default database name is 'arango'\n",
    "dbname = os.getenv('ARANGO_DATABASE', db_name)\n",
    "\n",
    "database = BiocycDB(dbname)"
   ]
  },
  {
   "cell_type": "markdown",
   "metadata": {},
   "source": [
    "## 2. Find input nodes (source nodes) in arango database"
   ]
  },
  {
   "cell_type": "markdown",
   "metadata": {},
   "source": [
    "#### Read selected imodulon genes, and find the gene nodes in arango database."
   ]
  },
  {
   "cell_type": "code",
   "execution_count": 7,
   "metadata": {},
   "outputs": [
    {
     "name": "stdout",
     "output_type": "stream",
     "text": [
      "5\n"
     ]
    },
    {
     "data": {
      "text/html": [
       "<div>\n",
       "<style scoped>\n",
       "    .dataframe tbody tr th:only-of-type {\n",
       "        vertical-align: middle;\n",
       "    }\n",
       "\n",
       "    .dataframe tbody tr th {\n",
       "        vertical-align: top;\n",
       "    }\n",
       "\n",
       "    .dataframe thead th {\n",
       "        text-align: right;\n",
       "    }\n",
       "</style>\n",
       "<table border=\"1\" class=\"dataframe\">\n",
       "  <thead>\n",
       "    <tr style=\"text-align: right;\">\n",
       "      <th></th>\n",
       "      <th>locus</th>\n",
       "      <th>gene_weight</th>\n",
       "      <th>gene_name</th>\n",
       "      <th>gene_product</th>\n",
       "      <th>cog</th>\n",
       "      <th>operon</th>\n",
       "      <th>regulator</th>\n",
       "      <th>Leu-tRNA</th>\n",
       "      <th>ppGpp</th>\n",
       "      <th>LeuO</th>\n",
       "      <th>link</th>\n",
       "    </tr>\n",
       "  </thead>\n",
       "  <tbody>\n",
       "    <tr>\n",
       "      <th>0</th>\n",
       "      <td>b0072</td>\n",
       "      <td>0.299341</td>\n",
       "      <td>leuC</td>\n",
       "      <td>3-isopropylmalate dehydratase subunit LeuC</td>\n",
       "      <td>Amino acid transport and metabolism</td>\n",
       "      <td>leuLABCD</td>\n",
       "      <td>RpoD,YeiE,LeuO,Leu-tRNA,ppGpp</td>\n",
       "      <td>True</td>\n",
       "      <td>True</td>\n",
       "      <td>True</td>\n",
       "      <td>https://ecocyc.org/gene?orgid=ECOLI&amp;id=EG11576</td>\n",
       "    </tr>\n",
       "    <tr>\n",
       "      <th>1</th>\n",
       "      <td>b0073</td>\n",
       "      <td>0.298021</td>\n",
       "      <td>leuB</td>\n",
       "      <td>3-isopropylmalate dehydrogenase</td>\n",
       "      <td>Energy production and conversion</td>\n",
       "      <td>leuLABCD</td>\n",
       "      <td>RpoD,LeuO,Leu-tRNA,ppGpp</td>\n",
       "      <td>True</td>\n",
       "      <td>True</td>\n",
       "      <td>True</td>\n",
       "      <td>https://ecocyc.org/gene?orgid=ECOLI&amp;id=EG11577</td>\n",
       "    </tr>\n",
       "    <tr>\n",
       "      <th>2</th>\n",
       "      <td>b0074</td>\n",
       "      <td>0.283879</td>\n",
       "      <td>leuA</td>\n",
       "      <td>2-isopropylmalate synthase</td>\n",
       "      <td>Amino acid transport and metabolism</td>\n",
       "      <td>leuLABCD</td>\n",
       "      <td>RpoD,LeuO,Leu-tRNA,Lrp,ppGpp</td>\n",
       "      <td>True</td>\n",
       "      <td>True</td>\n",
       "      <td>True</td>\n",
       "      <td>https://ecocyc.org/gene?orgid=ECOLI&amp;id=EG11226</td>\n",
       "    </tr>\n",
       "    <tr>\n",
       "      <th>3</th>\n",
       "      <td>b0071</td>\n",
       "      <td>0.280944</td>\n",
       "      <td>leuD</td>\n",
       "      <td>3-isopropylmalate dehydratase subunit LeuD</td>\n",
       "      <td>Amino acid transport and metabolism</td>\n",
       "      <td>leuLABCD</td>\n",
       "      <td>RpoD,LeuO,Leu-tRNA,ppGpp</td>\n",
       "      <td>True</td>\n",
       "      <td>True</td>\n",
       "      <td>True</td>\n",
       "      <td>https://ecocyc.org/gene?orgid=ECOLI&amp;id=EG11575</td>\n",
       "    </tr>\n",
       "    <tr>\n",
       "      <th>4</th>\n",
       "      <td>b3774</td>\n",
       "      <td>0.122535</td>\n",
       "      <td>ilvC</td>\n",
       "      <td>ketol-acid reductoisomerase (NADP(+))</td>\n",
       "      <td>Amino acid transport and metabolism</td>\n",
       "      <td>ilvC</td>\n",
       "      <td>RpoD,gcvB,IlvY</td>\n",
       "      <td>False</td>\n",
       "      <td>False</td>\n",
       "      <td>False</td>\n",
       "      <td>https://ecocyc.org/gene?orgid=ECOLI&amp;id=EG10495</td>\n",
       "    </tr>\n",
       "  </tbody>\n",
       "</table>\n",
       "</div>"
      ],
      "text/plain": [
       "   locus  gene_weight gene_name                                gene_product  \\\n",
       "0  b0072     0.299341      leuC  3-isopropylmalate dehydratase subunit LeuC   \n",
       "1  b0073     0.298021      leuB             3-isopropylmalate dehydrogenase   \n",
       "2  b0074     0.283879      leuA                  2-isopropylmalate synthase   \n",
       "3  b0071     0.280944      leuD  3-isopropylmalate dehydratase subunit LeuD   \n",
       "4  b3774     0.122535      ilvC       ketol-acid reductoisomerase (NADP(+))   \n",
       "\n",
       "                                   cog    operon  \\\n",
       "0  Amino acid transport and metabolism  leuLABCD   \n",
       "1     Energy production and conversion  leuLABCD   \n",
       "2  Amino acid transport and metabolism  leuLABCD   \n",
       "3  Amino acid transport and metabolism  leuLABCD   \n",
       "4  Amino acid transport and metabolism      ilvC   \n",
       "\n",
       "                       regulator  Leu-tRNA  ppGpp   LeuO  \\\n",
       "0  RpoD,YeiE,LeuO,Leu-tRNA,ppGpp      True   True   True   \n",
       "1       RpoD,LeuO,Leu-tRNA,ppGpp      True   True   True   \n",
       "2   RpoD,LeuO,Leu-tRNA,Lrp,ppGpp      True   True   True   \n",
       "3       RpoD,LeuO,Leu-tRNA,ppGpp      True   True   True   \n",
       "4                 RpoD,gcvB,IlvY     False  False  False   \n",
       "\n",
       "                                             link  \n",
       "0  https://ecocyc.org/gene?orgid=ECOLI&id=EG11576  \n",
       "1  https://ecocyc.org/gene?orgid=ECOLI&id=EG11577  \n",
       "2  https://ecocyc.org/gene?orgid=ECOLI&id=EG11226  \n",
       "3  https://ecocyc.org/gene?orgid=ECOLI&id=EG11575  \n",
       "4  https://ecocyc.org/gene?orgid=ECOLI&id=EG10495  "
      ]
     },
     "execution_count": 7,
     "metadata": {},
     "output_type": "execute_result"
    }
   ],
   "source": [
    "# get source genes \n",
    "source_file = f'{selected_imodulon}_gene_table.csv'\n",
    "df = pd.read_csv(os.path.join(input_dir, source_file))\n",
    "print(len(df))\n",
    "df.head()"
   ]
  },
  {
   "cell_type": "code",
   "execution_count": 8,
   "metadata": {},
   "outputs": [
    {
     "name": "stdout",
     "output_type": "stream",
     "text": [
      "source genes: 5, nodes: 6\n"
     ]
    }
   ],
   "source": [
    "source_genes = [n for n in df['gene_name']]\n",
    "source_nodes = database.get_nodes_by_attr(source_genes, 'name', 'Gene')\n",
    "print(f\"source genes: {len(source_genes)}, nodes: {len(source_nodes)}\")"
   ]
  },
  {
   "cell_type": "markdown",
   "metadata": {},
   "source": [
    "## 3. Load the whole network graph from arango to memory and create a networkx graph\n",
    "\n",
    "Create a RadiateTrace instance.  \n",
    "RadiateTrace is a subclass of TraceGraphNx.  TraceGraphNx has a property __graph__, that is a networkx graph. After the graph is created by using data from arango graph database, all the algorithms and traces can be run using the python networkx library."
   ]
  },
  {
   "cell_type": "code",
   "execution_count": 9,
   "metadata": {},
   "outputs": [
    {
     "name": "stderr",
     "output_type": "stream",
     "text": [
      "INFO: MultiDirectedGraph with 33428 nodes and 37886 edges\n"
     ]
    }
   ],
   "source": [
    "tracegraph = RadiateTrace(Biocyc(database))\n",
    "# set up output directory where the excel and graph files will write to\n",
    "tracegraph.datadir = output_dir\n",
    "# initiate tracegraph by loading graph data from arango\n",
    "tracegraph.init_default_graph()"
   ]
  },
  {
   "cell_type": "markdown",
   "metadata": {},
   "source": [
    "## 4. Perform Radiate Analysis\n",
    "Run personalized pagerank analysis and export values to excel file.\n",
    "\n",
    "Pagerank analysis is performed using networkx graph that contains a set of nodes and set of edges. \n",
    "\n",
    "#### Set node set for source nodes\n",
    "A node set is a list of node ids with a set name and description."
   ]
  },
  {
   "cell_type": "code",
   "execution_count": 10,
   "metadata": {},
   "outputs": [],
   "source": [
    "# node set name\n",
    "SOURCE_SET = f'{selected_imodulon}_genes'\n",
    "# node set description\n",
    "source_desc = f'{selected_imodulon} genes'\n",
    "# add the node set to graph\n",
    "tracegraph.set_node_set_from_arango_nodes(source_nodes, name=SOURCE_SET, desc=source_desc)"
   ]
  },
  {
   "cell_type": "markdown",
   "metadata": {},
   "source": [
    "#### Call export_pagerank_data\n",
    "The method export_pagerank_data in RadiateTrace contains a few steps to generate the excel file\n",
    "parameters: \n",
    "- sources:  The node set name for the source nodes\n",
    "- direction: default is __both__. If forward, run pagerank; if reverse, run reverse pagerank; if both, run both forward and reverse pagerank. \n",
    "- num_nodes: the nodes of top pagerank or reverse pagerank nodes that will write to the excel file.  The default is 2000. \n",
    "\n",
    "In the exported excel file, there is also a column named nReach (or rev_nReach), indicating how many source nodes can be reached by the node in the row.  \n",
    "\n",
    "The method will write an excel file with two tabs, one for pageranks and one for reverse pageranks."
   ]
  },
  {
   "cell_type": "code",
   "execution_count": 11,
   "metadata": {},
   "outputs": [
    {
     "name": "stderr",
     "output_type": "stream",
     "text": [
      "INFO: set pagerank and num reach for Leucine_genes\n",
      "INFO: export top 4000 pagerank data into output/Radiate_analysis_for_Leucine_genes.xlsx\n"
     ]
    }
   ],
   "source": [
    "# get a copy of the original graph, including source node set\n",
    "tracegraph.graph = tracegraph.orig_graph.copy()\n",
    "\n",
    "outfile_name = f\"Radiate_analysis_for_{SOURCE_SET}.xlsx\"\n",
    "tracegraph.export_pagerank_data(SOURCE_SET, outfile_name, direction='both', num_nodes=4000)"
   ]
  },
  {
   "cell_type": "markdown",
   "metadata": {},
   "source": [
    "## 5. Analyze the pagerank output file (excel), and select interesting rows for further analysis"
   ]
  },
  {
   "cell_type": "markdown",
   "metadata": {},
   "source": [
    "Suggestion:   \n",
    "Add a column 'select' for selecting top pagerank nodes, and set any selected rows to 1   "
   ]
  },
  {
   "cell_type": "markdown",
   "metadata": {},
   "source": [
    "## 6. Create radiate traces for the selected nodes"
   ]
  },
  {
   "cell_type": "markdown",
   "metadata": {},
   "source": [
    "#### Read manually selected top ranked nodes from the previous generated pagerank excel file\n",
    "We will read the columns 'select' to get the selected rows. The excel file has two tabs. We will read the selected nodes for pageranks from the 'pageranks' tab, and selected nodes for reverse pageranks from the 'reverse pageranks' tab."
   ]
  },
  {
   "cell_type": "code",
   "execution_count": 12,
   "metadata": {},
   "outputs": [],
   "source": [
    "rankfile = f\"Radiate_analysis_for_{SOURCE_SET}_select.xlsx\"\n",
    "df_pagerank = pd.read_excel(os.path.join(input_dir, rankfile), sheet_name='pageranks', usecols=['eid', 'select'])\n",
    "df_rev_pagerank = pd.read_excel(os.path.join(input_dir, rankfile), sheet_name='reverse pageranks', usecols=['eid', 'select'])"
   ]
  },
  {
   "cell_type": "markdown",
   "metadata": {},
   "source": [
    "#### Get selected nodes for forward traces"
   ]
  },
  {
   "cell_type": "code",
   "execution_count": 13,
   "metadata": {},
   "outputs": [
    {
     "name": "stdout",
     "output_type": "stream",
     "text": [
      "selected: ['3-ISOPROPYLMALISOM-CPLX', 'RXN-13163_r', '3-CARBOXY-3-HYDROXY-ISOCAPROATE', 'BRANCHED-CHAIN-AA-SYN-PWY', 'LEUSYN-PWY', '2-D-THREO-HYDROXY-3-CARBOXY-ISOCAPROATE', 'KETOLREDUCTOISOM-MONOMER', '2-ISOPROPYLMALATESYN-MONOMER', '3-ISOPROPYLMALDEHYDROG-MONOMER', 'LEUC-MONOMER', 'LEUD-MONOMER', 'RXN-13163', 'RXN-13158']. length 13\n"
     ]
    }
   ],
   "source": [
    "df_select = df_pagerank[df_pagerank['select']==1]\n",
    "selected = [id for id in df_select['eid']]\n",
    "selected_nodes = database.get_nodes_by_attr(selected, 'eid')\n",
    "print(f\"selected: {selected}. length {len(selected_nodes)}\")"
   ]
  },
  {
   "cell_type": "markdown",
   "metadata": {},
   "source": [
    "#### Get selected nodes for reverse traces"
   ]
  },
  {
   "cell_type": "code",
   "execution_count": 14,
   "metadata": {},
   "outputs": [
    {
     "name": "stdout",
     "output_type": "stream",
     "text": [
      "rev_selected ['TU00179', 'TU0-42478', 'PM00250', 'PM0-46180', 'CPLX0-7715', 'TU00090', 'GUANOSINE-5DP-3DP', 'PM00128', 'PD00353', 'PD00519', 'EG10531', 'PD00200', '2-ACETO-LACTATE', 'RXN0-5392_r'] len: 14\n"
     ]
    }
   ],
   "source": [
    "df_rev_select = df_rev_pagerank[df_rev_pagerank['select']==1]\n",
    "rev_selected = [id for id in df_rev_select['eid']]\n",
    "rev_selected_nodes = database.get_nodes_by_attr(rev_selected, 'eid')\n",
    "print('rev_selected', rev_selected, 'len:', len(rev_selected))"
   ]
  },
  {
   "cell_type": "markdown",
   "metadata": {},
   "source": [
    "#### Get the original trace graph"
   ]
  },
  {
   "cell_type": "code",
   "execution_count": 15,
   "metadata": {},
   "outputs": [],
   "source": [
    "# get a copy of the original graph, including source node set\n",
    "tracegraph.graph = tracegraph.orig_graph.copy()"
   ]
  },
  {
   "cell_type": "markdown",
   "metadata": {},
   "source": [
    "#### Set node sets for selected nodes"
   ]
  },
  {
   "cell_type": "code",
   "execution_count": 16,
   "metadata": {},
   "outputs": [],
   "source": [
    "# set selected node set\n",
    "SELECTED_SET = 'top_pagerank_nodes'\n",
    "tracegraph.set_node_set_from_arango_nodes(selected_nodes, SELECTED_SET, 'selected top pagerank nodes')\n",
    "\n",
    "# set rev_selected node set\n",
    "REV_SELECTED_SET = 'top_rev_pagerank_nodes'\n",
    "tracegraph.set_node_set_from_arango_nodes(rev_selected_nodes, REV_SELECTED_SET, 'selected top rev pagerank nodes')"
   ]
  },
  {
   "cell_type": "markdown",
   "metadata": {},
   "source": [
    "#### Add traces and write to graph file for visualization\n",
    "Add radiate traces using selected nodes"
   ]
  },
  {
   "cell_type": "code",
   "execution_count": 17,
   "metadata": {},
   "outputs": [
    {
     "name": "stderr",
     "output_type": "stream",
     "text": [
      "INFO: Adding trace network Leucine_genes to (2R,3S)-3-isopropylmalate #1\n",
      "INFO: Adding trace network Leucine_genes to 2-isopropylmalate synthase #2\n",
      "INFO: Adding trace network Leucine_genes to (2S)-2-isopropylmalate #3\n",
      "INFO: Adding trace network Leucine_genes to 3-isopropylmalate dehydrogenase #4\n",
      "INFO: Adding trace network Leucine_genes to 3-isopropylmalate dehydratase #5\n",
      "INFO: Adding trace network Leucine_genes to superpathway of branched chain amino acid biosynthesis #6\n",
      "INFO: Adding trace network Leucine_genes to ketol-acid reductoisomerase (NADP+) #7\n",
      "INFO: Adding trace network Leucine_genes to 3-isopropylmalate dehydratase subunit LeuC #8\n",
      "INFO: Adding trace network Leucine_genes to 3-isopropylmalate dehydratase subunit LeuD #9\n",
      "INFO: Adding trace network Leucine_genes to L-leucine biosynthesis #10\n",
      "INFO: Adding trace network Leucine_genes to 3-isopropylmalate dehydrogenase-RXN #11\n",
      "INFO: Adding trace network Leucine_genes to 3-isopropylmalate dehydratase-RXN #12\n",
      "INFO: Adding trace network Leucine_genes to 3-isopropylmalate dehydratase-RXN #13\n",
      "INFO: Adding trace network from Leucine_genes to top_pagerank_nodes\n",
      "INFO: Adding trace network from (S)-2-acetolactate #1 to Leucine_genes\n",
      "INFO: Adding trace network from IlvY-2-acetolactate DNA-binding transcriptional dual regulator #2 to Leucine_genes\n",
      "INFO: Adding trace network from leuO #3 to Leucine_genes\n",
      "INFO: Adding trace network from ppGpp #4 to Leucine_genes\n",
      "INFO: Adding trace network from DNA-binding transcriptional dual regulator IlvY #5 to Leucine_genes\n",
      "INFO: Adding trace network from DNA-binding transcriptional dual regulator Lrp #6 to Leucine_genes\n",
      "INFO: Adding trace network from DNA-binding transcriptional dual regulator LeuO #7 to Leucine_genes\n",
      "INFO: Adding trace network from leuLp2 #8 to Leucine_genes\n",
      "INFO: Adding trace network from ilvCp #9 to Leucine_genes\n",
      "INFO: Adding trace network from leuLp1 #10 to Leucine_genes\n",
      "INFO: Adding trace network from RXN0-5392 #11 to Leucine_genes\n",
      "INFO: Adding trace network from leuLABCD (tu) #12 to Leucine_genes\n",
      "INFO: Adding trace network from ilvC (tu) #13 to Leucine_genes\n",
      "INFO: Adding trace network from leuLABCD (tu) #14 to Leucine_genes\n",
      "INFO: Adding trace network from top_rev_pagerank_nodes to Leucine_genes\n",
      "INFO: clean graph: number of graph nodes decreased from 33428 to 88\n",
      "INFO: writing output/Radiate_traces_for_Leucine_genes\n"
     ]
    }
   ],
   "source": [
    "# set pagerank and reverse pagerank\n",
    "pagerank_prop = 'pagerank'\n",
    "tracegraph.set_pagerank(SOURCE_SET, pagerank_prop)\n",
    "rev_pagerank_prop = 'rev_pagerank'\n",
    "tracegraph.set_pagerank(SOURCE_SET, rev_pagerank_prop, reverse=True)\n",
    "\n",
    "# add graph description\n",
    "tracegraph.add_graph_description(f'Database: {db_version}\\n')\n",
    "\n",
    "# add traces from source genes to each selected nodes\n",
    "tracegraph.add_traces_from_sources_to_each_selected_nodes(selected_nodes, SOURCE_SET, weighted_prop=pagerank_prop)\n",
    "\n",
    "# add traces from source genes to all selected nodes\n",
    "tracegraph.add_trace_from_sources_to_all_selected_nodes(SELECTED_SET, SOURCE_SET, weighted_prop=pagerank_prop)\n",
    "\n",
    "# add traces from each selected nodes to SOURCE_SET genes\n",
    "tracegraph.add_traces_from_each_selected_nodes_to_targets(rev_selected_nodes,\n",
    "                                                           SOURCE_SET, weighted_prop=rev_pagerank_prop)\n",
    "\n",
    "# add traces from all reverse-selected nodes to SOURCE_SET\n",
    "tracegraph.add_trace_from_all_selected_nodes_to_targets(REV_SELECTED_SET, SOURCE_SET, weighted_prop=rev_pagerank_prop)\n",
    "\n",
    "# write all traces into one graph file\n",
    "graph_file = f'Radiate_traces_for_{SOURCE_SET}.graph'\n",
    "tracegraph.write_to_sankey_file(graph_file)"
   ]
  },
  {
   "cell_type": "markdown",
   "metadata": {
    "collapsed": false,
    "jupyter": {
     "outputs_hidden": false
    }
   },
   "source": []
  }
 ],
 "metadata": {
  "kernelspec": {
   "display_name": "Python 3 (ipykernel)",
   "language": "python",
   "name": "python3"
  },
  "language_info": {
   "codemirror_mode": {
    "name": "ipython",
    "version": 3
   },
   "file_extension": ".py",
   "mimetype": "text/x-python",
   "name": "python",
   "nbconvert_exporter": "python",
   "pygments_lexer": "ipython3",
   "version": "3.9.4"
  }
 },
 "nbformat": 4,
 "nbformat_minor": 4
}
