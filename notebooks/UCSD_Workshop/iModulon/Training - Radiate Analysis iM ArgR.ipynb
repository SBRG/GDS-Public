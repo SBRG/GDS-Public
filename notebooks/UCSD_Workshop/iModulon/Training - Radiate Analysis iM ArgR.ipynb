{
 "cells": [
  {
   "cell_type": "markdown",
   "metadata": {},
   "source": [
    "# Imodulon Radiate Analysis\n",
    "#### Select imodulon from the given list"
   ]
  },
  {
   "cell_type": "code",
   "execution_count": 1,
   "metadata": {},
   "outputs": [],
   "source": [
    "imodulons = ['ArgR', 'Histidine', 'Isoleucine', 'Leucine', 'MetJ', 'Tryptophan', 'Tyr']\n",
    "selected_imodulon = 'ArgR'"
   ]
  },
  {
   "cell_type": "markdown",
   "metadata": {},
   "source": [
    "### Definition:\n",
    "Given list of nodes (source nodes, e.g. genes, metabolites), find what nodes are influenced by the source nodes , and what nodes influence the source nodes.\n",
    "\n",
    "The algorithm we are using is called __PageRank__. \n",
    "\n",
    "The __PageRank__ algorithm measures the importance of each node within the graph, based on the number incoming relationships and the importance of the corresponding source nodes.  \n",
    "\n",
    "__Personalized PageRank__ is a variation of PageRank which is biased towards a set of source nodes.\n",
    "\n",
    "<img src=\"img/personalized_pagerank.png\" width=\"400\" height=\"200\" />"
   ]
  },
  {
   "cell_type": "markdown",
   "metadata": {},
   "source": [
    "### Steps to run Radiate Analysis\n",
    "1. Connect to arango database\n",
    "2. Find input nodes (source nodes) in arango database\n",
    "3. Load the whole network graph from arango to memory and create a networkx graph. NetworkX is a python network library.\n",
    "4. Perform radiate analysis\n",
    "    - Run personalized pagerank algorithm using source nodes to get pagerank values for each nodes that the source nodes can reach (forward direction). Those are the nodes influenced by the source nodes\n",
    "    - Run personalized reverse pagerank using source nodes to get the reverce pagerank values for each nodes that can reach the source nodes\n",
    "    - Export the pagerank and reverse pagerank values into __excel file__\n",
    "5. The user analyzes the pagerank values (sorting, filtering etc), and select the rows that are interesting\n",
    "6. Create radiate traces for selected nodes"
   ]
  },
  {
   "cell_type": "code",
   "execution_count": 2,
   "metadata": {},
   "outputs": [],
   "source": [
    "import os\n",
    "import sys\n",
    "root = os.getcwd().split('/notebooks/')[0]\n",
    "sys.path.append(os.path.join(root, 'src'))"
   ]
  },
  {
   "cell_type": "code",
   "execution_count": 3,
   "metadata": {},
   "outputs": [],
   "source": [
    "from lifelike_gds.arango_network.biocyc import *\n",
    "from lifelike_gds.arango_network.radiate_trace import RadiateTrace\n",
    "import pandas as pd"
   ]
  },
  {
   "cell_type": "code",
   "execution_count": 4,
   "metadata": {},
   "outputs": [],
   "source": [
    "import warnings\n",
    "warnings.filterwarnings('ignore')"
   ]
  },
  {
   "cell_type": "code",
   "execution_count": 5,
   "metadata": {},
   "outputs": [],
   "source": [
    "input_dir = 'input'\n",
    "output_dir = 'output'\n",
    "os.makedirs(output_dir, 0o777, True)\n",
    "# gds database name\n",
    "db_name = 'ecocyc'\n",
    "# gds database version, free text, that can be used to describe the graph\n",
    "db_version = 'ecocyc 25.5'"
   ]
  },
  {
   "cell_type": "markdown",
   "metadata": {},
   "source": [
    "## 1. Connect to arango database.\n",
    "If use BioCyc databases (e.g. EcoCyc, HumanCyc), use Class BioCycDB.  \n",
    "If use Reactome database, use Class ReactomeDB. "
   ]
  },
  {
   "cell_type": "code",
   "execution_count": 6,
   "metadata": {},
   "outputs": [],
   "source": [
    "# set database uri, username and password. \n",
    "# dbname is the arango database name for the running arango instance. The default database name is 'arango'\n",
    "dbname = os.getenv('ARANGO_DATABASE', db_name)\n",
    "\n",
    "database = BiocycDB(dbname)"
   ]
  },
  {
   "cell_type": "markdown",
   "metadata": {},
   "source": [
    "## 2. Find input nodes (source nodes) in arango database"
   ]
  },
  {
   "cell_type": "markdown",
   "metadata": {},
   "source": [
    "#### Read selected imodulon genes, and find the gene nodes in arango database."
   ]
  },
  {
   "cell_type": "code",
   "execution_count": 7,
   "metadata": {},
   "outputs": [
    {
     "name": "stdout",
     "output_type": "stream",
     "text": [
      "23\n"
     ]
    },
    {
     "data": {
      "text/plain": "   locus  gene_weight gene_name  \\\n0  b4254     0.354798      argI   \n1  b0273     0.315505      argF   \n2  b3958     0.314855      argC   \n3  b2818     0.285344      argA   \n4  b0860     0.279872      artJ   \n\n                                        gene_product  \\\n0                ornithine carbamoyltransferase ArgI   \n1  CP4-6 prophage%3B ornithine carbamoyltransfera...   \n2                N-acetylglutamylphosphate reductase   \n3                         N-acetylglutamate synthase   \n4  L-arginine ABC transporter periplasmic binding...   \n\n                                   cog  operon             regulator  ArgR  \\\n0  Amino acid transport and metabolism    argI  RpoD,ArgR,ppGpp,DksA  True   \n1  Amino acid transport and metabolism    argF       RpoD,ArgR,ppGpp  True   \n2  Amino acid transport and metabolism  argCBH       RpoD,ArgR,ppGpp  True   \n3  Amino acid transport and metabolism    argA   RpoD,ArgR,ppGpp,Lrp  True   \n4  Amino acid transport and metabolism    artJ             RpoD,ArgR  True   \n\n                                             link  \n0  https://ecocyc.org/gene?orgid=ECOLI&id=EG10069  \n1  https://ecocyc.org/gene?orgid=ECOLI&id=EG10067  \n2  https://ecocyc.org/gene?orgid=ECOLI&id=EG10065  \n3  https://ecocyc.org/gene?orgid=ECOLI&id=EG10063  \n4  https://ecocyc.org/gene?orgid=ECOLI&id=EG11628  ",
      "text/html": "<div>\n<style scoped>\n    .dataframe tbody tr th:only-of-type {\n        vertical-align: middle;\n    }\n\n    .dataframe tbody tr th {\n        vertical-align: top;\n    }\n\n    .dataframe thead th {\n        text-align: right;\n    }\n</style>\n<table border=\"1\" class=\"dataframe\">\n  <thead>\n    <tr style=\"text-align: right;\">\n      <th></th>\n      <th>locus</th>\n      <th>gene_weight</th>\n      <th>gene_name</th>\n      <th>gene_product</th>\n      <th>cog</th>\n      <th>operon</th>\n      <th>regulator</th>\n      <th>ArgR</th>\n      <th>link</th>\n    </tr>\n  </thead>\n  <tbody>\n    <tr>\n      <th>0</th>\n      <td>b4254</td>\n      <td>0.354798</td>\n      <td>argI</td>\n      <td>ornithine carbamoyltransferase ArgI</td>\n      <td>Amino acid transport and metabolism</td>\n      <td>argI</td>\n      <td>RpoD,ArgR,ppGpp,DksA</td>\n      <td>True</td>\n      <td>https://ecocyc.org/gene?orgid=ECOLI&amp;id=EG10069</td>\n    </tr>\n    <tr>\n      <th>1</th>\n      <td>b0273</td>\n      <td>0.315505</td>\n      <td>argF</td>\n      <td>CP4-6 prophage%3B ornithine carbamoyltransfera...</td>\n      <td>Amino acid transport and metabolism</td>\n      <td>argF</td>\n      <td>RpoD,ArgR,ppGpp</td>\n      <td>True</td>\n      <td>https://ecocyc.org/gene?orgid=ECOLI&amp;id=EG10067</td>\n    </tr>\n    <tr>\n      <th>2</th>\n      <td>b3958</td>\n      <td>0.314855</td>\n      <td>argC</td>\n      <td>N-acetylglutamylphosphate reductase</td>\n      <td>Amino acid transport and metabolism</td>\n      <td>argCBH</td>\n      <td>RpoD,ArgR,ppGpp</td>\n      <td>True</td>\n      <td>https://ecocyc.org/gene?orgid=ECOLI&amp;id=EG10065</td>\n    </tr>\n    <tr>\n      <th>3</th>\n      <td>b2818</td>\n      <td>0.285344</td>\n      <td>argA</td>\n      <td>N-acetylglutamate synthase</td>\n      <td>Amino acid transport and metabolism</td>\n      <td>argA</td>\n      <td>RpoD,ArgR,ppGpp,Lrp</td>\n      <td>True</td>\n      <td>https://ecocyc.org/gene?orgid=ECOLI&amp;id=EG10063</td>\n    </tr>\n    <tr>\n      <th>4</th>\n      <td>b0860</td>\n      <td>0.279872</td>\n      <td>artJ</td>\n      <td>L-arginine ABC transporter periplasmic binding...</td>\n      <td>Amino acid transport and metabolism</td>\n      <td>artJ</td>\n      <td>RpoD,ArgR</td>\n      <td>True</td>\n      <td>https://ecocyc.org/gene?orgid=ECOLI&amp;id=EG11628</td>\n    </tr>\n  </tbody>\n</table>\n</div>"
     },
     "execution_count": 7,
     "metadata": {},
     "output_type": "execute_result"
    }
   ],
   "source": [
    "# get source genes \n",
    "source_file = f'{selected_imodulon}_gene_table.csv'\n",
    "df = pd.read_csv(os.path.join(input_dir, source_file))\n",
    "print(len(df))\n",
    "df.head()"
   ]
  },
  {
   "cell_type": "code",
   "execution_count": 8,
   "metadata": {},
   "outputs": [
    {
     "name": "stdout",
     "output_type": "stream",
     "text": [
      "source genes: 23, nodes: 36\n"
     ]
    }
   ],
   "source": [
    "source_genes = [n for n in df['gene_name']]\n",
    "source_nodes = database.get_nodes_by_attr(source_genes, 'name', 'Gene')\n",
    "print(f\"source genes: {len(source_genes)}, nodes: {len(source_nodes)}\")"
   ]
  },
  {
   "cell_type": "markdown",
   "metadata": {},
   "source": [
    "## 3. Load the whole network graph from arango to memory and create a networkx graph\n",
    "\n",
    "Create a RadiateTrace instance.  \n",
    "RadiateTrace is a subclass of TraceGraphNx.  TraceGraphNx has a property __graph__, that is a networkx graph. After the graph is created by using data from arango graph database, all the algorithms and traces can be run using the python networkx library."
   ]
  },
  {
   "cell_type": "code",
   "execution_count": 9,
   "metadata": {},
   "outputs": [
    {
     "name": "stderr",
     "output_type": "stream",
     "text": [
      "INFO: MultiDirectedGraph with 33428 nodes and 37886 edges\n"
     ]
    }
   ],
   "source": [
    "tracegraph = RadiateTrace(Biocyc(database))\n",
    "# set up output directory where the excel and graph files will write to\n",
    "tracegraph.datadir = output_dir\n",
    "# initiate tracegraph by loading graph data from arango\n",
    "tracegraph.init_default_graph()"
   ]
  },
  {
   "cell_type": "markdown",
   "metadata": {},
   "source": [
    "## 4. Perform Radiate Analysis\n",
    "Run personalized pagerank analysis and export values to excel file.\n",
    "\n",
    "Pagerank analysis is performed using networkx graph that contains a set of nodes and set of edges. \n",
    "\n",
    "#### Set node set for source nodes\n",
    "A node set is a list of node ids with a set name and description."
   ]
  },
  {
   "cell_type": "code",
   "execution_count": 10,
   "metadata": {},
   "outputs": [],
   "source": [
    "# node set name\n",
    "SOURCE_SET = f'{selected_imodulon}_genes'\n",
    "# node set description\n",
    "source_desc = f'{selected_imodulon} genes'\n",
    "# add the node set to graph\n",
    "tracegraph.set_node_set_from_arango_nodes(source_nodes, name=SOURCE_SET, desc=source_desc)"
   ]
  },
  {
   "cell_type": "markdown",
   "metadata": {},
   "source": [
    "#### Call export_pagerank_data\n",
    "The method export_pagerank_data in RadiateTrace contains a few steps to generate the excel file\n",
    "parameters: \n",
    "- sources:  The node set name for the source nodes\n",
    "- direction: default is __both__. If forward, run pagerank; if reverse, run reverse pagerank; if both, run both forward and reverse pagerank. \n",
    "- num_nodes: the nodes of top pagerank or reverse pagerank nodes that will write to the excel file.  The default is 2000. \n",
    "\n",
    "In the exported excel file, there is also a column named nReach (or rev_nReach), indicating how many source nodes can be reached by the node in the row.  \n",
    "\n",
    "The method will write an excel file with two tabs, one for pageranks and one for reverse pageranks."
   ]
  },
  {
   "cell_type": "code",
   "execution_count": 11,
   "metadata": {},
   "outputs": [
    {
     "name": "stderr",
     "output_type": "stream",
     "text": [
      "INFO: set pagerank and num reach for ArgR_genes\n",
      "INFO: export top 4000 pagerank data into output/Radiate_analysis_for_ArgR_genes.xlsx\n"
     ]
    }
   ],
   "source": [
    "# get a copy of the original graph, including source node set\n",
    "tracegraph.graph = tracegraph.orig_graph.copy()\n",
    "\n",
    "outfile_name = f\"Radiate_analysis_for_{SOURCE_SET}.xlsx\"\n",
    "tracegraph.export_pagerank_data(SOURCE_SET, outfile_name, direction='both', num_nodes=4000)"
   ]
  },
  {
   "cell_type": "markdown",
   "metadata": {},
   "source": [
    "## 5. Analyze the pagerank output file (excel), and select interesting rows for further analysis"
   ]
  },
  {
   "cell_type": "markdown",
   "metadata": {},
   "source": [
    "Suggestion:   \n",
    "Add a column 'select' for selecting top pagerank nodes, and set any selected rows to 1   "
   ]
  },
  {
   "cell_type": "markdown",
   "metadata": {},
   "source": [
    "## 6. Create radiate traces for the selected nodes"
   ]
  },
  {
   "cell_type": "markdown",
   "metadata": {},
   "source": [
    "#### Read manually selected top ranked nodes from the previous generated pagerank excel file\n",
    "We will read the columns 'select' to get the selected rows. The excel file has two tabs. We will read the selected nodes for pageranks from the 'pageranks' tab, and selected nodes for reverse pageranks from the 'reverse pageranks' tab."
   ]
  },
  {
   "cell_type": "code",
   "execution_count": 12,
   "metadata": {},
   "outputs": [],
   "source": [
    "rankfile = f\"Radiate_analysis_for_{SOURCE_SET}_select.xlsx\"\n",
    "df_pagerank = pd.read_excel(os.path.join(input_dir, rankfile), sheet_name='pageranks', usecols=['eid', 'select'])\n",
    "df_rev_pagerank = pd.read_excel(os.path.join(input_dir, rankfile), sheet_name='reverse pageranks', usecols=['eid', 'select'])"
   ]
  },
  {
   "cell_type": "markdown",
   "metadata": {},
   "source": [
    "#### Get selected nodes for forward traces"
   ]
  },
  {
   "cell_type": "code",
   "execution_count": 13,
   "metadata": {},
   "outputs": [
    {
     "name": "stdout",
     "output_type": "stream",
     "text": [
      "selected: ['ARGSYN-PWY', 'ARG+POLYAMINE-SYN', 'ARG', 'ABC-4-RXN', 'ABC-4-CPLX', 'ABC-14-CPLX', 'CPLX0-8120', 'ABC-14-RXN', 'GLUTORN-PWY', 'HIS', 'CARBPSYN-CPLX', 'CARBPSYN-RXN', 'DIPEPTIDES', 'ABC-3-CPLX', 'TRANS-RXN0-288']. length 15\n"
     ]
    }
   ],
   "source": [
    "df_select = df_pagerank[df_pagerank['select']==1]\n",
    "selected = [id for id in df_select['eid']]\n",
    "selected_nodes = database.get_nodes_by_attr(selected, 'eid')\n",
    "print(f\"selected: {selected}. length {len(selected_nodes)}\")"
   ]
  },
  {
   "cell_type": "markdown",
   "metadata": {},
   "source": [
    "#### Get selected nodes for reverse traces"
   ]
  },
  {
   "cell_type": "code",
   "execution_count": 14,
   "metadata": {},
   "outputs": [
    {
     "name": "stdout",
     "output_type": "stream",
     "text": [
      "rev_selected ['CPLX0-228', 'ARG', 'PC00005', 'TU00004', 'RXN0-272', 'GUANOSINE-5DP-3DP', 'PM00005', 'RXN0-272_r', 'TU0-3581', 'TU0-14415', 'PD00353', 'PM0-3781', 'PM0-9577', 'TERM0981', 'PD00194', 'EG10070'] len: 16\n"
     ]
    }
   ],
   "source": [
    "df_rev_select = df_rev_pagerank[df_rev_pagerank['select']==1]\n",
    "rev_selected = [id for id in df_rev_select['eid']]\n",
    "rev_selected_nodes = database.get_nodes_by_attr(rev_selected, 'eid')\n",
    "print('rev_selected', rev_selected, 'len:', len(rev_selected))"
   ]
  },
  {
   "cell_type": "markdown",
   "metadata": {},
   "source": [
    "#### Get the original trace graph"
   ]
  },
  {
   "cell_type": "code",
   "execution_count": 15,
   "metadata": {},
   "outputs": [],
   "source": [
    "# get a copy of the original graph, including source node set\n",
    "tracegraph.graph = tracegraph.orig_graph.copy()"
   ]
  },
  {
   "cell_type": "markdown",
   "metadata": {},
   "source": [
    "#### Set node sets for selected nodes"
   ]
  },
  {
   "cell_type": "code",
   "execution_count": 16,
   "metadata": {},
   "outputs": [],
   "source": [
    "# set selected node set\n",
    "SELECTED_SET = 'top_pagerank_nodes'\n",
    "tracegraph.set_node_set_from_arango_nodes(selected_nodes, SELECTED_SET, 'selected top pagerank nodes')\n",
    "\n",
    "# set rev_selected node set\n",
    "REV_SELECTED_SET = 'top_rev_pagerank_nodes'\n",
    "tracegraph.set_node_set_from_arango_nodes(rev_selected_nodes, REV_SELECTED_SET, 'selected top rev pagerank nodes')"
   ]
  },
  {
   "cell_type": "markdown",
   "metadata": {},
   "source": [
    "#### Add traces and write to graph file for visualization\n",
    "Add radiate traces using selected nodes"
   ]
  },
  {
   "cell_type": "code",
   "execution_count": 17,
   "metadata": {},
   "outputs": [
    {
     "name": "stderr",
     "output_type": "stream",
     "text": [
      "INFO: Adding trace network ArgR_genes to histidine ABC transporter #1\n",
      "INFO: Adding trace network ArgR_genes to ABC-type polar-amino-acid transporter-RXN #2\n",
      "INFO: Adding trace network ArgR_genes to lysine / arginine / ornithine ABC transporter #3\n",
      "INFO: Adding trace network ArgR_genes to L-arginine ABC transporter #4\n",
      "INFO: Adding trace network ArgR_genes to ABC-type polar-amino-acid transporter-RXN #5\n",
      "INFO: Adding trace network ArgR_genes to L-arginine #6\n",
      "INFO: Adding trace network ArgR_genes to superpathway of arginine and polyamine biosynthesis #7\n",
      "WARNING: No traces found.\n",
      "WARNING: No traces found.\n",
      "INFO: Adding trace network ArgR_genes to L-arginine biosynthesis I (via L-ornithine) #8\n",
      "WARNING: No traces found.\n",
      "WARNING: No traces found.\n",
      "INFO: Adding trace network ArgR_genes to CARBPSYN-CPLX #9\n",
      "INFO: Adding trace network ArgR_genes to Carbamoyl-phosphate synthase (glutamine-hydrolyzing)-RXN #10\n",
      "INFO: Adding trace network ArgR_genes to putative ABC transporter ArtPQMI #11\n",
      "WARNING: No traces found.\n",
      "WARNING: No traces found.\n",
      "INFO: Adding trace network ArgR_genes to dipeptide #12\n",
      "INFO: Adding trace network ArgR_genes to L-ornithine biosynthesis I #13\n",
      "WARNING: No traces found.\n",
      "WARNING: No traces found.\n",
      "INFO: Adding trace network ArgR_genes to L-histidine #14\n",
      "INFO: Adding trace network ArgR_genes to dipeptide:proton symport-RXN #15\n",
      "INFO: Adding trace network from ArgR_genes to top_pagerank_nodes\n"
     ]
    },
    {
     "ename": "KeyboardInterrupt",
     "evalue": "",
     "output_type": "error",
     "traceback": [
      "\u001B[0;31m---------------------------------------------------------------------------\u001B[0m",
      "\u001B[0;31mKeyboardInterrupt\u001B[0m                         Traceback (most recent call last)",
      "\u001B[0;32m/var/folders/kc/_w_9wtq15fd3sc8y8dpkr71c9jbj97/T/ipykernel_93784/228959076.py\u001B[0m in \u001B[0;36m<module>\u001B[0;34m\u001B[0m\n\u001B[1;32m     12\u001B[0m \u001B[0;34m\u001B[0m\u001B[0m\n\u001B[1;32m     13\u001B[0m \u001B[0;31m# add traces from source genes to all selected nodes\u001B[0m\u001B[0;34m\u001B[0m\u001B[0;34m\u001B[0m\u001B[0m\n\u001B[0;32m---> 14\u001B[0;31m \u001B[0mtracegraph\u001B[0m\u001B[0;34m.\u001B[0m\u001B[0madd_trace_from_sources_to_all_selected_nodes\u001B[0m\u001B[0;34m(\u001B[0m\u001B[0mSELECTED_SET\u001B[0m\u001B[0;34m,\u001B[0m \u001B[0mSOURCE_SET\u001B[0m\u001B[0;34m,\u001B[0m \u001B[0mweighted_prop\u001B[0m\u001B[0;34m=\u001B[0m\u001B[0mpagerank_prop\u001B[0m\u001B[0;34m)\u001B[0m\u001B[0;34m\u001B[0m\u001B[0;34m\u001B[0m\u001B[0m\n\u001B[0m\u001B[1;32m     15\u001B[0m \u001B[0;34m\u001B[0m\u001B[0m\n\u001B[1;32m     16\u001B[0m \u001B[0;31m# add traces from each selected nodes to SOURCE_SET genes\u001B[0m\u001B[0;34m\u001B[0m\u001B[0;34m\u001B[0m\u001B[0m\n",
      "\u001B[0;32m~/Projects/GDS/src/lifelike_gds/arango_network/radiate_trace.py\u001B[0m in \u001B[0;36madd_trace_from_sources_to_all_selected_nodes\u001B[0;34m(self, selected_nodeset, sources, weighted_prop, trace_name, shortest_paths_plus_n)\u001B[0m\n\u001B[1;32m    149\u001B[0m         \u001B[0;32mif\u001B[0m \u001B[0;32mnot\u001B[0m \u001B[0mweighted_prop\u001B[0m\u001B[0;34m:\u001B[0m\u001B[0;34m\u001B[0m\u001B[0;34m\u001B[0m\u001B[0m\n\u001B[1;32m    150\u001B[0m             \u001B[0mweighted_prop\u001B[0m \u001B[0;34m=\u001B[0m \u001B[0mself\u001B[0m\u001B[0;34m.\u001B[0m\u001B[0mget_pagerank_prop_name\u001B[0m\u001B[0;34m(\u001B[0m\u001B[0msources\u001B[0m\u001B[0;34m)\u001B[0m\u001B[0;34m\u001B[0m\u001B[0;34m\u001B[0m\u001B[0m\n\u001B[0;32m--> 151\u001B[0;31m         self.add_selected_nodes_traces_combined_network(selected_nodeset, weighted_prop, sources, None,\n\u001B[0m\u001B[1;32m    152\u001B[0m                                                         \u001B[0mtrace_name\u001B[0m\u001B[0;34m=\u001B[0m\u001B[0mtrace_name\u001B[0m\u001B[0;34m,\u001B[0m\u001B[0;34m\u001B[0m\u001B[0;34m\u001B[0m\u001B[0m\n\u001B[1;32m    153\u001B[0m                                                         shortest_paths_plus_n=shortest_paths_plus_n)\n",
      "\u001B[0;32m~/Projects/GDS/src/lifelike_gds/arango_network/trace_graph_nx.py\u001B[0m in \u001B[0;36madd_selected_nodes_traces_combined_network\u001B[0;34m(self, selected_nodes_key, weight_property, sources, targets, trace_name, shortest_paths_plus_n)\u001B[0m\n\u001B[1;32m    232\u001B[0m         \u001B[0;32mif\u001B[0m \u001B[0msources\u001B[0m\u001B[0;34m:\u001B[0m\u001B[0;34m\u001B[0m\u001B[0;34m\u001B[0m\u001B[0m\n\u001B[1;32m    233\u001B[0m             \u001B[0mlogging\u001B[0m\u001B[0;34m.\u001B[0m\u001B[0minfo\u001B[0m\u001B[0;34m(\u001B[0m\u001B[0;34mf\"Adding trace network from {sources} to {selected_nodes_key}\"\u001B[0m\u001B[0;34m)\u001B[0m\u001B[0;34m\u001B[0m\u001B[0;34m\u001B[0m\u001B[0m\n\u001B[0;32m--> 234\u001B[0;31m             add_trace_network(\n\u001B[0m\u001B[1;32m    235\u001B[0m                 \u001B[0mself\u001B[0m\u001B[0;34m.\u001B[0m\u001B[0mgraph\u001B[0m\u001B[0;34m,\u001B[0m\u001B[0;34m\u001B[0m\u001B[0;34m\u001B[0m\u001B[0m\n\u001B[1;32m    236\u001B[0m                 \u001B[0msources\u001B[0m\u001B[0;34m,\u001B[0m\u001B[0;34m\u001B[0m\u001B[0;34m\u001B[0m\u001B[0m\n",
      "\u001B[0;32m~/Projects/GDS/src/lifelike_gds/network/trace_utils.py\u001B[0m in \u001B[0;36madd_trace_network\u001B[0;34m(D, sources, targets, sources_key, targets_key, reverse, weight, minsum, maxsum, n_edges, undirected, default_sizing, name, description, query, shortest_paths_plus_n)\u001B[0m\n\u001B[1;32m    111\u001B[0m         \u001B[0mtrace_network\u001B[0m\u001B[0;34m[\u001B[0m\u001B[0;34m\"method\"\u001B[0m\u001B[0;34m]\u001B[0m \u001B[0;34m=\u001B[0m \u001B[0;34mf\"max(sum({maxsum}))\"\u001B[0m\u001B[0;34m\u001B[0m\u001B[0;34m\u001B[0m\u001B[0m\n\u001B[1;32m    112\u001B[0m         \u001B[0;31m# logging.info(f\"Finding maxsum paths from {sources_key} to {targets_key}\")\u001B[0m\u001B[0;34m\u001B[0m\u001B[0;34m\u001B[0m\u001B[0m\n\u001B[0;32m--> 113\u001B[0;31m         \u001B[0mnode_paths\u001B[0m \u001B[0;34m=\u001B[0m \u001B[0mall_node_maxsum_paths\u001B[0m\u001B[0;34m(\u001B[0m\u001B[0mD\u001B[0m\u001B[0;34m,\u001B[0m \u001B[0msources\u001B[0m\u001B[0;34m,\u001B[0m \u001B[0mtargets\u001B[0m\u001B[0;34m,\u001B[0m \u001B[0mmaxsum\u001B[0m\u001B[0;34m,\u001B[0m \u001B[0mn_edges\u001B[0m\u001B[0;34m=\u001B[0m\u001B[0mn_edges\u001B[0m\u001B[0;34m)\u001B[0m\u001B[0;34m\u001B[0m\u001B[0;34m\u001B[0m\u001B[0m\n\u001B[0m\u001B[1;32m    114\u001B[0m     \u001B[0;32melse\u001B[0m\u001B[0;34m:\u001B[0m\u001B[0;34m\u001B[0m\u001B[0;34m\u001B[0m\u001B[0m\n\u001B[1;32m    115\u001B[0m         \u001B[0mmethod\u001B[0m \u001B[0;34m=\u001B[0m \u001B[0mweight\u001B[0m\u001B[0;34m\u001B[0m\u001B[0;34m\u001B[0m\u001B[0m\n",
      "\u001B[0;32m~/Projects/GDS/src/lifelike_gds/network/graph_algorithms.py\u001B[0m in \u001B[0;36mall_node_maxsum_paths\u001B[0;34m(D, sources, targets, node_weight, n_edges)\u001B[0m\n\u001B[1;32m    234\u001B[0m         \u001B[0md\u001B[0m\u001B[0;34m[\u001B[0m\u001B[0mtempkey\u001B[0m\u001B[0;34m]\u001B[0m \u001B[0;34m=\u001B[0m \u001B[0;34m(\u001B[0m\u001B[0;36m1\u001B[0m \u001B[0;34m/\u001B[0m \u001B[0mmax_value\u001B[0m\u001B[0;34m)\u001B[0m \u001B[0;32mif\u001B[0m \u001B[0mmax_value\u001B[0m \u001B[0;34m>\u001B[0m \u001B[0;36m0\u001B[0m \u001B[0;32melse\u001B[0m \u001B[0msys\u001B[0m\u001B[0;34m.\u001B[0m\u001B[0mmaxsize\u001B[0m\u001B[0;34m\u001B[0m\u001B[0;34m\u001B[0m\u001B[0m\n\u001B[1;32m    235\u001B[0m         \u001B[0;31m# d[tempkey] = 1 / _D.nodes[u][node_weight]\u001B[0m\u001B[0;34m\u001B[0m\u001B[0;34m\u001B[0m\u001B[0m\n\u001B[0;32m--> 236\u001B[0;31m     paths = get_all_shortest_paths(\n\u001B[0m\u001B[1;32m    237\u001B[0m         \u001B[0m_D\u001B[0m\u001B[0;34m,\u001B[0m \u001B[0msources\u001B[0m\u001B[0;34m,\u001B[0m \u001B[0mtargets\u001B[0m\u001B[0;34m,\u001B[0m \u001B[0mn_edges\u001B[0m\u001B[0;34m=\u001B[0m\u001B[0mn_edges\u001B[0m\u001B[0;34m,\u001B[0m \u001B[0mweight\u001B[0m\u001B[0;34m=\u001B[0m\u001B[0mtempkey\u001B[0m\u001B[0;34m\u001B[0m\u001B[0;34m\u001B[0m\u001B[0m\n\u001B[1;32m    238\u001B[0m     )\n",
      "\u001B[0;32m~/Projects/GDS/src/lifelike_gds/network/graph_algorithms.py\u001B[0m in \u001B[0;36mget_all_shortest_paths\u001B[0;34m(D, sources, targets, n_edges, weight, undirected)\u001B[0m\n\u001B[1;32m    315\u001B[0m         \u001B[0mD\u001B[0m \u001B[0;34m=\u001B[0m \u001B[0mD\u001B[0m\u001B[0;34m.\u001B[0m\u001B[0mto_undirected\u001B[0m\u001B[0;34m(\u001B[0m\u001B[0;34m)\u001B[0m\u001B[0;34m\u001B[0m\u001B[0;34m\u001B[0m\u001B[0m\n\u001B[1;32m    316\u001B[0m     \u001B[0;32mif\u001B[0m \u001B[0mn_edges\u001B[0m \u001B[0;32mis\u001B[0m \u001B[0;32mNone\u001B[0m\u001B[0;34m:\u001B[0m\u001B[0;34m\u001B[0m\u001B[0;34m\u001B[0m\u001B[0m\n\u001B[0;32m--> 317\u001B[0;31m         \u001B[0;32mreturn\u001B[0m \u001B[0mall_shortest_paths\u001B[0m\u001B[0;34m(\u001B[0m\u001B[0mD\u001B[0m\u001B[0;34m,\u001B[0m \u001B[0msources\u001B[0m\u001B[0;34m,\u001B[0m \u001B[0mtargets\u001B[0m\u001B[0;34m,\u001B[0m \u001B[0mweight\u001B[0m\u001B[0;34m=\u001B[0m\u001B[0mweight\u001B[0m\u001B[0;34m)\u001B[0m\u001B[0;34m\u001B[0m\u001B[0;34m\u001B[0m\u001B[0m\n\u001B[0m\u001B[1;32m    318\u001B[0m     \u001B[0;32melse\u001B[0m\u001B[0;34m:\u001B[0m\u001B[0;34m\u001B[0m\u001B[0;34m\u001B[0m\u001B[0m\n\u001B[1;32m    319\u001B[0m         \u001B[0;31m# NOTE: This is a perfect example of a confusing side effect...what does it even mean to\u001B[0m\u001B[0;34m\u001B[0m\u001B[0;34m\u001B[0m\u001B[0m\n",
      "\u001B[0;32m~/Projects/GDS/src/lifelike_gds/network/graph_algorithms.py\u001B[0m in \u001B[0;36mall_shortest_paths\u001B[0;34m(D, sources, targets, weight)\u001B[0m\n\u001B[1;32m    338\u001B[0m     \u001B[0;34m:\u001B[0m\u001B[0;32mreturn\u001B[0m\u001B[0;34m:\u001B[0m \u001B[0mlist\u001B[0m \u001B[0mof\u001B[0m \u001B[0mnode\u001B[0m \u001B[0mpaths\u001B[0m\u001B[0;34m\u001B[0m\u001B[0;34m\u001B[0m\u001B[0m\n\u001B[1;32m    339\u001B[0m     \"\"\"\n\u001B[0;32m--> 340\u001B[0;31m     return [\n\u001B[0m\u001B[1;32m    341\u001B[0m         \u001B[0mp\u001B[0m\u001B[0;34m\u001B[0m\u001B[0;34m\u001B[0m\u001B[0m\n\u001B[1;32m    342\u001B[0m         \u001B[0;32mfor\u001B[0m \u001B[0ms\u001B[0m \u001B[0;32min\u001B[0m \u001B[0msources\u001B[0m\u001B[0;34m\u001B[0m\u001B[0;34m\u001B[0m\u001B[0m\n",
      "\u001B[0;32m~/Projects/GDS/src/lifelike_gds/network/graph_algorithms.py\u001B[0m in \u001B[0;36m<listcomp>\u001B[0;34m(.0)\u001B[0m\n\u001B[1;32m    342\u001B[0m         \u001B[0;32mfor\u001B[0m \u001B[0ms\u001B[0m \u001B[0;32min\u001B[0m \u001B[0msources\u001B[0m\u001B[0;34m\u001B[0m\u001B[0;34m\u001B[0m\u001B[0m\n\u001B[1;32m    343\u001B[0m         \u001B[0;32mfor\u001B[0m \u001B[0mt\u001B[0m \u001B[0;32min\u001B[0m \u001B[0mtargets\u001B[0m\u001B[0;34m\u001B[0m\u001B[0;34m\u001B[0m\u001B[0m\n\u001B[0;32m--> 344\u001B[0;31m         \u001B[0;32mfor\u001B[0m \u001B[0mp\u001B[0m \u001B[0;32min\u001B[0m \u001B[0m_all_shortest_paths\u001B[0m\u001B[0;34m(\u001B[0m\u001B[0mD\u001B[0m\u001B[0;34m,\u001B[0m \u001B[0ms\u001B[0m\u001B[0;34m,\u001B[0m \u001B[0mt\u001B[0m\u001B[0;34m,\u001B[0m \u001B[0mweight\u001B[0m\u001B[0;34m=\u001B[0m\u001B[0mweight\u001B[0m\u001B[0;34m)\u001B[0m\u001B[0;34m\u001B[0m\u001B[0;34m\u001B[0m\u001B[0m\n\u001B[0m\u001B[1;32m    345\u001B[0m     ]\n\u001B[1;32m    346\u001B[0m \u001B[0;34m\u001B[0m\u001B[0m\n",
      "\u001B[0;32m~/Projects/GDS/src/lifelike_gds/network/graph_algorithms.py\u001B[0m in \u001B[0;36m_all_shortest_paths\u001B[0;34m(D, source, target, weight)\u001B[0m\n\u001B[1;32m    387\u001B[0m     \"\"\"\n\u001B[1;32m    388\u001B[0m     \u001B[0;32mtry\u001B[0m\u001B[0;34m:\u001B[0m\u001B[0;34m\u001B[0m\u001B[0;34m\u001B[0m\u001B[0m\n\u001B[0;32m--> 389\u001B[0;31m         \u001B[0;32mfor\u001B[0m \u001B[0mp\u001B[0m \u001B[0;32min\u001B[0m \u001B[0mnx\u001B[0m\u001B[0;34m.\u001B[0m\u001B[0mall_shortest_paths\u001B[0m\u001B[0;34m(\u001B[0m\u001B[0mD\u001B[0m\u001B[0;34m,\u001B[0m \u001B[0msource\u001B[0m\u001B[0;34m,\u001B[0m \u001B[0mtarget\u001B[0m\u001B[0;34m,\u001B[0m \u001B[0mweight\u001B[0m\u001B[0;34m=\u001B[0m\u001B[0mweight\u001B[0m\u001B[0;34m)\u001B[0m\u001B[0;34m:\u001B[0m\u001B[0;34m\u001B[0m\u001B[0;34m\u001B[0m\u001B[0m\n\u001B[0m\u001B[1;32m    390\u001B[0m             \u001B[0;32myield\u001B[0m \u001B[0mp\u001B[0m\u001B[0;34m\u001B[0m\u001B[0;34m\u001B[0m\u001B[0m\n\u001B[1;32m    391\u001B[0m     \u001B[0;32mexcept\u001B[0m \u001B[0;34m(\u001B[0m\u001B[0mnx\u001B[0m\u001B[0;34m.\u001B[0m\u001B[0mexception\u001B[0m\u001B[0;34m.\u001B[0m\u001B[0mNetworkXNoPath\u001B[0m\u001B[0;34m,\u001B[0m \u001B[0mnx\u001B[0m\u001B[0;34m.\u001B[0m\u001B[0mexception\u001B[0m\u001B[0;34m.\u001B[0m\u001B[0mNodeNotFound\u001B[0m\u001B[0;34m)\u001B[0m\u001B[0;34m:\u001B[0m\u001B[0;34m\u001B[0m\u001B[0;34m\u001B[0m\u001B[0m\n",
      "\u001B[0;32m~/.local/share/virtualenvs/GDS-LpoA9Rxt/lib/python3.9/site-packages/networkx/algorithms/shortest_paths/generic.py\u001B[0m in \u001B[0;36mall_shortest_paths\u001B[0;34m(G, source, target, weight, method)\u001B[0m\n\u001B[1;32m    473\u001B[0m         \u001B[0mpred\u001B[0m \u001B[0;34m=\u001B[0m \u001B[0mnx\u001B[0m\u001B[0;34m.\u001B[0m\u001B[0mpredecessor\u001B[0m\u001B[0;34m(\u001B[0m\u001B[0mG\u001B[0m\u001B[0;34m,\u001B[0m \u001B[0msource\u001B[0m\u001B[0;34m)\u001B[0m\u001B[0;34m\u001B[0m\u001B[0;34m\u001B[0m\u001B[0m\n\u001B[1;32m    474\u001B[0m     \u001B[0;32melif\u001B[0m \u001B[0mmethod\u001B[0m \u001B[0;34m==\u001B[0m \u001B[0;34m\"dijkstra\"\u001B[0m\u001B[0;34m:\u001B[0m\u001B[0;34m\u001B[0m\u001B[0;34m\u001B[0m\u001B[0m\n\u001B[0;32m--> 475\u001B[0;31m         \u001B[0mpred\u001B[0m\u001B[0;34m,\u001B[0m \u001B[0mdist\u001B[0m \u001B[0;34m=\u001B[0m \u001B[0mnx\u001B[0m\u001B[0;34m.\u001B[0m\u001B[0mdijkstra_predecessor_and_distance\u001B[0m\u001B[0;34m(\u001B[0m\u001B[0mG\u001B[0m\u001B[0;34m,\u001B[0m \u001B[0msource\u001B[0m\u001B[0;34m,\u001B[0m \u001B[0mweight\u001B[0m\u001B[0;34m=\u001B[0m\u001B[0mweight\u001B[0m\u001B[0;34m)\u001B[0m\u001B[0;34m\u001B[0m\u001B[0;34m\u001B[0m\u001B[0m\n\u001B[0m\u001B[1;32m    476\u001B[0m     \u001B[0;32melif\u001B[0m \u001B[0mmethod\u001B[0m \u001B[0;34m==\u001B[0m \u001B[0;34m\"bellman-ford\"\u001B[0m\u001B[0;34m:\u001B[0m\u001B[0;34m\u001B[0m\u001B[0;34m\u001B[0m\u001B[0m\n\u001B[1;32m    477\u001B[0m         \u001B[0mpred\u001B[0m\u001B[0;34m,\u001B[0m \u001B[0mdist\u001B[0m \u001B[0;34m=\u001B[0m \u001B[0mnx\u001B[0m\u001B[0;34m.\u001B[0m\u001B[0mbellman_ford_predecessor_and_distance\u001B[0m\u001B[0;34m(\u001B[0m\u001B[0mG\u001B[0m\u001B[0;34m,\u001B[0m \u001B[0msource\u001B[0m\u001B[0;34m,\u001B[0m \u001B[0mweight\u001B[0m\u001B[0;34m=\u001B[0m\u001B[0mweight\u001B[0m\u001B[0;34m)\u001B[0m\u001B[0;34m\u001B[0m\u001B[0;34m\u001B[0m\u001B[0m\n",
      "\u001B[0;32m~/.local/share/virtualenvs/GDS-LpoA9Rxt/lib/python3.9/site-packages/networkx/algorithms/shortest_paths/weighted.py\u001B[0m in \u001B[0;36mdijkstra_predecessor_and_distance\u001B[0;34m(G, source, cutoff, weight)\u001B[0m\n\u001B[1;32m    927\u001B[0m     \u001B[0mweight\u001B[0m \u001B[0;34m=\u001B[0m \u001B[0m_weight_function\u001B[0m\u001B[0;34m(\u001B[0m\u001B[0mG\u001B[0m\u001B[0;34m,\u001B[0m \u001B[0mweight\u001B[0m\u001B[0;34m)\u001B[0m\u001B[0;34m\u001B[0m\u001B[0;34m\u001B[0m\u001B[0m\n\u001B[1;32m    928\u001B[0m     \u001B[0mpred\u001B[0m \u001B[0;34m=\u001B[0m \u001B[0;34m{\u001B[0m\u001B[0msource\u001B[0m\u001B[0;34m:\u001B[0m \u001B[0;34m[\u001B[0m\u001B[0;34m]\u001B[0m\u001B[0;34m}\u001B[0m  \u001B[0;31m# dictionary of predecessors\u001B[0m\u001B[0;34m\u001B[0m\u001B[0;34m\u001B[0m\u001B[0m\n\u001B[0;32m--> 929\u001B[0;31m     \u001B[0;32mreturn\u001B[0m \u001B[0;34m(\u001B[0m\u001B[0mpred\u001B[0m\u001B[0;34m,\u001B[0m \u001B[0m_dijkstra\u001B[0m\u001B[0;34m(\u001B[0m\u001B[0mG\u001B[0m\u001B[0;34m,\u001B[0m \u001B[0msource\u001B[0m\u001B[0;34m,\u001B[0m \u001B[0mweight\u001B[0m\u001B[0;34m,\u001B[0m \u001B[0mpred\u001B[0m\u001B[0;34m=\u001B[0m\u001B[0mpred\u001B[0m\u001B[0;34m,\u001B[0m \u001B[0mcutoff\u001B[0m\u001B[0;34m=\u001B[0m\u001B[0mcutoff\u001B[0m\u001B[0;34m)\u001B[0m\u001B[0;34m)\u001B[0m\u001B[0;34m\u001B[0m\u001B[0;34m\u001B[0m\u001B[0m\n\u001B[0m\u001B[1;32m    930\u001B[0m \u001B[0;34m\u001B[0m\u001B[0m\n\u001B[1;32m    931\u001B[0m \u001B[0;34m\u001B[0m\u001B[0m\n",
      "\u001B[0;32m~/.local/share/virtualenvs/GDS-LpoA9Rxt/lib/python3.9/site-packages/networkx/algorithms/shortest_paths/weighted.py\u001B[0m in \u001B[0;36m_dijkstra\u001B[0;34m(G, source, weight, pred, paths, cutoff, target)\u001B[0m\n\u001B[1;32m    748\u001B[0m \u001B[0;34m\u001B[0m\u001B[0m\n\u001B[1;32m    749\u001B[0m     \"\"\"\n\u001B[0;32m--> 750\u001B[0;31m     return _dijkstra_multisource(\n\u001B[0m\u001B[1;32m    751\u001B[0m         \u001B[0mG\u001B[0m\u001B[0;34m,\u001B[0m \u001B[0;34m[\u001B[0m\u001B[0msource\u001B[0m\u001B[0;34m]\u001B[0m\u001B[0;34m,\u001B[0m \u001B[0mweight\u001B[0m\u001B[0;34m,\u001B[0m \u001B[0mpred\u001B[0m\u001B[0;34m=\u001B[0m\u001B[0mpred\u001B[0m\u001B[0;34m,\u001B[0m \u001B[0mpaths\u001B[0m\u001B[0;34m=\u001B[0m\u001B[0mpaths\u001B[0m\u001B[0;34m,\u001B[0m \u001B[0mcutoff\u001B[0m\u001B[0;34m=\u001B[0m\u001B[0mcutoff\u001B[0m\u001B[0;34m,\u001B[0m \u001B[0mtarget\u001B[0m\u001B[0;34m=\u001B[0m\u001B[0mtarget\u001B[0m\u001B[0;34m\u001B[0m\u001B[0;34m\u001B[0m\u001B[0m\n\u001B[1;32m    752\u001B[0m     )\n",
      "\u001B[0;32m~/.local/share/virtualenvs/GDS-LpoA9Rxt/lib/python3.9/site-packages/networkx/algorithms/shortest_paths/weighted.py\u001B[0m in \u001B[0;36m_dijkstra_multisource\u001B[0;34m(G, sources, weight, pred, paths, cutoff, target)\u001B[0m\n\u001B[1;32m    827\u001B[0m         \u001B[0;32mif\u001B[0m \u001B[0mv\u001B[0m \u001B[0;34m==\u001B[0m \u001B[0mtarget\u001B[0m\u001B[0;34m:\u001B[0m\u001B[0;34m\u001B[0m\u001B[0;34m\u001B[0m\u001B[0m\n\u001B[1;32m    828\u001B[0m             \u001B[0;32mbreak\u001B[0m\u001B[0;34m\u001B[0m\u001B[0;34m\u001B[0m\u001B[0m\n\u001B[0;32m--> 829\u001B[0;31m         \u001B[0;32mfor\u001B[0m \u001B[0mu\u001B[0m\u001B[0;34m,\u001B[0m \u001B[0me\u001B[0m \u001B[0;32min\u001B[0m \u001B[0mG_succ\u001B[0m\u001B[0;34m[\u001B[0m\u001B[0mv\u001B[0m\u001B[0;34m]\u001B[0m\u001B[0;34m.\u001B[0m\u001B[0mitems\u001B[0m\u001B[0;34m(\u001B[0m\u001B[0;34m)\u001B[0m\u001B[0;34m:\u001B[0m\u001B[0;34m\u001B[0m\u001B[0;34m\u001B[0m\u001B[0m\n\u001B[0m\u001B[1;32m    830\u001B[0m             \u001B[0mcost\u001B[0m \u001B[0;34m=\u001B[0m \u001B[0mweight\u001B[0m\u001B[0;34m(\u001B[0m\u001B[0mv\u001B[0m\u001B[0;34m,\u001B[0m \u001B[0mu\u001B[0m\u001B[0;34m,\u001B[0m \u001B[0me\u001B[0m\u001B[0;34m)\u001B[0m\u001B[0;34m\u001B[0m\u001B[0;34m\u001B[0m\u001B[0m\n\u001B[1;32m    831\u001B[0m             \u001B[0;32mif\u001B[0m \u001B[0mcost\u001B[0m \u001B[0;32mis\u001B[0m \u001B[0;32mNone\u001B[0m\u001B[0;34m:\u001B[0m\u001B[0;34m\u001B[0m\u001B[0;34m\u001B[0m\u001B[0m\n",
      "\u001B[0;31mKeyboardInterrupt\u001B[0m: "
     ]
    }
   ],
   "source": [
    "# set pagerank and reverse pagerank\n",
    "pagerank_prop = 'pagerank'\n",
    "tracegraph.set_pagerank(SOURCE_SET, pagerank_prop)\n",
    "rev_pagerank_prop = 'rev_pagerank'\n",
    "tracegraph.set_pagerank(SOURCE_SET, rev_pagerank_prop, reverse=True)\n",
    "\n",
    "# add graph description\n",
    "tracegraph.add_graph_description(f'Database: {db_version}\\n')\n",
    "\n",
    "# add traces from source genes to each selected nodes\n",
    "tracegraph.add_traces_from_sources_to_each_selected_nodes(selected_nodes, SOURCE_SET, weighted_prop=pagerank_prop)\n",
    "\n",
    "# add traces from source genes to all selected nodes\n",
    "tracegraph.add_trace_from_sources_to_all_selected_nodes(SELECTED_SET, SOURCE_SET, weighted_prop=pagerank_prop)\n",
    "\n",
    "# add traces from each selected nodes to SOURCE_SET genes\n",
    "tracegraph.add_traces_from_each_selected_nodes_to_targets(rev_selected_nodes,\n",
    "                                                           SOURCE_SET, weighted_prop=rev_pagerank_prop)\n",
    "\n",
    "# add traces from all reverse-selected nodes to SOURCE_SET\n",
    "tracegraph.add_trace_from_all_selected_nodes_to_targets(REV_SELECTED_SET, SOURCE_SET, weighted_prop=rev_pagerank_prop)"
   ]
  },
  {
   "cell_type": "code",
   "execution_count": null,
   "outputs": [],
   "source": [
    "# write all traces into one graph file\n",
    "graph_file = f'Radiate_traces_for_{SOURCE_SET}.graph'\n",
    "tracegraph.write_to_sankey_file(graph_file)"
   ],
   "metadata": {
    "collapsed": false
   }
  },
  {
   "cell_type": "markdown",
   "source": [],
   "metadata": {
    "collapsed": false
   },
   "execution_count": 41
  }
 ],
 "metadata": {
  "kernelspec": {
   "display_name": "Python 3",
   "language": "python",
   "name": "python3"
  },
  "language_info": {
   "codemirror_mode": {
    "name": "ipython",
    "version": 3
   },
   "file_extension": ".py",
   "mimetype": "text/x-python",
   "name": "python",
   "nbconvert_exporter": "python",
   "pygments_lexer": "ipython3",
   "version": "3.8.5"
  }
 },
 "nbformat": 4,
 "nbformat_minor": 4
}
