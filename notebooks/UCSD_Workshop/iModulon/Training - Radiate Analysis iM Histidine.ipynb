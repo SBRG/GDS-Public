{
 "cells": [
  {
   "cell_type": "markdown",
   "metadata": {},
   "source": [
    "# Imodulon Radiate Analysis\n",
    "#### Select imodulon from the given list"
   ]
  },
  {
   "cell_type": "code",
   "execution_count": 1,
   "metadata": {},
   "outputs": [],
   "source": [
    "imodulons = ['ArgR', 'Histidine', 'Isoleucine', 'Leucine', 'MetJ', 'Tryptophan', 'Tyr']\n",
    "selected_imodulon = 'Histidine'"
   ]
  },
  {
   "cell_type": "markdown",
   "metadata": {},
   "source": [
    "### Definition:\n",
    "Given list of nodes (source nodes, e.g. genes, metabolites), find what nodes are influenced by the source nodes , and what nodes influence the source nodes.\n",
    "\n",
    "The algorithm we are using is called __PageRank__. \n",
    "\n",
    "The __PageRank__ algorithm measures the importance of each node within the graph, based on the number incoming relationships and the importance of the corresponding source nodes.  \n",
    "\n",
    "__Personalized PageRank__ is a variation of PageRank which is biased towards a set of source nodes.\n",
    "\n",
    "<img src=\"img/personalized_pagerank.png\" width=\"400\" height=\"200\" />"
   ]
  },
  {
   "cell_type": "markdown",
   "metadata": {},
   "source": [
    "### Steps to run Radiate Analysis\n",
    "1. Connect to arango database\n",
    "2. Find input nodes (source nodes) in arango database\n",
    "3. Load the whole network graph from arango to memory and create a networkx graph. NetworkX is a python network library.\n",
    "4. Perform radiate analysis\n",
    "    - Run personalized pagerank algorithm using source nodes to get pagerank values for each nodes that the source nodes can reach (forward direction). Those are the nodes influenced by the source nodes\n",
    "    - Run personalized reverse pagerank using source nodes to get the reverce pagerank values for each nodes that can reach the source nodes\n",
    "    - Export the pagerank and reverse pagerank values into __excel file__\n",
    "5. The user analyzes the pagerank values (sorting, filtering etc), and select the rows that are interesting\n",
    "6. Create radiate traces for selected nodes"
   ]
  },
  {
   "cell_type": "code",
   "execution_count": 2,
   "metadata": {},
   "outputs": [],
   "source": [
    "import os\n",
    "import sys\n",
    "root = os.getcwd().split('/notebooks/')[0]\n",
    "sys.path.append(os.path.join(root, 'src'))"
   ]
  },
  {
   "cell_type": "code",
   "execution_count": 3,
   "metadata": {},
   "outputs": [],
   "source": [
    "from lifelike_gds.arango_network.biocyc import *\n",
    "from lifelike_gds.arango_network.radiate_trace import RadiateTrace\n",
    "import pandas as pd"
   ]
  },
  {
   "cell_type": "code",
   "execution_count": 4,
   "metadata": {},
   "outputs": [],
   "source": [
    "import warnings\n",
    "warnings.filterwarnings('ignore')"
   ]
  },
  {
   "cell_type": "code",
   "execution_count": 5,
   "metadata": {},
   "outputs": [],
   "source": [
    "input_dir = 'input'\n",
    "output_dir = 'output'\n",
    "os.makedirs(output_dir, 0o777, True)\n",
    "# gds database name\n",
    "db_name = 'ecocyc'\n",
    "# gds database version, free text, that can be used to describe the graph\n",
    "db_version = 'ecocyc 25.5'"
   ]
  },
  {
   "cell_type": "markdown",
   "metadata": {},
   "source": [
    "## 1. Connect to arango database.\n",
    "If use BioCyc databases (e.g. EcoCyc, HumanCyc), use Class BioCycDB.  \n",
    "If use Reactome database, use Class ReactomeDB. "
   ]
  },
  {
   "cell_type": "code",
   "execution_count": 6,
   "metadata": {},
   "outputs": [],
   "source": [
    "# set database uri, username and password. \n",
    "# dbname is the arango database name for the running arango instance. The default database name is 'arango'\n",
    "dbname = os.getenv('ARANGO_DATABASE', db_name)\n",
    "\n",
    "database = BiocycDB(dbname)"
   ]
  },
  {
   "cell_type": "markdown",
   "metadata": {},
   "source": [
    "## 2. Find input nodes (source nodes) in arango database"
   ]
  },
  {
   "cell_type": "markdown",
   "metadata": {},
   "source": [
    "#### Read selected imodulon genes, and find the gene nodes in arango database."
   ]
  },
  {
   "cell_type": "code",
   "execution_count": 7,
   "metadata": {},
   "outputs": [
    {
     "name": "stdout",
     "output_type": "stream",
     "text": [
      "9\n"
     ]
    },
    {
     "data": {
      "text/plain": "   locus  gene_weight gene_name  \\\n0  b2021     0.326173      hisC   \n1  b2020     0.312962      hisD   \n2  b2023     0.301199      hisH   \n3  b2024     0.300221      hisA   \n4  b2022     0.299776      hisB   \n\n                                        gene_product  \\\n0              histidinol-phosphate aminotransferase   \n1                histidinal/histidinol dehydrogenase   \n2  imidazole glycerol phosphate synthase subunit ...   \n3  1-(5-phosphoribosyl)-5-[(5-phosphoribosylamino...   \n4  imidazoleglycerol-phosphate dehydratase/histid...   \n\n                                   cog        operon            regulator  \\\n0  Amino acid transport and metabolism  hisLGDCBHAFI        His-tRNA,DksA   \n1  Amino acid transport and metabolism  hisLGDCBHAFI  ppGpp,His-tRNA,DksA   \n2  Amino acid transport and metabolism  hisLGDCBHAFI   RpoD,His-tRNA,DksA   \n3  Amino acid transport and metabolism  hisLGDCBHAFI   RpoD,His-tRNA,DksA   \n4  Amino acid transport and metabolism  hisLGDCBHAFI   RpoD,His-tRNA,DksA   \n\n   His-tRNA  DksA                                            link  \n0      True  True  https://ecocyc.org/gene?orgid=ECOLI&id=EG10446  \n1      True  True  https://ecocyc.org/gene?orgid=ECOLI&id=EG10447  \n2      True  True  https://ecocyc.org/gene?orgid=ECOLI&id=EG10450  \n3      True  True  https://ecocyc.org/gene?orgid=ECOLI&id=EG10444  \n4      True  True  https://ecocyc.org/gene?orgid=ECOLI&id=EG10445  ",
      "text/html": "<div>\n<style scoped>\n    .dataframe tbody tr th:only-of-type {\n        vertical-align: middle;\n    }\n\n    .dataframe tbody tr th {\n        vertical-align: top;\n    }\n\n    .dataframe thead th {\n        text-align: right;\n    }\n</style>\n<table border=\"1\" class=\"dataframe\">\n  <thead>\n    <tr style=\"text-align: right;\">\n      <th></th>\n      <th>locus</th>\n      <th>gene_weight</th>\n      <th>gene_name</th>\n      <th>gene_product</th>\n      <th>cog</th>\n      <th>operon</th>\n      <th>regulator</th>\n      <th>His-tRNA</th>\n      <th>DksA</th>\n      <th>link</th>\n    </tr>\n  </thead>\n  <tbody>\n    <tr>\n      <th>0</th>\n      <td>b2021</td>\n      <td>0.326173</td>\n      <td>hisC</td>\n      <td>histidinol-phosphate aminotransferase</td>\n      <td>Amino acid transport and metabolism</td>\n      <td>hisLGDCBHAFI</td>\n      <td>His-tRNA,DksA</td>\n      <td>True</td>\n      <td>True</td>\n      <td>https://ecocyc.org/gene?orgid=ECOLI&amp;id=EG10446</td>\n    </tr>\n    <tr>\n      <th>1</th>\n      <td>b2020</td>\n      <td>0.312962</td>\n      <td>hisD</td>\n      <td>histidinal/histidinol dehydrogenase</td>\n      <td>Amino acid transport and metabolism</td>\n      <td>hisLGDCBHAFI</td>\n      <td>ppGpp,His-tRNA,DksA</td>\n      <td>True</td>\n      <td>True</td>\n      <td>https://ecocyc.org/gene?orgid=ECOLI&amp;id=EG10447</td>\n    </tr>\n    <tr>\n      <th>2</th>\n      <td>b2023</td>\n      <td>0.301199</td>\n      <td>hisH</td>\n      <td>imidazole glycerol phosphate synthase subunit ...</td>\n      <td>Amino acid transport and metabolism</td>\n      <td>hisLGDCBHAFI</td>\n      <td>RpoD,His-tRNA,DksA</td>\n      <td>True</td>\n      <td>True</td>\n      <td>https://ecocyc.org/gene?orgid=ECOLI&amp;id=EG10450</td>\n    </tr>\n    <tr>\n      <th>3</th>\n      <td>b2024</td>\n      <td>0.300221</td>\n      <td>hisA</td>\n      <td>1-(5-phosphoribosyl)-5-[(5-phosphoribosylamino...</td>\n      <td>Amino acid transport and metabolism</td>\n      <td>hisLGDCBHAFI</td>\n      <td>RpoD,His-tRNA,DksA</td>\n      <td>True</td>\n      <td>True</td>\n      <td>https://ecocyc.org/gene?orgid=ECOLI&amp;id=EG10444</td>\n    </tr>\n    <tr>\n      <th>4</th>\n      <td>b2022</td>\n      <td>0.299776</td>\n      <td>hisB</td>\n      <td>imidazoleglycerol-phosphate dehydratase/histid...</td>\n      <td>Amino acid transport and metabolism</td>\n      <td>hisLGDCBHAFI</td>\n      <td>RpoD,His-tRNA,DksA</td>\n      <td>True</td>\n      <td>True</td>\n      <td>https://ecocyc.org/gene?orgid=ECOLI&amp;id=EG10445</td>\n    </tr>\n  </tbody>\n</table>\n</div>"
     },
     "execution_count": 7,
     "metadata": {},
     "output_type": "execute_result"
    }
   ],
   "source": [
    "# get source genes \n",
    "source_file = f'{selected_imodulon}_gene_table.csv'\n",
    "df = pd.read_csv(os.path.join(input_dir, source_file))\n",
    "print(len(df))\n",
    "df.head()"
   ]
  },
  {
   "cell_type": "code",
   "execution_count": 8,
   "metadata": {},
   "outputs": [
    {
     "name": "stdout",
     "output_type": "stream",
     "text": [
      "source genes: 9, nodes: 10\n"
     ]
    }
   ],
   "source": [
    "source_genes = [n for n in df['gene_name']]\n",
    "source_nodes = database.get_nodes_by_attr(source_genes, 'name', 'Gene')\n",
    "print(f\"source genes: {len(source_genes)}, nodes: {len(source_nodes)}\")"
   ]
  },
  {
   "cell_type": "markdown",
   "metadata": {},
   "source": [
    "## 3. Load the whole network graph from arango to memory and create a networkx graph\n",
    "\n",
    "Create a RadiateTrace instance.  \n",
    "RadiateTrace is a subclass of TraceGraphNx.  TraceGraphNx has a property __graph__, that is a networkx graph. After the graph is created by using data from arango graph database, all the algorithms and traces can be run using the python networkx library."
   ]
  },
  {
   "cell_type": "code",
   "execution_count": 9,
   "metadata": {},
   "outputs": [
    {
     "name": "stderr",
     "output_type": "stream",
     "text": [
      "INFO:root:MultiDirectedGraph with 33428 nodes and 37886 edges\n"
     ]
    }
   ],
   "source": [
    "tracegraph = RadiateTrace(Biocyc(database))\n",
    "# set up output directory where the excel and graph files will write to\n",
    "tracegraph.datadir = output_dir\n",
    "tracegraph.init_default_graph()"
   ]
  },
  {
   "cell_type": "markdown",
   "metadata": {},
   "source": [
    "## 4. Perform Radiate Analysis\n",
    "Run personalized pagerank analysis and export values to excel file.\n",
    "\n",
    "Pagerank analysis is performed using networkx graph that contains a set of nodes and set of edges. \n",
    "\n",
    "#### Set node set for source nodes\n",
    "A node set is a list of node ids with a set name and description."
   ]
  },
  {
   "cell_type": "code",
   "execution_count": 10,
   "metadata": {},
   "outputs": [],
   "source": [
    "# node set name\n",
    "SOURCE_SET = f'{selected_imodulon}_genes'\n",
    "# node set description\n",
    "source_desc = f'{selected_imodulon} genes'\n",
    "# add the node set to graph\n",
    "tracegraph.set_node_set_from_arango_nodes(source_nodes, name=SOURCE_SET, desc=source_desc)"
   ]
  },
  {
   "cell_type": "markdown",
   "metadata": {},
   "source": [
    "#### Call export_pagerank_data\n",
    "The method export_pagerank_data in RadiateTrace contains a few steps to generate the excel file\n",
    "parameters: \n",
    "- sources:  The node set name for the source nodes\n",
    "- direction: default is __both__. If forward, run pagerank; if reverse, run reverse pagerank; if both, run both forward and reverse pagerank. \n",
    "- num_nodes: the nodes of top pagerank or reverse pagerank nodes that will write to the excel file.  The default is 2000. \n",
    "\n",
    "In the exported excel file, there is also a column named nReach (or rev_nReach), indicating how many source nodes can be reached by the node in the row.  \n",
    "\n",
    "The method will write an excel file with two tabs, one for pageranks and one for reverse pageranks."
   ]
  },
  {
   "cell_type": "code",
   "execution_count": 11,
   "metadata": {},
   "outputs": [
    {
     "name": "stderr",
     "output_type": "stream",
     "text": [
      "INFO:root:set pagerank and num reach for Histidine_genes\n",
      "INFO:root:export top 4000 pagerank data into output/Radiate_analysis_for_Histidine_genes.xlsx\n"
     ]
    }
   ],
   "source": [
    "# get a copy of the original graph, including source node set\n",
    "tracegraph.graph = tracegraph.orig_graph.copy()\n",
    "\n",
    "outfile_name = f\"Radiate_analysis_for_{SOURCE_SET}.xlsx\"\n",
    "tracegraph.export_pagerank_data(SOURCE_SET, outfile_name, direction='both', num_nodes=4000)"
   ]
  },
  {
   "cell_type": "markdown",
   "metadata": {},
   "source": [
    "## 5. Analyze the pagerank output file (excel), and select interesting rows for further analysis"
   ]
  },
  {
   "cell_type": "markdown",
   "metadata": {},
   "source": [
    "Suggestion:   \n",
    "Add a column 'select' for selecting top pagerank nodes, and set any selected rows to 1   "
   ]
  },
  {
   "cell_type": "markdown",
   "metadata": {},
   "source": [
    "## 6. Create radiate traces for the selected nodes"
   ]
  },
  {
   "cell_type": "markdown",
   "metadata": {},
   "source": [
    "#### Read manually selected top ranked nodes from the previous generated pagerank excel file\n",
    "We will read the columns 'select' to get the selected rows. The excel file has two tabs. We will read the selected nodes for pageranks from the 'pageranks' tab, and selected nodes for reverse pageranks from the 'reverse pageranks' tab."
   ]
  },
  {
   "cell_type": "code",
   "execution_count": 12,
   "metadata": {},
   "outputs": [],
   "source": [
    "rankfile = f\"Radiate_analysis_for_{SOURCE_SET}_select.xlsx\"\n",
    "df_pagerank = pd.read_excel(os.path.join(input_dir, rankfile), sheet_name='pageranks', usecols=['eid', 'select'])\n",
    "df_rev_pagerank = pd.read_excel(os.path.join(input_dir, rankfile), sheet_name='reverse pageranks', usecols=['eid', 'select'])"
   ]
  },
  {
   "cell_type": "markdown",
   "metadata": {},
   "source": [
    "#### Get selected nodes for forward traces"
   ]
  },
  {
   "cell_type": "code",
   "execution_count": 13,
   "metadata": {},
   "outputs": [
    {
     "name": "stdout",
     "output_type": "stream",
     "text": [
      "selected: ['HISTSYN-PWY', 'PRPP-PWY', 'GLUTAMIDOTRANS-CPLX', 'GLUTAMIDOTRANS-RXN', 'PRIBFAICARPISOM-RXN', 'PSERPHOSPHA-MONOMER', 'CYCLASE-MONOMER', 'PRIBFAICARPISOM-MONOMER', 'HISTDEHYD-MONOMER', 'GLUTAMIDOTRANS-MONOMER']. length 10\n"
     ]
    }
   ],
   "source": [
    "df_select = df_pagerank[df_pagerank['select']==1]\n",
    "selected = [id for id in df_select['eid']]\n",
    "selected_nodes = database.get_nodes_by_attr(selected, 'eid')\n",
    "print(f\"selected: {selected}. length {len(selected_nodes)}\")"
   ]
  },
  {
   "cell_type": "markdown",
   "metadata": {},
   "source": [
    "#### Get selected nodes for reverse traces"
   ]
  },
  {
   "cell_type": "code",
   "execution_count": 14,
   "metadata": {},
   "outputs": [
    {
     "name": "stdout",
     "output_type": "stream",
     "text": [
      "rev_selected ['CPLX0-8070', 'TU00285', 'PM0-7141', 'GUANOSINE-5DP-3DP', 'TU0-6650', 'EG10230-MONOMER', 'PM00398', 'RXN0-6707_r', 'RXN0-6707'] len: 9\n"
     ]
    }
   ],
   "source": [
    "df_rev_select = df_rev_pagerank[df_rev_pagerank['select']==1]\n",
    "rev_selected = [id for id in df_rev_select['eid']]\n",
    "rev_selected_nodes = database.get_nodes_by_attr(rev_selected, 'eid')\n",
    "print('rev_selected', rev_selected, 'len:', len(rev_selected))"
   ]
  },
  {
   "cell_type": "markdown",
   "metadata": {},
   "source": [
    "#### Get the original trace graph"
   ]
  },
  {
   "cell_type": "code",
   "execution_count": 15,
   "metadata": {},
   "outputs": [],
   "source": [
    "# get a copy of the original graph, including source node set\n",
    "tracegraph.graph = tracegraph.orig_graph.copy()"
   ]
  },
  {
   "cell_type": "markdown",
   "metadata": {},
   "source": [
    "#### Set node sets for selected nodes"
   ]
  },
  {
   "cell_type": "code",
   "execution_count": 16,
   "metadata": {},
   "outputs": [],
   "source": [
    "# set selected node set\n",
    "SELECTED_SET = 'top_pagerank_nodes'\n",
    "tracegraph.set_node_set_from_arango_nodes(selected_nodes, SELECTED_SET, 'selected top pagerank nodes')\n",
    "\n",
    "# set rev_selected node set\n",
    "REV_SELECTED_SET = 'top_rev_pagerank_nodes'\n",
    "tracegraph.set_node_set_from_arango_nodes(rev_selected_nodes, REV_SELECTED_SET, 'selected top rev pagerank nodes')"
   ]
  },
  {
   "cell_type": "markdown",
   "metadata": {},
   "source": [
    "#### Add traces and write to graph file for visualization\n",
    "Add radiate traces using selected nodes"
   ]
  },
  {
   "cell_type": "code",
   "execution_count": 17,
   "metadata": {},
   "outputs": [
    {
     "name": "stderr",
     "output_type": "stream",
     "text": [
      "INFO:root:Adding trace network Histidine_genes to imidazole glycerol phosphate synthase subunit HisF #1\n",
      "INFO:root:Adding trace network Histidine_genes to GLUTAMIDOTRANS-CPLX #2\n",
      "INFO:root:Adding trace network Histidine_genes to imidazole glycerol phosphate synthase subunit HisH #3\n",
      "INFO:root:Adding trace network Histidine_genes to Imidazole glycerol-phosphate synthase-RXN #4\n",
      "INFO:root:Adding trace network Histidine_genes to histidinal/histidinol dehydrogenase #5\n",
      "INFO:root:Adding trace network Histidine_genes to L-histidine biosynthesis #6\n",
      "WARNING:root:No traces found.\n",
      "WARNING:root:No traces found.\n",
      "INFO:root:Adding trace network Histidine_genes to PRIBFAICARPISOM-MONOMER #7\n",
      "INFO:root:Adding trace network Histidine_genes to isomerase-RXN #8\n",
      "INFO:root:Adding trace network Histidine_genes to superpathway of histidine, purine, and pyrimidine biosynthesis #9\n",
      "WARNING:root:No traces found.\n",
      "WARNING:root:No traces found.\n",
      "INFO:root:Adding trace network Histidine_genes to PSERPHOSPHA-MONOMER #10\n",
      "INFO:root:Adding trace network from Histidine_genes to top_pagerank_nodes\n",
      "INFO:root:Adding trace network from DksA-ppGpp #1 to Histidine_genes\n",
      "INFO:root:Adding trace network from RNA polymerase-binding transcription factor DksA #2 to Histidine_genes\n",
      "INFO:root:Adding trace network from ppGpp #3 to Histidine_genes\n",
      "INFO:root:Adding trace network from hisLp #4 to Histidine_genes\n",
      "INFO:root:Adding trace network from hisBp #5 to Histidine_genes\n",
      "WARNING:root:No traces found.\n",
      "WARNING:root:No traces found.\n",
      "INFO:root:Adding trace network from RXN0-6707 #6 to Histidine_genes\n",
      "INFO:root:Adding trace network from RXN0-6707 #7 to Histidine_genes\n",
      "INFO:root:Adding trace network from hisBHAFI (tu) #8 to Histidine_genes\n",
      "WARNING:root:No traces found.\n",
      "WARNING:root:No traces found.\n",
      "INFO:root:Adding trace network from hisLGDCBHAFI (tu) #9 to Histidine_genes\n",
      "INFO:root:Adding trace network from top_rev_pagerank_nodes to Histidine_genes\n",
      "INFO:root:clean graph: number of graph nodes decreased from 33428 to 126\n",
      "INFO:root:writing output/Radiate_traces_for_Histidine_genes\n"
     ]
    }
   ],
   "source": [
    "# set pagerank and reverse pagerank\n",
    "pagerank_prop = 'pagerank'\n",
    "tracegraph.set_pagerank(SOURCE_SET, pagerank_prop)\n",
    "rev_pagerank_prop = 'rev_pagerank'\n",
    "tracegraph.set_pagerank(SOURCE_SET, rev_pagerank_prop, reverse=True)\n",
    "\n",
    "# add graph description\n",
    "tracegraph.add_graph_description(f'Database: {db_version}\\n')\n",
    "\n",
    "# add traces from source genes to each selected nodes\n",
    "tracegraph.add_traces_from_sources_to_each_selected_nodes(selected_nodes, SOURCE_SET, weighted_prop=pagerank_prop)\n",
    "\n",
    "# add traces from source genes to all selected nodes\n",
    "tracegraph.add_trace_from_sources_to_all_selected_nodes(SELECTED_SET, SOURCE_SET, weighted_prop=pagerank_prop)\n",
    "\n",
    "# add traces from each selected nodes to SOURCE_SET genes\n",
    "tracegraph.add_traces_from_each_selected_nodes_to_targets(rev_selected_nodes,\n",
    "                                                           SOURCE_SET, weighted_prop=rev_pagerank_prop)\n",
    "\n",
    "# add traces from all reverse-selected nodes to SOURCE_SET\n",
    "tracegraph.add_trace_from_all_selected_nodes_to_targets(REV_SELECTED_SET, SOURCE_SET, weighted_prop=rev_pagerank_prop)\n",
    "\n",
    "# write all traces into one graph file\n",
    "graph_file = f'Radiate_traces_for_{SOURCE_SET}.graph'\n",
    "tracegraph.write_to_sankey_file(graph_file)"
   ]
  },
  {
   "cell_type": "markdown",
   "source": [],
   "metadata": {
    "collapsed": false
   },
   "execution_count": 33
  }
 ],
 "metadata": {
  "kernelspec": {
   "display_name": "Python 3",
   "language": "python",
   "name": "python3"
  },
  "language_info": {
   "codemirror_mode": {
    "name": "ipython",
    "version": 3
   },
   "file_extension": ".py",
   "mimetype": "text/x-python",
   "name": "python",
   "nbconvert_exporter": "python",
   "pygments_lexer": "ipython3",
   "version": "3.8.5"
  }
 },
 "nbformat": 4,
 "nbformat_minor": 4
}
