{
 "cells": [
  {
   "cell_type": "markdown",
   "metadata": {},
   "source": [
    "# Imodulon Radiate Analysis\n",
    "#### Select imodulon from the given list"
   ]
  },
  {
   "cell_type": "code",
   "execution_count": 7,
   "metadata": {},
   "outputs": [],
   "source": [
    "imodulons = ['ArgR', 'Histidine', 'Isoleucine', 'Leucine', 'MetJ', 'Tryptophan', 'Tyr']\n",
    "selected_imodulon = 'Tyr'"
   ]
  },
  {
   "cell_type": "markdown",
   "metadata": {},
   "source": [
    "### Definition:\n",
    "Given list of nodes (source nodes, e.g. genes, metabolites), find what nodes are influenced by the source nodes , and what nodes influence the source nodes.\n",
    "\n",
    "The algorithm we are using is called __PageRank__. \n",
    "\n",
    "The __PageRank__ algorithm measures the importance of each node within the graph, based on the number incoming relationships and the importance of the corresponding source nodes.  \n",
    "\n",
    "__Personalized PageRank__ is a variation of PageRank which is biased towards a set of source nodes.\n",
    "\n",
    "<img src=\"img/personalized_pagerank.png\" width=\"400\" height=\"200\" />"
   ]
  },
  {
   "cell_type": "markdown",
   "metadata": {},
   "source": [
    "### Steps to run Radiate Analysis\n",
    "1. Connect to arango database\n",
    "2. Find input nodes (source nodes) in arango database\n",
    "3. Load the whole network graph from arango to memory and create a networkx graph. NetworkX is a python network library.\n",
    "4. Perform radiate analysis\n",
    "    - Run personalized pagerank algorithm using source nodes to get pagerank values for each nodes that the source nodes can reach (forward direction). Those are the nodes influenced by the source nodes\n",
    "    - Run personalized reverse pagerank using source nodes to get the reverce pagerank values for each nodes that can reach the source nodes\n",
    "    - Export the pagerank and reverse pagerank values into __excel file__\n",
    "5. The user analyzes the pagerank values (sorting, filtering etc), and select the rows that are interesting\n",
    "6. Create radiate traces for selected nodes"
   ]
  },
  {
   "cell_type": "code",
   "execution_count": 8,
   "metadata": {},
   "outputs": [],
   "source": [
    "import os\n",
    "import sys\n",
    "root = os.getcwd().split('/notebooks/')[0]\n",
    "sys.path.append(os.path.join(root, 'src'))"
   ]
  },
  {
   "cell_type": "code",
   "execution_count": 9,
   "metadata": {},
   "outputs": [],
   "source": [
    "from lifelike_gds.arango_network.biocyc import *\n",
    "from lifelike_gds.arango_network.radiate_trace import RadiateTrace\n",
    "from lifelike_gds.arango_network.shortest_paths_trace import ShortestPathTrace\n",
    "from lifelike_gds.arango_network.trace_graph_utils import *\n",
    "import pandas as pd\n",
    "import networkx as nx\n",
    "import os"
   ]
  },
  {
   "cell_type": "code",
   "execution_count": 10,
   "metadata": {},
   "outputs": [],
   "source": [
    "import warnings\n",
    "warnings.filterwarnings('ignore')"
   ]
  },
  {
   "cell_type": "code",
   "execution_count": 11,
   "metadata": {},
   "outputs": [],
   "source": [
    "input_dir = 'input'\n",
    "output_dir = 'output'\n",
    "os.makedirs(output_dir, 0o777, True)\n",
    "# gds database name\n",
    "db_name = 'ecocyc'\n",
    "# gds database version, free text, that can be used to describe the graph\n",
    "db_version = 'ecocyc 25.5'"
   ]
  },
  {
   "cell_type": "markdown",
   "metadata": {},
   "source": [
    "## 1. Connect to arango database.\n",
    "If use BioCyc databases (e.g. EcoCyc, HumanCyc), use Class BioCycDB.  \n",
    "If use Reactome database, use Class ReactomeDB. "
   ]
  },
  {
   "cell_type": "code",
   "execution_count": 12,
   "metadata": {},
   "outputs": [],
   "source": [
    "# set database uri, username and password. \n",
    "# dbname is the arango database name for the running arango instance. The default database name is 'arango'\n",
    "dbname = os.getenv('ARANGO_DATABASE', db_name)\n",
    "\n",
    "database = BiocycDB(dbname)"
   ]
  },
  {
   "cell_type": "markdown",
   "metadata": {},
   "source": [
    "## 2. Find input nodes (source nodes) in arango database"
   ]
  },
  {
   "cell_type": "markdown",
   "metadata": {},
   "source": [
    "#### Read selected imodulon genes, and find the gene nodes in arango database."
   ]
  },
  {
   "cell_type": "code",
   "execution_count": 13,
   "metadata": {},
   "outputs": [
    {
     "name": "stdout",
     "output_type": "stream",
     "text": [
      "10\n"
     ]
    },
    {
     "data": {
      "text/plain": "   locus  gene_weight gene_name  \\\n0  b2601     0.509933      aroF   \n1  b2600     0.433451      tyrA   \n2  b0388     0.172402      aroL   \n3  b0112     0.168767      aroP   \n4  b1907     0.150986      tyrP   \n\n                                        gene_product  \\\n0  3-deoxy-7-phosphoheptulonate synthase%2C Tyr-s...   \n1   fused chorismate mutase/prephenate dehydrogenase   \n2                                 shikimate kinase 2   \n3            aromatic amino acid:H(+) symporter AroP   \n4                            tyrosine:H(+) symporter   \n\n                                                 cog          operon  \\\n0                Amino acid transport and metabolism       aroF-tyrA   \n1                Amino acid transport and metabolism       aroF-tyrA   \n2                Nucleotide transport and metabolism  aroL-yaiA-aroM   \n3  Intracellular trafficking, secretion, and vesi...            aroP   \n4                Amino acid transport and metabolism            tyrP   \n\n                     regulator  TyrR  \\\n0           RpoD,SoxR,TyrR,Nac  True   \n1               RpoD,SoxR,TyrR  True   \n2               RpoD,TyrR,TrpR  True   \n3  RpoD,Cra,TyrR,ArgR,Fnr,GlaR  True   \n4   RpoD,IHF,HU,TyrR,ppGpp,Lrp  True   \n\n                                             link  \n0  https://ecocyc.org/gene?orgid=ECOLI&id=EG10078  \n1  https://ecocyc.org/gene?orgid=ECOLI&id=EG11039  \n2  https://ecocyc.org/gene?orgid=ECOLI&id=EG10082  \n3  https://ecocyc.org/gene?orgid=ECOLI&id=EG10084  \n4  https://ecocyc.org/gene?orgid=ECOLI&id=EG11041  ",
      "text/html": "<div>\n<style scoped>\n    .dataframe tbody tr th:only-of-type {\n        vertical-align: middle;\n    }\n\n    .dataframe tbody tr th {\n        vertical-align: top;\n    }\n\n    .dataframe thead th {\n        text-align: right;\n    }\n</style>\n<table border=\"1\" class=\"dataframe\">\n  <thead>\n    <tr style=\"text-align: right;\">\n      <th></th>\n      <th>locus</th>\n      <th>gene_weight</th>\n      <th>gene_name</th>\n      <th>gene_product</th>\n      <th>cog</th>\n      <th>operon</th>\n      <th>regulator</th>\n      <th>TyrR</th>\n      <th>link</th>\n    </tr>\n  </thead>\n  <tbody>\n    <tr>\n      <th>0</th>\n      <td>b2601</td>\n      <td>0.509933</td>\n      <td>aroF</td>\n      <td>3-deoxy-7-phosphoheptulonate synthase%2C Tyr-s...</td>\n      <td>Amino acid transport and metabolism</td>\n      <td>aroF-tyrA</td>\n      <td>RpoD,SoxR,TyrR,Nac</td>\n      <td>True</td>\n      <td>https://ecocyc.org/gene?orgid=ECOLI&amp;id=EG10078</td>\n    </tr>\n    <tr>\n      <th>1</th>\n      <td>b2600</td>\n      <td>0.433451</td>\n      <td>tyrA</td>\n      <td>fused chorismate mutase/prephenate dehydrogenase</td>\n      <td>Amino acid transport and metabolism</td>\n      <td>aroF-tyrA</td>\n      <td>RpoD,SoxR,TyrR</td>\n      <td>True</td>\n      <td>https://ecocyc.org/gene?orgid=ECOLI&amp;id=EG11039</td>\n    </tr>\n    <tr>\n      <th>2</th>\n      <td>b0388</td>\n      <td>0.172402</td>\n      <td>aroL</td>\n      <td>shikimate kinase 2</td>\n      <td>Nucleotide transport and metabolism</td>\n      <td>aroL-yaiA-aroM</td>\n      <td>RpoD,TyrR,TrpR</td>\n      <td>True</td>\n      <td>https://ecocyc.org/gene?orgid=ECOLI&amp;id=EG10082</td>\n    </tr>\n    <tr>\n      <th>3</th>\n      <td>b0112</td>\n      <td>0.168767</td>\n      <td>aroP</td>\n      <td>aromatic amino acid:H(+) symporter AroP</td>\n      <td>Intracellular trafficking, secretion, and vesi...</td>\n      <td>aroP</td>\n      <td>RpoD,Cra,TyrR,ArgR,Fnr,GlaR</td>\n      <td>True</td>\n      <td>https://ecocyc.org/gene?orgid=ECOLI&amp;id=EG10084</td>\n    </tr>\n    <tr>\n      <th>4</th>\n      <td>b1907</td>\n      <td>0.150986</td>\n      <td>tyrP</td>\n      <td>tyrosine:H(+) symporter</td>\n      <td>Amino acid transport and metabolism</td>\n      <td>tyrP</td>\n      <td>RpoD,IHF,HU,TyrR,ppGpp,Lrp</td>\n      <td>True</td>\n      <td>https://ecocyc.org/gene?orgid=ECOLI&amp;id=EG11041</td>\n    </tr>\n  </tbody>\n</table>\n</div>"
     },
     "execution_count": 13,
     "metadata": {},
     "output_type": "execute_result"
    }
   ],
   "source": [
    "# get source genes \n",
    "source_file = f'{selected_imodulon}_gene_table.csv'\n",
    "df = pd.read_csv(os.path.join(input_dir, source_file))\n",
    "print(len(df))\n",
    "df.head()"
   ]
  },
  {
   "cell_type": "code",
   "execution_count": 14,
   "metadata": {},
   "outputs": [
    {
     "name": "stdout",
     "output_type": "stream",
     "text": [
      "source genes: 10, nodes: 16\n"
     ]
    }
   ],
   "source": [
    "source_genes = [n for n in df['gene_name']]\n",
    "source_nodes = database.get_nodes_by_attr(source_genes, 'name', 'Gene')\n",
    "print(f\"source genes: {len(source_genes)}, nodes: {len(source_nodes)}\")"
   ]
  },
  {
   "cell_type": "markdown",
   "metadata": {},
   "source": [
    "## 3. Load the whole network graph from arango to memory and create a networkx graph\n",
    "\n",
    "Create a RadiateTrace instance.  \n",
    "RadiateTrace is a subclass of TraceGraphNx.  TraceGraphNx has a property __graph__, that is a networkx graph. After the graph is created by using data from arango graph database, all the algorithms and traces can be run using the python networkx library."
   ]
  },
  {
   "cell_type": "code",
   "execution_count": 15,
   "metadata": {},
   "outputs": [
    {
     "name": "stderr",
     "output_type": "stream",
     "text": [
      "INFO:root:MultiDirectedGraph with 33428 nodes and 37886 edges\n"
     ]
    }
   ],
   "source": [
    "tracegraph = RadiateTrace(Biocyc(database))\n",
    "# set up output directory where the excel and graph files will write to\n",
    "tracegraph.datadir = output_dir\n",
    "# initiate tracegraph by loading graph data from arango\n",
    "tracegraph.init_default_graph()"
   ]
  },
  {
   "cell_type": "markdown",
   "metadata": {},
   "source": [
    "## 4. Perform Radiate Analysis\n",
    "Run personalized pagerank analysis and export values to excel file.\n",
    "\n",
    "Pagerank analysis is performed using networkx graph that contains a set of nodes and set of edges. \n",
    "\n",
    "#### Set node set for source nodes\n",
    "A node set is a list of node ids with a set name and description."
   ]
  },
  {
   "cell_type": "code",
   "execution_count": 16,
   "metadata": {},
   "outputs": [],
   "source": [
    "# node set name\n",
    "SOURCE_SET = f'{selected_imodulon}_genes'\n",
    "# node set description\n",
    "source_desc = f'{selected_imodulon} genes'\n",
    "# add the node set to graph\n",
    "tracegraph.set_node_set_from_arango_nodes(source_nodes, name=SOURCE_SET, desc=source_desc)"
   ]
  },
  {
   "cell_type": "markdown",
   "metadata": {},
   "source": [
    "#### Call export_pagerank_data\n",
    "The method export_pagerank_data in RadiateTrace contains a few steps to generate the excel file\n",
    "parameters: \n",
    "- sources:  The node set name for the source nodes\n",
    "- direction: default is __both__. If forward, run pagerank; if reverse, run reverse pagerank; if both, run both forward and reverse pagerank. \n",
    "- num_nodes: the nodes of top pagerank or reverse pagerank nodes that will write to the excel file.  The default is 2000. \n",
    "\n",
    "In the exported excel file, there is also a column named nReach (or rev_nReach), indicating how many source nodes can be reached by the node in the row.  \n",
    "\n",
    "The method will write an excel file with two tabs, one for pageranks and one for reverse pageranks."
   ]
  },
  {
   "cell_type": "code",
   "execution_count": 17,
   "metadata": {},
   "outputs": [
    {
     "name": "stderr",
     "output_type": "stream",
     "text": [
      "INFO:root:set pagerank and num reach for Tyr_genes\n",
      "INFO:root:export top 4000 pagerank data into output/Radiate_analysis_for_Tyr_genes.xlsx\n"
     ]
    }
   ],
   "source": [
    "# get a copy of the original graph, including source node set\n",
    "tracegraph.graph = tracegraph.orig_graph.copy()\n",
    "\n",
    "outfile_name = f\"Radiate_analysis_for_{SOURCE_SET}.xlsx\"\n",
    "tracegraph.export_pagerank_data(SOURCE_SET, outfile_name, direction='both', num_nodes=4000)"
   ]
  },
  {
   "cell_type": "markdown",
   "metadata": {},
   "source": [
    "## 5. Analyze the pagerank output file (excel), and select interesting rows for further analysis"
   ]
  },
  {
   "cell_type": "markdown",
   "metadata": {},
   "source": [
    "Suggestion:   \n",
    "Add a column 'select' for selecting top pagerank nodes, and set any selected rows to 1   "
   ]
  },
  {
   "cell_type": "markdown",
   "metadata": {},
   "source": [
    "## 6. Create radiate traces for the selected nodes"
   ]
  },
  {
   "cell_type": "markdown",
   "metadata": {},
   "source": [
    "#### Read manually selected top ranked nodes from the previous generated pagerank excel file\n",
    "We will read the columns 'select' to get the selected rows. The excel file has two tabs. We will read the selected nodes for pageranks from the 'pageranks' tab, and selected nodes for reverse pageranks from the 'reverse pageranks' tab."
   ]
  },
  {
   "cell_type": "code",
   "execution_count": 18,
   "metadata": {},
   "outputs": [],
   "source": [
    "rankfile = f\"Radiate_analysis_for_{SOURCE_SET}_select.xlsx\"\n",
    "df_pagerank = pd.read_excel(os.path.join(input_dir, rankfile), sheet_name='pageranks', usecols=['eid', 'select'])\n",
    "df_rev_pagerank = pd.read_excel(os.path.join(input_dir, rankfile), sheet_name='reverse pageranks', usecols=['eid', 'select'])"
   ]
  },
  {
   "cell_type": "markdown",
   "metadata": {},
   "source": [
    "#### Get selected nodes for forward traces"
   ]
  },
  {
   "cell_type": "code",
   "execution_count": 19,
   "metadata": {},
   "outputs": [
    {
     "name": "stdout",
     "output_type": "stream",
     "text": [
      "selected: ['COMPLETE-ARO-PWY', 'ALL-CHORISMATE-PWY', 'ANTHRANSYN-CPLX', 'TRANS-RXN-77', 'TYR', 'ANTHRANSYN-RXN', 'TYRP-MONOMER', 'AROP-MONOMER', 'TYRB-MONOMER', 'EG11093-MONOMER', 'AROL-MONOMER', 'AROF-MONOMER', 'CHORISMUTPREPHENDEHYDROG-MONOMER', 'ANTHRANSYNCOMPI-MONOMER', 'ANTHRANSYNCOMPII-MONOMER', 'EG12446-MONOMER', 'DAHPSYN-RXN', 'ARO-PWY', 'TYRB-DIMER', 'SHIKIMATE-KINASE-RXN', 'AROF-CPLX', 'CHORISMUTPREPHENDEHYDROG-CPLX']. length 22\n"
     ]
    }
   ],
   "source": [
    "df_select = df_pagerank[df_pagerank['select']==1]\n",
    "selected = [id for id in df_select['eid']]\n",
    "selected_nodes = database.get_nodes_by_attr(selected, 'eid')\n",
    "print(f\"selected: {selected}. length {len(selected_nodes)}\")"
   ]
  },
  {
   "cell_type": "markdown",
   "metadata": {},
   "source": [
    "#### Get selected nodes for reverse traces"
   ]
  },
  {
   "cell_type": "code",
   "execution_count": 20,
   "metadata": {},
   "outputs": [
    {
     "name": "stdout",
     "output_type": "stream",
     "text": [
      "rev_selected ['TU00067', 'TU00008', 'MONOMER0-162', 'CPLX-125', 'G7072-MONOMER', 'TU00087', 'PD00353', 'G7072', 'TU00011', 'TU0-42568'] len: 10\n"
     ]
    }
   ],
   "source": [
    "df_rev_select = df_rev_pagerank[df_rev_pagerank['select']==1]\n",
    "rev_selected = [id for id in df_rev_select['eid']]\n",
    "rev_selected_nodes = database.get_nodes_by_attr(rev_selected, 'eid')\n",
    "print('rev_selected', rev_selected, 'len:', len(rev_selected))"
   ]
  },
  {
   "cell_type": "markdown",
   "metadata": {},
   "source": [
    "#### Get the original trace graph"
   ]
  },
  {
   "cell_type": "code",
   "execution_count": 21,
   "metadata": {},
   "outputs": [],
   "source": [
    "# get a copy of the original graph, including source node set\n",
    "tracegraph.graph = tracegraph.orig_graph.copy()"
   ]
  },
  {
   "cell_type": "markdown",
   "metadata": {},
   "source": [
    "#### Set node sets for selected nodes"
   ]
  },
  {
   "cell_type": "code",
   "execution_count": 22,
   "metadata": {},
   "outputs": [],
   "source": [
    "# set selected node set\n",
    "SELECTED_SET = 'top_pagerank_nodes'\n",
    "tracegraph.set_node_set_from_arango_nodes(selected_nodes, SELECTED_SET, 'selected top pagerank nodes')\n",
    "\n",
    "# set rev_selected node set\n",
    "REV_SELECTED_SET = 'top_rev_pagerank_nodes'\n",
    "tracegraph.set_node_set_from_arango_nodes(rev_selected_nodes, REV_SELECTED_SET, 'selected top rev pagerank nodes')"
   ]
  },
  {
   "cell_type": "markdown",
   "metadata": {},
   "source": [
    "#### Add traces and write to graph file for visualization\n",
    "Add radiate traces using selected nodes"
   ]
  },
  {
   "cell_type": "code",
   "execution_count": 23,
   "metadata": {},
   "outputs": [
    {
     "name": "stderr",
     "output_type": "stream",
     "text": [
      "INFO:root:Adding trace network Tyr_genes to superpathway of chorismate metabolism #1\n",
      "WARNING:root:No traces found.\n",
      "WARNING:root:No traces found.\n",
      "INFO:root:Adding trace network Tyr_genes to ANTHRANSYN-CPLX #2\n",
      "INFO:root:Adding trace network Tyr_genes to Anthranilate synthase-RXN #3\n",
      "INFO:root:Adding trace network Tyr_genes to anthranilate synthase subunit TrpE #4\n",
      "INFO:root:Adding trace network Tyr_genes to anthranilate synthase subunit TrpD #5\n",
      "INFO:root:Adding trace network Tyr_genes to chorismate biosynthesis I #6\n",
      "WARNING:root:No traces found.\n",
      "WARNING:root:No traces found.\n",
      "INFO:root:Adding trace network Tyr_genes to AROF-CPLX #7\n",
      "INFO:root:Adding trace network Tyr_genes to 3-deoxy-7-phosphoheptulonate synthase, Tyr-sensitive #8\n",
      "INFO:root:Adding trace network Tyr_genes to shikimate kinase 2 #9\n",
      "INFO:root:Adding trace network Tyr_genes to aromatic amino acid:H+ symporter AroP #10\n",
      "INFO:root:Adding trace network Tyr_genes to fused chorismate mutase/prephenate dehydrogenase #11\n",
      "INFO:root:Adding trace network Tyr_genes to fused chorismate mutase/prephenate dehydrogenase #12\n",
      "INFO:root:Adding trace network Tyr_genes to superpathway of aromatic amino acid biosynthesis #13\n",
      "WARNING:root:No traces found.\n",
      "WARNING:root:No traces found.\n",
      "INFO:root:Adding trace network Tyr_genes to 3-deoxy-7-phosphoheptulonate synthase-RXN #14\n",
      "INFO:root:Adding trace network Tyr_genes to protein YaiA #15\n",
      "WARNING:root:No traces found.\n",
      "WARNING:root:No traces found.\n",
      "INFO:root:Adding trace network Tyr_genes to DUF2799 domain-containing lipoprotein YfiL #16\n",
      "WARNING:root:No traces found.\n",
      "WARNING:root:No traces found.\n",
      "INFO:root:Adding trace network Tyr_genes to Shikimate kinase-RXN #17\n",
      "INFO:root:Adding trace network Tyr_genes to L-tyrosine:proton symport-RXN #18\n",
      "INFO:root:Adding trace network Tyr_genes to L-tyrosine #19\n",
      "INFO:root:Adding trace network Tyr_genes to tyrosine aminotransferase #20\n",
      "INFO:root:Adding trace network Tyr_genes to tyrosine aminotransferase #21\n",
      "INFO:root:Adding trace network Tyr_genes to TYRP-MONOMER #22\n",
      "INFO:root:Adding trace network from Tyr_genes to top_pagerank_nodes\n",
      "INFO:root:Adding trace network from TrpR-Tryptophan DNA-binding transcriptional repressor #1 to Tyr_genes\n",
      "INFO:root:Adding trace network from nac #2 to Tyr_genes\n",
      "INFO:root:Adding trace network from DNA-binding transcriptional dual regulator Nac #3 to Tyr_genes\n",
      "INFO:root:Adding trace network from TyrR-Tyrosine DNA-binding transcriptional repressor #4 to Tyr_genes\n",
      "INFO:root:Adding trace network from DNA-binding transcriptional dual regulator Lrp #5 to Tyr_genes\n",
      "INFO:root:Adding trace network from aroL-yaiA-aroM (tu) #6 to Tyr_genes\n",
      "WARNING:root:No traces found.\n",
      "WARNING:root:No traces found.\n",
      "INFO:root:Adding trace network from aroF-tyrA (tu) #7 to Tyr_genes\n",
      "INFO:root:Adding trace network from aroL-yaiA-aroM (tu) #8 to Tyr_genes\n",
      "INFO:root:Adding trace network from trpLEDCBA (tu) #9 to Tyr_genes\n",
      "INFO:root:Adding trace network from tyrB (tu) #10 to Tyr_genes\n",
      "INFO:root:Adding trace network from top_rev_pagerank_nodes to Tyr_genes\n",
      "INFO:root:clean graph: number of graph nodes decreased from 33428 to 105\n",
      "INFO:root:writing output/Radiate_traces_for_Tyr_genes\n"
     ]
    }
   ],
   "source": [
    "# set pagerank and reverse pagerank\n",
    "pagerank_prop = 'pagerank'\n",
    "tracegraph.set_pagerank(SOURCE_SET, pagerank_prop)\n",
    "rev_pagerank_prop = 'rev_pagerank'\n",
    "tracegraph.set_pagerank(SOURCE_SET, rev_pagerank_prop, reverse=True)\n",
    "\n",
    "# add graph description\n",
    "tracegraph.add_graph_description(f'Database: {db_version}\\n')\n",
    "\n",
    "# add traces from source genes to each selected nodes\n",
    "tracegraph.add_traces_from_sources_to_each_selected_nodes(selected_nodes, SOURCE_SET, weighted_prop=pagerank_prop)\n",
    "\n",
    "# add traces from source genes to all selected nodes\n",
    "tracegraph.add_trace_from_sources_to_all_selected_nodes(SELECTED_SET, SOURCE_SET, weighted_prop=pagerank_prop)\n",
    "\n",
    "# add traces from each selected nodes to SOURCE_SET genes\n",
    "tracegraph.add_traces_from_each_selected_nodes_to_targets(rev_selected_nodes,\n",
    "                                                           SOURCE_SET, weighted_prop=rev_pagerank_prop)\n",
    "\n",
    "# add traces from all reverse-selected nodes to SOURCE_SET\n",
    "tracegraph.add_trace_from_all_selected_nodes_to_targets(REV_SELECTED_SET, SOURCE_SET, weighted_prop=rev_pagerank_prop)\n",
    "\n",
    "# write all traces into one graph file\n",
    "graph_file = f'Radiate_traces_for_{SOURCE_SET}.graph'\n",
    "tracegraph.write_to_sankey_file(graph_file)"
   ]
  },
  {
   "cell_type": "markdown",
   "source": [],
   "metadata": {
    "collapsed": false
   }
  }
 ],
 "metadata": {
  "kernelspec": {
   "display_name": "Python 3",
   "language": "python",
   "name": "python3"
  },
  "language_info": {
   "codemirror_mode": {
    "name": "ipython",
    "version": 3
   },
   "file_extension": ".py",
   "mimetype": "text/x-python",
   "name": "python",
   "nbconvert_exporter": "python",
   "pygments_lexer": "ipython3",
   "version": "3.8.5"
  }
 },
 "nbformat": 4,
 "nbformat_minor": 4
}
