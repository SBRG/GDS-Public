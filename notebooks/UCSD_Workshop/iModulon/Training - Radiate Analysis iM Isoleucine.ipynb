{
 "cells": [
  {
   "cell_type": "markdown",
   "metadata": {},
   "source": [
    "# Imodulon Radiate Analysis\n",
    "#### Select imodulon from the given list"
   ]
  },
  {
   "cell_type": "code",
   "execution_count": 1,
   "metadata": {},
   "outputs": [],
   "source": [
    "imodulons = ['ArgR', 'Histidine', 'Isoleucine', 'Leucine', 'MetJ', 'Tryptophan', 'Tyr']\n",
    "selected_imodulon = 'Isoleucine'"
   ]
  },
  {
   "cell_type": "markdown",
   "metadata": {},
   "source": [
    "### Definition:\n",
    "Given list of nodes (source nodes, e.g. genes, metabolites), find what nodes are influenced by the source nodes , and what nodes influence the source nodes.\n",
    "\n",
    "The algorithm we are using is called __PageRank__. \n",
    "\n",
    "The __PageRank__ algorithm measures the importance of each node within the graph, based on the number incoming relationships and the importance of the corresponding source nodes.  \n",
    "\n",
    "__Personalized PageRank__ is a variation of PageRank which is biased towards a set of source nodes.\n",
    "\n",
    "<img src=\"img/personalized_pagerank.png\" width=\"400\" height=\"200\" />"
   ]
  },
  {
   "cell_type": "markdown",
   "metadata": {},
   "source": [
    "### Steps to run Radiate Analysis\n",
    "1. Connect to arango database\n",
    "2. Find input nodes (source nodes) in arango database\n",
    "3. Load the whole network graph from arango to memory and create a networkx graph. NetworkX is a python network library.\n",
    "4. Perform radiate analysis\n",
    "    - Run personalized pagerank algorithm using source nodes to get pagerank values for each nodes that the source nodes can reach (forward direction). Those are the nodes influenced by the source nodes\n",
    "    - Run personalized reverse pagerank using source nodes to get the reverce pagerank values for each nodes that can reach the source nodes\n",
    "    - Export the pagerank and reverse pagerank values into __excel file__\n",
    "5. The user analyzes the pagerank values (sorting, filtering etc), and select the rows that are interesting\n",
    "6. Create radiate traces for selected nodes"
   ]
  },
  {
   "cell_type": "code",
   "execution_count": 2,
   "metadata": {},
   "outputs": [],
   "source": [
    "import os"
   ]
  },
  {
   "cell_type": "code",
   "execution_count": 3,
   "metadata": {},
   "outputs": [],
   "source": [
    "from lifelike_gds.arango_network.biocyc import *\n",
    "from lifelike_gds.arango_network.radiate_trace import RadiateTrace\n",
    "import pandas as pd"
   ]
  },
  {
   "cell_type": "code",
   "execution_count": 4,
   "metadata": {},
   "outputs": [],
   "source": [
    "import warnings\n",
    "warnings.filterwarnings('ignore')"
   ]
  },
  {
   "cell_type": "code",
   "execution_count": 5,
   "metadata": {},
   "outputs": [],
   "source": [
    "input_dir = 'input'\n",
    "output_dir = 'output'\n",
    "os.makedirs(output_dir, 0o777, True)\n",
    "# gds database name\n",
    "db_name = 'ecocyc-25'\n",
    "# gds database version, free text, that can be used to describe the graph\n",
    "db_version = 'ecocyc 25.5'"
   ]
  },
  {
   "cell_type": "markdown",
   "metadata": {},
   "source": [
    "## 1. Connect to arango database.\n",
    "If use BioCyc databases (e.g. EcoCyc, HumanCyc), use Class BioCycDB.  \n",
    "If use Reactome database, use Class ReactomeDB. "
   ]
  },
  {
   "cell_type": "code",
   "execution_count": 6,
   "metadata": {},
   "outputs": [],
   "source": [
    "# set database uri, username and password. \n",
    "# dbname is the arango database name for the running arango instance. The default database name is 'arango'\n",
    "dbname = os.getenv('ARANGO_DATABASE', db_name)\n",
    "\n",
    "database = BiocycDB(dbname)"
   ]
  },
  {
   "cell_type": "markdown",
   "metadata": {},
   "source": [
    "## 2. Find input nodes (source nodes) in arango database"
   ]
  },
  {
   "cell_type": "markdown",
   "metadata": {},
   "source": [
    "#### Read selected imodulon genes, and find the gene nodes in arango database."
   ]
  },
  {
   "cell_type": "code",
   "execution_count": 7,
   "metadata": {},
   "outputs": [
    {
     "name": "stdout",
     "output_type": "stream",
     "text": [
      "7\n"
     ]
    },
    {
     "data": {
      "text/html": [
       "<div>\n",
       "<style scoped>\n",
       "    .dataframe tbody tr th:only-of-type {\n",
       "        vertical-align: middle;\n",
       "    }\n",
       "\n",
       "    .dataframe tbody tr th {\n",
       "        vertical-align: top;\n",
       "    }\n",
       "\n",
       "    .dataframe thead th {\n",
       "        text-align: right;\n",
       "    }\n",
       "</style>\n",
       "<table border=\"1\" class=\"dataframe\">\n",
       "  <thead>\n",
       "    <tr style=\"text-align: right;\">\n",
       "      <th></th>\n",
       "      <th>locus</th>\n",
       "      <th>gene_weight</th>\n",
       "      <th>gene_name</th>\n",
       "      <th>gene_product</th>\n",
       "      <th>cog</th>\n",
       "      <th>operon</th>\n",
       "      <th>regulator</th>\n",
       "      <th>ppGpp</th>\n",
       "      <th>Ile-tRNA</th>\n",
       "      <th>link</th>\n",
       "    </tr>\n",
       "  </thead>\n",
       "  <tbody>\n",
       "    <tr>\n",
       "      <th>0</th>\n",
       "      <td>b3769</td>\n",
       "      <td>0.341118</td>\n",
       "      <td>ilvM</td>\n",
       "      <td>acetolactate synthase II subunit IlvM</td>\n",
       "      <td>Amino acid transport and metabolism</td>\n",
       "      <td>ilvLXG_1G_2MEDA</td>\n",
       "      <td>RpoD,Lrp,IHF,Ile-tRNA,Leu-tRNA,Val-tRNA,ppGpp</td>\n",
       "      <td>True</td>\n",
       "      <td>True</td>\n",
       "      <td>https://ecocyc.org/gene?orgid=ECOLI&amp;id=EG10501</td>\n",
       "    </tr>\n",
       "    <tr>\n",
       "      <th>1</th>\n",
       "      <td>b4488</td>\n",
       "      <td>0.257245</td>\n",
       "      <td>ilvG</td>\n",
       "      <td>acetolactate synthase II subunit IlvG%2C N-ter...</td>\n",
       "      <td>Coenzyme transport and metabolism</td>\n",
       "      <td>NaN</td>\n",
       "      <td>RpoD,Lrp,IHF,Ile-tRNA,Leu-tRNA,Val-tRNA,ppGpp</td>\n",
       "      <td>True</td>\n",
       "      <td>True</td>\n",
       "      <td>https://ecocyc.org/gene?orgid=ECOLI&amp;id=G8221</td>\n",
       "    </tr>\n",
       "    <tr>\n",
       "      <th>2</th>\n",
       "      <td>b3771</td>\n",
       "      <td>0.229415</td>\n",
       "      <td>ilvD</td>\n",
       "      <td>dihydroxy-acid dehydratase</td>\n",
       "      <td>Amino acid transport and metabolism</td>\n",
       "      <td>ilvLXG_1G_2MEDA</td>\n",
       "      <td>RpoD,Lrp,IHF,Ile-tRNA,Leu-tRNA,Val-tRNA,ppGpp</td>\n",
       "      <td>True</td>\n",
       "      <td>True</td>\n",
       "      <td>https://ecocyc.org/gene?orgid=ECOLI&amp;id=EG10496</td>\n",
       "    </tr>\n",
       "    <tr>\n",
       "      <th>3</th>\n",
       "      <td>b3770</td>\n",
       "      <td>0.219558</td>\n",
       "      <td>ilvE</td>\n",
       "      <td>branched-chain-amino-acid aminotransferase</td>\n",
       "      <td>Amino acid transport and metabolism</td>\n",
       "      <td>ilvLXG_1G_2MEDA</td>\n",
       "      <td>RpoD,ppGpp,Lrp,IHF,Ile-tRNA,Leu-tRNA,Val-tRNA</td>\n",
       "      <td>True</td>\n",
       "      <td>True</td>\n",
       "      <td>https://ecocyc.org/gene?orgid=ECOLI&amp;id=EG10497</td>\n",
       "    </tr>\n",
       "    <tr>\n",
       "      <th>4</th>\n",
       "      <td>b3772</td>\n",
       "      <td>0.218070</td>\n",
       "      <td>ilvA</td>\n",
       "      <td>threonine deaminase</td>\n",
       "      <td>Amino acid transport and metabolism</td>\n",
       "      <td>ilvLXG_1G_2MEDA</td>\n",
       "      <td>RpoD,YfeD,Lrp,IHF,Ile-tRNA,Leu-tRNA,Val-tRNA,p...</td>\n",
       "      <td>True</td>\n",
       "      <td>True</td>\n",
       "      <td>https://ecocyc.org/gene?orgid=ECOLI&amp;id=EG10493</td>\n",
       "    </tr>\n",
       "  </tbody>\n",
       "</table>\n",
       "</div>"
      ],
      "text/plain": [
       "   locus  gene_weight gene_name  \\\n",
       "0  b3769     0.341118      ilvM   \n",
       "1  b4488     0.257245      ilvG   \n",
       "2  b3771     0.229415      ilvD   \n",
       "3  b3770     0.219558      ilvE   \n",
       "4  b3772     0.218070      ilvA   \n",
       "\n",
       "                                        gene_product  \\\n",
       "0              acetolactate synthase II subunit IlvM   \n",
       "1  acetolactate synthase II subunit IlvG%2C N-ter...   \n",
       "2                         dihydroxy-acid dehydratase   \n",
       "3         branched-chain-amino-acid aminotransferase   \n",
       "4                                threonine deaminase   \n",
       "\n",
       "                                   cog           operon  \\\n",
       "0  Amino acid transport and metabolism  ilvLXG_1G_2MEDA   \n",
       "1    Coenzyme transport and metabolism              NaN   \n",
       "2  Amino acid transport and metabolism  ilvLXG_1G_2MEDA   \n",
       "3  Amino acid transport and metabolism  ilvLXG_1G_2MEDA   \n",
       "4  Amino acid transport and metabolism  ilvLXG_1G_2MEDA   \n",
       "\n",
       "                                           regulator  ppGpp  Ile-tRNA  \\\n",
       "0      RpoD,Lrp,IHF,Ile-tRNA,Leu-tRNA,Val-tRNA,ppGpp   True      True   \n",
       "1      RpoD,Lrp,IHF,Ile-tRNA,Leu-tRNA,Val-tRNA,ppGpp   True      True   \n",
       "2      RpoD,Lrp,IHF,Ile-tRNA,Leu-tRNA,Val-tRNA,ppGpp   True      True   \n",
       "3      RpoD,ppGpp,Lrp,IHF,Ile-tRNA,Leu-tRNA,Val-tRNA   True      True   \n",
       "4  RpoD,YfeD,Lrp,IHF,Ile-tRNA,Leu-tRNA,Val-tRNA,p...   True      True   \n",
       "\n",
       "                                             link  \n",
       "0  https://ecocyc.org/gene?orgid=ECOLI&id=EG10501  \n",
       "1    https://ecocyc.org/gene?orgid=ECOLI&id=G8221  \n",
       "2  https://ecocyc.org/gene?orgid=ECOLI&id=EG10496  \n",
       "3  https://ecocyc.org/gene?orgid=ECOLI&id=EG10497  \n",
       "4  https://ecocyc.org/gene?orgid=ECOLI&id=EG10493  "
      ]
     },
     "execution_count": 7,
     "metadata": {},
     "output_type": "execute_result"
    }
   ],
   "source": [
    "# get source genes \n",
    "source_file = f'{selected_imodulon}_gene_table.csv'\n",
    "df = pd.read_csv(os.path.join(input_dir, source_file))\n",
    "print(len(df))\n",
    "df.head()"
   ]
  },
  {
   "cell_type": "code",
   "execution_count": 8,
   "metadata": {},
   "outputs": [
    {
     "name": "stdout",
     "output_type": "stream",
     "text": [
      "source genes: 7, nodes: 8\n"
     ]
    }
   ],
   "source": [
    "source_genes = [n for n in df['gene_name']]\n",
    "source_nodes = database.get_nodes_by_attr(source_genes, 'name', 'Gene')\n",
    "print(f\"source genes: {len(source_genes)}, nodes: {len(source_nodes)}\")"
   ]
  },
  {
   "cell_type": "markdown",
   "metadata": {},
   "source": [
    "## 3. Load the whole network graph from arango to memory and create a networkx graph\n",
    "\n",
    "Create a RadiateTrace instance.  \n",
    "RadiateTrace is a subclass of TraceGraphNx.  TraceGraphNx has a property __graph__, that is a networkx graph. After the graph is created by using data from arango graph database, all the algorithms and traces can be run using the python networkx library."
   ]
  },
  {
   "cell_type": "code",
   "execution_count": 9,
   "metadata": {},
   "outputs": [
    {
     "name": "stderr",
     "output_type": "stream",
     "text": [
      "INFO: MultiDirectedGraph with 33428 nodes and 37886 edges\n"
     ]
    }
   ],
   "source": [
    "tracegraph = RadiateTrace(Biocyc(database))\n",
    "# set up output directory where the excel and graph files will write to\n",
    "tracegraph.datadir = output_dir\n",
    "# initiate tracegraph by loading graph data from arango\n",
    "tracegraph.init_default_graph()"
   ]
  },
  {
   "cell_type": "markdown",
   "metadata": {},
   "source": [
    "## 4. Perform Radiate Analysis\n",
    "Run personalized pagerank analysis and export values to excel file.\n",
    "\n",
    "Pagerank analysis is performed using networkx graph that contains a set of nodes and set of edges. \n",
    "\n",
    "#### Set node set for source nodes\n",
    "A node set is a list of node ids with a set name and description."
   ]
  },
  {
   "cell_type": "code",
   "execution_count": 10,
   "metadata": {},
   "outputs": [],
   "source": [
    "# node set name\n",
    "SOURCE_SET = f'{selected_imodulon}_genes'\n",
    "# node set description\n",
    "source_desc = f'{selected_imodulon} genes'\n",
    "# add the node set to graph\n",
    "tracegraph.set_node_set_from_arango_nodes(source_nodes, name=SOURCE_SET, desc=source_desc)"
   ]
  },
  {
   "cell_type": "markdown",
   "metadata": {},
   "source": [
    "#### Call export_pagerank_data\n",
    "The method export_pagerank_data in RadiateTrace contains a few steps to generate the excel file\n",
    "parameters: \n",
    "- sources:  The node set name for the source nodes\n",
    "- direction: default is __both__. If forward, run pagerank; if reverse, run reverse pagerank; if both, run both forward and reverse pagerank. \n",
    "- num_nodes: the nodes of top pagerank or reverse pagerank nodes that will write to the excel file.  The default is 2000. \n",
    "\n",
    "In the exported excel file, there is also a column named nReach (or rev_nReach), indicating how many source nodes can be reached by the node in the row.  \n",
    "\n",
    "The method will write an excel file with two tabs, one for pageranks and one for reverse pageranks."
   ]
  },
  {
   "cell_type": "code",
   "execution_count": 11,
   "metadata": {},
   "outputs": [
    {
     "name": "stderr",
     "output_type": "stream",
     "text": [
      "INFO: set pagerank and num reach for Isoleucine_genes\n",
      "INFO: export top 4000 pagerank data into output/Radiate_analysis_for_Isoleucine_genes.xlsx\n"
     ]
    }
   ],
   "source": [
    "# get a copy of the original graph, including source node set\n",
    "tracegraph.graph = tracegraph.orig_graph.copy()\n",
    "\n",
    "outfile_name = f\"Radiate_analysis_for_{SOURCE_SET}.xlsx\"\n",
    "tracegraph.export_pagerank_data(SOURCE_SET, outfile_name, direction='both', num_nodes=4000)"
   ]
  },
  {
   "cell_type": "markdown",
   "metadata": {},
   "source": [
    "## 5. Analyze the pagerank output file (excel), and select interesting rows for further analysis"
   ]
  },
  {
   "cell_type": "markdown",
   "metadata": {},
   "source": [
    "Suggestion:   \n",
    "Add a column 'select' for selecting top pagerank nodes, and set any selected rows to 1   "
   ]
  },
  {
   "cell_type": "markdown",
   "metadata": {},
   "source": [
    "## 6. Create radiate traces for the selected nodes"
   ]
  },
  {
   "cell_type": "markdown",
   "metadata": {},
   "source": [
    "#### Read manually selected top ranked nodes from the previous generated pagerank excel file\n",
    "We will read the columns 'select' to get the selected rows. The excel file has two tabs. We will read the selected nodes for pageranks from the 'pageranks' tab, and selected nodes for reverse pageranks from the 'reverse pageranks' tab."
   ]
  },
  {
   "cell_type": "code",
   "execution_count": 12,
   "metadata": {},
   "outputs": [],
   "source": [
    "rankfile = f\"Radiate_analysis_for_{SOURCE_SET}_select.xlsx\"\n",
    "df_pagerank = pd.read_excel(os.path.join(input_dir, rankfile), sheet_name='pageranks', usecols=['eid', 'select'])\n",
    "df_rev_pagerank = pd.read_excel(os.path.join(input_dir, rankfile), sheet_name='reverse pageranks', usecols=['eid', 'select'])"
   ]
  },
  {
   "cell_type": "markdown",
   "metadata": {},
   "source": [
    "#### Get selected nodes for forward traces"
   ]
  },
  {
   "cell_type": "code",
   "execution_count": 13,
   "metadata": {},
   "outputs": [
    {
     "name": "stdout",
     "output_type": "stream",
     "text": [
      "selected: ['ACETOLACTSYNII-CPLX', 'THRESYN-RXN', 'THREDEHYDSYN-MONOMER', 'DIHYDROXYACIDDEHYDRAT-MONOMER', 'BRANCHED-CHAINAMINOTRANSFER-MONOMER', 'SMALLILVM-MONOMER', 'G8221-MONOMER', 'HOMOSERKIN-MONOMER', 'THRESYN-MONOMER', 'BRANCHED-CHAIN-AA-SYN-PWY', 'THREDEHYD-RXN', 'DIHYDROXYACIDDEHYDRAT-CPLX', 'THREDEHYDSYN-CPLX', 'BRANCHED-CHAINAMINOTRANSFER-CPLX', 'HOMOSERKIN-CPLX', '2-OXOBUTANOATE', 'ACETOLACTSYN-RXN', 'ACETOOHBUTSYN-RXN', 'ILEUSYN-PWY']. length 19\n"
     ]
    }
   ],
   "source": [
    "df_select = df_pagerank[df_pagerank['select']==1]\n",
    "selected = [id for id in df_select['eid']]\n",
    "selected_nodes = database.get_nodes_by_attr(selected, 'eid')\n",
    "print(f\"selected: {selected}. length {len(selected_nodes)}\")"
   ]
  },
  {
   "cell_type": "markdown",
   "metadata": {},
   "source": [
    "#### Get selected nodes for reverse traces"
   ]
  },
  {
   "cell_type": "code",
   "execution_count": 14,
   "metadata": {},
   "outputs": [
    {
     "name": "stdout",
     "output_type": "stream",
     "text": [
      "rev_selected ['TU00178', 'TU525', 'TU524', 'TERM165', 'ILVA-RHO-TERMINATOR', 'GUANOSINE-5DP-3DP', 'CPLX0-8070', 'TU526', 'PC00027'] len: 9\n"
     ]
    }
   ],
   "source": [
    "df_rev_select = df_rev_pagerank[df_rev_pagerank['select']==1]\n",
    "rev_selected = [id for id in df_rev_select['eid']]\n",
    "rev_selected_nodes = database.get_nodes_by_attr(rev_selected, 'eid')\n",
    "print('rev_selected', rev_selected, 'len:', len(rev_selected))"
   ]
  },
  {
   "cell_type": "markdown",
   "metadata": {},
   "source": [
    "#### Get the original trace graph"
   ]
  },
  {
   "cell_type": "code",
   "execution_count": 15,
   "metadata": {},
   "outputs": [],
   "source": [
    "# get a copy of the original graph, including source node set\n",
    "tracegraph.graph = tracegraph.orig_graph.copy()"
   ]
  },
  {
   "cell_type": "markdown",
   "metadata": {},
   "source": [
    "#### Set node sets for selected nodes"
   ]
  },
  {
   "cell_type": "code",
   "execution_count": 16,
   "metadata": {},
   "outputs": [],
   "source": [
    "# set selected node set\n",
    "SELECTED_SET = 'top_pagerank_nodes'\n",
    "tracegraph.set_node_set_from_arango_nodes(selected_nodes, SELECTED_SET, 'selected top pagerank nodes')\n",
    "\n",
    "# set rev_selected node set\n",
    "REV_SELECTED_SET = 'top_rev_pagerank_nodes'\n",
    "tracegraph.set_node_set_from_arango_nodes(rev_selected_nodes, REV_SELECTED_SET, 'selected top rev pagerank nodes')"
   ]
  },
  {
   "cell_type": "markdown",
   "metadata": {},
   "source": [
    "#### Add traces and write to graph file for visualization\n",
    "Add radiate traces using selected nodes"
   ]
  },
  {
   "cell_type": "code",
   "execution_count": 17,
   "metadata": {},
   "outputs": [
    {
     "name": "stderr",
     "output_type": "stream",
     "text": [
      "INFO: Adding trace network Isoleucine_genes to 2-oxobutanoate #1\n",
      "INFO: Adding trace network Isoleucine_genes to Acetolactate synthase-RXN #2\n",
      "INFO: Adding trace network Isoleucine_genes to ACETOLACTSYNII-CPLX #3\n",
      "INFO: Adding trace network Isoleucine_genes to 2-aceto-2-hydroxy-butyrate synthase-RXN #4\n",
      "INFO: Adding trace network Isoleucine_genes to superpathway of branched chain amino acid biosynthesis #5\n",
      "INFO: Adding trace network Isoleucine_genes to branched-chain-amino-acid aminotransferase #6\n",
      "INFO: Adding trace network Isoleucine_genes to branched-chain-amino-acid aminotransferase #7\n",
      "INFO: Adding trace network Isoleucine_genes to dihydroxy-acid dehydratase #8\n",
      "INFO: Adding trace network Isoleucine_genes to dihydroxy-acid dehydratase #9\n",
      "INFO: Adding trace network Isoleucine_genes to acetolactate synthase II subunit IlvG #10\n",
      "INFO: Adding trace network Isoleucine_genes to homoserine kinase #11\n",
      "INFO: Adding trace network Isoleucine_genes to homoserine kinase #12\n",
      "INFO: Adding trace network Isoleucine_genes to L-isoleucine biosynthesis I (from threonine) #13\n",
      "INFO: Adding trace network Isoleucine_genes to acetolactate synthase II subunit IlvM #14\n",
      "INFO: Adding trace network Isoleucine_genes to Threonine ammonia-lyase-RXN #15\n",
      "INFO: Adding trace network Isoleucine_genes to threonine deaminase #16\n",
      "INFO: Adding trace network Isoleucine_genes to threonine deaminase #17\n",
      "INFO: Adding trace network Isoleucine_genes to THRESYN-MONOMER #18\n",
      "INFO: Adding trace network Isoleucine_genes to Threonine synthase-RXN #19\n",
      "INFO: Adding trace network from Isoleucine_genes to top_pagerank_nodes\n",
      "INFO: Adding trace network from DksA-ppGpp #1 to Isoleucine_genes\n",
      "ERROR: Target 20775 cannot be reachedfrom given sources\n",
      "ERROR: Target 20775 cannot be reachedfrom given sources\n",
      "INFO: Adding trace network from ppGpp #2 to Isoleucine_genes\n",
      "ERROR: Target 20775 cannot be reachedfrom given sources\n",
      "ERROR: Target 20775 cannot be reachedfrom given sources\n",
      "INFO: Adding trace network from ILVA-RHO-TERMINATOR #3 to Isoleucine_genes\n",
      "INFO: Adding trace network from DNA-binding transcriptional dual regulator IHF #4 to Isoleucine_genes\n",
      "ERROR: Target 20775 cannot be reachedfrom given sources\n",
      "ERROR: Target 20775 cannot be reachedfrom given sources\n",
      "INFO: Adding trace network from TERM165 #5 to Isoleucine_genes\n",
      "INFO: Adding trace network from thrLABC (tu) #6 to Isoleucine_genes\n",
      "ERROR: Target 20775 cannot be reachedfrom given sources\n",
      "ERROR: Target 20775 cannot be reachedfrom given sources\n",
      "INFO: Adding trace network from ilvLXG_1G_2MEDA (tu) #7 to Isoleucine_genes\n",
      "ERROR: Target 20775 cannot be reachedfrom given sources\n",
      "ERROR: Target 20775 cannot be reachedfrom given sources\n",
      "INFO: Adding trace network from ilvLXG_1G_2MEDA (tu) #8 to Isoleucine_genes\n",
      "ERROR: Target 20775 cannot be reachedfrom given sources\n",
      "ERROR: Target 20775 cannot be reachedfrom given sources\n",
      "INFO: Adding trace network from ilvEDA (tu) #9 to Isoleucine_genes\n",
      "ERROR: Target 20775 cannot be reachedfrom given sources\n",
      "ERROR: Target 20775 cannot be reachedfrom given sources\n",
      "INFO: Adding trace network from top_rev_pagerank_nodes to Isoleucine_genes\n",
      "ERROR: Target 20775 cannot be reachedfrom given sources\n",
      "ERROR: Target 20775 cannot be reachedfrom given sources\n",
      "ERROR: Target 20775 cannot be reachedfrom given sources\n",
      "ERROR: Target 20775 cannot be reachedfrom given sources\n",
      "ERROR: Target 20775 cannot be reachedfrom given sources\n",
      "ERROR: Target 20775 cannot be reachedfrom given sources\n",
      "ERROR: Target 20775 cannot be reachedfrom given sources\n",
      "ERROR: Target 20775 cannot be reachedfrom given sources\n",
      "ERROR: Target 20775 cannot be reachedfrom given sources\n",
      "ERROR: Target 20775 cannot be reachedfrom given sources\n",
      "ERROR: Target 20775 cannot be reachedfrom given sources\n",
      "ERROR: Target 20775 cannot be reachedfrom given sources\n",
      "ERROR: Target 20775 cannot be reachedfrom given sources\n",
      "ERROR: Target 20775 cannot be reachedfrom given sources\n",
      "INFO: clean graph: number of graph nodes decreased from 33428 to 163\n",
      "INFO: writing output/Radiate_traces_for_Isoleucine_genes\n"
     ]
    }
   ],
   "source": [
    "# set pagerank and reverse pagerank\n",
    "pagerank_prop = 'pagerank'\n",
    "tracegraph.set_pagerank(SOURCE_SET, pagerank_prop)\n",
    "rev_pagerank_prop = 'rev_pagerank'\n",
    "tracegraph.set_pagerank(SOURCE_SET, rev_pagerank_prop, reverse=True)\n",
    "\n",
    "# add graph description\n",
    "tracegraph.add_graph_description(f'Database: {db_version}\\n')\n",
    "\n",
    "# add traces from source genes to each selected nodes\n",
    "tracegraph.add_traces_from_sources_to_each_selected_nodes(selected_nodes, SOURCE_SET, weighted_prop=pagerank_prop)\n",
    "\n",
    "# add traces from source genes to all selected nodes\n",
    "tracegraph.add_trace_from_sources_to_all_selected_nodes(SELECTED_SET, SOURCE_SET, weighted_prop=pagerank_prop)\n",
    "\n",
    "# add traces from each selected nodes to SOURCE_SET genes\n",
    "tracegraph.add_traces_from_each_selected_nodes_to_targets(rev_selected_nodes,\n",
    "                                                           SOURCE_SET, weighted_prop=rev_pagerank_prop)\n",
    "\n",
    "# add traces from all reverse-selected nodes to SOURCE_SET\n",
    "tracegraph.add_trace_from_all_selected_nodes_to_targets(REV_SELECTED_SET, SOURCE_SET, weighted_prop=rev_pagerank_prop)\n",
    "\n",
    "# write all traces into one graph file\n",
    "graph_file = f'Radiate_traces_for_{SOURCE_SET}.graph'\n",
    "tracegraph.write_to_sankey_file(graph_file)"
   ]
  },
  {
   "cell_type": "markdown",
   "metadata": {
    "collapsed": false,
    "jupyter": {
     "outputs_hidden": false
    }
   },
   "source": []
  }
 ],
 "metadata": {
  "kernelspec": {
   "display_name": "Python 3 (ipykernel)",
   "language": "python",
   "name": "python3"
  },
  "language_info": {
   "codemirror_mode": {
    "name": "ipython",
    "version": 3
   },
   "file_extension": ".py",
   "mimetype": "text/x-python",
   "name": "python",
   "nbconvert_exporter": "python",
   "pygments_lexer": "ipython3",
   "version": "3.9.4"
  }
 },
 "nbformat": 4,
 "nbformat_minor": 4
}
