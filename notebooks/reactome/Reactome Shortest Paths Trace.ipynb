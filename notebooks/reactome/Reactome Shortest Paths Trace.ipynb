{
 "cells": [
  {
   "cell_type": "markdown",
   "metadata": {},
   "source": [
    "# Create all shortest path traces with reactome db"
   ]
  },
  {
   "cell_type": "markdown",
   "metadata": {},
   "source": [
    "The biggest difference from biocyc is entity mapping.  It is a lot more complicated since Reactome does not have a consistent ID."
   ]
  },
  {
   "cell_type": "code",
   "execution_count": 1,
   "metadata": {},
   "outputs": [],
   "source": [
    "import os\n",
    "\n",
    "# Import GDS modules\n",
    "from lifelike_gds.arango_network.shortest_paths_trace import ShortestPathTrace\n",
    "from lifelike_gds.arango_network.reactome import *\n",
    "from lifelike_gds.arango_network.trace_graph_utils import *\n",
    "\n",
    "# Ignore warnings\n",
    "import warnings\n",
    "\n",
    "warnings.filterwarnings('ignore')"
   ]
  },
  {
   "cell_type": "markdown",
   "metadata": {},
   "source": [
    "## Settings\n",
    "Make sure to change to the correct one based on your local settings"
   ]
  },
  {
   "cell_type": "code",
   "execution_count": 2,
   "metadata": {},
   "outputs": [],
   "source": [
    "# Directory where to look for input data\n",
    "input_dir = './input'\n",
    "\n",
    "# Directory where to output results\n",
    "output_dir = './output'\n",
    "os.makedirs(output_dir, exist_ok=True)\n",
    "\n",
    "# Reactome arango database connection parameters\n",
    "# If you are running this notebook from Lifelike's online training BinderHub website,\n",
    "# then these paremeters are already set for you in the environment.\n",
    "arango_dbname = os.getenv('REACTOME_DATABASE', 'reactome')"
   ]
  },
  {
   "cell_type": "markdown",
   "metadata": {},
   "source": [
    "## Parameters\n",
    "Set parameters\n",
    "- source_name: name for the source entities. \n",
    "- target_name: name for the target entities. \n",
    "- source_file: source file name in input dir\n",
    "- target_file: target file name in input dir\n"
   ]
  },
  {
   "cell_type": "code",
   "execution_count": 3,
   "metadata": {},
   "outputs": [],
   "source": [
    "source_name = 'endo-down-genes'\n",
    "source_file = 'down.tsv'\n",
    "\n",
    "target_name = 'metabs'\n",
    "target_file = 'metabolite.txt'"
   ]
  },
  {
   "cell_type": "markdown",
   "metadata": {},
   "source": [
    "## Define functions to get source/target nodes\n",
    "- read input file with ids (stId or dbId)\n",
    "- read input file with reference ids (gene_id or chebi_id)"
   ]
  },
  {
   "cell_type": "code",
   "execution_count": 4,
   "metadata": {},
   "outputs": [],
   "source": [
    "# Create the output directory if it doesn't exist\n",
    "os.makedirs(output_dir, exist_ok=True)\n",
    "\n",
    "\"\"\"\n",
    "read csv file to get list of reactome nodes\n",
    "\n",
    "Parameters\n",
    "----------\n",
    "csv_filename:  the input file\n",
    "id_name: the property name in reactome db, e.g. stId, dbId\n",
    "id_column: the column name for the id property\n",
    "\"\"\"\n",
    "\n",
    "\n",
    "def get_nodes_by_identity_from_file(csv_filename, id_name, id_column, sep=','):\n",
    "    df = pd.read_csv(os.path.join(input_dir, csv_filename), sep=sep, dtype='str')\n",
    "    ids = [n for n in df[id_column]]\n",
    "    nodes = database.get_nodes_by_attr(ids, id_name)\n",
    "    print('file_rows:', len(df), ', nodes matched:', len(nodes))\n",
    "    return nodes\n",
    "\n",
    "\n",
    "def get_chemical_nodes_by_chebi(csv_filename, chebi_id_column, sep=','):\n",
    "    df = pd.read_csv(os.path.join(input_dir, csv_filename), sep=sep, dtype='str')\n",
    "    ids = [n for n in df[chebi_id_column]]\n",
    "    nodes = database.get_entity_nodes_by_chebi_ids(ids)\n",
    "    print('file_rows:', len(df), ', nodes matched:', len(nodes))\n",
    "    return nodes\n",
    "\n",
    "\n",
    "def get_protein_nodes_by_gene_id(csv_filename, gene_id_column, sep=','):\n",
    "    df = pd.read_csv(os.path.join(input_dir, csv_filename), sep=sep, dtype='str')\n",
    "    ids = [n for n in df[gene_id_column]]\n",
    "    nodes = database.get_entity_nodes_by_gene_ids(ids)\n",
    "    print('file_rows:', len(df), ', nodes matched:', len(nodes))\n",
    "    return nodes\n",
    "\n",
    "\n",
    "def get_reference_nodes_by_chebi(csv_filename, chebi_id_column, sep=','):\n",
    "    df = pd.read_csv(os.path.join(input_dir, csv_filename), sep=sep, dtype='str')\n",
    "    ids = [n for n in df[chebi_id_column]]\n",
    "    nodes = database.get_reference_nodes_by_chebi_ids(ids)\n",
    "    print('file_rows:', len(df), ', nodes matched:', len(nodes))\n",
    "    return nodes\n",
    "\n",
    "\n",
    "def get_reference_nodes_by_gene_id(csv_filename, gene_id_column, sep=','):\n",
    "    df = pd.read_csv(os.path.join(input_dir, csv_filename), sep=sep, dtype='str')\n",
    "    ids = [n for n in df[gene_id_column]]\n",
    "    nodes = database.get_reference_nodes_by_gene_ids(ids)\n",
    "    print('file_rows:', len(df), ', nodes matched:', len(nodes))\n",
    "    return nodes"
   ]
  },
  {
   "cell_type": "markdown",
   "metadata": {},
   "source": [
    "## Define functions to export shortest paths traces to graph file "
   ]
  },
  {
   "cell_type": "code",
   "execution_count": 5,
   "metadata": {},
   "outputs": [],
   "source": [
    "\"\"\"\n",
    "Simplest way to generate shortest paths. \n",
    "Return all paths from all source nodes to all target_nodes in one trace graph\n",
    "\"\"\"\n",
    "\n",
    "\n",
    "def write_shortest_paths(\n",
    "    tracegraph, source_name, source_nodes, target_name, target_nodes\n",
    "):\n",
    "    tracegraph.graph = tracegraph.orig_graph.copy()\n",
    "    tracegraph.set_node_set_from_arango_nodes(\n",
    "        source_nodes, source_name, source_name\n",
    "    )\n",
    "    tracegraph.set_node_set_from_arango_nodes(\n",
    "        target_nodes, target_name, target_name\n",
    "    )\n",
    "    tracegraph.add_graph_description('Reactome')\n",
    "    source_as_query = len(source_nodes) > len(target_nodes)\n",
    "    ok = tracegraph.add_shortest_paths(source_name, target_name, source_as_query)\n",
    "    if ok:\n",
    "        graphfile = f\"Shortest_paths_from_{source_name}_to_{target_name}.graph\"\n",
    "        tracegraph.write_to_sankey_file(graphfile)\n",
    "    else:\n",
    "        print(f\"No paths found from {source_name} to {target_name}\")"
   ]
  },
  {
   "cell_type": "markdown",
   "metadata": {},
   "source": [
    "## Connect to arango database"
   ]
  },
  {
   "cell_type": "code",
   "execution_count": 6,
   "metadata": {},
   "outputs": [],
   "source": [
    "database = ReactomeDB(arango_dbname)"
   ]
  },
  {
   "cell_type": "markdown",
   "metadata": {},
   "source": [
    "## Load graph from arango graph database to memery"
   ]
  },
  {
   "cell_type": "code",
   "execution_count": 7,
   "metadata": {},
   "outputs": [
    {
     "name": "stderr",
     "output_type": "stream",
     "text": [
      "INFO: load reactome graph\n",
      "INFO: MultiDirectedGraph with 71225 nodes and 112575 edges\n"
     ]
    }
   ],
   "source": [
    "tracegraph = ShortestPathTrace(Reactome(database))\n",
    "\n",
    "# set up output directory where the excel and graph files will write to\n",
    "tracegraph.datadir = output_dir\n",
    "\n",
    "# initiate tracegraph by loading graph data from arango\n",
    "# a networkx graph is created here.\n",
    "tracegraph.init_default_graph()"
   ]
  },
  {
   "cell_type": "markdown",
   "metadata": {},
   "source": [
    "## Get source and target nodes\n",
    "Make sure to choose the right method to get the nodes"
   ]
  },
  {
   "cell_type": "code",
   "execution_count": 8,
   "metadata": {},
   "outputs": [
    {
     "name": "stderr",
     "output_type": "stream",
     "text": [
      "INFO: 22 gene_ids, matched to 15 nodes\n",
      "INFO: 22 gene_ids, matched to 32 nodes\n"
     ]
    },
    {
     "name": "stdout",
     "output_type": "stream",
     "text": [
      "file_rows: 22 , nodes matched: 15\n",
      "file_rows: 22 , nodes matched: 32\n"
     ]
    }
   ],
   "source": [
    "source_refs = get_reference_nodes_by_gene_id(source_file, 'entrez', sep='\\t')\n",
    "source_nodes = get_protein_nodes_by_gene_id(source_file, 'entrez', sep='\\t')"
   ]
  },
  {
   "cell_type": "code",
   "execution_count": 9,
   "metadata": {},
   "outputs": [
    {
     "name": "stderr",
     "output_type": "stream",
     "text": [
      "INFO: 23 chebi_ids, matched to 7 nodes\n"
     ]
    },
    {
     "name": "stdout",
     "output_type": "stream",
     "text": [
      "file_rows: 23 , nodes matched: 7\n"
     ]
    },
    {
     "name": "stderr",
     "output_type": "stream",
     "text": [
      "INFO: 23 chebi_ids, matched to 13 nodes\n"
     ]
    },
    {
     "name": "stdout",
     "output_type": "stream",
     "text": [
      "file_rows: 23 , nodes matched: 13\n"
     ]
    }
   ],
   "source": [
    "target_refs = get_reference_nodes_by_chebi(target_file, 'chebi')\n",
    "target_nodes = get_chemical_nodes_by_chebi(target_file, 'chebi')"
   ]
  },
  {
   "cell_type": "markdown",
   "metadata": {},
   "source": [
    "## Create (sankey) graph file for shortest paths"
   ]
  },
  {
   "cell_type": "code",
   "execution_count": 10,
   "metadata": {},
   "outputs": [
    {
     "name": "stderr",
     "output_type": "stream",
     "text": [
      "ERROR: Target 854528 cannot be reachedfrom given sources\n",
      "ERROR: Target 878946 cannot be reachedfrom given sources\n",
      "ERROR: Target 1864290 cannot be reachedfrom given sources\n",
      "ERROR: Target 196388 cannot be reachedfrom given sources\n",
      "ERROR: Target 778052 cannot be reachedfrom given sources\n",
      "ERROR: Target 1746180 cannot be reachedfrom given sources\n",
      "ERROR: Target 1685994 cannot be reachedfrom given sources\n",
      "ERROR: Target 778124 cannot be reachedfrom given sources\n",
      "ERROR: Target 198286 cannot be reachedfrom given sources\n",
      "ERROR: Target 869649 cannot be reachedfrom given sources\n",
      "ERROR: Target 878776 cannot be reachedfrom given sources\n",
      "ERROR: Target 295580 cannot be reachedfrom given sources\n",
      "ERROR: Target 854528 cannot be reachedfrom given sources\n",
      "ERROR: Target 878946 cannot be reachedfrom given sources\n",
      "ERROR: Target 1864290 cannot be reachedfrom given sources\n",
      "ERROR: Target 196388 cannot be reachedfrom given sources\n",
      "ERROR: Target 778052 cannot be reachedfrom given sources\n",
      "ERROR: Target 1746180 cannot be reachedfrom given sources\n",
      "ERROR: Target 1685994 cannot be reachedfrom given sources\n",
      "ERROR: Target 778124 cannot be reachedfrom given sources\n",
      "ERROR: Target 198286 cannot be reachedfrom given sources\n",
      "ERROR: Target 869649 cannot be reachedfrom given sources\n",
      "ERROR: Target 878776 cannot be reachedfrom given sources\n",
      "ERROR: Target 295580 cannot be reachedfrom given sources\n",
      "ERROR: Target 854528 cannot be reachedfrom given sources\n",
      "ERROR: Target 878946 cannot be reachedfrom given sources\n",
      "ERROR: Target 1864290 cannot be reachedfrom given sources\n",
      "ERROR: Target 196388 cannot be reachedfrom given sources\n",
      "ERROR: Target 778052 cannot be reachedfrom given sources\n",
      "ERROR: Target 1746180 cannot be reachedfrom given sources\n",
      "ERROR: Target 1685994 cannot be reachedfrom given sources\n",
      "ERROR: Target 778124 cannot be reachedfrom given sources\n",
      "ERROR: Target 198286 cannot be reachedfrom given sources\n",
      "ERROR: Target 869649 cannot be reachedfrom given sources\n",
      "ERROR: Target 878776 cannot be reachedfrom given sources\n",
      "ERROR: Target 295580 cannot be reachedfrom given sources\n",
      "ERROR: Target 854528 cannot be reachedfrom given sources\n",
      "ERROR: Target 878946 cannot be reachedfrom given sources\n",
      "ERROR: Target 1864290 cannot be reachedfrom given sources\n",
      "ERROR: Target 196388 cannot be reachedfrom given sources\n",
      "ERROR: Target 778052 cannot be reachedfrom given sources\n",
      "ERROR: Target 1746180 cannot be reachedfrom given sources\n",
      "ERROR: Target 1685994 cannot be reachedfrom given sources\n",
      "ERROR: Target 778124 cannot be reachedfrom given sources\n",
      "ERROR: Target 198286 cannot be reachedfrom given sources\n",
      "ERROR: Target 869649 cannot be reachedfrom given sources\n",
      "ERROR: Target 878776 cannot be reachedfrom given sources\n",
      "ERROR: Target 295580 cannot be reachedfrom given sources\n",
      "ERROR: Target 854528 cannot be reachedfrom given sources\n",
      "ERROR: Target 878946 cannot be reachedfrom given sources\n",
      "ERROR: Target 1864290 cannot be reachedfrom given sources\n",
      "ERROR: Target 196388 cannot be reachedfrom given sources\n",
      "ERROR: Target 778052 cannot be reachedfrom given sources\n",
      "ERROR: Target 1746180 cannot be reachedfrom given sources\n",
      "ERROR: Target 1685994 cannot be reachedfrom given sources\n",
      "ERROR: Target 778124 cannot be reachedfrom given sources\n",
      "ERROR: Target 198286 cannot be reachedfrom given sources\n",
      "ERROR: Target 869649 cannot be reachedfrom given sources\n",
      "ERROR: Target 878776 cannot be reachedfrom given sources\n",
      "ERROR: Target 295580 cannot be reachedfrom given sources\n",
      "ERROR: Target 854528 cannot be reachedfrom given sources\n",
      "ERROR: Target 878946 cannot be reachedfrom given sources\n",
      "ERROR: Target 1864290 cannot be reachedfrom given sources\n",
      "ERROR: Target 196388 cannot be reachedfrom given sources\n",
      "ERROR: Target 778052 cannot be reachedfrom given sources\n",
      "ERROR: Target 1746180 cannot be reachedfrom given sources\n",
      "ERROR: Target 1685994 cannot be reachedfrom given sources\n",
      "ERROR: Target 778124 cannot be reachedfrom given sources\n",
      "ERROR: Target 198286 cannot be reachedfrom given sources\n",
      "ERROR: Target 869649 cannot be reachedfrom given sources\n",
      "ERROR: Target 878776 cannot be reachedfrom given sources\n",
      "ERROR: Target 295580 cannot be reachedfrom given sources\n",
      "ERROR: Target 854528 cannot be reachedfrom given sources\n",
      "ERROR: Target 878946 cannot be reachedfrom given sources\n",
      "ERROR: Target 1864290 cannot be reachedfrom given sources\n",
      "ERROR: Target 196388 cannot be reachedfrom given sources\n",
      "ERROR: Target 778052 cannot be reachedfrom given sources\n",
      "ERROR: Target 1746180 cannot be reachedfrom given sources\n",
      "ERROR: Target 1685994 cannot be reachedfrom given sources\n",
      "ERROR: Target 778124 cannot be reachedfrom given sources\n",
      "ERROR: Target 198286 cannot be reachedfrom given sources\n",
      "ERROR: Target 869649 cannot be reachedfrom given sources\n",
      "ERROR: Target 878776 cannot be reachedfrom given sources\n",
      "ERROR: Target 295580 cannot be reachedfrom given sources\n",
      "ERROR: Target 854528 cannot be reachedfrom given sources\n",
      "ERROR: Target 878946 cannot be reachedfrom given sources\n",
      "ERROR: Target 1864290 cannot be reachedfrom given sources\n",
      "ERROR: Target 196388 cannot be reachedfrom given sources\n",
      "ERROR: Target 778052 cannot be reachedfrom given sources\n",
      "ERROR: Target 1746180 cannot be reachedfrom given sources\n",
      "ERROR: Target 1685994 cannot be reachedfrom given sources\n",
      "ERROR: Target 778124 cannot be reachedfrom given sources\n",
      "ERROR: Target 198286 cannot be reachedfrom given sources\n",
      "ERROR: Target 869649 cannot be reachedfrom given sources\n",
      "ERROR: Target 878776 cannot be reachedfrom given sources\n",
      "ERROR: Target 295580 cannot be reachedfrom given sources\n",
      "ERROR: Target 854528 cannot be reachedfrom given sources\n",
      "ERROR: Target 878946 cannot be reachedfrom given sources\n",
      "ERROR: Target 1864290 cannot be reachedfrom given sources\n",
      "ERROR: Target 196388 cannot be reachedfrom given sources\n",
      "ERROR: Target 778052 cannot be reachedfrom given sources\n",
      "ERROR: Target 1746180 cannot be reachedfrom given sources\n",
      "ERROR: Target 1685994 cannot be reachedfrom given sources\n",
      "ERROR: Target 778124 cannot be reachedfrom given sources\n",
      "ERROR: Target 198286 cannot be reachedfrom given sources\n",
      "ERROR: Target 869649 cannot be reachedfrom given sources\n",
      "ERROR: Target 878776 cannot be reachedfrom given sources\n",
      "ERROR: Target 295580 cannot be reachedfrom given sources\n",
      "ERROR: Target 854528 cannot be reachedfrom given sources\n",
      "ERROR: Target 878946 cannot be reachedfrom given sources\n",
      "ERROR: Target 1864290 cannot be reachedfrom given sources\n",
      "ERROR: Target 196388 cannot be reachedfrom given sources\n",
      "ERROR: Target 778052 cannot be reachedfrom given sources\n",
      "ERROR: Target 1746180 cannot be reachedfrom given sources\n",
      "ERROR: Target 1685994 cannot be reachedfrom given sources\n",
      "ERROR: Target 778124 cannot be reachedfrom given sources\n",
      "ERROR: Target 198286 cannot be reachedfrom given sources\n",
      "ERROR: Target 869649 cannot be reachedfrom given sources\n",
      "ERROR: Target 878776 cannot be reachedfrom given sources\n",
      "ERROR: Target 295580 cannot be reachedfrom given sources\n",
      "ERROR: Target 878946 cannot be reachedfrom given sources\n",
      "ERROR: Target 1746180 cannot be reachedfrom given sources\n",
      "ERROR: Target 1685994 cannot be reachedfrom given sources\n",
      "ERROR: Target 778124 cannot be reachedfrom given sources\n",
      "ERROR: Target 869649 cannot be reachedfrom given sources\n",
      "ERROR: Target 878776 cannot be reachedfrom given sources\n",
      "ERROR: Target 878946 cannot be reachedfrom given sources\n",
      "ERROR: Target 1746180 cannot be reachedfrom given sources\n",
      "ERROR: Target 1685994 cannot be reachedfrom given sources\n",
      "ERROR: Target 778124 cannot be reachedfrom given sources\n",
      "ERROR: Target 869649 cannot be reachedfrom given sources\n",
      "ERROR: Target 878776 cannot be reachedfrom given sources\n",
      "ERROR: Target 878946 cannot be reachedfrom given sources\n",
      "ERROR: Target 1746180 cannot be reachedfrom given sources\n",
      "ERROR: Target 1685994 cannot be reachedfrom given sources\n",
      "ERROR: Target 778124 cannot be reachedfrom given sources\n",
      "ERROR: Target 869649 cannot be reachedfrom given sources\n",
      "ERROR: Target 878776 cannot be reachedfrom given sources\n",
      "ERROR: Target 854528 cannot be reachedfrom given sources\n",
      "ERROR: Target 878946 cannot be reachedfrom given sources\n",
      "ERROR: Target 1864290 cannot be reachedfrom given sources\n",
      "ERROR: Target 196388 cannot be reachedfrom given sources\n",
      "ERROR: Target 778052 cannot be reachedfrom given sources\n",
      "ERROR: Target 1746180 cannot be reachedfrom given sources\n",
      "ERROR: Target 1685994 cannot be reachedfrom given sources\n",
      "ERROR: Target 778124 cannot be reachedfrom given sources\n",
      "ERROR: Target 198286 cannot be reachedfrom given sources\n",
      "ERROR: Target 869649 cannot be reachedfrom given sources\n",
      "ERROR: Target 878776 cannot be reachedfrom given sources\n",
      "ERROR: Target 295580 cannot be reachedfrom given sources\n",
      "ERROR: Target 878946 cannot be reachedfrom given sources\n",
      "ERROR: Target 1746180 cannot be reachedfrom given sources\n",
      "ERROR: Target 1685994 cannot be reachedfrom given sources\n",
      "ERROR: Target 778124 cannot be reachedfrom given sources\n",
      "ERROR: Target 869649 cannot be reachedfrom given sources\n",
      "ERROR: Target 878776 cannot be reachedfrom given sources\n",
      "ERROR: Target 854528 cannot be reachedfrom given sources\n",
      "ERROR: Target 878946 cannot be reachedfrom given sources\n",
      "ERROR: Target 1864290 cannot be reachedfrom given sources\n",
      "ERROR: Target 196388 cannot be reachedfrom given sources\n",
      "ERROR: Target 778052 cannot be reachedfrom given sources\n",
      "ERROR: Target 1746180 cannot be reachedfrom given sources\n",
      "ERROR: Target 1685994 cannot be reachedfrom given sources\n",
      "ERROR: Target 778124 cannot be reachedfrom given sources\n",
      "ERROR: Target 198286 cannot be reachedfrom given sources\n",
      "ERROR: Target 869649 cannot be reachedfrom given sources\n",
      "ERROR: Target 878776 cannot be reachedfrom given sources\n",
      "ERROR: Target 295580 cannot be reachedfrom given sources\n",
      "ERROR: Target 878946 cannot be reachedfrom given sources\n",
      "ERROR: Target 1746180 cannot be reachedfrom given sources\n",
      "ERROR: Target 1685994 cannot be reachedfrom given sources\n",
      "ERROR: Target 778124 cannot be reachedfrom given sources\n",
      "ERROR: Target 869649 cannot be reachedfrom given sources\n",
      "ERROR: Target 878776 cannot be reachedfrom given sources\n",
      "ERROR: Target 878946 cannot be reachedfrom given sources\n",
      "ERROR: Target 1746180 cannot be reachedfrom given sources\n",
      "ERROR: Target 1685994 cannot be reachedfrom given sources\n",
      "ERROR: Target 778124 cannot be reachedfrom given sources\n",
      "ERROR: Target 869649 cannot be reachedfrom given sources\n",
      "ERROR: Target 878776 cannot be reachedfrom given sources\n",
      "ERROR: Target 854528 cannot be reachedfrom given sources\n",
      "ERROR: Target 878946 cannot be reachedfrom given sources\n",
      "ERROR: Target 1864290 cannot be reachedfrom given sources\n",
      "ERROR: Target 196388 cannot be reachedfrom given sources\n",
      "ERROR: Target 778052 cannot be reachedfrom given sources\n",
      "ERROR: Target 1746180 cannot be reachedfrom given sources\n",
      "ERROR: Target 1685994 cannot be reachedfrom given sources\n",
      "ERROR: Target 778124 cannot be reachedfrom given sources\n",
      "ERROR: Target 198286 cannot be reachedfrom given sources\n",
      "ERROR: Target 869649 cannot be reachedfrom given sources\n",
      "ERROR: Target 878776 cannot be reachedfrom given sources\n",
      "ERROR: Target 295580 cannot be reachedfrom given sources\n",
      "ERROR: Target 854528 cannot be reachedfrom given sources\n",
      "ERROR: Target 878946 cannot be reachedfrom given sources\n",
      "ERROR: Target 1864290 cannot be reachedfrom given sources\n",
      "ERROR: Target 196388 cannot be reachedfrom given sources\n",
      "ERROR: Target 778052 cannot be reachedfrom given sources\n",
      "ERROR: Target 1746180 cannot be reachedfrom given sources\n",
      "ERROR: Target 1685994 cannot be reachedfrom given sources\n",
      "ERROR: Target 778124 cannot be reachedfrom given sources\n",
      "ERROR: Target 198286 cannot be reachedfrom given sources\n",
      "ERROR: Target 869649 cannot be reachedfrom given sources\n",
      "ERROR: Target 878776 cannot be reachedfrom given sources\n",
      "ERROR: Target 295580 cannot be reachedfrom given sources\n",
      "ERROR: Target 854528 cannot be reachedfrom given sources\n",
      "ERROR: Target 878946 cannot be reachedfrom given sources\n",
      "ERROR: Target 1864290 cannot be reachedfrom given sources\n",
      "ERROR: Target 196388 cannot be reachedfrom given sources\n",
      "ERROR: Target 778052 cannot be reachedfrom given sources\n",
      "ERROR: Target 1746180 cannot be reachedfrom given sources\n",
      "ERROR: Target 1685994 cannot be reachedfrom given sources\n",
      "ERROR: Target 778124 cannot be reachedfrom given sources\n",
      "ERROR: Target 198286 cannot be reachedfrom given sources\n",
      "ERROR: Target 869649 cannot be reachedfrom given sources\n",
      "ERROR: Target 878776 cannot be reachedfrom given sources\n",
      "ERROR: Target 295580 cannot be reachedfrom given sources\n",
      "ERROR: Target 854528 cannot be reachedfrom given sources\n",
      "ERROR: Target 878946 cannot be reachedfrom given sources\n",
      "ERROR: Target 1864290 cannot be reachedfrom given sources\n",
      "ERROR: Target 196388 cannot be reachedfrom given sources\n",
      "ERROR: Target 778052 cannot be reachedfrom given sources\n",
      "ERROR: Target 1746180 cannot be reachedfrom given sources\n",
      "ERROR: Target 1685994 cannot be reachedfrom given sources\n",
      "ERROR: Target 778124 cannot be reachedfrom given sources\n",
      "ERROR: Target 198286 cannot be reachedfrom given sources\n",
      "ERROR: Target 869649 cannot be reachedfrom given sources\n",
      "ERROR: Target 878776 cannot be reachedfrom given sources\n",
      "ERROR: Target 295580 cannot be reachedfrom given sources\n",
      "ERROR: Target 854528 cannot be reachedfrom given sources\n",
      "ERROR: Target 878946 cannot be reachedfrom given sources\n",
      "ERROR: Target 1864290 cannot be reachedfrom given sources\n",
      "ERROR: Target 196388 cannot be reachedfrom given sources\n",
      "ERROR: Target 778052 cannot be reachedfrom given sources\n",
      "ERROR: Target 1746180 cannot be reachedfrom given sources\n",
      "ERROR: Target 1685994 cannot be reachedfrom given sources\n",
      "ERROR: Target 778124 cannot be reachedfrom given sources\n",
      "ERROR: Target 198286 cannot be reachedfrom given sources\n",
      "ERROR: Target 869649 cannot be reachedfrom given sources\n",
      "ERROR: Target 878776 cannot be reachedfrom given sources\n",
      "ERROR: Target 295580 cannot be reachedfrom given sources\n",
      "ERROR: Target 854528 cannot be reachedfrom given sources\n",
      "ERROR: Target 878946 cannot be reachedfrom given sources\n",
      "ERROR: Target 1864290 cannot be reachedfrom given sources\n",
      "ERROR: Target 196388 cannot be reachedfrom given sources\n",
      "ERROR: Target 778052 cannot be reachedfrom given sources\n",
      "ERROR: Target 1746180 cannot be reachedfrom given sources\n",
      "ERROR: Target 1685994 cannot be reachedfrom given sources\n",
      "ERROR: Target 778124 cannot be reachedfrom given sources\n",
      "ERROR: Target 198286 cannot be reachedfrom given sources\n",
      "ERROR: Target 869649 cannot be reachedfrom given sources\n",
      "ERROR: Target 878776 cannot be reachedfrom given sources\n",
      "ERROR: Target 295580 cannot be reachedfrom given sources\n",
      "ERROR: Target 878946 cannot be reachedfrom given sources\n",
      "ERROR: Target 1746180 cannot be reachedfrom given sources\n",
      "ERROR: Target 1685994 cannot be reachedfrom given sources\n",
      "ERROR: Target 778124 cannot be reachedfrom given sources\n",
      "ERROR: Target 869649 cannot be reachedfrom given sources\n",
      "ERROR: Target 878776 cannot be reachedfrom given sources\n",
      "ERROR: Target 878946 cannot be reachedfrom given sources\n",
      "ERROR: Target 1746180 cannot be reachedfrom given sources\n",
      "ERROR: Target 1685994 cannot be reachedfrom given sources\n",
      "ERROR: Target 778124 cannot be reachedfrom given sources\n",
      "ERROR: Target 869649 cannot be reachedfrom given sources\n",
      "ERROR: Target 878776 cannot be reachedfrom given sources\n",
      "ERROR: Target 878946 cannot be reachedfrom given sources\n",
      "ERROR: Target 1746180 cannot be reachedfrom given sources\n",
      "ERROR: Target 1685994 cannot be reachedfrom given sources\n",
      "ERROR: Target 778124 cannot be reachedfrom given sources\n",
      "ERROR: Target 869649 cannot be reachedfrom given sources\n",
      "ERROR: Target 878776 cannot be reachedfrom given sources\n",
      "ERROR: Target 854528 cannot be reachedfrom given sources\n",
      "ERROR: Target 878946 cannot be reachedfrom given sources\n",
      "ERROR: Target 1864290 cannot be reachedfrom given sources\n",
      "ERROR: Target 196388 cannot be reachedfrom given sources\n",
      "ERROR: Target 778052 cannot be reachedfrom given sources\n",
      "ERROR: Target 1746180 cannot be reachedfrom given sources\n",
      "ERROR: Target 1685994 cannot be reachedfrom given sources\n",
      "ERROR: Target 778124 cannot be reachedfrom given sources\n",
      "ERROR: Target 198286 cannot be reachedfrom given sources\n",
      "ERROR: Target 869649 cannot be reachedfrom given sources\n",
      "ERROR: Target 878776 cannot be reachedfrom given sources\n",
      "ERROR: Target 295580 cannot be reachedfrom given sources\n",
      "ERROR: Target 878946 cannot be reachedfrom given sources\n",
      "ERROR: Target 1746180 cannot be reachedfrom given sources\n",
      "ERROR: Target 1685994 cannot be reachedfrom given sources\n",
      "ERROR: Target 778124 cannot be reachedfrom given sources\n",
      "ERROR: Target 869649 cannot be reachedfrom given sources\n",
      "ERROR: Target 878776 cannot be reachedfrom given sources\n",
      "ERROR: Target 854528 cannot be reachedfrom given sources\n",
      "ERROR: Target 878946 cannot be reachedfrom given sources\n",
      "ERROR: Target 1864290 cannot be reachedfrom given sources\n",
      "ERROR: Target 196388 cannot be reachedfrom given sources\n",
      "ERROR: Target 778052 cannot be reachedfrom given sources\n",
      "ERROR: Target 1746180 cannot be reachedfrom given sources\n",
      "ERROR: Target 1685994 cannot be reachedfrom given sources\n",
      "ERROR: Target 778124 cannot be reachedfrom given sources\n",
      "ERROR: Target 198286 cannot be reachedfrom given sources\n",
      "ERROR: Target 869649 cannot be reachedfrom given sources\n",
      "ERROR: Target 878776 cannot be reachedfrom given sources\n",
      "ERROR: Target 295580 cannot be reachedfrom given sources\n",
      "ERROR: Target 878946 cannot be reachedfrom given sources\n",
      "ERROR: Target 1746180 cannot be reachedfrom given sources\n",
      "ERROR: Target 1685994 cannot be reachedfrom given sources\n",
      "ERROR: Target 778124 cannot be reachedfrom given sources\n",
      "ERROR: Target 869649 cannot be reachedfrom given sources\n",
      "ERROR: Target 878776 cannot be reachedfrom given sources\n",
      "ERROR: Target 854528 cannot be reachedfrom given sources\n",
      "ERROR: Target 878946 cannot be reachedfrom given sources\n",
      "ERROR: Target 1864290 cannot be reachedfrom given sources\n",
      "ERROR: Target 196388 cannot be reachedfrom given sources\n",
      "ERROR: Target 778052 cannot be reachedfrom given sources\n",
      "ERROR: Target 1746180 cannot be reachedfrom given sources\n",
      "ERROR: Target 1685994 cannot be reachedfrom given sources\n",
      "ERROR: Target 778124 cannot be reachedfrom given sources\n",
      "ERROR: Target 198286 cannot be reachedfrom given sources\n",
      "ERROR: Target 869649 cannot be reachedfrom given sources\n",
      "ERROR: Target 878776 cannot be reachedfrom given sources\n",
      "ERROR: Target 295580 cannot be reachedfrom given sources\n",
      "INFO: add Shortest paths from endo-down-genes to metabs: 1994 paths\n",
      "INFO: clean graph: number of graph nodes decreased from 71225 to 387\n",
      "INFO: writing ./output/Shortest_paths_from_endo-down-genes_to_metabs\n"
     ]
    }
   ],
   "source": [
    "write_shortest_paths(\n",
    "    tracegraph, source_name, source_nodes, target_name, target_nodes\n",
    ")"
   ]
  },
  {
   "cell_type": "markdown",
   "metadata": {
    "collapsed": false,
    "jupyter": {
     "outputs_hidden": false
    }
   },
   "source": []
  }
 ],
 "metadata": {
  "kernelspec": {
   "display_name": "Python 3 (ipykernel)",
   "language": "python",
   "name": "python3"
  },
  "language_info": {
   "codemirror_mode": {
    "name": "ipython",
    "version": 3
   },
   "file_extension": ".py",
   "mimetype": "text/x-python",
   "name": "python",
   "nbconvert_exporter": "python",
   "pygments_lexer": "ipython3",
   "version": "3.9.4"
  },
  "vscode": {
   "interpreter": {
    "hash": "8609cab20e5cb94896845f7b7e523dc86a891a2f1e80f5f7be63646f400fe621"
   }
  }
 },
 "nbformat": 4,
 "nbformat_minor": 4
}
