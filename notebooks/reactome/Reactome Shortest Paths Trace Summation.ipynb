{
 "cells": [
  {
   "cell_type": "markdown",
   "metadata": {},
   "source": [
    "# Create all shortest path traces with reactome db"
   ]
  },
  {
   "cell_type": "markdown",
   "metadata": {},
   "source": [
    "The biggest difference from biocyc is entity mapping.  It is a lot more complicated since Reactome does not have a consistent ID."
   ]
  },
  {
   "cell_type": "code",
   "execution_count": 1,
   "metadata": {},
   "outputs": [],
   "source": [
    "import os\n",
    "\n",
    "# Import GDS modules\n",
    "from lifelike_gds.arango_network.shortest_paths_trace import ShortestPathTrace\n",
    "from lifelike_gds.arango_network.reactome import *\n",
    "from lifelike_gds.arango_network.trace_graph_utils import *\n",
    "from lifelike_gds.arango_network.reactome_notebook_functions import *\n",
    "\n",
    "# Ignore warnings\n",
    "import warnings\n",
    "\n",
    "warnings.filterwarnings('ignore')"
   ]
  },
  {
   "cell_type": "markdown",
   "metadata": {},
   "source": [
    "## Settings\n",
    "Make sure to change to the correct one based on your local settings"
   ]
  },
  {
   "cell_type": "code",
   "execution_count": 2,
   "metadata": {},
   "outputs": [],
   "source": [
    "# Directory where to look for input data\n",
    "input_dir = './input'\n",
    "\n",
    "# Directory where to output results\n",
    "output_dir = './output'\n",
    "os.makedirs(output_dir, exist_ok=True)\n",
    "\n",
    "# Reactome arango database connection parameters\n",
    "# If you are running this notebook from Lifelike's online training BinderHub website,\n",
    "# then these paremeters are already set for you in the environment.\n",
    "arango_dbname = os.getenv('REACTOME_ARANGO_DATABASE', 'ecocyc-25')"
   ]
  },
  {
   "cell_type": "markdown",
   "metadata": {},
   "source": [
    "## Parameters\n",
    "Set parameters\n",
    "- source_name: name for the source entities. \n",
    "- target_name: name for the target entities. \n",
    "- source_file: source file name in input dir\n",
    "- target_file: target file name in input dir\n"
   ]
  },
  {
   "cell_type": "code",
   "execution_count": 3,
   "metadata": {},
   "outputs": [],
   "source": [
    "source_name = 'il6'\n",
    "target_name = 'vegfa'"
   ]
  },
  {
   "cell_type": "markdown",
   "metadata": {},
   "source": [
    "## Define functions to get source/target nodes\n",
    "- read input file with ids (stId or dbId)\n",
    "- read input file with reference ids (gene_id or chebi_id)"
   ]
  },
  {
   "cell_type": "markdown",
   "metadata": {},
   "source": [
    "## Define functions to export shortest paths traces to graph file "
   ]
  },
  {
   "cell_type": "markdown",
   "metadata": {},
   "source": [
    "## Connect to arango database"
   ]
  },
  {
   "cell_type": "code",
   "execution_count": 4,
   "metadata": {},
   "outputs": [],
   "source": [
    "database = ReactomeDB(arango_dbname)"
   ]
  },
  {
   "cell_type": "markdown",
   "metadata": {},
   "source": [
    "## Load graph from arango graph database to memery"
   ]
  },
  {
   "cell_type": "code",
   "execution_count": 5,
   "metadata": {},
   "outputs": [
    {
     "name": "stderr",
     "output_type": "stream",
     "text": [
      "INFO: load reactome graph\n"
     ]
    },
    {
     "ename": "AQLQueryExecuteError",
     "evalue": "[HTTP 404][ERR 1203] AQL: collection or view not found: activeUnitOf (while parsing)",
     "output_type": "error",
     "traceback": [
      "\u001b[0;31m---------------------------------------------------------------------------\u001b[0m",
      "\u001b[0;31mAQLQueryExecuteError\u001b[0m                      Traceback (most recent call last)",
      "Cell \u001b[0;32mIn[5], line 8\u001b[0m\n\u001b[1;32m      4\u001b[0m tracegraph\u001b[38;5;241m.\u001b[39mdatadir \u001b[38;5;241m=\u001b[39m output_dir\n\u001b[1;32m      6\u001b[0m \u001b[38;5;66;03m# initiate tracegraph by loading graph data from arango\u001b[39;00m\n\u001b[1;32m      7\u001b[0m \u001b[38;5;66;03m# a networkx graph is created here.\u001b[39;00m\n\u001b[0;32m----> 8\u001b[0m \u001b[43mtracegraph\u001b[49m\u001b[38;5;241;43m.\u001b[39;49m\u001b[43minit_default_graph\u001b[49m\u001b[43m(\u001b[49m\u001b[43m)\u001b[49m\n",
      "File \u001b[0;32m~/Projects/GDS-Public/src/lifelike_gds/arango_network/trace_graph_nx.py:40\u001b[0m, in \u001b[0;36mTraceGraphNx.init_default_graph\u001b[0;34m(self, exclude_currency, exclude_secondary)\u001b[0m\n\u001b[1;32m     39\u001b[0m \u001b[38;5;28;01mdef\u001b[39;00m \u001b[38;5;21minit_default_graph\u001b[39m(\u001b[38;5;28mself\u001b[39m, exclude_currency\u001b[38;5;241m=\u001b[39m\u001b[38;5;28;01mTrue\u001b[39;00m, exclude_secondary\u001b[38;5;241m=\u001b[39m\u001b[38;5;28;01mTrue\u001b[39;00m):\n\u001b[0;32m---> 40\u001b[0m     \u001b[38;5;28;43mself\u001b[39;49m\u001b[38;5;241;43m.\u001b[39;49m\u001b[43mgraphsource\u001b[49m\u001b[38;5;241;43m.\u001b[39;49m\u001b[43minitiate_trace_graph\u001b[49m\u001b[43m(\u001b[49m\u001b[38;5;28;43mself\u001b[39;49m\u001b[43m,\u001b[49m\u001b[43m \u001b[49m\u001b[43mexclude_currency\u001b[49m\u001b[43m,\u001b[49m\u001b[43m \u001b[49m\u001b[43mexclude_secondary\u001b[49m\u001b[43m)\u001b[49m\n",
      "File \u001b[0;32m~/Projects/GDS-Public/src/lifelike_gds/arango_network/reactome.py:283\u001b[0m, in \u001b[0;36mReactome.initiate_trace_graph\u001b[0;34m(self, tracegraph, exclude_secondary_metabolites, exclude_secondary)\u001b[0m\n\u001b[1;32m    263\u001b[0m     rel_lists_query \u001b[38;5;241m=\u001b[39m \u001b[38;5;124m'\u001b[39m\u001b[38;5;124m,\u001b[39m\u001b[38;5;124m'\u001b[39m\u001b[38;5;241m.\u001b[39mjoin(\n\u001b[1;32m    264\u001b[0m         \u001b[38;5;124mf\u001b[39m\u001b[38;5;124m\"\"\"\u001b[39m\u001b[38;5;124m            \u001b[39m\n\u001b[1;32m    265\u001b[0m \u001b[38;5;124m            (\u001b[39m\n\u001b[0;32m   (...)\u001b[0m\n\u001b[1;32m    270\u001b[0m \u001b[38;5;124m        \u001b[39m\u001b[38;5;124m\"\"\"\u001b[39m \u001b[38;5;28;01mfor\u001b[39;00m rel \u001b[38;5;129;01min\u001b[39;00m REACTOME_TRACE_RELS\n\u001b[1;32m    271\u001b[0m     )\n\u001b[1;32m    272\u001b[0m     rel_query \u001b[38;5;241m=\u001b[39m \u001b[38;5;124mf\u001b[39m\u001b[38;5;124m\"\"\"\u001b[39m\n\u001b[1;32m    273\u001b[0m \u001b[38;5;124m        FOR n IN UNION_DISTINCT(\u001b[39m\n\u001b[1;32m    274\u001b[0m \u001b[38;5;124m            \u001b[39m\u001b[38;5;132;01m{\u001b[39;00mrel_lists_query\u001b[38;5;132;01m}\u001b[39;00m\n\u001b[0;32m   (...)\u001b[0m\n\u001b[1;32m    281\u001b[0m \u001b[38;5;124m            }\u001b[39m\n\u001b[1;32m    282\u001b[0m \u001b[38;5;124m    \u001b[39m\u001b[38;5;124m\"\"\"\u001b[39m\n\u001b[0;32m--> 283\u001b[0m \u001b[43mtracegraph\u001b[49m\u001b[38;5;241;43m.\u001b[39;49m\u001b[43madd_nodes\u001b[49m\u001b[43m(\u001b[49m\u001b[43mnode_query\u001b[49m\u001b[43m)\u001b[49m\n\u001b[1;32m    284\u001b[0m tracegraph\u001b[38;5;241m.\u001b[39madd_rels(rel_query)\n\u001b[1;32m    285\u001b[0m logging\u001b[38;5;241m.\u001b[39minfo(nx\u001b[38;5;241m.\u001b[39minfo(tracegraph\u001b[38;5;241m.\u001b[39mgraph))\n",
      "File \u001b[0;32m~/Projects/GDS-Public/src/lifelike_gds/arango_network/trace_graph_nx.py:49\u001b[0m, in \u001b[0;36mTraceGraphNx.add_nodes\u001b[0;34m(self, node_query, **parameters)\u001b[0m\n\u001b[1;32m     45\u001b[0m \u001b[38;5;28;01mdef\u001b[39;00m \u001b[38;5;21madd_nodes\u001b[39m(\u001b[38;5;28mself\u001b[39m, node_query, \u001b[38;5;241m*\u001b[39m\u001b[38;5;241m*\u001b[39mparameters):\n\u001b[1;32m     46\u001b[0m \u001b[38;5;250m    \u001b[39m\u001b[38;5;124;03m\"\"\"\u001b[39;00m\n\u001b[1;32m     47\u001b[0m \u001b[38;5;124;03m    @param node_query a query that return node id (arango-id), e.g match(n) return id(n) as node_id;\u001b[39;00m\n\u001b[1;32m     48\u001b[0m \u001b[38;5;124;03m    \"\"\"\u001b[39;00m\n\u001b[0;32m---> 49\u001b[0m     node_data \u001b[38;5;241m=\u001b[39m \u001b[38;5;28;43mself\u001b[39;49m\u001b[38;5;241;43m.\u001b[39;49m\u001b[43mgraphsource\u001b[49m\u001b[38;5;241;43m.\u001b[39;49m\u001b[43mdatabase\u001b[49m\u001b[38;5;241;43m.\u001b[39;49m\u001b[43mget_dataframe\u001b[49m\u001b[43m(\u001b[49m\u001b[43mnode_query\u001b[49m\u001b[43m,\u001b[49m\u001b[43m \u001b[49m\u001b[38;5;241;43m*\u001b[39;49m\u001b[38;5;241;43m*\u001b[39;49m\u001b[43mparameters\u001b[49m\u001b[43m)\u001b[49m\n\u001b[1;32m     50\u001b[0m     nodes \u001b[38;5;241m=\u001b[39m [n \u001b[38;5;28;01mfor\u001b[39;00m n \u001b[38;5;129;01min\u001b[39;00m node_data[\u001b[38;5;124m'\u001b[39m\u001b[38;5;124mnode_id\u001b[39m\u001b[38;5;124m'\u001b[39m]]\n\u001b[1;32m     51\u001b[0m     \u001b[38;5;28mself\u001b[39m\u001b[38;5;241m.\u001b[39mgraph\u001b[38;5;241m.\u001b[39madd_nodes_from(nodes)\n",
      "File \u001b[0;32m~/Projects/GDS-Public/src/lifelike_gds/arango_network/database.py:43\u001b[0m, in \u001b[0;36mDatabase.get_dataframe\u001b[0;34m(self, query, **kwparameters)\u001b[0m\n\u001b[1;32m     42\u001b[0m \u001b[38;5;28;01mdef\u001b[39;00m \u001b[38;5;21mget_dataframe\u001b[39m(\u001b[38;5;28mself\u001b[39m, query: \u001b[38;5;28mstr\u001b[39m, \u001b[38;5;241m*\u001b[39m\u001b[38;5;241m*\u001b[39mkwparameters) \u001b[38;5;241m-\u001b[39m\u001b[38;5;241m>\u001b[39m pd\u001b[38;5;241m.\u001b[39mDataFrame:\n\u001b[0;32m---> 43\u001b[0m     results \u001b[38;5;241m=\u001b[39m \u001b[38;5;28;43mself\u001b[39;49m\u001b[38;5;241;43m.\u001b[39;49m\u001b[43mrun_query\u001b[49m\u001b[43m(\u001b[49m\u001b[43mquery\u001b[49m\u001b[43m,\u001b[49m\u001b[43m \u001b[49m\u001b[38;5;241;43m*\u001b[39;49m\u001b[38;5;241;43m*\u001b[39;49m\u001b[43mkwparameters\u001b[49m\u001b[43m)\u001b[49m\n\u001b[1;32m     44\u001b[0m     df \u001b[38;5;241m=\u001b[39m pd\u001b[38;5;241m.\u001b[39mDataFrame(results)\n\u001b[1;32m     45\u001b[0m     \u001b[38;5;28;01mreturn\u001b[39;00m df\n",
      "File \u001b[0;32m~/Projects/GDS-Public/src/lifelike_gds/arango_network/database.py:33\u001b[0m, in \u001b[0;36mDatabase.run_query\u001b[0;34m(self, query, **kwparameters)\u001b[0m\n\u001b[1;32m     32\u001b[0m \u001b[38;5;28;01mdef\u001b[39;00m \u001b[38;5;21mrun_query\u001b[39m(\u001b[38;5;28mself\u001b[39m, query, \u001b[38;5;241m*\u001b[39m\u001b[38;5;241m*\u001b[39mkwparameters):\n\u001b[0;32m---> 33\u001b[0m     cursor \u001b[38;5;241m=\u001b[39m \u001b[38;5;28;43mself\u001b[39;49m\u001b[38;5;241;43m.\u001b[39;49m\u001b[43mdb\u001b[49m\u001b[38;5;241;43m.\u001b[39;49m\u001b[43maql\u001b[49m\u001b[38;5;241;43m.\u001b[39;49m\u001b[43mexecute\u001b[49m\u001b[43m(\u001b[49m\u001b[43mquery\u001b[49m\u001b[43m,\u001b[49m\u001b[43m \u001b[49m\u001b[43mbind_vars\u001b[49m\u001b[38;5;241;43m=\u001b[39;49m\u001b[43mkwparameters\u001b[49m\u001b[43m)\u001b[49m\n\u001b[1;32m     34\u001b[0m     result \u001b[38;5;241m=\u001b[39m [r \u001b[38;5;28;01mfor\u001b[39;00m r \u001b[38;5;129;01min\u001b[39;00m cursor]\n\u001b[1;32m     35\u001b[0m     \u001b[38;5;28;01mreturn\u001b[39;00m result\n",
      "File \u001b[0;32m~/.local/share/virtualenvs/GDS-Public-uKBS7cUg/lib/python3.9/site-packages/arango/aql.py:442\u001b[0m, in \u001b[0;36mAQL.execute\u001b[0;34m(self, query, count, batch_size, ttl, bind_vars, full_count, max_plans, optimizer_rules, cache, memory_limit, fail_on_warning, profile, max_transaction_size, max_warning_count, intermediate_commit_count, intermediate_commit_size, satellite_sync_wait, stream, skip_inaccessible_cols, max_runtime, fill_block_cache, allow_dirty_read, allow_retry)\u001b[0m\n\u001b[1;32m    439\u001b[0m         \u001b[38;5;28;01mraise\u001b[39;00m AQLQueryExecuteError(resp, request)\n\u001b[1;32m    440\u001b[0m     \u001b[38;5;28;01mreturn\u001b[39;00m Cursor(\u001b[38;5;28mself\u001b[39m\u001b[38;5;241m.\u001b[39m_conn, resp\u001b[38;5;241m.\u001b[39mbody, allow_retry\u001b[38;5;241m=\u001b[39mallow_retry)\n\u001b[0;32m--> 442\u001b[0m \u001b[38;5;28;01mreturn\u001b[39;00m \u001b[38;5;28;43mself\u001b[39;49m\u001b[38;5;241;43m.\u001b[39;49m\u001b[43m_execute\u001b[49m\u001b[43m(\u001b[49m\u001b[43mrequest\u001b[49m\u001b[43m,\u001b[49m\u001b[43m \u001b[49m\u001b[43mresponse_handler\u001b[49m\u001b[43m)\u001b[49m\n",
      "File \u001b[0;32m~/.local/share/virtualenvs/GDS-Public-uKBS7cUg/lib/python3.9/site-packages/arango/api.py:74\u001b[0m, in \u001b[0;36mApiGroup._execute\u001b[0;34m(self, request, response_handler)\u001b[0m\n\u001b[1;32m     63\u001b[0m \u001b[38;5;28;01mdef\u001b[39;00m \u001b[38;5;21m_execute\u001b[39m(\n\u001b[1;32m     64\u001b[0m     \u001b[38;5;28mself\u001b[39m, request: Request, response_handler: Callable[[Response], T]\n\u001b[1;32m     65\u001b[0m ) \u001b[38;5;241m-\u001b[39m\u001b[38;5;241m>\u001b[39m Result[T]:\n\u001b[1;32m     66\u001b[0m \u001b[38;5;250m    \u001b[39m\u001b[38;5;124;03m\"\"\"Execute an API.\u001b[39;00m\n\u001b[1;32m     67\u001b[0m \n\u001b[1;32m     68\u001b[0m \u001b[38;5;124;03m    :param request: HTTP request.\u001b[39;00m\n\u001b[0;32m   (...)\u001b[0m\n\u001b[1;32m     72\u001b[0m \u001b[38;5;124;03m    :return: API execution result.\u001b[39;00m\n\u001b[1;32m     73\u001b[0m \u001b[38;5;124;03m    \"\"\"\u001b[39;00m\n\u001b[0;32m---> 74\u001b[0m     \u001b[38;5;28;01mreturn\u001b[39;00m \u001b[38;5;28;43mself\u001b[39;49m\u001b[38;5;241;43m.\u001b[39;49m\u001b[43m_executor\u001b[49m\u001b[38;5;241;43m.\u001b[39;49m\u001b[43mexecute\u001b[49m\u001b[43m(\u001b[49m\u001b[43mrequest\u001b[49m\u001b[43m,\u001b[49m\u001b[43m \u001b[49m\u001b[43mresponse_handler\u001b[49m\u001b[43m)\u001b[49m\n",
      "File \u001b[0;32m~/.local/share/virtualenvs/GDS-Public-uKBS7cUg/lib/python3.9/site-packages/arango/executor.py:68\u001b[0m, in \u001b[0;36mDefaultApiExecutor.execute\u001b[0;34m(self, request, response_handler)\u001b[0m\n\u001b[1;32m     59\u001b[0m \u001b[38;5;250m\u001b[39m\u001b[38;5;124;03m\"\"\"Execute an API request and return the result.\u001b[39;00m\n\u001b[1;32m     60\u001b[0m \n\u001b[1;32m     61\u001b[0m \u001b[38;5;124;03m:param request: HTTP request.\u001b[39;00m\n\u001b[0;32m   (...)\u001b[0m\n\u001b[1;32m     65\u001b[0m \u001b[38;5;124;03m:return: API execution result.\u001b[39;00m\n\u001b[1;32m     66\u001b[0m \u001b[38;5;124;03m\"\"\"\u001b[39;00m\n\u001b[1;32m     67\u001b[0m resp \u001b[38;5;241m=\u001b[39m \u001b[38;5;28mself\u001b[39m\u001b[38;5;241m.\u001b[39m_conn\u001b[38;5;241m.\u001b[39msend_request(request)\n\u001b[0;32m---> 68\u001b[0m \u001b[38;5;28;01mreturn\u001b[39;00m \u001b[43mresponse_handler\u001b[49m\u001b[43m(\u001b[49m\u001b[43mresp\u001b[49m\u001b[43m)\u001b[49m\n",
      "File \u001b[0;32m~/.local/share/virtualenvs/GDS-Public-uKBS7cUg/lib/python3.9/site-packages/arango/aql.py:439\u001b[0m, in \u001b[0;36mAQL.execute.<locals>.response_handler\u001b[0;34m(resp)\u001b[0m\n\u001b[1;32m    437\u001b[0m \u001b[38;5;28;01mdef\u001b[39;00m \u001b[38;5;21mresponse_handler\u001b[39m(resp: Response) \u001b[38;5;241m-\u001b[39m\u001b[38;5;241m>\u001b[39m Cursor:\n\u001b[1;32m    438\u001b[0m     \u001b[38;5;28;01mif\u001b[39;00m \u001b[38;5;129;01mnot\u001b[39;00m resp\u001b[38;5;241m.\u001b[39mis_success:\n\u001b[0;32m--> 439\u001b[0m         \u001b[38;5;28;01mraise\u001b[39;00m AQLQueryExecuteError(resp, request)\n\u001b[1;32m    440\u001b[0m     \u001b[38;5;28;01mreturn\u001b[39;00m Cursor(\u001b[38;5;28mself\u001b[39m\u001b[38;5;241m.\u001b[39m_conn, resp\u001b[38;5;241m.\u001b[39mbody, allow_retry\u001b[38;5;241m=\u001b[39mallow_retry)\n",
      "\u001b[0;31mAQLQueryExecuteError\u001b[0m: [HTTP 404][ERR 1203] AQL: collection or view not found: activeUnitOf (while parsing)"
     ]
    }
   ],
   "source": [
    "tracegraph = ShortestPathTrace(Reactome(database))\n",
    "\n",
    "# set up output directory where the excel and graph files will write to\n",
    "tracegraph.datadir = output_dir\n",
    "\n",
    "# initiate tracegraph by loading graph data from arango\n",
    "# a networkx graph is created here.\n",
    "tracegraph.init_default_graph()"
   ]
  },
  {
   "cell_type": "markdown",
   "metadata": {},
   "source": [
    "## Get source and target nodes\n",
    "Make sure to choose the right method to get the nodes"
   ]
  },
  {
   "cell_type": "code",
   "execution_count": null,
   "metadata": {},
   "outputs": [],
   "source": [
    "source_ids = ['R-HSA-447100']\n",
    "source_nodes = database.get_nodes_by_attr(source_ids, 'stId')\n",
    "print('stIds:', len(source_ids), ', nodes matched:', len(source_nodes))"
   ]
  },
  {
   "cell_type": "code",
   "execution_count": null,
   "metadata": {},
   "outputs": [],
   "source": [
    "target_ids = ['R-HSA-2975974']\n",
    "target_nodes = database.get_nodes_by_attr(target_ids, 'stId')\n",
    "print('stIds:', len(target_ids), ', nodes matched:', len(target_nodes))"
   ]
  },
  {
   "cell_type": "markdown",
   "metadata": {},
   "source": [
    "## Create (sankey) graph file for shortest paths"
   ]
  },
  {
   "cell_type": "code",
   "execution_count": null,
   "metadata": {},
   "outputs": [],
   "source": [
    "write_shortest_paths(\n",
    "    tracegraph, source_name, source_nodes, target_name, target_nodes\n",
    ")\n"
   ]
  }
 ],
 "metadata": {
  "kernelspec": {
   "display_name": "Python 3 (ipykernel)",
   "language": "python",
   "name": "python3"
  },
  "language_info": {
   "codemirror_mode": {
    "name": "ipython",
    "version": 3
   },
   "file_extension": ".py",
   "mimetype": "text/x-python",
   "name": "python",
   "nbconvert_exporter": "python",
   "pygments_lexer": "ipython3",
   "version": "3.9.4"
  },
  "vscode": {
   "interpreter": {
    "hash": "8609cab20e5cb94896845f7b7e523dc86a891a2f1e80f5f7be63646f400fe621"
   }
  }
 },
 "nbformat": 4,
 "nbformat_minor": 4
}
