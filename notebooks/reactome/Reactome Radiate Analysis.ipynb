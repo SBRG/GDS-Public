{
 "cells": [
  {
   "cell_type": "markdown",
   "metadata": {},
   "source": [
    "# Reactome Radiate Analysis"
   ]
  },
  {
   "cell_type": "code",
   "execution_count": 1,
   "metadata": {},
   "outputs": [],
   "source": [
    "import os\n",
    "import sys\n",
    "\n",
    "root = os.getcwd().split('/notebooks/')[0]\n",
    "sys.path.append(os.path.join(root, 'src'))\n",
    "\n",
    "# Import GDS modules\n",
    "from lifelike_gds.arango_network.radiate_trace import RadiateTrace\n",
    "from lifelike_gds.arango_network.reactome import *\n",
    "from lifelike_gds.arango_network.trace_graph_utils import *\n",
    "\n",
    "# Ignore warnings\n",
    "import warnings\n",
    "\n",
    "warnings.filterwarnings('ignore')"
   ]
  },
  {
   "cell_type": "markdown",
   "metadata": {},
   "source": [
    "## Settings\n",
    "Make sure to change to the correct one based on your local settings"
   ]
  },
  {
   "cell_type": "code",
   "execution_count": 2,
   "metadata": {},
   "outputs": [],
   "source": [
    "# Directory where to look for input data\n",
    "input_dir = './input'\n",
    "\n",
    "# Directory where to output results\n",
    "output_dir = './output'\n",
    "os.makedirs(output_dir, exist_ok=True)\n",
    "\n",
    "# Reactome arango database connection parameters\n",
    "# If you are running this notebook from Lifelike's online training BinderHub website,\n",
    "# then these paremeters are already set for you in the environment.\n",
    "arango_dbname = os.getenv('REACTOME_DATABASE', 'reactome')"
   ]
  },
  {
   "cell_type": "markdown",
   "metadata": {},
   "source": [
    "## Parameters\n",
    "Set parameters\n",
    "- source_name: name for the source entities. \n",
    "- source_file: source file name in input dir"
   ]
  },
  {
   "cell_type": "code",
   "execution_count": 3,
   "metadata": {},
   "outputs": [],
   "source": [
    "source_name = 'endo-updown-genes'\n",
    "source_file = 'updown.entrez'"
   ]
  },
  {
   "cell_type": "markdown",
   "metadata": {},
   "source": [
    "## Define functions to get source/target nodes\n",
    "- read input file with ids (stId or dbId)\n",
    "- read input file with reference ids (gene_id or chebi_id)"
   ]
  },
  {
   "cell_type": "code",
   "execution_count": 4,
   "metadata": {},
   "outputs": [],
   "source": [
    "\"\"\"\n",
    "read csv file to get list of reactome nodes\n",
    "\n",
    "Parameters\n",
    "----------\n",
    "csv_filename:  the input file\n",
    "id_name: the property name in reactome db, e.g. stId, dbId\n",
    "id_column: the column name for the id property\n",
    "\"\"\"\n",
    "\n",
    "\n",
    "def get_nodes_by_identity_from_file(csv_filename, id_name, id_column, sep=','):\n",
    "    df = pd.read_csv(os.path.join(input_dir, csv_filename), sep=sep, dtype='str')\n",
    "    ids = [n for n in df[id_column]]\n",
    "    nodes = database.get_nodes_by_attr(ids, id_name)\n",
    "    print('file_rows:', len(df), ', nodes matched:', len(nodes))\n",
    "    return nodes\n",
    "\n",
    "\n",
    "def get_chemical_nodes_by_chebi(csv_filename, chebi_id_column, sep=','):\n",
    "    df = pd.read_csv(os.path.join(input_dir, csv_filename), sep=sep, dtype='str')\n",
    "    ids = [n for n in df[chebi_id_column]]\n",
    "    nodes = database.get_entity_nodes_by_chebi_ids(ids)\n",
    "    print('file_rows:', len(df), ', nodes matched:', len(nodes))\n",
    "    return nodes\n",
    "\n",
    "\n",
    "def get_protein_nodes_by_gene_id(csv_filename, gene_id_column, sep=','):\n",
    "    df = pd.read_csv(os.path.join(input_dir, csv_filename), sep=sep, dtype='str')\n",
    "    ids = [n for n in df[gene_id_column]]\n",
    "    nodes = database.get_entity_nodes_by_gene_ids(ids)\n",
    "    print('file_rows:', len(df), ', nodes matched:', len(nodes))\n",
    "    return nodes\n",
    "\n",
    "\n",
    "def get_reference_nodes_by_chebi(csv_filename, chebi_id_column, sep=','):\n",
    "    df = pd.read_csv(os.path.join(input_dir, csv_filename), sep=sep, dtype='str')\n",
    "    ids = [n for n in df[chebi_id_column]]\n",
    "    nodes = database.get_reference_nodes_by_chebi_ids(ids)\n",
    "    print('file_rows:', len(df), ', nodes matched:', len(nodes))\n",
    "    return nodes\n",
    "\n",
    "\n",
    "def get_reference_nodes_by_gene_id(csv_filename, gene_id_column, sep=','):\n",
    "    df = pd.read_csv(os.path.join(input_dir, csv_filename), sep=sep, dtype='str')\n",
    "    ids = [n for n in df[gene_id_column]]\n",
    "    nodes = database.get_reference_nodes_by_gene_ids(ids)\n",
    "    print('file_rows:', len(df), ', nodes matched:', len(nodes))\n",
    "    return nodes"
   ]
  },
  {
   "cell_type": "markdown",
   "metadata": {},
   "source": [
    "### Define function to run radiate analysis and export to excel file"
   ]
  },
  {
   "cell_type": "code",
   "execution_count": 5,
   "metadata": {},
   "outputs": [],
   "source": [
    "\"\"\"\n",
    "Perform radiate analysis from the given source_nodes, and export pageranks and rev_pageranks\n",
    "into excel file. The excel file contains two tabs, one for pageranks and one for reverse pageranks.\n",
    "The data are sorted by pagerank (or rev_pagerank)\n",
    "rows_export: define the top ranked rows exported into file\n",
    "\"\"\"\n",
    "\n",
    "\n",
    "def export_radiate_analysis(\n",
    "    tracegraph,\n",
    "    source_name,\n",
    "    source_nodes,\n",
    "    exclude_sources_from_file=False,\n",
    "    rows_export=4000,\n",
    "):\n",
    "    tracegraph.graph = tracegraph.orig_graph.copy()\n",
    "    tracegraph.set_node_set_from_arango_nodes(\n",
    "        source_nodes, source_name, source_name\n",
    "    )\n",
    "    outfile_name = f\"Radiate_analysis_for_{source_name}.xlsx\"\n",
    "    tracegraph.export_pagerank_data(\n",
    "        source_name,\n",
    "        outfile_name,\n",
    "        direction='both',\n",
    "        num_nodes=rows_export,\n",
    "        exclude_sources=exclude_sources_from_file,\n",
    "    )"
   ]
  },
  {
   "cell_type": "markdown",
   "metadata": {},
   "source": [
    "## Connect to arango database"
   ]
  },
  {
   "cell_type": "code",
   "execution_count": 6,
   "metadata": {},
   "outputs": [],
   "source": [
    "database = ReactomeDB()"
   ]
  },
  {
   "cell_type": "markdown",
   "metadata": {},
   "source": [
    "## Load graph from arango graph database to memery"
   ]
  },
  {
   "cell_type": "code",
   "execution_count": 7,
   "metadata": {},
   "outputs": [
    {
     "name": "stderr",
     "output_type": "stream",
     "text": [
      "INFO: load reactome graph\n",
      "INFO: MultiDirectedGraph with 71225 nodes and 112575 edges\n"
     ]
    }
   ],
   "source": [
    "tracegraph = RadiateTrace(Reactome(database))\n",
    "\n",
    "# set up output directory where the excel and graph files will write to\n",
    "tracegraph.datadir = output_dir\n",
    "\n",
    "# initiate tracegraph by loading graph data from arango\n",
    "# a networkx graph is created here.\n",
    "tracegraph.init_default_graph()"
   ]
  },
  {
   "cell_type": "markdown",
   "metadata": {},
   "source": [
    "## Get source nodes, run radiate analysis, and export data to excel"
   ]
  },
  {
   "cell_type": "code",
   "execution_count": null,
   "metadata": {
    "pycharm": {
     "is_executing": true
    }
   },
   "outputs": [
    {
     "name": "stderr",
     "output_type": "stream",
     "text": [
      "INFO: 92 gene_ids, matched to 119 nodes\n"
     ]
    },
    {
     "name": "stdout",
     "output_type": "stream",
     "text": [
      "file_rows: 92 , nodes matched: 119\n"
     ]
    },
    {
     "name": "stderr",
     "output_type": "stream",
     "text": [
      "INFO: set pagerank and num reach for endo-updown-genes\n",
      "INFO: export top 4000 pagerank data into ./output/Radiate_analysis_for_endo-updown-genes.xlsx\n"
     ]
    }
   ],
   "source": [
    "source_nodes = get_protein_nodes_by_gene_id(source_file, 'gene_id')\n",
    "export_radiate_analysis(tracegraph, source_name, source_nodes)\n"
   ]
  }
 ],
 "metadata": {
  "kernelspec": {
   "display_name": "Python 3.10.4 64-bit ('3.10.4')",
   "language": "python",
   "name": "python3"
  },
  "language_info": {
   "codemirror_mode": {
    "name": "ipython",
    "version": 3
   },
   "file_extension": ".py",
   "mimetype": "text/x-python",
   "name": "python",
   "nbconvert_exporter": "python",
   "pygments_lexer": "ipython3",
   "version": "3.10.4"
  },
  "vscode": {
   "interpreter": {
    "hash": "a369e7bf0bb80965036f7136c2902247e666bb7c6c282258b3fce78d08392b05"
   }
  }
 },
 "nbformat": 4,
 "nbformat_minor": 4
}
